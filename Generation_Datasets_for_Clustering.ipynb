{
 "cells": [
  {
   "cell_type": "code",
   "outputs": [],
   "source": [
    "import pandas as pd\n",
    "import numpy as np\n",
    "import statistics"
   ],
   "metadata": {
    "collapsed": false,
    "ExecuteTime": {
     "end_time": "2024-02-19T12:39:34.253292700Z",
     "start_time": "2024-02-19T12:39:34.148611400Z"
    }
   },
   "id": "99be8cfbe32c4288",
   "execution_count": 68
  },
  {
   "cell_type": "markdown",
   "source": [
    "## BEBRASK DATASET COUNT"
   ],
   "metadata": {
    "collapsed": false
   },
   "id": "eb976b27895b2642"
  },
  {
   "cell_type": "code",
   "outputs": [],
   "source": [
    "BEBRASK_tasks = pd.read_excel('../Datasets/BEBRASK_task.xlsx')\n",
    "BEBRASK_tasks = BEBRASK_tasks[[\"DataFile.Basename\",\"Rating0.RESP\",\"Rating.RESP\",\"EvokedEmotion\", \"Expression\", \"ScenarioPick\",\"TrialCount\",\"Fulfilled\"]].copy()\n",
    "BEBRASK_tasks.dropna(subset = [\"TrialCount\"],inplace=True)\n",
    "subjects_id = BEBRASK_tasks[\"DataFile.Basename\"].unique()\n",
    "\n",
    "#Eleccion de las variables relevantes para el clustering, y eliminación de las filas que no corresponden a trials."
   ],
   "metadata": {
    "collapsed": false,
    "ExecuteTime": {
     "end_time": "2024-02-19T12:39:38.442449400Z",
     "start_time": "2024-02-19T12:39:34.803190700Z"
    }
   },
   "id": "d38e44f77b19f609",
   "execution_count": 69
  },
  {
   "cell_type": "code",
   "outputs": [
    {
     "data": {
      "text/plain": "                       Rating0.RESP_1.0  Rating0.RESP_2.0  Rating0.RESP_3.0  \\\nDataFile.Basename                                                             \nPREDWELL_RETOS-1001-1               3.0               3.0               1.0   \nPREDWELL_RETOS-1002-1               3.0               3.0               1.0   \nPREDWELL_RETOS-1003-1               2.0               1.0               1.0   \nPREDWELL_RETOS-1004-1               2.0               3.0               4.0   \nPREDWELL_RETOS-1005-1               2.0               1.0               2.0   \n\n                       Rating0.RESP_4.0  Rating0.RESP_5.0  Rating0.RESP_6.0  \\\nDataFile.Basename                                                             \nPREDWELL_RETOS-1001-1               4.0               2.0               3.0   \nPREDWELL_RETOS-1002-1               1.0               2.0               1.0   \nPREDWELL_RETOS-1003-1               1.0               3.0               3.0   \nPREDWELL_RETOS-1004-1               4.0               1.0               3.0   \nPREDWELL_RETOS-1005-1               1.0               1.0               4.0   \n\n                       Rating0.RESP_7.0  Rating0.RESP_8.0  Rating0.RESP_9.0  \\\nDataFile.Basename                                                             \nPREDWELL_RETOS-1001-1               4.0               1.0               3.0   \nPREDWELL_RETOS-1002-1               3.0               4.0               3.0   \nPREDWELL_RETOS-1003-1               3.0               3.0               2.0   \nPREDWELL_RETOS-1004-1               1.0               1.0               3.0   \nPREDWELL_RETOS-1005-1               3.0               4.0               1.0   \n\n                       Rating0.RESP_10.0  ...  Fulfilled_36.0  Fulfilled_37.0  \\\nDataFile.Basename                         ...                                   \nPREDWELL_RETOS-1001-1                4.0  ...             1.0             0.0   \nPREDWELL_RETOS-1002-1                2.0  ...             0.0             1.0   \nPREDWELL_RETOS-1003-1                1.0  ...             0.0             1.0   \nPREDWELL_RETOS-1004-1                2.0  ...             1.0             1.0   \nPREDWELL_RETOS-1005-1                3.0  ...             1.0             0.0   \n\n                       Fulfilled_38.0  Fulfilled_39.0  Fulfilled_40.0  \\\nDataFile.Basename                                                       \nPREDWELL_RETOS-1001-1             0.0             1.0             0.0   \nPREDWELL_RETOS-1002-1             1.0             1.0             1.0   \nPREDWELL_RETOS-1003-1             0.0             0.0             1.0   \nPREDWELL_RETOS-1004-1             1.0             0.0             0.0   \nPREDWELL_RETOS-1005-1             1.0             1.0             0.0   \n\n                       Fulfilled_41.0  Fulfilled_42.0  Fulfilled_43.0  \\\nDataFile.Basename                                                       \nPREDWELL_RETOS-1001-1             0.0             1.0             1.0   \nPREDWELL_RETOS-1002-1             0.0             0.0             1.0   \nPREDWELL_RETOS-1003-1             0.0             1.0             1.0   \nPREDWELL_RETOS-1004-1             1.0             1.0             0.0   \nPREDWELL_RETOS-1005-1             1.0             1.0             1.0   \n\n                       Fulfilled_44.0  Fulfilled_45.0  \nDataFile.Basename                                      \nPREDWELL_RETOS-1001-1             0.0             0.0  \nPREDWELL_RETOS-1002-1             0.0             1.0  \nPREDWELL_RETOS-1003-1             1.0             0.0  \nPREDWELL_RETOS-1004-1             1.0             1.0  \nPREDWELL_RETOS-1005-1             0.0             0.0  \n\n[5 rows x 270 columns]",
      "text/html": "<div>\n<style scoped>\n    .dataframe tbody tr th:only-of-type {\n        vertical-align: middle;\n    }\n\n    .dataframe tbody tr th {\n        vertical-align: top;\n    }\n\n    .dataframe thead th {\n        text-align: right;\n    }\n</style>\n<table border=\"1\" class=\"dataframe\">\n  <thead>\n    <tr style=\"text-align: right;\">\n      <th></th>\n      <th>Rating0.RESP_1.0</th>\n      <th>Rating0.RESP_2.0</th>\n      <th>Rating0.RESP_3.0</th>\n      <th>Rating0.RESP_4.0</th>\n      <th>Rating0.RESP_5.0</th>\n      <th>Rating0.RESP_6.0</th>\n      <th>Rating0.RESP_7.0</th>\n      <th>Rating0.RESP_8.0</th>\n      <th>Rating0.RESP_9.0</th>\n      <th>Rating0.RESP_10.0</th>\n      <th>...</th>\n      <th>Fulfilled_36.0</th>\n      <th>Fulfilled_37.0</th>\n      <th>Fulfilled_38.0</th>\n      <th>Fulfilled_39.0</th>\n      <th>Fulfilled_40.0</th>\n      <th>Fulfilled_41.0</th>\n      <th>Fulfilled_42.0</th>\n      <th>Fulfilled_43.0</th>\n      <th>Fulfilled_44.0</th>\n      <th>Fulfilled_45.0</th>\n    </tr>\n    <tr>\n      <th>DataFile.Basename</th>\n      <th></th>\n      <th></th>\n      <th></th>\n      <th></th>\n      <th></th>\n      <th></th>\n      <th></th>\n      <th></th>\n      <th></th>\n      <th></th>\n      <th></th>\n      <th></th>\n      <th></th>\n      <th></th>\n      <th></th>\n      <th></th>\n      <th></th>\n      <th></th>\n      <th></th>\n      <th></th>\n      <th></th>\n    </tr>\n  </thead>\n  <tbody>\n    <tr>\n      <th>PREDWELL_RETOS-1001-1</th>\n      <td>3.0</td>\n      <td>3.0</td>\n      <td>1.0</td>\n      <td>4.0</td>\n      <td>2.0</td>\n      <td>3.0</td>\n      <td>4.0</td>\n      <td>1.0</td>\n      <td>3.0</td>\n      <td>4.0</td>\n      <td>...</td>\n      <td>1.0</td>\n      <td>0.0</td>\n      <td>0.0</td>\n      <td>1.0</td>\n      <td>0.0</td>\n      <td>0.0</td>\n      <td>1.0</td>\n      <td>1.0</td>\n      <td>0.0</td>\n      <td>0.0</td>\n    </tr>\n    <tr>\n      <th>PREDWELL_RETOS-1002-1</th>\n      <td>3.0</td>\n      <td>3.0</td>\n      <td>1.0</td>\n      <td>1.0</td>\n      <td>2.0</td>\n      <td>1.0</td>\n      <td>3.0</td>\n      <td>4.0</td>\n      <td>3.0</td>\n      <td>2.0</td>\n      <td>...</td>\n      <td>0.0</td>\n      <td>1.0</td>\n      <td>1.0</td>\n      <td>1.0</td>\n      <td>1.0</td>\n      <td>0.0</td>\n      <td>0.0</td>\n      <td>1.0</td>\n      <td>0.0</td>\n      <td>1.0</td>\n    </tr>\n    <tr>\n      <th>PREDWELL_RETOS-1003-1</th>\n      <td>2.0</td>\n      <td>1.0</td>\n      <td>1.0</td>\n      <td>1.0</td>\n      <td>3.0</td>\n      <td>3.0</td>\n      <td>3.0</td>\n      <td>3.0</td>\n      <td>2.0</td>\n      <td>1.0</td>\n      <td>...</td>\n      <td>0.0</td>\n      <td>1.0</td>\n      <td>0.0</td>\n      <td>0.0</td>\n      <td>1.0</td>\n      <td>0.0</td>\n      <td>1.0</td>\n      <td>1.0</td>\n      <td>1.0</td>\n      <td>0.0</td>\n    </tr>\n    <tr>\n      <th>PREDWELL_RETOS-1004-1</th>\n      <td>2.0</td>\n      <td>3.0</td>\n      <td>4.0</td>\n      <td>4.0</td>\n      <td>1.0</td>\n      <td>3.0</td>\n      <td>1.0</td>\n      <td>1.0</td>\n      <td>3.0</td>\n      <td>2.0</td>\n      <td>...</td>\n      <td>1.0</td>\n      <td>1.0</td>\n      <td>1.0</td>\n      <td>0.0</td>\n      <td>0.0</td>\n      <td>1.0</td>\n      <td>1.0</td>\n      <td>0.0</td>\n      <td>1.0</td>\n      <td>1.0</td>\n    </tr>\n    <tr>\n      <th>PREDWELL_RETOS-1005-1</th>\n      <td>2.0</td>\n      <td>1.0</td>\n      <td>2.0</td>\n      <td>1.0</td>\n      <td>1.0</td>\n      <td>4.0</td>\n      <td>3.0</td>\n      <td>4.0</td>\n      <td>1.0</td>\n      <td>3.0</td>\n      <td>...</td>\n      <td>1.0</td>\n      <td>0.0</td>\n      <td>1.0</td>\n      <td>1.0</td>\n      <td>0.0</td>\n      <td>1.0</td>\n      <td>1.0</td>\n      <td>1.0</td>\n      <td>0.0</td>\n      <td>0.0</td>\n    </tr>\n  </tbody>\n</table>\n<p>5 rows × 270 columns</p>\n</div>"
     },
     "execution_count": 70,
     "metadata": {},
     "output_type": "execute_result"
    }
   ],
   "source": [
    "BEBRASK_tasks_long= BEBRASK_tasks.pivot(index=\"DataFile.Basename\", columns='TrialCount')\n",
    "BEBRASK_tasks_long.columns = ['_'.join(str(col) for col in cols) for cols in BEBRASK_tasks_long.columns.values]\n",
    "BEBRASK_tasks_long.head(5)\n",
    "#Pivotamos el dataset por los trials, de manera que ahora se tienen 55 filas (los 55 sujetos) y cada una contiene toda la información del experimento"
   ],
   "metadata": {
    "collapsed": false,
    "ExecuteTime": {
     "end_time": "2024-02-19T12:39:38.489193900Z",
     "start_time": "2024-02-19T12:39:38.140309300Z"
    }
   },
   "id": "9930e3e379619846",
   "execution_count": 70
  },
  {
   "cell_type": "code",
   "outputs": [
    {
     "name": "stdout",
     "output_type": "stream",
     "text": [
      "Mean difference pred/like: 0.8911592994161801\n",
      "Std difference pred/like: 0.8296508347297797\n"
     ]
    },
    {
     "data": {
      "text/plain": "Rating0.RESP_1.0    0\nRating0.RESP_2.0    2\nRating0.RESP_3.0    0\nRating0.RESP_4.0    0\nRating0.RESP_5.0    1\n                   ..\nFulfilled_41.0      0\nFulfilled_42.0      0\nFulfilled_43.0      0\nFulfilled_44.0      0\nFulfilled_45.0      0\nLength: 270, dtype: int64"
     },
     "execution_count": 71,
     "metadata": {},
     "output_type": "execute_result"
    }
   ],
   "source": [
    "print(\"Mean difference pred/like:\",np.mean(abs(BEBRASK_tasks[\"Rating0.RESP\"] - BEBRASK_tasks[\"Rating.RESP\"])))\n",
    "print(\"Std difference pred/like:\",np.std(abs(BEBRASK_tasks[\"Rating0.RESP\"] - BEBRASK_tasks[\"Rating.RESP\"])))\n",
    "BEBRASK_tasks_long.isna().sum()\n",
    "\n",
    "#Observamos que algunos valores de Rating0.RESP y Rating.RESP son NA y que la diferencia entre el valor Rating0 y Rating no suele ser mayor a 1, por lo tanto imputaremos los valores a partir del otro Rating en caso de que no falte el valor  "
   ],
   "metadata": {
    "collapsed": false,
    "ExecuteTime": {
     "end_time": "2024-02-19T12:39:38.514246200Z",
     "start_time": "2024-02-19T12:39:38.190308600Z"
    }
   },
   "id": "23158c723a67b4d9",
   "execution_count": 71
  },
  {
   "cell_type": "code",
   "outputs": [
    {
     "data": {
      "text/plain": "Rating0.RESP_1.0    0\nRating0.RESP_2.0    0\nRating0.RESP_3.0    0\nRating0.RESP_4.0    0\nRating0.RESP_5.0    0\n                   ..\nFulfilled_41.0      0\nFulfilled_42.0      0\nFulfilled_43.0      0\nFulfilled_44.0      0\nFulfilled_45.0      0\nLength: 270, dtype: int64"
     },
     "execution_count": 72,
     "metadata": {},
     "output_type": "execute_result"
    }
   ],
   "source": [
    "for i in range(1, 46):\n",
    "    rating1_col = f'Rating0.RESP_{i}.0'\n",
    "    rating2_col = f'Rating.RESP_{i}.0'\n",
    "\n",
    "    # Llenamos los NA cen Rating0 con los valores de Rating, y viceversa\n",
    "    BEBRASK_tasks_long[rating1_col].fillna(BEBRASK_tasks_long[rating2_col], inplace=True)\n",
    "    BEBRASK_tasks_long[rating2_col].fillna(BEBRASK_tasks_long[rating1_col], inplace=True)\n",
    "\n",
    "BEBRASK_tasks_long.isna().sum()\n",
    "#Todos los valores NaN han sido llenados, por lo tanto no hace falta utilizar ningún otro método de imputación."
   ],
   "metadata": {
    "collapsed": false,
    "ExecuteTime": {
     "end_time": "2024-02-19T12:39:38.602369500Z",
     "start_time": "2024-02-19T12:39:38.203575800Z"
    }
   },
   "id": "3ff3ce9be9436b54",
   "execution_count": 72
  },
  {
   "cell_type": "code",
   "outputs": [],
   "source": [
    "def creation_dictionary_from_df(df,n_subjects):\n",
    "    \"\"\"\n",
    "    Procesa un DataFrame para crear un diccionario que organiza los datos relacionados\n",
    "    con emociones (happiness, sadness, fear) para un número especificado de sujetos.\n",
    "\n",
    "    Parámetros:\n",
    "    - df (pandas.DataFrame): El DataFrame que contiene los datos de la encuesta. Cada fila representa un sujeto.\n",
    "    - n_subjects (int): El número de sujetos a procesar del DataFrame.\n",
    "\n",
    "    Retorna:\n",
    "    - dict_df (dict): Un diccionario donde cada clave es un identificador del sujeto y su valor es otro diccionario. Este \n",
    "      diccionario anidado categoriza los datos en emociones 'Happy', 'Sad' y 'Fear'. Cada clave de emoción se mapea a otro \n",
    "      diccionario con claves 'Rating0' (Rating0.RESP), 'Rating' (Rating.RESP), 'Expression' (Expression) y 'Fulfill' (Fulfillment).\n",
    "    \"\"\"\n",
    "    dict_df  = {}\n",
    "    for j in range(0,n_subjects):\n",
    "        subject = df.iloc[j]\n",
    "        id = df.index.values[j]\n",
    "        happy_pred = []\n",
    "        happy_like = []\n",
    "        happy_facial = []\n",
    "        happy_fulfill = []\n",
    "        sad_pred = []\n",
    "        sad_like = []\n",
    "        sad_facial = []\n",
    "        sad_fulfill = []\n",
    "        fear_pred = []\n",
    "        fear_like = []\n",
    "        fear_facial = []\n",
    "        fear_fulfill = []\n",
    "        \n",
    "        for i in range(1,46):\n",
    "            pred = f'Rating0.RESP_{i}.0'\n",
    "            like = f'Rating.RESP_{i}.0'\n",
    "            emotion = f'EvokedEmotion_{i}.0'\n",
    "            facial = f'Expression_{i}.0'\n",
    "            fulfill = f'Fulfilled_{i}.0'\n",
    "            \n",
    "            if subject[emotion] == \"happiness\":\n",
    "                happy_pred.append(int(subject[pred]))\n",
    "                happy_like.append(int(subject[like]))\n",
    "                happy_facial.append(subject[facial])\n",
    "                happy_fulfill.append(subject[fulfill])\n",
    "                \n",
    "            elif subject[emotion] == \"sadness\":\n",
    "                sad_pred.append(int(subject[pred]))\n",
    "                sad_like.append(int(subject[like]))\n",
    "                sad_facial.append(subject[facial])\n",
    "                sad_fulfill.append(subject[fulfill])\n",
    "    \n",
    "            else:\n",
    "                fear_pred.append(int(subject[pred]))\n",
    "                fear_like.append(int(subject[like]))\n",
    "                fear_facial.append(subject[facial])\n",
    "                fear_fulfill.append(subject[fulfill])\n",
    "    \n",
    "        dict_df[id] = {'Happy':{'Rating0':np.array(happy_pred), 'Rating': np.array(happy_like), 'Expression':np.array(happy_facial),'Fulfill':np.array(happy_fulfill)},'Sad':{ 'Rating0':np.array(sad_pred), 'Rating':np.array(sad_like), 'Expression':np.array(sad_facial),'Fulfill': np.array(sad_fulfill)}, 'Fear':{'Rating0':np.array(fear_pred),'Rating': np.array(fear_like),'Expression': np.array(fear_facial), 'Fulfill': np.array(fear_fulfill)}}\n",
    "    \n",
    "    return dict_df   \n",
    "\n",
    "subject_dict_BEBRASK = creation_dictionary_from_df(BEBRASK_tasks_long,len(BEBRASK_tasks_long))"
   ],
   "metadata": {
    "collapsed": false,
    "ExecuteTime": {
     "end_time": "2024-02-19T12:39:38.739960600Z",
     "start_time": "2024-02-19T12:39:38.525248100Z"
    }
   },
   "id": "5030f9e5cbc6bb61",
   "execution_count": 73
  },
  {
   "cell_type": "code",
   "outputs": [],
   "source": [
    "def creation_count_df(subject_dict,rating):\n",
    "    \"\"\"\n",
    "    Procesa un diccionario con la información de las respuestas dadas por cada sujeto organizado por sentimiento, y crea\n",
    "    un dataframe que contiene cuantas veces un sujeto ha dado una score a un tipo de trial (sujeto a la emoción evocada\n",
    "    y a si es match o no).\n",
    "\n",
    "    Parámetros:\n",
    "    - subject_dict (dict): Diccionario que contiene la información de las scores organizadas por sujetos y por emociones.\n",
    "    - rating (string): Rating a partir del cual hacer las agregaciones de las scores (Rating0 o Rating).\n",
    "\n",
    "    Retorna:\n",
    "    - df_counts (pandas.DataFrame): Un dataframe donde cada fila contiene el identificador del sujeto, la emoción evocada,\n",
    "    si es match o no, la puntuación correspondiente y cuantas veces sucede.\n",
    "      \n",
    "    \"\"\"\n",
    "    processed_data = {}\n",
    "    for id in subject_dict.keys():\n",
    "        for j,key in enumerate(subject_dict[id].keys()):\n",
    "                    \n",
    "            one_no_match = np.count_nonzero((subject_dict[id][key][rating]==1) & (subject_dict[id][key]['Fulfill'] == 0),keepdims=True)[0]\n",
    "            two_no_match = np.count_nonzero((subject_dict[id][key][rating]==2) & (subject_dict[id][key]['Fulfill'] == 0),keepdims=True)[0]\n",
    "            three_no_match = np.count_nonzero((subject_dict[id][key][rating]==3) & (subject_dict[id][key]['Fulfill'] == 0),keepdims=True)[0]\n",
    "            four_no_match = np.count_nonzero((subject_dict[id][key][rating]==4) & (subject_dict[id][key]['Fulfill'] == 0),keepdims=True)[0]\n",
    "    \n",
    "            one_match = np.count_nonzero((subject_dict[id][key][rating]==1) & (subject_dict[id][key]['Fulfill'] == 1),keepdims=True)[0]\n",
    "            two_match = np.count_nonzero((subject_dict[id][key][rating]==2) & (subject_dict[id][key]['Fulfill'] == 1),keepdims=True)[0]\n",
    "            three_match = np.count_nonzero((subject_dict[id][key][rating]==3) & (subject_dict[id][key]['Fulfill'] == 1),keepdims=True)[0]\n",
    "            four_match = np.count_nonzero((subject_dict[id][key][rating]==4) & (subject_dict[id][key]['Fulfill'] == 1),keepdims=True)[0]\n",
    "            if j == 0 :\n",
    "                processed_data[id] = {key:{'Match':[one_match,two_match,three_match,four_match],'No_Match':[one_no_match,two_no_match,three_no_match,four_no_match]}}\n",
    "            else:\n",
    "                processed_data[id].update({key:{'Match':[one_match,two_match,three_match,four_match],'No_Match':[one_no_match,two_no_match,three_no_match,four_no_match]}})\n",
    "\n",
    "    df_list = []\n",
    "    \n",
    "    for subject, emotions in processed_data.items():\n",
    "        for emotion, match_data in emotions.items():\n",
    "            for match_type, scores in match_data.items():\n",
    "                for score, count in enumerate(scores, start=1):\n",
    "                    df_list.append([subject, emotion, match_type == 'Match', score, count])\n",
    "    \n",
    "    df_counts = pd.DataFrame(df_list, columns=['Subject', 'Emotion', 'Match', 'Score', 'Count'])\n",
    "    df_counts['Match'] = df_counts['Match'].astype(int)\n",
    "    \n",
    "    return df_counts\n",
    "\n",
    "Rating0_BEBRASK_counts =creation_count_df(subject_dict_BEBRASK,\"Rating0\")\n",
    "Rating_BEBRASK_counts =creation_count_df(subject_dict_BEBRASK,\"Rating\")"
   ],
   "metadata": {
    "collapsed": false,
    "ExecuteTime": {
     "end_time": "2024-02-19T12:39:38.845459600Z",
     "start_time": "2024-02-19T12:39:38.672883700Z"
    }
   },
   "id": "42d98106afa85119",
   "execution_count": 74
  },
  {
   "cell_type": "code",
   "outputs": [
    {
     "data": {
      "text/plain": "                 Subject Emotion  Match  Score  Count\n0  PREDWELL_RETOS-1001-1   Happy      1      1      0\n1  PREDWELL_RETOS-1001-1   Happy      1      2      0\n2  PREDWELL_RETOS-1001-1   Happy      1      3      1\n3  PREDWELL_RETOS-1001-1   Happy      1      4      8\n4  PREDWELL_RETOS-1001-1   Happy      0      1      5",
      "text/html": "<div>\n<style scoped>\n    .dataframe tbody tr th:only-of-type {\n        vertical-align: middle;\n    }\n\n    .dataframe tbody tr th {\n        vertical-align: top;\n    }\n\n    .dataframe thead th {\n        text-align: right;\n    }\n</style>\n<table border=\"1\" class=\"dataframe\">\n  <thead>\n    <tr style=\"text-align: right;\">\n      <th></th>\n      <th>Subject</th>\n      <th>Emotion</th>\n      <th>Match</th>\n      <th>Score</th>\n      <th>Count</th>\n    </tr>\n  </thead>\n  <tbody>\n    <tr>\n      <th>0</th>\n      <td>PREDWELL_RETOS-1001-1</td>\n      <td>Happy</td>\n      <td>1</td>\n      <td>1</td>\n      <td>0</td>\n    </tr>\n    <tr>\n      <th>1</th>\n      <td>PREDWELL_RETOS-1001-1</td>\n      <td>Happy</td>\n      <td>1</td>\n      <td>2</td>\n      <td>0</td>\n    </tr>\n    <tr>\n      <th>2</th>\n      <td>PREDWELL_RETOS-1001-1</td>\n      <td>Happy</td>\n      <td>1</td>\n      <td>3</td>\n      <td>1</td>\n    </tr>\n    <tr>\n      <th>3</th>\n      <td>PREDWELL_RETOS-1001-1</td>\n      <td>Happy</td>\n      <td>1</td>\n      <td>4</td>\n      <td>8</td>\n    </tr>\n    <tr>\n      <th>4</th>\n      <td>PREDWELL_RETOS-1001-1</td>\n      <td>Happy</td>\n      <td>0</td>\n      <td>1</td>\n      <td>5</td>\n    </tr>\n  </tbody>\n</table>\n</div>"
     },
     "execution_count": 75,
     "metadata": {},
     "output_type": "execute_result"
    }
   ],
   "source": [
    "Rating0_BEBRASK_counts.head(5)"
   ],
   "metadata": {
    "collapsed": false,
    "ExecuteTime": {
     "end_time": "2024-02-19T12:39:39.030368300Z",
     "start_time": "2024-02-19T12:39:38.821175200Z"
    }
   },
   "id": "969d49ec454559f7",
   "execution_count": 75
  },
  {
   "cell_type": "code",
   "outputs": [
    {
     "data": {
      "text/plain": "                 Subject Emotion  Match  Score  Count\n0  PREDWELL_RETOS-1001-1   Happy      1      1      0\n1  PREDWELL_RETOS-1001-1   Happy      1      2      0\n2  PREDWELL_RETOS-1001-1   Happy      1      3      6\n3  PREDWELL_RETOS-1001-1   Happy      1      4      3\n4  PREDWELL_RETOS-1001-1   Happy      0      1      1",
      "text/html": "<div>\n<style scoped>\n    .dataframe tbody tr th:only-of-type {\n        vertical-align: middle;\n    }\n\n    .dataframe tbody tr th {\n        vertical-align: top;\n    }\n\n    .dataframe thead th {\n        text-align: right;\n    }\n</style>\n<table border=\"1\" class=\"dataframe\">\n  <thead>\n    <tr style=\"text-align: right;\">\n      <th></th>\n      <th>Subject</th>\n      <th>Emotion</th>\n      <th>Match</th>\n      <th>Score</th>\n      <th>Count</th>\n    </tr>\n  </thead>\n  <tbody>\n    <tr>\n      <th>0</th>\n      <td>PREDWELL_RETOS-1001-1</td>\n      <td>Happy</td>\n      <td>1</td>\n      <td>1</td>\n      <td>0</td>\n    </tr>\n    <tr>\n      <th>1</th>\n      <td>PREDWELL_RETOS-1001-1</td>\n      <td>Happy</td>\n      <td>1</td>\n      <td>2</td>\n      <td>0</td>\n    </tr>\n    <tr>\n      <th>2</th>\n      <td>PREDWELL_RETOS-1001-1</td>\n      <td>Happy</td>\n      <td>1</td>\n      <td>3</td>\n      <td>6</td>\n    </tr>\n    <tr>\n      <th>3</th>\n      <td>PREDWELL_RETOS-1001-1</td>\n      <td>Happy</td>\n      <td>1</td>\n      <td>4</td>\n      <td>3</td>\n    </tr>\n    <tr>\n      <th>4</th>\n      <td>PREDWELL_RETOS-1001-1</td>\n      <td>Happy</td>\n      <td>0</td>\n      <td>1</td>\n      <td>1</td>\n    </tr>\n  </tbody>\n</table>\n</div>"
     },
     "execution_count": 76,
     "metadata": {},
     "output_type": "execute_result"
    }
   ],
   "source": [
    "Rating_BEBRASK_counts.head(5)\n"
   ],
   "metadata": {
    "collapsed": false,
    "ExecuteTime": {
     "end_time": "2024-02-19T12:39:39.211496900Z",
     "start_time": "2024-02-19T12:39:38.976445400Z"
    }
   },
   "id": "55762b1351c04cd3",
   "execution_count": 76
  },
  {
   "cell_type": "code",
   "outputs": [
    {
     "data": {
      "text/plain": "                 Subject  Count_Happy_1_1  Count_Happy_1_2  Count_Happy_1_3  \\\n0  PREDWELL_RETOS-1001-1                0                0                1   \n1  PREDWELL_RETOS-1002-1                0                0                2   \n2  PREDWELL_RETOS-1003-1                0                0                6   \n3  PREDWELL_RETOS-1004-1                3                1                4   \n4  PREDWELL_RETOS-1005-1                0                0                3   \n\n   Count_Happy_1_4  Count_Happy_0_1  Count_Happy_0_2  Count_Happy_0_3  \\\n0                8                5                0                0   \n1                7                5                0                1   \n2                3                6                0                0   \n3                1                3                1                2   \n4                6                5                1                0   \n\n   Count_Happy_0_4  Count_Sad_1_1  ...  Count_Sad_0_3  Count_Sad_0_4  \\\n0                1              0  ...              2              0   \n1                0              0  ...              1              1   \n2                0              0  ...              0              0   \n3                0              4  ...              1              0   \n4                0              0  ...              1              1   \n\n   Count_Fear_1_1  Count_Fear_1_2  Count_Fear_1_3  Count_Fear_1_4  \\\n0               1               1               4               3   \n1               1               1               4               3   \n2               1               5               3               0   \n3               2               2               4               1   \n4               0               3               5               1   \n\n   Count_Fear_0_1  Count_Fear_0_2  Count_Fear_0_3  Count_Fear_0_4  \n0               3               0               3               0  \n1               2               0               4               0  \n2               3               2               1               0  \n3               2               2               1               1  \n4               3               1               1               1  \n\n[5 rows x 25 columns]",
      "text/html": "<div>\n<style scoped>\n    .dataframe tbody tr th:only-of-type {\n        vertical-align: middle;\n    }\n\n    .dataframe tbody tr th {\n        vertical-align: top;\n    }\n\n    .dataframe thead th {\n        text-align: right;\n    }\n</style>\n<table border=\"1\" class=\"dataframe\">\n  <thead>\n    <tr style=\"text-align: right;\">\n      <th></th>\n      <th>Subject</th>\n      <th>Count_Happy_1_1</th>\n      <th>Count_Happy_1_2</th>\n      <th>Count_Happy_1_3</th>\n      <th>Count_Happy_1_4</th>\n      <th>Count_Happy_0_1</th>\n      <th>Count_Happy_0_2</th>\n      <th>Count_Happy_0_3</th>\n      <th>Count_Happy_0_4</th>\n      <th>Count_Sad_1_1</th>\n      <th>...</th>\n      <th>Count_Sad_0_3</th>\n      <th>Count_Sad_0_4</th>\n      <th>Count_Fear_1_1</th>\n      <th>Count_Fear_1_2</th>\n      <th>Count_Fear_1_3</th>\n      <th>Count_Fear_1_4</th>\n      <th>Count_Fear_0_1</th>\n      <th>Count_Fear_0_2</th>\n      <th>Count_Fear_0_3</th>\n      <th>Count_Fear_0_4</th>\n    </tr>\n  </thead>\n  <tbody>\n    <tr>\n      <th>0</th>\n      <td>PREDWELL_RETOS-1001-1</td>\n      <td>0</td>\n      <td>0</td>\n      <td>1</td>\n      <td>8</td>\n      <td>5</td>\n      <td>0</td>\n      <td>0</td>\n      <td>1</td>\n      <td>0</td>\n      <td>...</td>\n      <td>2</td>\n      <td>0</td>\n      <td>1</td>\n      <td>1</td>\n      <td>4</td>\n      <td>3</td>\n      <td>3</td>\n      <td>0</td>\n      <td>3</td>\n      <td>0</td>\n    </tr>\n    <tr>\n      <th>1</th>\n      <td>PREDWELL_RETOS-1002-1</td>\n      <td>0</td>\n      <td>0</td>\n      <td>2</td>\n      <td>7</td>\n      <td>5</td>\n      <td>0</td>\n      <td>1</td>\n      <td>0</td>\n      <td>0</td>\n      <td>...</td>\n      <td>1</td>\n      <td>1</td>\n      <td>1</td>\n      <td>1</td>\n      <td>4</td>\n      <td>3</td>\n      <td>2</td>\n      <td>0</td>\n      <td>4</td>\n      <td>0</td>\n    </tr>\n    <tr>\n      <th>2</th>\n      <td>PREDWELL_RETOS-1003-1</td>\n      <td>0</td>\n      <td>0</td>\n      <td>6</td>\n      <td>3</td>\n      <td>6</td>\n      <td>0</td>\n      <td>0</td>\n      <td>0</td>\n      <td>0</td>\n      <td>...</td>\n      <td>0</td>\n      <td>0</td>\n      <td>1</td>\n      <td>5</td>\n      <td>3</td>\n      <td>0</td>\n      <td>3</td>\n      <td>2</td>\n      <td>1</td>\n      <td>0</td>\n    </tr>\n    <tr>\n      <th>3</th>\n      <td>PREDWELL_RETOS-1004-1</td>\n      <td>3</td>\n      <td>1</td>\n      <td>4</td>\n      <td>1</td>\n      <td>3</td>\n      <td>1</td>\n      <td>2</td>\n      <td>0</td>\n      <td>4</td>\n      <td>...</td>\n      <td>1</td>\n      <td>0</td>\n      <td>2</td>\n      <td>2</td>\n      <td>4</td>\n      <td>1</td>\n      <td>2</td>\n      <td>2</td>\n      <td>1</td>\n      <td>1</td>\n    </tr>\n    <tr>\n      <th>4</th>\n      <td>PREDWELL_RETOS-1005-1</td>\n      <td>0</td>\n      <td>0</td>\n      <td>3</td>\n      <td>6</td>\n      <td>5</td>\n      <td>1</td>\n      <td>0</td>\n      <td>0</td>\n      <td>0</td>\n      <td>...</td>\n      <td>1</td>\n      <td>1</td>\n      <td>0</td>\n      <td>3</td>\n      <td>5</td>\n      <td>1</td>\n      <td>3</td>\n      <td>1</td>\n      <td>1</td>\n      <td>1</td>\n    </tr>\n  </tbody>\n</table>\n<p>5 rows × 25 columns</p>\n</div>"
     },
     "execution_count": 77,
     "metadata": {},
     "output_type": "execute_result"
    }
   ],
   "source": [
    "multiindex_Rating0 = Rating0_BEBRASK_counts.set_index(['Subject', 'Emotion', 'Match', 'Score'])\n",
    "Rating0_BEBRASK_df = multiindex_Rating0.unstack(level=['Emotion', 'Match', 'Score'])\n",
    "Rating0_BEBRASK_df.columns = ['_'.join(map(str, col)).strip() for col in Rating0_BEBRASK_df.columns.values]\n",
    "Rating0_BEBRASK_df = Rating0_BEBRASK_df.reset_index()\n",
    "\n",
    "#Modificamos el Dataset de manera que cada fila represente completamente un sujeto con toda la información referente a sus ratings.\n",
    "Rating0_BEBRASK_df.to_excel('../Clustering_Predictive_Processing/BEBRASK_Rating0_count.xlsx', index=False) \n",
    "Rating0_BEBRASK_df.head(5)\n",
    "\n"
   ],
   "metadata": {
    "collapsed": false,
    "ExecuteTime": {
     "end_time": "2024-02-19T12:39:39.361971100Z",
     "start_time": "2024-02-19T12:39:39.127365900Z"
    }
   },
   "id": "fa12915b48c3960c",
   "execution_count": 77
  },
  {
   "cell_type": "code",
   "outputs": [
    {
     "data": {
      "text/plain": "                 Subject  Count_Happy_1_1  Count_Happy_1_2  Count_Happy_1_3  \\\n0  PREDWELL_RETOS-1001-1                0                0                6   \n1  PREDWELL_RETOS-1002-1                0                1                2   \n2  PREDWELL_RETOS-1003-1                0                2                5   \n3  PREDWELL_RETOS-1004-1                2                2                4   \n4  PREDWELL_RETOS-1005-1                0                0                4   \n\n   Count_Happy_1_4  Count_Happy_0_1  Count_Happy_0_2  Count_Happy_0_3  \\\n0                3                1                2                2   \n1                6                0                3                3   \n2                2                0                3                1   \n3                1                1                4                1   \n4                5                0                4                2   \n\n   Count_Happy_0_4  Count_Sad_1_1  ...  Count_Sad_0_3  Count_Sad_0_4  \\\n0                1              1  ...              1              2   \n1                0              0  ...              2              0   \n2                2              1  ...              2              1   \n3                0              3  ...              1              1   \n4                0              0  ...              3              0   \n\n   Count_Fear_1_1  Count_Fear_1_2  Count_Fear_1_3  Count_Fear_1_4  \\\n0               0               5               4               0   \n1               0               3               5               1   \n2               1               1               5               2   \n3               0               5               3               1   \n4               0               7               2               0   \n\n   Count_Fear_0_1  Count_Fear_0_2  Count_Fear_0_3  Count_Fear_0_4  \n0               1               2               3               0  \n1               1               1               3               1  \n2               1               1               3               1  \n3               2               1               3               0  \n4               0               1               5               0  \n\n[5 rows x 25 columns]",
      "text/html": "<div>\n<style scoped>\n    .dataframe tbody tr th:only-of-type {\n        vertical-align: middle;\n    }\n\n    .dataframe tbody tr th {\n        vertical-align: top;\n    }\n\n    .dataframe thead th {\n        text-align: right;\n    }\n</style>\n<table border=\"1\" class=\"dataframe\">\n  <thead>\n    <tr style=\"text-align: right;\">\n      <th></th>\n      <th>Subject</th>\n      <th>Count_Happy_1_1</th>\n      <th>Count_Happy_1_2</th>\n      <th>Count_Happy_1_3</th>\n      <th>Count_Happy_1_4</th>\n      <th>Count_Happy_0_1</th>\n      <th>Count_Happy_0_2</th>\n      <th>Count_Happy_0_3</th>\n      <th>Count_Happy_0_4</th>\n      <th>Count_Sad_1_1</th>\n      <th>...</th>\n      <th>Count_Sad_0_3</th>\n      <th>Count_Sad_0_4</th>\n      <th>Count_Fear_1_1</th>\n      <th>Count_Fear_1_2</th>\n      <th>Count_Fear_1_3</th>\n      <th>Count_Fear_1_4</th>\n      <th>Count_Fear_0_1</th>\n      <th>Count_Fear_0_2</th>\n      <th>Count_Fear_0_3</th>\n      <th>Count_Fear_0_4</th>\n    </tr>\n  </thead>\n  <tbody>\n    <tr>\n      <th>0</th>\n      <td>PREDWELL_RETOS-1001-1</td>\n      <td>0</td>\n      <td>0</td>\n      <td>6</td>\n      <td>3</td>\n      <td>1</td>\n      <td>2</td>\n      <td>2</td>\n      <td>1</td>\n      <td>1</td>\n      <td>...</td>\n      <td>1</td>\n      <td>2</td>\n      <td>0</td>\n      <td>5</td>\n      <td>4</td>\n      <td>0</td>\n      <td>1</td>\n      <td>2</td>\n      <td>3</td>\n      <td>0</td>\n    </tr>\n    <tr>\n      <th>1</th>\n      <td>PREDWELL_RETOS-1002-1</td>\n      <td>0</td>\n      <td>1</td>\n      <td>2</td>\n      <td>6</td>\n      <td>0</td>\n      <td>3</td>\n      <td>3</td>\n      <td>0</td>\n      <td>0</td>\n      <td>...</td>\n      <td>2</td>\n      <td>0</td>\n      <td>0</td>\n      <td>3</td>\n      <td>5</td>\n      <td>1</td>\n      <td>1</td>\n      <td>1</td>\n      <td>3</td>\n      <td>1</td>\n    </tr>\n    <tr>\n      <th>2</th>\n      <td>PREDWELL_RETOS-1003-1</td>\n      <td>0</td>\n      <td>2</td>\n      <td>5</td>\n      <td>2</td>\n      <td>0</td>\n      <td>3</td>\n      <td>1</td>\n      <td>2</td>\n      <td>1</td>\n      <td>...</td>\n      <td>2</td>\n      <td>1</td>\n      <td>1</td>\n      <td>1</td>\n      <td>5</td>\n      <td>2</td>\n      <td>1</td>\n      <td>1</td>\n      <td>3</td>\n      <td>1</td>\n    </tr>\n    <tr>\n      <th>3</th>\n      <td>PREDWELL_RETOS-1004-1</td>\n      <td>2</td>\n      <td>2</td>\n      <td>4</td>\n      <td>1</td>\n      <td>1</td>\n      <td>4</td>\n      <td>1</td>\n      <td>0</td>\n      <td>3</td>\n      <td>...</td>\n      <td>1</td>\n      <td>1</td>\n      <td>0</td>\n      <td>5</td>\n      <td>3</td>\n      <td>1</td>\n      <td>2</td>\n      <td>1</td>\n      <td>3</td>\n      <td>0</td>\n    </tr>\n    <tr>\n      <th>4</th>\n      <td>PREDWELL_RETOS-1005-1</td>\n      <td>0</td>\n      <td>0</td>\n      <td>4</td>\n      <td>5</td>\n      <td>0</td>\n      <td>4</td>\n      <td>2</td>\n      <td>0</td>\n      <td>0</td>\n      <td>...</td>\n      <td>3</td>\n      <td>0</td>\n      <td>0</td>\n      <td>7</td>\n      <td>2</td>\n      <td>0</td>\n      <td>0</td>\n      <td>1</td>\n      <td>5</td>\n      <td>0</td>\n    </tr>\n  </tbody>\n</table>\n<p>5 rows × 25 columns</p>\n</div>"
     },
     "execution_count": 78,
     "metadata": {},
     "output_type": "execute_result"
    }
   ],
   "source": [
    "multiindex_Rating = Rating_BEBRASK_counts.set_index(['Subject', 'Emotion', 'Match', 'Score'])\n",
    "Rating_BEBRASK_df = multiindex_Rating.unstack(level=['Emotion', 'Match', 'Score'])\n",
    "Rating_BEBRASK_df.columns = ['_'.join(map(str, col)).strip() for col in Rating_BEBRASK_df.columns.values]\n",
    "Rating_BEBRASK_df = Rating_BEBRASK_df.reset_index()\n",
    "\n",
    "#Modificamos el Dataset de manera que cada fila represente completamente un sujeto con toda la información referente a sus ratings.\n",
    "Rating_BEBRASK_df.to_excel('../Clustering_Predictive_Processing/BEBRASK_Rating_count.xlsx', index=False) \n",
    "Rating_BEBRASK_df.head(5)\n"
   ],
   "metadata": {
    "collapsed": false,
    "ExecuteTime": {
     "end_time": "2024-02-19T12:39:39.569702100Z",
     "start_time": "2024-02-19T12:39:39.260011200Z"
    }
   },
   "id": "a7f3e75511b7d56c",
   "execution_count": 78
  },
  {
   "cell_type": "markdown",
   "source": [
    "## RETOS DATASET COUNT\n"
   ],
   "metadata": {
    "collapsed": false
   },
   "id": "97abad654e23613a"
  },
  {
   "cell_type": "code",
   "outputs": [],
   "source": [
    "RETOS_tasks = pd.read_excel('../Datasets/RETOS_task.xlsx')\n",
    "RETOS_tasks = RETOS_tasks[\n",
    "    [\"DataFile.Basename\", \"Rating0.RESP\", \"Rating.RESP\", \"EvokedEmotion\", \"Expression\", \"ScenarioPick\", \"TrialCount\",\n",
    "     \"Fulfilled\"]].copy()\n",
    "RETOS_tasks.dropna(subset=[\"TrialCount\"], inplace=True)\n",
    "subjects_id = RETOS_tasks[\"DataFile.Basename\"].unique()\n",
    "\n",
    "#Eleccion de las variables relevantes para el clustering, y eliminación de las filas que no corresponden a trials.\n"
   ],
   "metadata": {
    "collapsed": false,
    "ExecuteTime": {
     "end_time": "2024-02-19T12:39:45.732940800Z",
     "start_time": "2024-02-19T12:39:39.468658300Z"
    }
   },
   "id": "dbd96fb688dceef0",
   "execution_count": 79
  },
  {
   "cell_type": "code",
   "outputs": [
    {
     "data": {
      "text/plain": "                      Rating0.RESP_1.0  Rating0.RESP_2.0  Rating0.RESP_3.0  \\\nDataFile.Basename                                                            \nPREDWELL_RETOS-1-1                 1.0               3.0               4.0   \nPREDWELL_RETOS-10-1                4.0               2.0               2.0   \nPREDWELL_RETOS-101-1               2.0               3.0               3.0   \nPREDWELL_RETOS-102-1               1.0               1.0               2.0   \nPREDWELL_RETOS-103-1               3.0               1.0               2.0   \n\n                      Rating0.RESP_4.0  Rating0.RESP_5.0  Rating0.RESP_6.0  \\\nDataFile.Basename                                                            \nPREDWELL_RETOS-1-1                 4.0               4.0               2.0   \nPREDWELL_RETOS-10-1                4.0               3.0               4.0   \nPREDWELL_RETOS-101-1               4.0               4.0               1.0   \nPREDWELL_RETOS-102-1               1.0               1.0               2.0   \nPREDWELL_RETOS-103-1               2.0               1.0               1.0   \n\n                      Rating0.RESP_7.0  Rating0.RESP_8.0  Rating0.RESP_9.0  \\\nDataFile.Basename                                                            \nPREDWELL_RETOS-1-1                 1.0               4.0               4.0   \nPREDWELL_RETOS-10-1                3.0               1.0               1.0   \nPREDWELL_RETOS-101-1               1.0               4.0               3.0   \nPREDWELL_RETOS-102-1               2.0               1.0               1.0   \nPREDWELL_RETOS-103-1               3.0               1.0               2.0   \n\n                      Rating0.RESP_10.0  ...  Fulfilled_36.0  Fulfilled_37.0  \\\nDataFile.Basename                        ...                                   \nPREDWELL_RETOS-1-1                  4.0  ...             1.0             0.0   \nPREDWELL_RETOS-10-1                 3.0  ...             0.0             0.0   \nPREDWELL_RETOS-101-1                1.0  ...             0.0             0.0   \nPREDWELL_RETOS-102-1                4.0  ...             0.0             0.0   \nPREDWELL_RETOS-103-1                1.0  ...             1.0             1.0   \n\n                      Fulfilled_38.0  Fulfilled_39.0  Fulfilled_40.0  \\\nDataFile.Basename                                                      \nPREDWELL_RETOS-1-1               1.0             1.0             1.0   \nPREDWELL_RETOS-10-1              1.0             1.0             0.0   \nPREDWELL_RETOS-101-1             1.0             1.0             1.0   \nPREDWELL_RETOS-102-1             1.0             1.0             1.0   \nPREDWELL_RETOS-103-1             0.0             1.0             0.0   \n\n                      Fulfilled_41.0  Fulfilled_42.0  Fulfilled_43.0  \\\nDataFile.Basename                                                      \nPREDWELL_RETOS-1-1               0.0             1.0             0.0   \nPREDWELL_RETOS-10-1              1.0             1.0             0.0   \nPREDWELL_RETOS-101-1             0.0             0.0             1.0   \nPREDWELL_RETOS-102-1             0.0             0.0             1.0   \nPREDWELL_RETOS-103-1             0.0             0.0             0.0   \n\n                      Fulfilled_44.0  Fulfilled_45.0  \nDataFile.Basename                                     \nPREDWELL_RETOS-1-1               1.0             1.0  \nPREDWELL_RETOS-10-1              1.0             0.0  \nPREDWELL_RETOS-101-1             1.0             1.0  \nPREDWELL_RETOS-102-1             1.0             1.0  \nPREDWELL_RETOS-103-1             1.0             1.0  \n\n[5 rows x 270 columns]",
      "text/html": "<div>\n<style scoped>\n    .dataframe tbody tr th:only-of-type {\n        vertical-align: middle;\n    }\n\n    .dataframe tbody tr th {\n        vertical-align: top;\n    }\n\n    .dataframe thead th {\n        text-align: right;\n    }\n</style>\n<table border=\"1\" class=\"dataframe\">\n  <thead>\n    <tr style=\"text-align: right;\">\n      <th></th>\n      <th>Rating0.RESP_1.0</th>\n      <th>Rating0.RESP_2.0</th>\n      <th>Rating0.RESP_3.0</th>\n      <th>Rating0.RESP_4.0</th>\n      <th>Rating0.RESP_5.0</th>\n      <th>Rating0.RESP_6.0</th>\n      <th>Rating0.RESP_7.0</th>\n      <th>Rating0.RESP_8.0</th>\n      <th>Rating0.RESP_9.0</th>\n      <th>Rating0.RESP_10.0</th>\n      <th>...</th>\n      <th>Fulfilled_36.0</th>\n      <th>Fulfilled_37.0</th>\n      <th>Fulfilled_38.0</th>\n      <th>Fulfilled_39.0</th>\n      <th>Fulfilled_40.0</th>\n      <th>Fulfilled_41.0</th>\n      <th>Fulfilled_42.0</th>\n      <th>Fulfilled_43.0</th>\n      <th>Fulfilled_44.0</th>\n      <th>Fulfilled_45.0</th>\n    </tr>\n    <tr>\n      <th>DataFile.Basename</th>\n      <th></th>\n      <th></th>\n      <th></th>\n      <th></th>\n      <th></th>\n      <th></th>\n      <th></th>\n      <th></th>\n      <th></th>\n      <th></th>\n      <th></th>\n      <th></th>\n      <th></th>\n      <th></th>\n      <th></th>\n      <th></th>\n      <th></th>\n      <th></th>\n      <th></th>\n      <th></th>\n      <th></th>\n    </tr>\n  </thead>\n  <tbody>\n    <tr>\n      <th>PREDWELL_RETOS-1-1</th>\n      <td>1.0</td>\n      <td>3.0</td>\n      <td>4.0</td>\n      <td>4.0</td>\n      <td>4.0</td>\n      <td>2.0</td>\n      <td>1.0</td>\n      <td>4.0</td>\n      <td>4.0</td>\n      <td>4.0</td>\n      <td>...</td>\n      <td>1.0</td>\n      <td>0.0</td>\n      <td>1.0</td>\n      <td>1.0</td>\n      <td>1.0</td>\n      <td>0.0</td>\n      <td>1.0</td>\n      <td>0.0</td>\n      <td>1.0</td>\n      <td>1.0</td>\n    </tr>\n    <tr>\n      <th>PREDWELL_RETOS-10-1</th>\n      <td>4.0</td>\n      <td>2.0</td>\n      <td>2.0</td>\n      <td>4.0</td>\n      <td>3.0</td>\n      <td>4.0</td>\n      <td>3.0</td>\n      <td>1.0</td>\n      <td>1.0</td>\n      <td>3.0</td>\n      <td>...</td>\n      <td>0.0</td>\n      <td>0.0</td>\n      <td>1.0</td>\n      <td>1.0</td>\n      <td>0.0</td>\n      <td>1.0</td>\n      <td>1.0</td>\n      <td>0.0</td>\n      <td>1.0</td>\n      <td>0.0</td>\n    </tr>\n    <tr>\n      <th>PREDWELL_RETOS-101-1</th>\n      <td>2.0</td>\n      <td>3.0</td>\n      <td>3.0</td>\n      <td>4.0</td>\n      <td>4.0</td>\n      <td>1.0</td>\n      <td>1.0</td>\n      <td>4.0</td>\n      <td>3.0</td>\n      <td>1.0</td>\n      <td>...</td>\n      <td>0.0</td>\n      <td>0.0</td>\n      <td>1.0</td>\n      <td>1.0</td>\n      <td>1.0</td>\n      <td>0.0</td>\n      <td>0.0</td>\n      <td>1.0</td>\n      <td>1.0</td>\n      <td>1.0</td>\n    </tr>\n    <tr>\n      <th>PREDWELL_RETOS-102-1</th>\n      <td>1.0</td>\n      <td>1.0</td>\n      <td>2.0</td>\n      <td>1.0</td>\n      <td>1.0</td>\n      <td>2.0</td>\n      <td>2.0</td>\n      <td>1.0</td>\n      <td>1.0</td>\n      <td>4.0</td>\n      <td>...</td>\n      <td>0.0</td>\n      <td>0.0</td>\n      <td>1.0</td>\n      <td>1.0</td>\n      <td>1.0</td>\n      <td>0.0</td>\n      <td>0.0</td>\n      <td>1.0</td>\n      <td>1.0</td>\n      <td>1.0</td>\n    </tr>\n    <tr>\n      <th>PREDWELL_RETOS-103-1</th>\n      <td>3.0</td>\n      <td>1.0</td>\n      <td>2.0</td>\n      <td>2.0</td>\n      <td>1.0</td>\n      <td>1.0</td>\n      <td>3.0</td>\n      <td>1.0</td>\n      <td>2.0</td>\n      <td>1.0</td>\n      <td>...</td>\n      <td>1.0</td>\n      <td>1.0</td>\n      <td>0.0</td>\n      <td>1.0</td>\n      <td>0.0</td>\n      <td>0.0</td>\n      <td>0.0</td>\n      <td>0.0</td>\n      <td>1.0</td>\n      <td>1.0</td>\n    </tr>\n  </tbody>\n</table>\n<p>5 rows × 270 columns</p>\n</div>"
     },
     "execution_count": 80,
     "metadata": {},
     "output_type": "execute_result"
    }
   ],
   "source": [
    "RETOS_tasks_long= RETOS_tasks.pivot(index=\"DataFile.Basename\", columns='TrialCount')\n",
    "RETOS_tasks_long.columns = ['_'.join(str(col) for col in cols) for cols in RETOS_tasks_long.columns.values]\n",
    "\n",
    "RETOS_tasks_long.head(5)"
   ],
   "metadata": {
    "collapsed": false,
    "ExecuteTime": {
     "end_time": "2024-02-19T12:39:45.753449400Z",
     "start_time": "2024-02-19T12:39:45.663537900Z"
    }
   },
   "id": "58a95259e215b630",
   "execution_count": 80
  },
  {
   "cell_type": "code",
   "outputs": [
    {
     "name": "stdout",
     "output_type": "stream",
     "text": [
      "Mean difference pred/like: 0.9506468615237182\n",
      "Std difference pred/like: 0.8575928879401842\n"
     ]
    },
    {
     "data": {
      "text/plain": "Rating0.RESP_1.0    5\nRating0.RESP_2.0    1\nRating0.RESP_3.0    1\nRating0.RESP_4.0    2\nRating0.RESP_5.0    1\n                   ..\nFulfilled_41.0      1\nFulfilled_42.0      1\nFulfilled_43.0      1\nFulfilled_44.0      1\nFulfilled_45.0      1\nLength: 270, dtype: int64"
     },
     "execution_count": 81,
     "metadata": {},
     "output_type": "execute_result"
    }
   ],
   "source": [
    "print(\"Mean difference pred/like:\",np.mean(abs(RETOS_tasks[\"Rating0.RESP\"] - RETOS_tasks[\"Rating.RESP\"])))\n",
    "print(\"Std difference pred/like:\",np.std(abs(RETOS_tasks[\"Rating0.RESP\"] - RETOS_tasks[\"Rating.RESP\"])))\n",
    "RETOS_tasks_long.isna().sum()\n",
    "\n",
    "#Observamos muchos más valores NaN que anteriormente. Empezaremos haciendo imputación de los datos faltantes del mismo método que anteriormente."
   ],
   "metadata": {
    "collapsed": false,
    "ExecuteTime": {
     "end_time": "2024-02-19T12:39:45.811704600Z",
     "start_time": "2024-02-19T12:39:45.709738100Z"
    }
   },
   "id": "191b60376be28f2e",
   "execution_count": 81
  },
  {
   "cell_type": "code",
   "outputs": [
    {
     "data": {
      "text/plain": "Rating0.RESP_1.0    1\nRating0.RESP_2.0    1\nRating0.RESP_3.0    1\nRating0.RESP_4.0    1\nRating0.RESP_5.0    1\n                   ..\nFulfilled_41.0      1\nFulfilled_42.0      1\nFulfilled_43.0      1\nFulfilled_44.0      1\nFulfilled_45.0      1\nLength: 270, dtype: int64"
     },
     "execution_count": 82,
     "metadata": {},
     "output_type": "execute_result"
    }
   ],
   "source": [
    "for i in range(1, 46):\n",
    "    rating1_col = f'Rating0.RESP_{i}.0'\n",
    "    rating2_col = f'Rating.RESP_{i}.0'\n",
    "\n",
    "    # Llenamos los NA cen Rating0 con los valores de Rating, y viceversa\n",
    "    RETOS_tasks_long[rating1_col].fillna(RETOS_tasks_long[rating2_col], inplace=True)\n",
    "    RETOS_tasks_long[rating2_col].fillna(RETOS_tasks_long[rating1_col], inplace=True)\n",
    "\n",
    "RETOS_tasks_long.isna().sum()\n",
    "#Vemos que hay un valor que no se corrige, miramos si corresponde a un sujeto o a más.\n"
   ],
   "metadata": {
    "collapsed": false,
    "ExecuteTime": {
     "end_time": "2024-02-19T12:39:45.908872Z",
     "start_time": "2024-02-19T12:39:45.751443800Z"
    }
   },
   "id": "1e0fc7da153ae1fa",
   "execution_count": 82
  },
  {
   "cell_type": "code",
   "outputs": [
    {
     "data": {
      "text/plain": "DataFile.Basename\nPREDWELL_RETOS-1-1      0\nPREDWELL_RETOS-10-1     0\nPREDWELL_RETOS-101-1    0\nPREDWELL_RETOS-102-1    0\nPREDWELL_RETOS-103-1    0\n                       ..\nPREDWELL_RETOS-5-1      0\nPREDWELL_RETOS-6-1      0\nPREDWELL_RETOS-7-1      0\nPREDWELL_RETOS-8-1      0\nPREDWELL_RETOS-9-1      0\nLength: 96, dtype: int64"
     },
     "execution_count": 83,
     "metadata": {},
     "output_type": "execute_result"
    }
   ],
   "source": [
    "RETOS_tasks_long.isna().sum(axis=1)\n"
   ],
   "metadata": {
    "collapsed": false,
    "ExecuteTime": {
     "end_time": "2024-02-19T12:39:45.911870400Z",
     "start_time": "2024-02-19T12:39:45.789448600Z"
    }
   },
   "id": "cfc4875a1576d686",
   "execution_count": 83
  },
  {
   "cell_type": "code",
   "outputs": [
    {
     "data": {
      "text/plain": "                      Rating0.RESP_1.0  Rating0.RESP_2.0  Rating0.RESP_3.0  \\\nDataFile.Basename                                                            \nPREDWELL_RETOS-124-1               2.0               3.0               1.0   \nPREDWELL_RETOS-307-1               NaN               NaN               NaN   \nPREDWELL_RETOS-307-3               1.0               3.0               3.0   \n\n                      Rating0.RESP_4.0  Rating0.RESP_5.0  Rating0.RESP_6.0  \\\nDataFile.Basename                                                            \nPREDWELL_RETOS-124-1               2.0               1.0               1.0   \nPREDWELL_RETOS-307-1               NaN               NaN               NaN   \nPREDWELL_RETOS-307-3               1.0               3.0               3.0   \n\n                      Rating0.RESP_7.0  Rating0.RESP_8.0  Rating0.RESP_9.0  \\\nDataFile.Basename                                                            \nPREDWELL_RETOS-124-1               1.0               1.0               1.0   \nPREDWELL_RETOS-307-1               NaN               NaN               NaN   \nPREDWELL_RETOS-307-3               3.0               3.0               2.0   \n\n                      Rating0.RESP_10.0  ...  Fulfilled_36.0  Fulfilled_37.0  \\\nDataFile.Basename                        ...                                   \nPREDWELL_RETOS-124-1                2.0  ...             1.0             0.0   \nPREDWELL_RETOS-307-1                NaN  ...             1.0             1.0   \nPREDWELL_RETOS-307-3                3.0  ...             NaN             NaN   \n\n                      Fulfilled_38.0  Fulfilled_39.0  Fulfilled_40.0  \\\nDataFile.Basename                                                      \nPREDWELL_RETOS-124-1             0.0             1.0             1.0   \nPREDWELL_RETOS-307-1             0.0             1.0             0.0   \nPREDWELL_RETOS-307-3             NaN             NaN             NaN   \n\n                      Fulfilled_41.0  Fulfilled_42.0  Fulfilled_43.0  \\\nDataFile.Basename                                                      \nPREDWELL_RETOS-124-1             1.0             0.0             1.0   \nPREDWELL_RETOS-307-1             1.0             0.0             0.0   \nPREDWELL_RETOS-307-3             NaN             NaN             NaN   \n\n                      Fulfilled_44.0  Fulfilled_45.0  \nDataFile.Basename                                     \nPREDWELL_RETOS-124-1             1.0             0.0  \nPREDWELL_RETOS-307-1             1.0             0.0  \nPREDWELL_RETOS-307-3             NaN             NaN  \n\n[3 rows x 270 columns]",
      "text/html": "<div>\n<style scoped>\n    .dataframe tbody tr th:only-of-type {\n        vertical-align: middle;\n    }\n\n    .dataframe tbody tr th {\n        vertical-align: top;\n    }\n\n    .dataframe thead th {\n        text-align: right;\n    }\n</style>\n<table border=\"1\" class=\"dataframe\">\n  <thead>\n    <tr style=\"text-align: right;\">\n      <th></th>\n      <th>Rating0.RESP_1.0</th>\n      <th>Rating0.RESP_2.0</th>\n      <th>Rating0.RESP_3.0</th>\n      <th>Rating0.RESP_4.0</th>\n      <th>Rating0.RESP_5.0</th>\n      <th>Rating0.RESP_6.0</th>\n      <th>Rating0.RESP_7.0</th>\n      <th>Rating0.RESP_8.0</th>\n      <th>Rating0.RESP_9.0</th>\n      <th>Rating0.RESP_10.0</th>\n      <th>...</th>\n      <th>Fulfilled_36.0</th>\n      <th>Fulfilled_37.0</th>\n      <th>Fulfilled_38.0</th>\n      <th>Fulfilled_39.0</th>\n      <th>Fulfilled_40.0</th>\n      <th>Fulfilled_41.0</th>\n      <th>Fulfilled_42.0</th>\n      <th>Fulfilled_43.0</th>\n      <th>Fulfilled_44.0</th>\n      <th>Fulfilled_45.0</th>\n    </tr>\n    <tr>\n      <th>DataFile.Basename</th>\n      <th></th>\n      <th></th>\n      <th></th>\n      <th></th>\n      <th></th>\n      <th></th>\n      <th></th>\n      <th></th>\n      <th></th>\n      <th></th>\n      <th></th>\n      <th></th>\n      <th></th>\n      <th></th>\n      <th></th>\n      <th></th>\n      <th></th>\n      <th></th>\n      <th></th>\n      <th></th>\n      <th></th>\n    </tr>\n  </thead>\n  <tbody>\n    <tr>\n      <th>PREDWELL_RETOS-124-1</th>\n      <td>2.0</td>\n      <td>3.0</td>\n      <td>1.0</td>\n      <td>2.0</td>\n      <td>1.0</td>\n      <td>1.0</td>\n      <td>1.0</td>\n      <td>1.0</td>\n      <td>1.0</td>\n      <td>2.0</td>\n      <td>...</td>\n      <td>1.0</td>\n      <td>0.0</td>\n      <td>0.0</td>\n      <td>1.0</td>\n      <td>1.0</td>\n      <td>1.0</td>\n      <td>0.0</td>\n      <td>1.0</td>\n      <td>1.0</td>\n      <td>0.0</td>\n    </tr>\n    <tr>\n      <th>PREDWELL_RETOS-307-1</th>\n      <td>NaN</td>\n      <td>NaN</td>\n      <td>NaN</td>\n      <td>NaN</td>\n      <td>NaN</td>\n      <td>NaN</td>\n      <td>NaN</td>\n      <td>NaN</td>\n      <td>NaN</td>\n      <td>NaN</td>\n      <td>...</td>\n      <td>1.0</td>\n      <td>1.0</td>\n      <td>0.0</td>\n      <td>1.0</td>\n      <td>0.0</td>\n      <td>1.0</td>\n      <td>0.0</td>\n      <td>0.0</td>\n      <td>1.0</td>\n      <td>0.0</td>\n    </tr>\n    <tr>\n      <th>PREDWELL_RETOS-307-3</th>\n      <td>1.0</td>\n      <td>3.0</td>\n      <td>3.0</td>\n      <td>1.0</td>\n      <td>3.0</td>\n      <td>3.0</td>\n      <td>3.0</td>\n      <td>3.0</td>\n      <td>2.0</td>\n      <td>3.0</td>\n      <td>...</td>\n      <td>NaN</td>\n      <td>NaN</td>\n      <td>NaN</td>\n      <td>NaN</td>\n      <td>NaN</td>\n      <td>NaN</td>\n      <td>NaN</td>\n      <td>NaN</td>\n      <td>NaN</td>\n      <td>NaN</td>\n    </tr>\n  </tbody>\n</table>\n<p>3 rows × 270 columns</p>\n</div>"
     },
     "execution_count": 84,
     "metadata": {},
     "output_type": "execute_result"
    }
   ],
   "source": [
    "RETOS_tasks_long[RETOS_tasks_long.isna().sum(axis=1) > 0]\n"
   ],
   "metadata": {
    "collapsed": false,
    "ExecuteTime": {
     "end_time": "2024-02-19T12:39:45.996389Z",
     "start_time": "2024-02-19T12:39:45.802448200Z"
    }
   },
   "id": "ee3a01029b1100a5",
   "execution_count": 84
  },
  {
   "cell_type": "code",
   "outputs": [],
   "source": [
    "#Los datos de PREDWELL_RETOS-307-1 y PREDWELL_RETOS-307-3 son del mismo sujeto, por lo tanto se deben combinar y tratar como una sola fila."
   ],
   "metadata": {
    "collapsed": false,
    "ExecuteTime": {
     "end_time": "2024-02-19T12:39:46.067108100Z",
     "start_time": "2024-02-19T12:39:45.834705500Z"
    }
   },
   "id": "22c197204796c951",
   "execution_count": 85
  },
  {
   "cell_type": "code",
   "outputs": [],
   "source": [
    "part1 = RETOS_tasks_long.iloc[RETOS_tasks_long.index =='PREDWELL_RETOS-307-1'].T\n",
    "part2 = RETOS_tasks_long.iloc[RETOS_tasks_long.index =='PREDWELL_RETOS-307-3'].T\n",
    "combined_row = np.where(part1.isnull(), part2, part1).T\n",
    "RETOS_tasks_long.iloc[RETOS_tasks_long.index == 'PREDWELL_RETOS-307-1'] = combined_row\n"
   ],
   "metadata": {
    "collapsed": false,
    "ExecuteTime": {
     "end_time": "2024-02-19T12:39:46.094109500Z",
     "start_time": "2024-02-19T12:39:45.854868Z"
    }
   },
   "id": "7218894a87b98c07",
   "execution_count": 86
  },
  {
   "cell_type": "code",
   "outputs": [
    {
     "data": {
      "text/plain": "                      Rating0.RESP_1.0  Rating0.RESP_2.0  Rating0.RESP_3.0  \\\nDataFile.Basename                                                            \nPREDWELL_RETOS-124-1               2.0               3.0               1.0   \nPREDWELL_RETOS-307-1               1.0               3.0               3.0   \nPREDWELL_RETOS-307-3               1.0               3.0               3.0   \n\n                      Rating0.RESP_4.0  Rating0.RESP_5.0  Rating0.RESP_6.0  \\\nDataFile.Basename                                                            \nPREDWELL_RETOS-124-1               2.0               1.0               1.0   \nPREDWELL_RETOS-307-1               1.0               3.0               3.0   \nPREDWELL_RETOS-307-3               1.0               3.0               3.0   \n\n                      Rating0.RESP_7.0  Rating0.RESP_8.0  Rating0.RESP_9.0  \\\nDataFile.Basename                                                            \nPREDWELL_RETOS-124-1               1.0               1.0               1.0   \nPREDWELL_RETOS-307-1               3.0               3.0               2.0   \nPREDWELL_RETOS-307-3               3.0               3.0               2.0   \n\n                      Rating0.RESP_10.0  ...  Fulfilled_36.0  Fulfilled_37.0  \\\nDataFile.Basename                        ...                                   \nPREDWELL_RETOS-124-1                2.0  ...             1.0             0.0   \nPREDWELL_RETOS-307-1                3.0  ...             1.0             1.0   \nPREDWELL_RETOS-307-3                3.0  ...             NaN             NaN   \n\n                      Fulfilled_38.0  Fulfilled_39.0  Fulfilled_40.0  \\\nDataFile.Basename                                                      \nPREDWELL_RETOS-124-1             0.0             1.0             1.0   \nPREDWELL_RETOS-307-1             0.0             1.0             0.0   \nPREDWELL_RETOS-307-3             NaN             NaN             NaN   \n\n                      Fulfilled_41.0  Fulfilled_42.0  Fulfilled_43.0  \\\nDataFile.Basename                                                      \nPREDWELL_RETOS-124-1             1.0             0.0             1.0   \nPREDWELL_RETOS-307-1             1.0             0.0             0.0   \nPREDWELL_RETOS-307-3             NaN             NaN             NaN   \n\n                      Fulfilled_44.0  Fulfilled_45.0  \nDataFile.Basename                                     \nPREDWELL_RETOS-124-1             1.0             0.0  \nPREDWELL_RETOS-307-1             1.0             0.0  \nPREDWELL_RETOS-307-3             NaN             NaN  \n\n[3 rows x 270 columns]",
      "text/html": "<div>\n<style scoped>\n    .dataframe tbody tr th:only-of-type {\n        vertical-align: middle;\n    }\n\n    .dataframe tbody tr th {\n        vertical-align: top;\n    }\n\n    .dataframe thead th {\n        text-align: right;\n    }\n</style>\n<table border=\"1\" class=\"dataframe\">\n  <thead>\n    <tr style=\"text-align: right;\">\n      <th></th>\n      <th>Rating0.RESP_1.0</th>\n      <th>Rating0.RESP_2.0</th>\n      <th>Rating0.RESP_3.0</th>\n      <th>Rating0.RESP_4.0</th>\n      <th>Rating0.RESP_5.0</th>\n      <th>Rating0.RESP_6.0</th>\n      <th>Rating0.RESP_7.0</th>\n      <th>Rating0.RESP_8.0</th>\n      <th>Rating0.RESP_9.0</th>\n      <th>Rating0.RESP_10.0</th>\n      <th>...</th>\n      <th>Fulfilled_36.0</th>\n      <th>Fulfilled_37.0</th>\n      <th>Fulfilled_38.0</th>\n      <th>Fulfilled_39.0</th>\n      <th>Fulfilled_40.0</th>\n      <th>Fulfilled_41.0</th>\n      <th>Fulfilled_42.0</th>\n      <th>Fulfilled_43.0</th>\n      <th>Fulfilled_44.0</th>\n      <th>Fulfilled_45.0</th>\n    </tr>\n    <tr>\n      <th>DataFile.Basename</th>\n      <th></th>\n      <th></th>\n      <th></th>\n      <th></th>\n      <th></th>\n      <th></th>\n      <th></th>\n      <th></th>\n      <th></th>\n      <th></th>\n      <th></th>\n      <th></th>\n      <th></th>\n      <th></th>\n      <th></th>\n      <th></th>\n      <th></th>\n      <th></th>\n      <th></th>\n      <th></th>\n      <th></th>\n    </tr>\n  </thead>\n  <tbody>\n    <tr>\n      <th>PREDWELL_RETOS-124-1</th>\n      <td>2.0</td>\n      <td>3.0</td>\n      <td>1.0</td>\n      <td>2.0</td>\n      <td>1.0</td>\n      <td>1.0</td>\n      <td>1.0</td>\n      <td>1.0</td>\n      <td>1.0</td>\n      <td>2.0</td>\n      <td>...</td>\n      <td>1.0</td>\n      <td>0.0</td>\n      <td>0.0</td>\n      <td>1.0</td>\n      <td>1.0</td>\n      <td>1.0</td>\n      <td>0.0</td>\n      <td>1.0</td>\n      <td>1.0</td>\n      <td>0.0</td>\n    </tr>\n    <tr>\n      <th>PREDWELL_RETOS-307-1</th>\n      <td>1.0</td>\n      <td>3.0</td>\n      <td>3.0</td>\n      <td>1.0</td>\n      <td>3.0</td>\n      <td>3.0</td>\n      <td>3.0</td>\n      <td>3.0</td>\n      <td>2.0</td>\n      <td>3.0</td>\n      <td>...</td>\n      <td>1.0</td>\n      <td>1.0</td>\n      <td>0.0</td>\n      <td>1.0</td>\n      <td>0.0</td>\n      <td>1.0</td>\n      <td>0.0</td>\n      <td>0.0</td>\n      <td>1.0</td>\n      <td>0.0</td>\n    </tr>\n    <tr>\n      <th>PREDWELL_RETOS-307-3</th>\n      <td>1.0</td>\n      <td>3.0</td>\n      <td>3.0</td>\n      <td>1.0</td>\n      <td>3.0</td>\n      <td>3.0</td>\n      <td>3.0</td>\n      <td>3.0</td>\n      <td>2.0</td>\n      <td>3.0</td>\n      <td>...</td>\n      <td>NaN</td>\n      <td>NaN</td>\n      <td>NaN</td>\n      <td>NaN</td>\n      <td>NaN</td>\n      <td>NaN</td>\n      <td>NaN</td>\n      <td>NaN</td>\n      <td>NaN</td>\n      <td>NaN</td>\n    </tr>\n  </tbody>\n</table>\n<p>3 rows × 270 columns</p>\n</div>"
     },
     "execution_count": 87,
     "metadata": {},
     "output_type": "execute_result"
    }
   ],
   "source": [
    "RETOS_tasks_long[RETOS_tasks_long.isna().sum(axis=1) > 0]\n"
   ],
   "metadata": {
    "collapsed": false,
    "ExecuteTime": {
     "end_time": "2024-02-19T12:39:46.192661900Z",
     "start_time": "2024-02-19T12:39:45.901867600Z"
    }
   },
   "id": "4f291bbd48aa5c0b",
   "execution_count": 87
  },
  {
   "cell_type": "code",
   "outputs": [
    {
     "data": {
      "text/plain": "                      Rating0.RESP_1.0  Rating0.RESP_2.0  Rating0.RESP_3.0  \\\nDataFile.Basename                                                            \nPREDWELL_RETOS-307-1               1.0               3.0               3.0   \n\n                      Rating0.RESP_4.0  Rating0.RESP_5.0  Rating0.RESP_6.0  \\\nDataFile.Basename                                                            \nPREDWELL_RETOS-307-1               1.0               3.0               3.0   \n\n                      Rating0.RESP_7.0  Rating0.RESP_8.0  Rating0.RESP_9.0  \\\nDataFile.Basename                                                            \nPREDWELL_RETOS-307-1               3.0               3.0               2.0   \n\n                      Rating0.RESP_10.0  ...  Fulfilled_36.0  Fulfilled_37.0  \\\nDataFile.Basename                        ...                                   \nPREDWELL_RETOS-307-1                3.0  ...             1.0             1.0   \n\n                      Fulfilled_38.0  Fulfilled_39.0  Fulfilled_40.0  \\\nDataFile.Basename                                                      \nPREDWELL_RETOS-307-1             0.0             1.0             0.0   \n\n                      Fulfilled_41.0  Fulfilled_42.0  Fulfilled_43.0  \\\nDataFile.Basename                                                      \nPREDWELL_RETOS-307-1             1.0             0.0             0.0   \n\n                      Fulfilled_44.0  Fulfilled_45.0  \nDataFile.Basename                                     \nPREDWELL_RETOS-307-1             1.0             0.0  \n\n[1 rows x 270 columns]",
      "text/html": "<div>\n<style scoped>\n    .dataframe tbody tr th:only-of-type {\n        vertical-align: middle;\n    }\n\n    .dataframe tbody tr th {\n        vertical-align: top;\n    }\n\n    .dataframe thead th {\n        text-align: right;\n    }\n</style>\n<table border=\"1\" class=\"dataframe\">\n  <thead>\n    <tr style=\"text-align: right;\">\n      <th></th>\n      <th>Rating0.RESP_1.0</th>\n      <th>Rating0.RESP_2.0</th>\n      <th>Rating0.RESP_3.0</th>\n      <th>Rating0.RESP_4.0</th>\n      <th>Rating0.RESP_5.0</th>\n      <th>Rating0.RESP_6.0</th>\n      <th>Rating0.RESP_7.0</th>\n      <th>Rating0.RESP_8.0</th>\n      <th>Rating0.RESP_9.0</th>\n      <th>Rating0.RESP_10.0</th>\n      <th>...</th>\n      <th>Fulfilled_36.0</th>\n      <th>Fulfilled_37.0</th>\n      <th>Fulfilled_38.0</th>\n      <th>Fulfilled_39.0</th>\n      <th>Fulfilled_40.0</th>\n      <th>Fulfilled_41.0</th>\n      <th>Fulfilled_42.0</th>\n      <th>Fulfilled_43.0</th>\n      <th>Fulfilled_44.0</th>\n      <th>Fulfilled_45.0</th>\n    </tr>\n    <tr>\n      <th>DataFile.Basename</th>\n      <th></th>\n      <th></th>\n      <th></th>\n      <th></th>\n      <th></th>\n      <th></th>\n      <th></th>\n      <th></th>\n      <th></th>\n      <th></th>\n      <th></th>\n      <th></th>\n      <th></th>\n      <th></th>\n      <th></th>\n      <th></th>\n      <th></th>\n      <th></th>\n      <th></th>\n      <th></th>\n      <th></th>\n    </tr>\n  </thead>\n  <tbody>\n    <tr>\n      <th>PREDWELL_RETOS-307-1</th>\n      <td>1.0</td>\n      <td>3.0</td>\n      <td>3.0</td>\n      <td>1.0</td>\n      <td>3.0</td>\n      <td>3.0</td>\n      <td>3.0</td>\n      <td>3.0</td>\n      <td>2.0</td>\n      <td>3.0</td>\n      <td>...</td>\n      <td>1.0</td>\n      <td>1.0</td>\n      <td>0.0</td>\n      <td>1.0</td>\n      <td>0.0</td>\n      <td>1.0</td>\n      <td>0.0</td>\n      <td>0.0</td>\n      <td>1.0</td>\n      <td>0.0</td>\n    </tr>\n  </tbody>\n</table>\n<p>1 rows × 270 columns</p>\n</div>"
     },
     "execution_count": 88,
     "metadata": {},
     "output_type": "execute_result"
    }
   ],
   "source": [
    "RETOS_tasks_long = RETOS_tasks_long.query(\"index != 'PREDWELL_RETOS-307-3'\")\n",
    "\n",
    "#Eliminamos la fila excedente de la combinación.\n",
    "\n",
    "RETOS_tasks_long[RETOS_tasks_long.index == \"PREDWELL_RETOS-124-1\"] \n",
    "#Vemos que la evoked emotion es fear y la expression también, por lo tanto se corresponde a un match\n",
    "\n",
    "RETOS_tasks_long[RETOS_tasks_long.index == \"PREDWELL_RETOS-307-1\"] \n",
    "#Vemos que la evoked emotion es sadness y la expression es Happy, por lo tanto se corresponde a un non match\n"
   ],
   "metadata": {
    "collapsed": false,
    "ExecuteTime": {
     "end_time": "2024-02-19T12:39:46.306033900Z",
     "start_time": "2024-02-19T12:39:45.952386500Z"
    }
   },
   "id": "212a20ac7ac44fff",
   "execution_count": 88
  },
  {
   "cell_type": "code",
   "outputs": [
    {
     "data": {
      "text/plain": "                      Rating0.RESP_1.0  Rating0.RESP_2.0  Rating0.RESP_3.0  \\\nDataFile.Basename                                                            \nPREDWELL_RETOS-1-1                 1.0               3.0               4.0   \nPREDWELL_RETOS-10-1                4.0               2.0               2.0   \nPREDWELL_RETOS-101-1               2.0               3.0               3.0   \nPREDWELL_RETOS-102-1               1.0               1.0               2.0   \nPREDWELL_RETOS-103-1               3.0               1.0               2.0   \n...                                ...               ...               ...   \nPREDWELL_RETOS-5-1                 1.0               1.0               1.0   \nPREDWELL_RETOS-6-1                 2.0               3.0               1.0   \nPREDWELL_RETOS-7-1                 1.0               1.0               1.0   \nPREDWELL_RETOS-8-1                 2.0               3.0               3.0   \nPREDWELL_RETOS-9-1                 2.0               1.0               1.0   \n\n                      Rating0.RESP_4.0  Rating0.RESP_5.0  Rating0.RESP_6.0  \\\nDataFile.Basename                                                            \nPREDWELL_RETOS-1-1                 4.0               4.0               2.0   \nPREDWELL_RETOS-10-1                4.0               3.0               4.0   \nPREDWELL_RETOS-101-1               4.0               4.0               1.0   \nPREDWELL_RETOS-102-1               1.0               1.0               2.0   \nPREDWELL_RETOS-103-1               2.0               1.0               1.0   \n...                                ...               ...               ...   \nPREDWELL_RETOS-5-1                 4.0               2.0               3.0   \nPREDWELL_RETOS-6-1                 1.0               2.0               3.0   \nPREDWELL_RETOS-7-1                 3.0               3.0               1.0   \nPREDWELL_RETOS-8-1                 1.0               4.0               3.0   \nPREDWELL_RETOS-9-1                 4.0               1.0               1.0   \n\n                      Rating0.RESP_7.0  Rating0.RESP_8.0  Rating0.RESP_9.0  \\\nDataFile.Basename                                                            \nPREDWELL_RETOS-1-1                 1.0               4.0               4.0   \nPREDWELL_RETOS-10-1                3.0               1.0               1.0   \nPREDWELL_RETOS-101-1               1.0               4.0               3.0   \nPREDWELL_RETOS-102-1               2.0               1.0               1.0   \nPREDWELL_RETOS-103-1               3.0               1.0               2.0   \n...                                ...               ...               ...   \nPREDWELL_RETOS-5-1                 2.0               2.0               2.0   \nPREDWELL_RETOS-6-1                 2.0               2.0               1.0   \nPREDWELL_RETOS-7-1                 4.0               4.0               2.0   \nPREDWELL_RETOS-8-1                 1.0               3.0               4.0   \nPREDWELL_RETOS-9-1                 3.0               1.0               3.0   \n\n                      Rating0.RESP_10.0  ...  Fulfilled_36.0  Fulfilled_37.0  \\\nDataFile.Basename                        ...                                   \nPREDWELL_RETOS-1-1                  4.0  ...             1.0             0.0   \nPREDWELL_RETOS-10-1                 3.0  ...             0.0             0.0   \nPREDWELL_RETOS-101-1                1.0  ...             0.0             0.0   \nPREDWELL_RETOS-102-1                4.0  ...             0.0             0.0   \nPREDWELL_RETOS-103-1                1.0  ...             1.0             1.0   \n...                                 ...  ...             ...             ...   \nPREDWELL_RETOS-5-1                  4.0  ...             1.0             1.0   \nPREDWELL_RETOS-6-1                  2.0  ...             1.0             1.0   \nPREDWELL_RETOS-7-1                  1.0  ...             0.0             1.0   \nPREDWELL_RETOS-8-1                  4.0  ...             1.0             1.0   \nPREDWELL_RETOS-9-1                  1.0  ...             0.0             1.0   \n\n                      Fulfilled_38.0  Fulfilled_39.0  Fulfilled_40.0  \\\nDataFile.Basename                                                      \nPREDWELL_RETOS-1-1               1.0             1.0             1.0   \nPREDWELL_RETOS-10-1              1.0             1.0             0.0   \nPREDWELL_RETOS-101-1             1.0             1.0             1.0   \nPREDWELL_RETOS-102-1             1.0             1.0             1.0   \nPREDWELL_RETOS-103-1             0.0             1.0             0.0   \n...                              ...             ...             ...   \nPREDWELL_RETOS-5-1               0.0             0.0             1.0   \nPREDWELL_RETOS-6-1               0.0             1.0             1.0   \nPREDWELL_RETOS-7-1               1.0             1.0             1.0   \nPREDWELL_RETOS-8-1               1.0             1.0             0.0   \nPREDWELL_RETOS-9-1               0.0             1.0             0.0   \n\n                      Fulfilled_41.0  Fulfilled_42.0  Fulfilled_43.0  \\\nDataFile.Basename                                                      \nPREDWELL_RETOS-1-1               0.0             1.0             0.0   \nPREDWELL_RETOS-10-1              1.0             1.0             0.0   \nPREDWELL_RETOS-101-1             0.0             0.0             1.0   \nPREDWELL_RETOS-102-1             0.0             0.0             1.0   \nPREDWELL_RETOS-103-1             0.0             0.0             0.0   \n...                              ...             ...             ...   \nPREDWELL_RETOS-5-1               1.0             1.0             0.0   \nPREDWELL_RETOS-6-1               0.0             1.0             1.0   \nPREDWELL_RETOS-7-1               0.0             1.0             0.0   \nPREDWELL_RETOS-8-1               1.0             0.0             1.0   \nPREDWELL_RETOS-9-1               1.0             0.0             1.0   \n\n                      Fulfilled_44.0  Fulfilled_45.0  \nDataFile.Basename                                     \nPREDWELL_RETOS-1-1               1.0             1.0  \nPREDWELL_RETOS-10-1              1.0             0.0  \nPREDWELL_RETOS-101-1             1.0             1.0  \nPREDWELL_RETOS-102-1             1.0             1.0  \nPREDWELL_RETOS-103-1             1.0             1.0  \n...                              ...             ...  \nPREDWELL_RETOS-5-1               1.0             1.0  \nPREDWELL_RETOS-6-1               1.0             1.0  \nPREDWELL_RETOS-7-1               1.0             1.0  \nPREDWELL_RETOS-8-1               1.0             1.0  \nPREDWELL_RETOS-9-1               0.0             1.0  \n\n[95 rows x 270 columns]",
      "text/html": "<div>\n<style scoped>\n    .dataframe tbody tr th:only-of-type {\n        vertical-align: middle;\n    }\n\n    .dataframe tbody tr th {\n        vertical-align: top;\n    }\n\n    .dataframe thead th {\n        text-align: right;\n    }\n</style>\n<table border=\"1\" class=\"dataframe\">\n  <thead>\n    <tr style=\"text-align: right;\">\n      <th></th>\n      <th>Rating0.RESP_1.0</th>\n      <th>Rating0.RESP_2.0</th>\n      <th>Rating0.RESP_3.0</th>\n      <th>Rating0.RESP_4.0</th>\n      <th>Rating0.RESP_5.0</th>\n      <th>Rating0.RESP_6.0</th>\n      <th>Rating0.RESP_7.0</th>\n      <th>Rating0.RESP_8.0</th>\n      <th>Rating0.RESP_9.0</th>\n      <th>Rating0.RESP_10.0</th>\n      <th>...</th>\n      <th>Fulfilled_36.0</th>\n      <th>Fulfilled_37.0</th>\n      <th>Fulfilled_38.0</th>\n      <th>Fulfilled_39.0</th>\n      <th>Fulfilled_40.0</th>\n      <th>Fulfilled_41.0</th>\n      <th>Fulfilled_42.0</th>\n      <th>Fulfilled_43.0</th>\n      <th>Fulfilled_44.0</th>\n      <th>Fulfilled_45.0</th>\n    </tr>\n    <tr>\n      <th>DataFile.Basename</th>\n      <th></th>\n      <th></th>\n      <th></th>\n      <th></th>\n      <th></th>\n      <th></th>\n      <th></th>\n      <th></th>\n      <th></th>\n      <th></th>\n      <th></th>\n      <th></th>\n      <th></th>\n      <th></th>\n      <th></th>\n      <th></th>\n      <th></th>\n      <th></th>\n      <th></th>\n      <th></th>\n      <th></th>\n    </tr>\n  </thead>\n  <tbody>\n    <tr>\n      <th>PREDWELL_RETOS-1-1</th>\n      <td>1.0</td>\n      <td>3.0</td>\n      <td>4.0</td>\n      <td>4.0</td>\n      <td>4.0</td>\n      <td>2.0</td>\n      <td>1.0</td>\n      <td>4.0</td>\n      <td>4.0</td>\n      <td>4.0</td>\n      <td>...</td>\n      <td>1.0</td>\n      <td>0.0</td>\n      <td>1.0</td>\n      <td>1.0</td>\n      <td>1.0</td>\n      <td>0.0</td>\n      <td>1.0</td>\n      <td>0.0</td>\n      <td>1.0</td>\n      <td>1.0</td>\n    </tr>\n    <tr>\n      <th>PREDWELL_RETOS-10-1</th>\n      <td>4.0</td>\n      <td>2.0</td>\n      <td>2.0</td>\n      <td>4.0</td>\n      <td>3.0</td>\n      <td>4.0</td>\n      <td>3.0</td>\n      <td>1.0</td>\n      <td>1.0</td>\n      <td>3.0</td>\n      <td>...</td>\n      <td>0.0</td>\n      <td>0.0</td>\n      <td>1.0</td>\n      <td>1.0</td>\n      <td>0.0</td>\n      <td>1.0</td>\n      <td>1.0</td>\n      <td>0.0</td>\n      <td>1.0</td>\n      <td>0.0</td>\n    </tr>\n    <tr>\n      <th>PREDWELL_RETOS-101-1</th>\n      <td>2.0</td>\n      <td>3.0</td>\n      <td>3.0</td>\n      <td>4.0</td>\n      <td>4.0</td>\n      <td>1.0</td>\n      <td>1.0</td>\n      <td>4.0</td>\n      <td>3.0</td>\n      <td>1.0</td>\n      <td>...</td>\n      <td>0.0</td>\n      <td>0.0</td>\n      <td>1.0</td>\n      <td>1.0</td>\n      <td>1.0</td>\n      <td>0.0</td>\n      <td>0.0</td>\n      <td>1.0</td>\n      <td>1.0</td>\n      <td>1.0</td>\n    </tr>\n    <tr>\n      <th>PREDWELL_RETOS-102-1</th>\n      <td>1.0</td>\n      <td>1.0</td>\n      <td>2.0</td>\n      <td>1.0</td>\n      <td>1.0</td>\n      <td>2.0</td>\n      <td>2.0</td>\n      <td>1.0</td>\n      <td>1.0</td>\n      <td>4.0</td>\n      <td>...</td>\n      <td>0.0</td>\n      <td>0.0</td>\n      <td>1.0</td>\n      <td>1.0</td>\n      <td>1.0</td>\n      <td>0.0</td>\n      <td>0.0</td>\n      <td>1.0</td>\n      <td>1.0</td>\n      <td>1.0</td>\n    </tr>\n    <tr>\n      <th>PREDWELL_RETOS-103-1</th>\n      <td>3.0</td>\n      <td>1.0</td>\n      <td>2.0</td>\n      <td>2.0</td>\n      <td>1.0</td>\n      <td>1.0</td>\n      <td>3.0</td>\n      <td>1.0</td>\n      <td>2.0</td>\n      <td>1.0</td>\n      <td>...</td>\n      <td>1.0</td>\n      <td>1.0</td>\n      <td>0.0</td>\n      <td>1.0</td>\n      <td>0.0</td>\n      <td>0.0</td>\n      <td>0.0</td>\n      <td>0.0</td>\n      <td>1.0</td>\n      <td>1.0</td>\n    </tr>\n    <tr>\n      <th>...</th>\n      <td>...</td>\n      <td>...</td>\n      <td>...</td>\n      <td>...</td>\n      <td>...</td>\n      <td>...</td>\n      <td>...</td>\n      <td>...</td>\n      <td>...</td>\n      <td>...</td>\n      <td>...</td>\n      <td>...</td>\n      <td>...</td>\n      <td>...</td>\n      <td>...</td>\n      <td>...</td>\n      <td>...</td>\n      <td>...</td>\n      <td>...</td>\n      <td>...</td>\n      <td>...</td>\n    </tr>\n    <tr>\n      <th>PREDWELL_RETOS-5-1</th>\n      <td>1.0</td>\n      <td>1.0</td>\n      <td>1.0</td>\n      <td>4.0</td>\n      <td>2.0</td>\n      <td>3.0</td>\n      <td>2.0</td>\n      <td>2.0</td>\n      <td>2.0</td>\n      <td>4.0</td>\n      <td>...</td>\n      <td>1.0</td>\n      <td>1.0</td>\n      <td>0.0</td>\n      <td>0.0</td>\n      <td>1.0</td>\n      <td>1.0</td>\n      <td>1.0</td>\n      <td>0.0</td>\n      <td>1.0</td>\n      <td>1.0</td>\n    </tr>\n    <tr>\n      <th>PREDWELL_RETOS-6-1</th>\n      <td>2.0</td>\n      <td>3.0</td>\n      <td>1.0</td>\n      <td>1.0</td>\n      <td>2.0</td>\n      <td>3.0</td>\n      <td>2.0</td>\n      <td>2.0</td>\n      <td>1.0</td>\n      <td>2.0</td>\n      <td>...</td>\n      <td>1.0</td>\n      <td>1.0</td>\n      <td>0.0</td>\n      <td>1.0</td>\n      <td>1.0</td>\n      <td>0.0</td>\n      <td>1.0</td>\n      <td>1.0</td>\n      <td>1.0</td>\n      <td>1.0</td>\n    </tr>\n    <tr>\n      <th>PREDWELL_RETOS-7-1</th>\n      <td>1.0</td>\n      <td>1.0</td>\n      <td>1.0</td>\n      <td>3.0</td>\n      <td>3.0</td>\n      <td>1.0</td>\n      <td>4.0</td>\n      <td>4.0</td>\n      <td>2.0</td>\n      <td>1.0</td>\n      <td>...</td>\n      <td>0.0</td>\n      <td>1.0</td>\n      <td>1.0</td>\n      <td>1.0</td>\n      <td>1.0</td>\n      <td>0.0</td>\n      <td>1.0</td>\n      <td>0.0</td>\n      <td>1.0</td>\n      <td>1.0</td>\n    </tr>\n    <tr>\n      <th>PREDWELL_RETOS-8-1</th>\n      <td>2.0</td>\n      <td>3.0</td>\n      <td>3.0</td>\n      <td>1.0</td>\n      <td>4.0</td>\n      <td>3.0</td>\n      <td>1.0</td>\n      <td>3.0</td>\n      <td>4.0</td>\n      <td>4.0</td>\n      <td>...</td>\n      <td>1.0</td>\n      <td>1.0</td>\n      <td>1.0</td>\n      <td>1.0</td>\n      <td>0.0</td>\n      <td>1.0</td>\n      <td>0.0</td>\n      <td>1.0</td>\n      <td>1.0</td>\n      <td>1.0</td>\n    </tr>\n    <tr>\n      <th>PREDWELL_RETOS-9-1</th>\n      <td>2.0</td>\n      <td>1.0</td>\n      <td>1.0</td>\n      <td>4.0</td>\n      <td>1.0</td>\n      <td>1.0</td>\n      <td>3.0</td>\n      <td>1.0</td>\n      <td>3.0</td>\n      <td>1.0</td>\n      <td>...</td>\n      <td>0.0</td>\n      <td>1.0</td>\n      <td>0.0</td>\n      <td>1.0</td>\n      <td>0.0</td>\n      <td>1.0</td>\n      <td>0.0</td>\n      <td>1.0</td>\n      <td>0.0</td>\n      <td>1.0</td>\n    </tr>\n  </tbody>\n</table>\n<p>95 rows × 270 columns</p>\n</div>"
     },
     "execution_count": 89,
     "metadata": {},
     "output_type": "execute_result"
    }
   ],
   "source": [
    "RETOS_tasks_long"
   ],
   "metadata": {
    "collapsed": false,
    "ExecuteTime": {
     "end_time": "2024-02-19T12:39:46.409931400Z",
     "start_time": "2024-02-19T12:39:45.989386900Z"
    }
   },
   "id": "2dce5de011cc82db",
   "execution_count": 89
  },
  {
   "cell_type": "code",
   "outputs": [],
   "source": [
    "rating0_list_124 = []\n",
    "rating_list_124 = []\n",
    "\n",
    "rating0_list_307 = []\n",
    "rating_list_307 = []\n",
    "\n",
    "for i in range(1,46):\n",
    "        rating0 = f'Rating0.RESP_{i}.0'\n",
    "        rating = f'Rating.RESP_{i}.0'\n",
    "        emotion = f'EvokedEmotion_{i}.0'\n",
    "        fulfill = f'Fulfilled_{i}.0'\n",
    "        \n",
    "        if RETOS_tasks_long[RETOS_tasks_long.index == \"PREDWELL_RETOS-124-1\"][emotion].values[0] == \"fear\" and RETOS_tasks_long[RETOS_tasks_long.index == \"PREDWELL_RETOS-124-1\"][fulfill].values[0] == 1 and i!=20:\n",
    "            rating0_list_124.append(RETOS_tasks_long[RETOS_tasks_long.index == \"PREDWELL_RETOS-307-1\"][rating0].values[0])\n",
    "\n",
    "            rating_list_124.append(RETOS_tasks_long[RETOS_tasks_long.index == \"PREDWELL_RETOS-307-1\"][rating].values[0])\n",
    "        \n",
    "        if RETOS_tasks_long[RETOS_tasks_long.index == \"PREDWELL_RETOS-307-1\"][emotion].values[0] == \"sadness\" and RETOS_tasks_long[RETOS_tasks_long.index == \"PREDWELL_RETOS-307-1\"][fulfill].values[0] == 0 and i!=18:\n",
    "            rating0_list_307.append(RETOS_tasks_long[RETOS_tasks_long.index == \"PREDWELL_RETOS-307-1\"][rating0].values[0])\n",
    "\n",
    "            rating_list_307.append(RETOS_tasks_long[RETOS_tasks_long.index == \"PREDWELL_RETOS-307-1\"][rating].values[0])\n",
    "\n",
    "        \n",
    "\n",
    "RETOS_tasks_long.loc[RETOS_tasks_long.index == \"PREDWELL_RETOS-124-1\", \"Rating.RESP_20.0\"] = statistics.multimode(rating_list_124)[0]\n",
    "RETOS_tasks_long.loc[RETOS_tasks_long.index == \"PREDWELL_RETOS-124-1\", \"Rating0.RESP_20.0\"] = statistics.multimode(rating0_list_124)[0]\n",
    "RETOS_tasks_long.loc[RETOS_tasks_long.index == \"PREDWELL_RETOS-307-1\", \"Rating.RESP_18.0\"] = statistics.multimode(rating_list_307)[0]\n",
    "RETOS_tasks_long.loc[RETOS_tasks_long.index == \"PREDWELL_RETOS-307-1\", \"Rating0.RESP_18.0\"] = statistics.multimode(rating0_list_307)[0]\n"
   ],
   "metadata": {
    "collapsed": false,
    "ExecuteTime": {
     "end_time": "2024-02-19T12:39:46.437944Z",
     "start_time": "2024-02-19T12:39:46.026387Z"
    }
   },
   "id": "b59443015fe4526",
   "execution_count": 90
  },
  {
   "cell_type": "code",
   "outputs": [],
   "source": [
    "RETOS_tasks_long = RETOS_tasks_long.query(\"index != 'PREDWELL_RETOS-307-1'\")\n"
   ],
   "metadata": {
    "collapsed": false,
    "ExecuteTime": {
     "end_time": "2024-02-19T12:39:46.469462100Z",
     "start_time": "2024-02-19T12:39:46.081107900Z"
    }
   },
   "id": "a93b581636139db9",
   "execution_count": 91
  },
  {
   "cell_type": "code",
   "outputs": [],
   "source": [
    "subject_dict_RETOS = creation_dictionary_from_df(RETOS_tasks_long,len(RETOS_tasks_long))\n",
    "Rating0_RETOS_counts = creation_count_df(subject_dict_RETOS, \"Rating0\")\n",
    "Rating_RETOS_counts = creation_count_df(subject_dict_RETOS, \"Rating\")\n",
    "\n"
   ],
   "metadata": {
    "collapsed": false,
    "ExecuteTime": {
     "end_time": "2024-02-19T12:39:46.570769800Z",
     "start_time": "2024-02-19T12:39:46.287170300Z"
    }
   },
   "id": "5100dee647a44701",
   "execution_count": 92
  },
  {
   "cell_type": "code",
   "outputs": [
    {
     "data": {
      "text/plain": "              Subject Emotion  Match  Score  Count\n0  PREDWELL_RETOS-1-1   Happy      1      1      0\n1  PREDWELL_RETOS-1-1   Happy      1      2      0\n2  PREDWELL_RETOS-1-1   Happy      1      3      1\n3  PREDWELL_RETOS-1-1   Happy      1      4      8\n4  PREDWELL_RETOS-1-1   Happy      0      1      5",
      "text/html": "<div>\n<style scoped>\n    .dataframe tbody tr th:only-of-type {\n        vertical-align: middle;\n    }\n\n    .dataframe tbody tr th {\n        vertical-align: top;\n    }\n\n    .dataframe thead th {\n        text-align: right;\n    }\n</style>\n<table border=\"1\" class=\"dataframe\">\n  <thead>\n    <tr style=\"text-align: right;\">\n      <th></th>\n      <th>Subject</th>\n      <th>Emotion</th>\n      <th>Match</th>\n      <th>Score</th>\n      <th>Count</th>\n    </tr>\n  </thead>\n  <tbody>\n    <tr>\n      <th>0</th>\n      <td>PREDWELL_RETOS-1-1</td>\n      <td>Happy</td>\n      <td>1</td>\n      <td>1</td>\n      <td>0</td>\n    </tr>\n    <tr>\n      <th>1</th>\n      <td>PREDWELL_RETOS-1-1</td>\n      <td>Happy</td>\n      <td>1</td>\n      <td>2</td>\n      <td>0</td>\n    </tr>\n    <tr>\n      <th>2</th>\n      <td>PREDWELL_RETOS-1-1</td>\n      <td>Happy</td>\n      <td>1</td>\n      <td>3</td>\n      <td>1</td>\n    </tr>\n    <tr>\n      <th>3</th>\n      <td>PREDWELL_RETOS-1-1</td>\n      <td>Happy</td>\n      <td>1</td>\n      <td>4</td>\n      <td>8</td>\n    </tr>\n    <tr>\n      <th>4</th>\n      <td>PREDWELL_RETOS-1-1</td>\n      <td>Happy</td>\n      <td>0</td>\n      <td>1</td>\n      <td>5</td>\n    </tr>\n  </tbody>\n</table>\n</div>"
     },
     "execution_count": 93,
     "metadata": {},
     "output_type": "execute_result"
    }
   ],
   "source": [
    "Rating0_RETOS_counts.head(5)\n"
   ],
   "metadata": {
    "collapsed": false,
    "ExecuteTime": {
     "end_time": "2024-02-19T12:39:46.609765500Z",
     "start_time": "2024-02-19T12:39:46.316412100Z"
    }
   },
   "id": "ebd6c2ab11b5904f",
   "execution_count": 93
  },
  {
   "cell_type": "code",
   "outputs": [
    {
     "data": {
      "text/plain": "              Subject Emotion  Match  Score  Count\n0  PREDWELL_RETOS-1-1   Happy      1      1      0\n1  PREDWELL_RETOS-1-1   Happy      1      2      0\n2  PREDWELL_RETOS-1-1   Happy      1      3      3\n3  PREDWELL_RETOS-1-1   Happy      1      4      6\n4  PREDWELL_RETOS-1-1   Happy      0      1      0",
      "text/html": "<div>\n<style scoped>\n    .dataframe tbody tr th:only-of-type {\n        vertical-align: middle;\n    }\n\n    .dataframe tbody tr th {\n        vertical-align: top;\n    }\n\n    .dataframe thead th {\n        text-align: right;\n    }\n</style>\n<table border=\"1\" class=\"dataframe\">\n  <thead>\n    <tr style=\"text-align: right;\">\n      <th></th>\n      <th>Subject</th>\n      <th>Emotion</th>\n      <th>Match</th>\n      <th>Score</th>\n      <th>Count</th>\n    </tr>\n  </thead>\n  <tbody>\n    <tr>\n      <th>0</th>\n      <td>PREDWELL_RETOS-1-1</td>\n      <td>Happy</td>\n      <td>1</td>\n      <td>1</td>\n      <td>0</td>\n    </tr>\n    <tr>\n      <th>1</th>\n      <td>PREDWELL_RETOS-1-1</td>\n      <td>Happy</td>\n      <td>1</td>\n      <td>2</td>\n      <td>0</td>\n    </tr>\n    <tr>\n      <th>2</th>\n      <td>PREDWELL_RETOS-1-1</td>\n      <td>Happy</td>\n      <td>1</td>\n      <td>3</td>\n      <td>3</td>\n    </tr>\n    <tr>\n      <th>3</th>\n      <td>PREDWELL_RETOS-1-1</td>\n      <td>Happy</td>\n      <td>1</td>\n      <td>4</td>\n      <td>6</td>\n    </tr>\n    <tr>\n      <th>4</th>\n      <td>PREDWELL_RETOS-1-1</td>\n      <td>Happy</td>\n      <td>0</td>\n      <td>1</td>\n      <td>0</td>\n    </tr>\n  </tbody>\n</table>\n</div>"
     },
     "execution_count": 94,
     "metadata": {},
     "output_type": "execute_result"
    }
   ],
   "source": [
    "Rating_RETOS_counts.head(5)\n"
   ],
   "metadata": {
    "collapsed": false,
    "ExecuteTime": {
     "end_time": "2024-02-19T12:39:46.691304600Z",
     "start_time": "2024-02-19T12:39:46.325412500Z"
    }
   },
   "id": "56b48f33e091c1b",
   "execution_count": 94
  },
  {
   "cell_type": "markdown",
   "source": [],
   "metadata": {
    "collapsed": false
   },
   "id": "2355c85292b726b1"
  },
  {
   "cell_type": "code",
   "outputs": [
    {
     "data": {
      "text/plain": "                Subject  Count_Happy_1_1  Count_Happy_1_2  Count_Happy_1_3  \\\n0    PREDWELL_RETOS-1-1                0                0                1   \n1   PREDWELL_RETOS-10-1                0                1                4   \n2  PREDWELL_RETOS-101-1                0                1                2   \n3  PREDWELL_RETOS-102-1                1                0                4   \n4  PREDWELL_RETOS-103-1                0                1                1   \n\n   Count_Happy_1_4  Count_Happy_0_1  Count_Happy_0_2  Count_Happy_0_3  \\\n0                8                5                0                0   \n1                4                4                2                0   \n2                6                5                1                0   \n3                4                6                0                0   \n4                7                5                1                0   \n\n   Count_Happy_0_4  Count_Sad_1_1  ...  Count_Sad_0_3  Count_Sad_0_4  \\\n0                1              0  ...              2              1   \n1                0              0  ...              1              0   \n2                0              1  ...              1              0   \n3                0              1  ...              0              3   \n4                0              0  ...              1              0   \n\n   Count_Fear_1_1  Count_Fear_1_2  Count_Fear_1_3  Count_Fear_1_4  \\\n0               0               3               1               5   \n1               1               1               3               4   \n2               2               1               3               3   \n3               0               2               3               4   \n4               3               2               3               1   \n\n   Count_Fear_0_1  Count_Fear_0_2  Count_Fear_0_3  Count_Fear_0_4  \n0               3               1               1               1  \n1               1               3               1               1  \n2               5               1               0               0  \n3               4               2               0               0  \n4               3               2               1               0  \n\n[5 rows x 25 columns]",
      "text/html": "<div>\n<style scoped>\n    .dataframe tbody tr th:only-of-type {\n        vertical-align: middle;\n    }\n\n    .dataframe tbody tr th {\n        vertical-align: top;\n    }\n\n    .dataframe thead th {\n        text-align: right;\n    }\n</style>\n<table border=\"1\" class=\"dataframe\">\n  <thead>\n    <tr style=\"text-align: right;\">\n      <th></th>\n      <th>Subject</th>\n      <th>Count_Happy_1_1</th>\n      <th>Count_Happy_1_2</th>\n      <th>Count_Happy_1_3</th>\n      <th>Count_Happy_1_4</th>\n      <th>Count_Happy_0_1</th>\n      <th>Count_Happy_0_2</th>\n      <th>Count_Happy_0_3</th>\n      <th>Count_Happy_0_4</th>\n      <th>Count_Sad_1_1</th>\n      <th>...</th>\n      <th>Count_Sad_0_3</th>\n      <th>Count_Sad_0_4</th>\n      <th>Count_Fear_1_1</th>\n      <th>Count_Fear_1_2</th>\n      <th>Count_Fear_1_3</th>\n      <th>Count_Fear_1_4</th>\n      <th>Count_Fear_0_1</th>\n      <th>Count_Fear_0_2</th>\n      <th>Count_Fear_0_3</th>\n      <th>Count_Fear_0_4</th>\n    </tr>\n  </thead>\n  <tbody>\n    <tr>\n      <th>0</th>\n      <td>PREDWELL_RETOS-1-1</td>\n      <td>0</td>\n      <td>0</td>\n      <td>1</td>\n      <td>8</td>\n      <td>5</td>\n      <td>0</td>\n      <td>0</td>\n      <td>1</td>\n      <td>0</td>\n      <td>...</td>\n      <td>2</td>\n      <td>1</td>\n      <td>0</td>\n      <td>3</td>\n      <td>1</td>\n      <td>5</td>\n      <td>3</td>\n      <td>1</td>\n      <td>1</td>\n      <td>1</td>\n    </tr>\n    <tr>\n      <th>1</th>\n      <td>PREDWELL_RETOS-10-1</td>\n      <td>0</td>\n      <td>1</td>\n      <td>4</td>\n      <td>4</td>\n      <td>4</td>\n      <td>2</td>\n      <td>0</td>\n      <td>0</td>\n      <td>0</td>\n      <td>...</td>\n      <td>1</td>\n      <td>0</td>\n      <td>1</td>\n      <td>1</td>\n      <td>3</td>\n      <td>4</td>\n      <td>1</td>\n      <td>3</td>\n      <td>1</td>\n      <td>1</td>\n    </tr>\n    <tr>\n      <th>2</th>\n      <td>PREDWELL_RETOS-101-1</td>\n      <td>0</td>\n      <td>1</td>\n      <td>2</td>\n      <td>6</td>\n      <td>5</td>\n      <td>1</td>\n      <td>0</td>\n      <td>0</td>\n      <td>1</td>\n      <td>...</td>\n      <td>1</td>\n      <td>0</td>\n      <td>2</td>\n      <td>1</td>\n      <td>3</td>\n      <td>3</td>\n      <td>5</td>\n      <td>1</td>\n      <td>0</td>\n      <td>0</td>\n    </tr>\n    <tr>\n      <th>3</th>\n      <td>PREDWELL_RETOS-102-1</td>\n      <td>1</td>\n      <td>0</td>\n      <td>4</td>\n      <td>4</td>\n      <td>6</td>\n      <td>0</td>\n      <td>0</td>\n      <td>0</td>\n      <td>1</td>\n      <td>...</td>\n      <td>0</td>\n      <td>3</td>\n      <td>0</td>\n      <td>2</td>\n      <td>3</td>\n      <td>4</td>\n      <td>4</td>\n      <td>2</td>\n      <td>0</td>\n      <td>0</td>\n    </tr>\n    <tr>\n      <th>4</th>\n      <td>PREDWELL_RETOS-103-1</td>\n      <td>0</td>\n      <td>1</td>\n      <td>1</td>\n      <td>7</td>\n      <td>5</td>\n      <td>1</td>\n      <td>0</td>\n      <td>0</td>\n      <td>0</td>\n      <td>...</td>\n      <td>1</td>\n      <td>0</td>\n      <td>3</td>\n      <td>2</td>\n      <td>3</td>\n      <td>1</td>\n      <td>3</td>\n      <td>2</td>\n      <td>1</td>\n      <td>0</td>\n    </tr>\n  </tbody>\n</table>\n<p>5 rows × 25 columns</p>\n</div>"
     },
     "execution_count": 95,
     "metadata": {},
     "output_type": "execute_result"
    }
   ],
   "source": [
    "multiindex_Rating0 = Rating0_RETOS_counts.set_index(['Subject', 'Emotion', 'Match', 'Score'])\n",
    "Rating0_RETOS_df = multiindex_Rating0.unstack(level=['Emotion', 'Match', 'Score'])\n",
    "Rating0_RETOS_df.columns = ['_'.join(map(str, col)).strip() for col in Rating0_RETOS_df.columns.values]\n",
    "Rating0_RETOS_df = Rating0_RETOS_df.reset_index()\n",
    "\n",
    "#Modificamos el Dataset de manera que cada fila represente completamente un sujeto con toda la información referente a sus ratings.\n",
    "Rating0_RETOS_df.to_excel('../Clustering_Predictive_Processing/RETOS_Rating0_count.xlsx', index=False) \n",
    "Rating0_RETOS_df.head(5)\n"
   ],
   "metadata": {
    "collapsed": false,
    "ExecuteTime": {
     "end_time": "2024-02-19T12:39:46.818242500Z",
     "start_time": "2024-02-19T12:39:46.345925700Z"
    }
   },
   "id": "d03126c437cce486",
   "execution_count": 95
  },
  {
   "cell_type": "code",
   "outputs": [
    {
     "data": {
      "text/plain": "                Subject  Count_Happy_1_1  Count_Happy_1_2  Count_Happy_1_3  \\\n0    PREDWELL_RETOS-1-1                0                0                1   \n1   PREDWELL_RETOS-10-1                0                1                4   \n2  PREDWELL_RETOS-101-1                0                1                2   \n3  PREDWELL_RETOS-102-1                1                0                4   \n4  PREDWELL_RETOS-103-1                0                1                1   \n\n   Count_Happy_1_4  Count_Happy_0_1  Count_Happy_0_2  Count_Happy_0_3  \\\n0                8                5                0                0   \n1                4                4                2                0   \n2                6                5                1                0   \n3                4                6                0                0   \n4                7                5                1                0   \n\n   Count_Happy_0_4  Count_Sad_1_1  ...  Count_Sad_0_3  Count_Sad_0_4  \\\n0                1              0  ...              2              1   \n1                0              0  ...              1              0   \n2                0              1  ...              1              0   \n3                0              1  ...              0              3   \n4                0              0  ...              1              0   \n\n   Count_Fear_1_1  Count_Fear_1_2  Count_Fear_1_3  Count_Fear_1_4  \\\n0               0               3               1               5   \n1               1               1               3               4   \n2               2               1               3               3   \n3               0               2               3               4   \n4               3               2               3               1   \n\n   Count_Fear_0_1  Count_Fear_0_2  Count_Fear_0_3  Count_Fear_0_4  \n0               3               1               1               1  \n1               1               3               1               1  \n2               5               1               0               0  \n3               4               2               0               0  \n4               3               2               1               0  \n\n[5 rows x 25 columns]",
      "text/html": "<div>\n<style scoped>\n    .dataframe tbody tr th:only-of-type {\n        vertical-align: middle;\n    }\n\n    .dataframe tbody tr th {\n        vertical-align: top;\n    }\n\n    .dataframe thead th {\n        text-align: right;\n    }\n</style>\n<table border=\"1\" class=\"dataframe\">\n  <thead>\n    <tr style=\"text-align: right;\">\n      <th></th>\n      <th>Subject</th>\n      <th>Count_Happy_1_1</th>\n      <th>Count_Happy_1_2</th>\n      <th>Count_Happy_1_3</th>\n      <th>Count_Happy_1_4</th>\n      <th>Count_Happy_0_1</th>\n      <th>Count_Happy_0_2</th>\n      <th>Count_Happy_0_3</th>\n      <th>Count_Happy_0_4</th>\n      <th>Count_Sad_1_1</th>\n      <th>...</th>\n      <th>Count_Sad_0_3</th>\n      <th>Count_Sad_0_4</th>\n      <th>Count_Fear_1_1</th>\n      <th>Count_Fear_1_2</th>\n      <th>Count_Fear_1_3</th>\n      <th>Count_Fear_1_4</th>\n      <th>Count_Fear_0_1</th>\n      <th>Count_Fear_0_2</th>\n      <th>Count_Fear_0_3</th>\n      <th>Count_Fear_0_4</th>\n    </tr>\n  </thead>\n  <tbody>\n    <tr>\n      <th>0</th>\n      <td>PREDWELL_RETOS-1-1</td>\n      <td>0</td>\n      <td>0</td>\n      <td>1</td>\n      <td>8</td>\n      <td>5</td>\n      <td>0</td>\n      <td>0</td>\n      <td>1</td>\n      <td>0</td>\n      <td>...</td>\n      <td>2</td>\n      <td>1</td>\n      <td>0</td>\n      <td>3</td>\n      <td>1</td>\n      <td>5</td>\n      <td>3</td>\n      <td>1</td>\n      <td>1</td>\n      <td>1</td>\n    </tr>\n    <tr>\n      <th>1</th>\n      <td>PREDWELL_RETOS-10-1</td>\n      <td>0</td>\n      <td>1</td>\n      <td>4</td>\n      <td>4</td>\n      <td>4</td>\n      <td>2</td>\n      <td>0</td>\n      <td>0</td>\n      <td>0</td>\n      <td>...</td>\n      <td>1</td>\n      <td>0</td>\n      <td>1</td>\n      <td>1</td>\n      <td>3</td>\n      <td>4</td>\n      <td>1</td>\n      <td>3</td>\n      <td>1</td>\n      <td>1</td>\n    </tr>\n    <tr>\n      <th>2</th>\n      <td>PREDWELL_RETOS-101-1</td>\n      <td>0</td>\n      <td>1</td>\n      <td>2</td>\n      <td>6</td>\n      <td>5</td>\n      <td>1</td>\n      <td>0</td>\n      <td>0</td>\n      <td>1</td>\n      <td>...</td>\n      <td>1</td>\n      <td>0</td>\n      <td>2</td>\n      <td>1</td>\n      <td>3</td>\n      <td>3</td>\n      <td>5</td>\n      <td>1</td>\n      <td>0</td>\n      <td>0</td>\n    </tr>\n    <tr>\n      <th>3</th>\n      <td>PREDWELL_RETOS-102-1</td>\n      <td>1</td>\n      <td>0</td>\n      <td>4</td>\n      <td>4</td>\n      <td>6</td>\n      <td>0</td>\n      <td>0</td>\n      <td>0</td>\n      <td>1</td>\n      <td>...</td>\n      <td>0</td>\n      <td>3</td>\n      <td>0</td>\n      <td>2</td>\n      <td>3</td>\n      <td>4</td>\n      <td>4</td>\n      <td>2</td>\n      <td>0</td>\n      <td>0</td>\n    </tr>\n    <tr>\n      <th>4</th>\n      <td>PREDWELL_RETOS-103-1</td>\n      <td>0</td>\n      <td>1</td>\n      <td>1</td>\n      <td>7</td>\n      <td>5</td>\n      <td>1</td>\n      <td>0</td>\n      <td>0</td>\n      <td>0</td>\n      <td>...</td>\n      <td>1</td>\n      <td>0</td>\n      <td>3</td>\n      <td>2</td>\n      <td>3</td>\n      <td>1</td>\n      <td>3</td>\n      <td>2</td>\n      <td>1</td>\n      <td>0</td>\n    </tr>\n  </tbody>\n</table>\n<p>5 rows × 25 columns</p>\n</div>"
     },
     "execution_count": 96,
     "metadata": {},
     "output_type": "execute_result"
    }
   ],
   "source": [
    "multiindex_Rating = Rating0_RETOS_counts.set_index(['Subject', 'Emotion', 'Match', 'Score'])\n",
    "Rating_RETOS_df = multiindex_Rating.unstack(level=['Emotion', 'Match', 'Score'])\n",
    "Rating_RETOS_df.columns = ['_'.join(map(str, col)).strip() for col in Rating_RETOS_df.columns.values]\n",
    "Rating_RETOS_df = Rating_RETOS_df.reset_index()\n",
    "\n",
    "#Modificamos el Dataset de manera que cada fila represente completamente un sujeto con toda la información referente a sus ratings.\n",
    "Rating_RETOS_df.to_excel('../Clustering_Predictive_Processing/RETOS_Rating_count.xlsx', index=False) \n",
    "Rating_RETOS_df.head(5)\n"
   ],
   "metadata": {
    "collapsed": false,
    "ExecuteTime": {
     "end_time": "2024-02-19T12:39:46.878756600Z",
     "start_time": "2024-02-19T12:39:46.438945700Z"
    }
   },
   "id": "26cef6df8bac437c",
   "execution_count": 96
  },
  {
   "cell_type": "markdown",
   "source": [
    "## BEBRASK & RETOS Count Merge"
   ],
   "metadata": {
    "collapsed": false
   },
   "id": "d6e1c9bc2383ef0b"
  },
  {
   "cell_type": "code",
   "outputs": [
    {
     "data": {
      "text/plain": "                Subject  Count_Happy_1_1  Count_Happy_1_2  Count_Happy_1_3  \\\n0    PREDWELL_RETOS-1-1                0                0                1   \n1   PREDWELL_RETOS-10-1                0                1                4   \n2  PREDWELL_RETOS-101-1                0                1                2   \n3  PREDWELL_RETOS-102-1                1                0                4   \n4  PREDWELL_RETOS-103-1                0                1                1   \n\n   Count_Happy_1_4  Count_Happy_0_1  Count_Happy_0_2  Count_Happy_0_3  \\\n0                8                5                0                0   \n1                4                4                2                0   \n2                6                5                1                0   \n3                4                6                0                0   \n4                7                5                1                0   \n\n   Count_Happy_0_4  Count_Sad_1_1  ...  Count_Sad_0_3  Count_Sad_0_4  \\\n0                1              0  ...              2              1   \n1                0              0  ...              1              0   \n2                0              1  ...              1              0   \n3                0              1  ...              0              3   \n4                0              0  ...              1              0   \n\n   Count_Fear_1_1  Count_Fear_1_2  Count_Fear_1_3  Count_Fear_1_4  \\\n0               0               3               1               5   \n1               1               1               3               4   \n2               2               1               3               3   \n3               0               2               3               4   \n4               3               2               3               1   \n\n   Count_Fear_0_1  Count_Fear_0_2  Count_Fear_0_3  Count_Fear_0_4  \n0               3               1               1               1  \n1               1               3               1               1  \n2               5               1               0               0  \n3               4               2               0               0  \n4               3               2               1               0  \n\n[5 rows x 25 columns]",
      "text/html": "<div>\n<style scoped>\n    .dataframe tbody tr th:only-of-type {\n        vertical-align: middle;\n    }\n\n    .dataframe tbody tr th {\n        vertical-align: top;\n    }\n\n    .dataframe thead th {\n        text-align: right;\n    }\n</style>\n<table border=\"1\" class=\"dataframe\">\n  <thead>\n    <tr style=\"text-align: right;\">\n      <th></th>\n      <th>Subject</th>\n      <th>Count_Happy_1_1</th>\n      <th>Count_Happy_1_2</th>\n      <th>Count_Happy_1_3</th>\n      <th>Count_Happy_1_4</th>\n      <th>Count_Happy_0_1</th>\n      <th>Count_Happy_0_2</th>\n      <th>Count_Happy_0_3</th>\n      <th>Count_Happy_0_4</th>\n      <th>Count_Sad_1_1</th>\n      <th>...</th>\n      <th>Count_Sad_0_3</th>\n      <th>Count_Sad_0_4</th>\n      <th>Count_Fear_1_1</th>\n      <th>Count_Fear_1_2</th>\n      <th>Count_Fear_1_3</th>\n      <th>Count_Fear_1_4</th>\n      <th>Count_Fear_0_1</th>\n      <th>Count_Fear_0_2</th>\n      <th>Count_Fear_0_3</th>\n      <th>Count_Fear_0_4</th>\n    </tr>\n  </thead>\n  <tbody>\n    <tr>\n      <th>0</th>\n      <td>PREDWELL_RETOS-1-1</td>\n      <td>0</td>\n      <td>0</td>\n      <td>1</td>\n      <td>8</td>\n      <td>5</td>\n      <td>0</td>\n      <td>0</td>\n      <td>1</td>\n      <td>0</td>\n      <td>...</td>\n      <td>2</td>\n      <td>1</td>\n      <td>0</td>\n      <td>3</td>\n      <td>1</td>\n      <td>5</td>\n      <td>3</td>\n      <td>1</td>\n      <td>1</td>\n      <td>1</td>\n    </tr>\n    <tr>\n      <th>1</th>\n      <td>PREDWELL_RETOS-10-1</td>\n      <td>0</td>\n      <td>1</td>\n      <td>4</td>\n      <td>4</td>\n      <td>4</td>\n      <td>2</td>\n      <td>0</td>\n      <td>0</td>\n      <td>0</td>\n      <td>...</td>\n      <td>1</td>\n      <td>0</td>\n      <td>1</td>\n      <td>1</td>\n      <td>3</td>\n      <td>4</td>\n      <td>1</td>\n      <td>3</td>\n      <td>1</td>\n      <td>1</td>\n    </tr>\n    <tr>\n      <th>2</th>\n      <td>PREDWELL_RETOS-101-1</td>\n      <td>0</td>\n      <td>1</td>\n      <td>2</td>\n      <td>6</td>\n      <td>5</td>\n      <td>1</td>\n      <td>0</td>\n      <td>0</td>\n      <td>1</td>\n      <td>...</td>\n      <td>1</td>\n      <td>0</td>\n      <td>2</td>\n      <td>1</td>\n      <td>3</td>\n      <td>3</td>\n      <td>5</td>\n      <td>1</td>\n      <td>0</td>\n      <td>0</td>\n    </tr>\n    <tr>\n      <th>3</th>\n      <td>PREDWELL_RETOS-102-1</td>\n      <td>1</td>\n      <td>0</td>\n      <td>4</td>\n      <td>4</td>\n      <td>6</td>\n      <td>0</td>\n      <td>0</td>\n      <td>0</td>\n      <td>1</td>\n      <td>...</td>\n      <td>0</td>\n      <td>3</td>\n      <td>0</td>\n      <td>2</td>\n      <td>3</td>\n      <td>4</td>\n      <td>4</td>\n      <td>2</td>\n      <td>0</td>\n      <td>0</td>\n    </tr>\n    <tr>\n      <th>4</th>\n      <td>PREDWELL_RETOS-103-1</td>\n      <td>0</td>\n      <td>1</td>\n      <td>1</td>\n      <td>7</td>\n      <td>5</td>\n      <td>1</td>\n      <td>0</td>\n      <td>0</td>\n      <td>0</td>\n      <td>...</td>\n      <td>1</td>\n      <td>0</td>\n      <td>3</td>\n      <td>2</td>\n      <td>3</td>\n      <td>1</td>\n      <td>3</td>\n      <td>2</td>\n      <td>1</td>\n      <td>0</td>\n    </tr>\n  </tbody>\n</table>\n<p>5 rows × 25 columns</p>\n</div>"
     },
     "execution_count": 97,
     "metadata": {},
     "output_type": "execute_result"
    }
   ],
   "source": [
    "RETOS_BEBRASK_Rating0_Count = pd.concat([Rating0_RETOS_df,Rating0_BEBRASK_df])\n",
    "RETOS_BEBRASK_Rating0_Count.to_excel('../Clustering_Predictive_Processing/RETOS_BEBRASK_Rating0_count.xlsx', index=False) \n",
    "RETOS_BEBRASK_Rating0_Count.head(5)"
   ],
   "metadata": {
    "collapsed": false,
    "ExecuteTime": {
     "end_time": "2024-02-19T12:39:47.202805400Z",
     "start_time": "2024-02-19T12:39:46.545759500Z"
    }
   },
   "id": "f55ed7ecf00c7ee0",
   "execution_count": 97
  },
  {
   "cell_type": "code",
   "outputs": [
    {
     "data": {
      "text/plain": "                Subject  Count_Happy_1_1  Count_Happy_1_2  Count_Happy_1_3  \\\n0    PREDWELL_RETOS-1-1                0                0                1   \n1   PREDWELL_RETOS-10-1                0                1                4   \n2  PREDWELL_RETOS-101-1                0                1                2   \n3  PREDWELL_RETOS-102-1                1                0                4   \n4  PREDWELL_RETOS-103-1                0                1                1   \n\n   Count_Happy_1_4  Count_Happy_0_1  Count_Happy_0_2  Count_Happy_0_3  \\\n0                8                5                0                0   \n1                4                4                2                0   \n2                6                5                1                0   \n3                4                6                0                0   \n4                7                5                1                0   \n\n   Count_Happy_0_4  Count_Sad_1_1  ...  Count_Sad_0_3  Count_Sad_0_4  \\\n0                1              0  ...              2              1   \n1                0              0  ...              1              0   \n2                0              1  ...              1              0   \n3                0              1  ...              0              3   \n4                0              0  ...              1              0   \n\n   Count_Fear_1_1  Count_Fear_1_2  Count_Fear_1_3  Count_Fear_1_4  \\\n0               0               3               1               5   \n1               1               1               3               4   \n2               2               1               3               3   \n3               0               2               3               4   \n4               3               2               3               1   \n\n   Count_Fear_0_1  Count_Fear_0_2  Count_Fear_0_3  Count_Fear_0_4  \n0               3               1               1               1  \n1               1               3               1               1  \n2               5               1               0               0  \n3               4               2               0               0  \n4               3               2               1               0  \n\n[5 rows x 25 columns]",
      "text/html": "<div>\n<style scoped>\n    .dataframe tbody tr th:only-of-type {\n        vertical-align: middle;\n    }\n\n    .dataframe tbody tr th {\n        vertical-align: top;\n    }\n\n    .dataframe thead th {\n        text-align: right;\n    }\n</style>\n<table border=\"1\" class=\"dataframe\">\n  <thead>\n    <tr style=\"text-align: right;\">\n      <th></th>\n      <th>Subject</th>\n      <th>Count_Happy_1_1</th>\n      <th>Count_Happy_1_2</th>\n      <th>Count_Happy_1_3</th>\n      <th>Count_Happy_1_4</th>\n      <th>Count_Happy_0_1</th>\n      <th>Count_Happy_0_2</th>\n      <th>Count_Happy_0_3</th>\n      <th>Count_Happy_0_4</th>\n      <th>Count_Sad_1_1</th>\n      <th>...</th>\n      <th>Count_Sad_0_3</th>\n      <th>Count_Sad_0_4</th>\n      <th>Count_Fear_1_1</th>\n      <th>Count_Fear_1_2</th>\n      <th>Count_Fear_1_3</th>\n      <th>Count_Fear_1_4</th>\n      <th>Count_Fear_0_1</th>\n      <th>Count_Fear_0_2</th>\n      <th>Count_Fear_0_3</th>\n      <th>Count_Fear_0_4</th>\n    </tr>\n  </thead>\n  <tbody>\n    <tr>\n      <th>0</th>\n      <td>PREDWELL_RETOS-1-1</td>\n      <td>0</td>\n      <td>0</td>\n      <td>1</td>\n      <td>8</td>\n      <td>5</td>\n      <td>0</td>\n      <td>0</td>\n      <td>1</td>\n      <td>0</td>\n      <td>...</td>\n      <td>2</td>\n      <td>1</td>\n      <td>0</td>\n      <td>3</td>\n      <td>1</td>\n      <td>5</td>\n      <td>3</td>\n      <td>1</td>\n      <td>1</td>\n      <td>1</td>\n    </tr>\n    <tr>\n      <th>1</th>\n      <td>PREDWELL_RETOS-10-1</td>\n      <td>0</td>\n      <td>1</td>\n      <td>4</td>\n      <td>4</td>\n      <td>4</td>\n      <td>2</td>\n      <td>0</td>\n      <td>0</td>\n      <td>0</td>\n      <td>...</td>\n      <td>1</td>\n      <td>0</td>\n      <td>1</td>\n      <td>1</td>\n      <td>3</td>\n      <td>4</td>\n      <td>1</td>\n      <td>3</td>\n      <td>1</td>\n      <td>1</td>\n    </tr>\n    <tr>\n      <th>2</th>\n      <td>PREDWELL_RETOS-101-1</td>\n      <td>0</td>\n      <td>1</td>\n      <td>2</td>\n      <td>6</td>\n      <td>5</td>\n      <td>1</td>\n      <td>0</td>\n      <td>0</td>\n      <td>1</td>\n      <td>...</td>\n      <td>1</td>\n      <td>0</td>\n      <td>2</td>\n      <td>1</td>\n      <td>3</td>\n      <td>3</td>\n      <td>5</td>\n      <td>1</td>\n      <td>0</td>\n      <td>0</td>\n    </tr>\n    <tr>\n      <th>3</th>\n      <td>PREDWELL_RETOS-102-1</td>\n      <td>1</td>\n      <td>0</td>\n      <td>4</td>\n      <td>4</td>\n      <td>6</td>\n      <td>0</td>\n      <td>0</td>\n      <td>0</td>\n      <td>1</td>\n      <td>...</td>\n      <td>0</td>\n      <td>3</td>\n      <td>0</td>\n      <td>2</td>\n      <td>3</td>\n      <td>4</td>\n      <td>4</td>\n      <td>2</td>\n      <td>0</td>\n      <td>0</td>\n    </tr>\n    <tr>\n      <th>4</th>\n      <td>PREDWELL_RETOS-103-1</td>\n      <td>0</td>\n      <td>1</td>\n      <td>1</td>\n      <td>7</td>\n      <td>5</td>\n      <td>1</td>\n      <td>0</td>\n      <td>0</td>\n      <td>0</td>\n      <td>...</td>\n      <td>1</td>\n      <td>0</td>\n      <td>3</td>\n      <td>2</td>\n      <td>3</td>\n      <td>1</td>\n      <td>3</td>\n      <td>2</td>\n      <td>1</td>\n      <td>0</td>\n    </tr>\n  </tbody>\n</table>\n<p>5 rows × 25 columns</p>\n</div>"
     },
     "execution_count": 98,
     "metadata": {},
     "output_type": "execute_result"
    }
   ],
   "source": [
    "RETOS_BEBRASK_Rating_Count = pd.concat([Rating_RETOS_df, Rating_BEBRASK_df])\n",
    "RETOS_BEBRASK_Rating_Count.to_excel('../Clustering_Predictive_Processing/RETOS_BEBRASK_Rating_count.xlsx',index=False)\n",
    "RETOS_BEBRASK_Rating_Count.head(5)\n"
   ],
   "metadata": {
    "collapsed": false,
    "ExecuteTime": {
     "end_time": "2024-02-19T12:39:47.580164900Z",
     "start_time": "2024-02-19T12:39:46.670305100Z"
    }
   },
   "id": "d01d0f507f47aa3c",
   "execution_count": 98
  },
  {
   "cell_type": "markdown",
   "source": [
    "## BEBRASK & RETOS Percentage Difference between Match and no Match"
   ],
   "metadata": {
    "collapsed": false
   },
   "id": "c96b8f1bfc8dc1cf"
  },
  {
   "cell_type": "code",
   "outputs": [],
   "source": [
    "RETOS_BEBRASK_Rating0_Percentage = RETOS_BEBRASK_Rating0_Count.copy()\n",
    "RETOS_BEBRASK_Rating_Percentage = RETOS_BEBRASK_Rating_Count.copy()\n",
    "\n",
    "\n",
    "RETOS_BEBRASK_Rating0_Percentage[[\"Count_Happy_1_1\",\"Count_Happy_1_2\",\"Count_Happy_1_3\",\"Count_Happy_1_4\",\"Count_Sad_1_1\",\"Count_Sad_1_2\",\"Count_Sad_1_3\",\"Count_Sad_1_4\",\"Count_Fear_1_1\",\"Count_Fear_1_2\",\"Count_Fear_1_3\",\"Count_Fear_1_4\"]] = RETOS_BEBRASK_Rating0_Count[[\"Count_Happy_1_1\",\"Count_Happy_1_2\",\"Count_Happy_1_3\",\"Count_Happy_1_4\",\"Count_Sad_1_1\",\"Count_Sad_1_2\",\"Count_Sad_1_3\",\"Count_Sad_1_4\",\"Count_Fear_1_1\",\"Count_Fear_1_2\",\"Count_Fear_1_3\",\"Count_Fear_1_4\"]]/9\n",
    "\n",
    "RETOS_BEBRASK_Rating0_Percentage[[\"Count_Happy_0_1\",\"Count_Happy_0_2\",\"Count_Happy_0_3\",\"Count_Happy_0_4\",\"Count_Sad_0_1\",\"Count_Sad_0_2\",\"Count_Sad_0_3\",\"Count_Sad_0_4\",\"Count_Fear_0_1\",\"Count_Fear_0_2\",\"Count_Fear_0_3\",\"Count_Fear_0_4\"]] = RETOS_BEBRASK_Rating0_Count[[\"Count_Happy_0_1\",\"Count_Happy_0_2\",\"Count_Happy_0_3\",\"Count_Happy_0_4\",\"Count_Sad_0_1\",\"Count_Sad_0_2\",\"Count_Sad_0_3\",\"Count_Sad_0_4\",\"Count_Fear_0_1\",\"Count_Fear_0_2\",\"Count_Fear_0_3\",\"Count_Fear_0_4\"]]/6\n",
    "\n",
    "\n",
    "RETOS_BEBRASK_Rating_Percentage[[\"Count_Happy_1_1\",\"Count_Happy_1_2\",\"Count_Happy_1_3\",\"Count_Happy_1_4\",\"Count_Sad_1_1\",\"Count_Sad_1_2\",\"Count_Sad_1_3\",\"Count_Sad_1_4\",\"Count_Fear_1_1\",\"Count_Fear_1_2\",\"Count_Fear_1_3\",\"Count_Fear_1_4\"]] = RETOS_BEBRASK_Rating_Count[[\"Count_Happy_1_1\",\"Count_Happy_1_2\",\"Count_Happy_1_3\",\"Count_Happy_1_4\",\"Count_Sad_1_1\",\"Count_Sad_1_2\",\"Count_Sad_1_3\",\"Count_Sad_1_4\",\"Count_Fear_1_1\",\"Count_Fear_1_2\",\"Count_Fear_1_3\",\"Count_Fear_1_4\"]]/9\n",
    "\n",
    "RETOS_BEBRASK_Rating_Percentage[[\"Count_Happy_0_1\",\"Count_Happy_0_2\",\"Count_Happy_0_3\",\"Count_Happy_0_4\",\"Count_Sad_0_1\",\"Count_Sad_0_2\",\"Count_Sad_0_3\",\"Count_Sad_0_4\",\"Count_Fear_0_1\",\"Count_Fear_0_2\",\"Count_Fear_0_3\",\"Count_Fear_0_4\"]] = RETOS_BEBRASK_Rating_Count[[\"Count_Happy_0_1\",\"Count_Happy_0_2\",\"Count_Happy_0_3\",\"Count_Happy_0_4\",\"Count_Sad_0_1\",\"Count_Sad_0_2\",\"Count_Sad_0_3\",\"Count_Sad_0_4\",\"Count_Fear_0_1\",\"Count_Fear_0_2\",\"Count_Fear_0_3\",\"Count_Fear_0_4\"]]/6"
   ],
   "metadata": {
    "collapsed": false,
    "ExecuteTime": {
     "end_time": "2024-02-19T12:39:47.610165400Z",
     "start_time": "2024-02-19T12:39:46.804244200Z"
    }
   },
   "id": "c688896d5fee66bf",
   "execution_count": 99
  },
  {
   "cell_type": "code",
   "outputs": [
    {
     "data": {
      "text/plain": "                Subject  Delta_Happy_1_1  Delta_Happy_1_2  Delta_Happy_1_3  \\\n0    PREDWELL_RETOS-1-1        -0.833333         0.000000         0.111111   \n1   PREDWELL_RETOS-10-1        -0.666667        -0.222222         0.444444   \n2  PREDWELL_RETOS-101-1        -0.833333        -0.055556         0.222222   \n3  PREDWELL_RETOS-102-1        -0.888889         0.000000         0.444444   \n4  PREDWELL_RETOS-103-1        -0.833333        -0.055556         0.111111   \n\n   Delta_Happy_1_4  Delta_Sad_1_1  Delta_Sad_1_2  Delta_Sad_1_3  \\\n0         0.722222      -0.500000       0.111111      -0.111111   \n1         0.444444      -0.333333      -0.055556       0.388889   \n2         0.666667      -0.555556       0.055556       0.388889   \n3         0.444444      -0.222222       0.055556       0.222222   \n4         0.777778      -0.833333       0.444444       0.277778   \n\n   Delta_Sad_1_4  Delta_Fear_1_1  Delta_Fear_1_2  Delta_Fear_1_3  \\\n0       0.500000       -0.500000        0.166667       -0.055556   \n1       0.000000       -0.055556       -0.388889        0.166667   \n2       0.111111       -0.611111       -0.055556        0.333333   \n3      -0.055556       -0.666667       -0.111111        0.333333   \n4       0.111111       -0.166667       -0.111111        0.166667   \n\n   Delta_Fear_1_4  \n0        0.388889  \n1        0.277778  \n2        0.333333  \n3        0.444444  \n4        0.111111  ",
      "text/html": "<div>\n<style scoped>\n    .dataframe tbody tr th:only-of-type {\n        vertical-align: middle;\n    }\n\n    .dataframe tbody tr th {\n        vertical-align: top;\n    }\n\n    .dataframe thead th {\n        text-align: right;\n    }\n</style>\n<table border=\"1\" class=\"dataframe\">\n  <thead>\n    <tr style=\"text-align: right;\">\n      <th></th>\n      <th>Subject</th>\n      <th>Delta_Happy_1_1</th>\n      <th>Delta_Happy_1_2</th>\n      <th>Delta_Happy_1_3</th>\n      <th>Delta_Happy_1_4</th>\n      <th>Delta_Sad_1_1</th>\n      <th>Delta_Sad_1_2</th>\n      <th>Delta_Sad_1_3</th>\n      <th>Delta_Sad_1_4</th>\n      <th>Delta_Fear_1_1</th>\n      <th>Delta_Fear_1_2</th>\n      <th>Delta_Fear_1_3</th>\n      <th>Delta_Fear_1_4</th>\n    </tr>\n  </thead>\n  <tbody>\n    <tr>\n      <th>0</th>\n      <td>PREDWELL_RETOS-1-1</td>\n      <td>-0.833333</td>\n      <td>0.000000</td>\n      <td>0.111111</td>\n      <td>0.722222</td>\n      <td>-0.500000</td>\n      <td>0.111111</td>\n      <td>-0.111111</td>\n      <td>0.500000</td>\n      <td>-0.500000</td>\n      <td>0.166667</td>\n      <td>-0.055556</td>\n      <td>0.388889</td>\n    </tr>\n    <tr>\n      <th>1</th>\n      <td>PREDWELL_RETOS-10-1</td>\n      <td>-0.666667</td>\n      <td>-0.222222</td>\n      <td>0.444444</td>\n      <td>0.444444</td>\n      <td>-0.333333</td>\n      <td>-0.055556</td>\n      <td>0.388889</td>\n      <td>0.000000</td>\n      <td>-0.055556</td>\n      <td>-0.388889</td>\n      <td>0.166667</td>\n      <td>0.277778</td>\n    </tr>\n    <tr>\n      <th>2</th>\n      <td>PREDWELL_RETOS-101-1</td>\n      <td>-0.833333</td>\n      <td>-0.055556</td>\n      <td>0.222222</td>\n      <td>0.666667</td>\n      <td>-0.555556</td>\n      <td>0.055556</td>\n      <td>0.388889</td>\n      <td>0.111111</td>\n      <td>-0.611111</td>\n      <td>-0.055556</td>\n      <td>0.333333</td>\n      <td>0.333333</td>\n    </tr>\n    <tr>\n      <th>3</th>\n      <td>PREDWELL_RETOS-102-1</td>\n      <td>-0.888889</td>\n      <td>0.000000</td>\n      <td>0.444444</td>\n      <td>0.444444</td>\n      <td>-0.222222</td>\n      <td>0.055556</td>\n      <td>0.222222</td>\n      <td>-0.055556</td>\n      <td>-0.666667</td>\n      <td>-0.111111</td>\n      <td>0.333333</td>\n      <td>0.444444</td>\n    </tr>\n    <tr>\n      <th>4</th>\n      <td>PREDWELL_RETOS-103-1</td>\n      <td>-0.833333</td>\n      <td>-0.055556</td>\n      <td>0.111111</td>\n      <td>0.777778</td>\n      <td>-0.833333</td>\n      <td>0.444444</td>\n      <td>0.277778</td>\n      <td>0.111111</td>\n      <td>-0.166667</td>\n      <td>-0.111111</td>\n      <td>0.166667</td>\n      <td>0.111111</td>\n    </tr>\n  </tbody>\n</table>\n</div>"
     },
     "execution_count": 100,
     "metadata": {},
     "output_type": "execute_result"
    }
   ],
   "source": [
    "delta0_columns = {\"Delta_\"+col[6:]: RETOS_BEBRASK_Rating0_Percentage[col] - RETOS_BEBRASK_Rating0_Percentage[col.replace(\"_1_\", \"_0_\")] for col in RETOS_BEBRASK_Rating0_Percentage.columns if \"_1_\" in col}\n",
    "RETOS_BEBRASK_Rating0_Delta = pd.DataFrame(delta0_columns)\n",
    "RETOS_BEBRASK_Rating0_Delta.insert(0,\"Subject\", RETOS_BEBRASK_Rating0_Count[\"Subject\"])\n",
    "RETOS_BEBRASK_Rating0_Delta.to_excel('../Clustering_Predictive_Processing/RETOS_BEBRASK_Rating0_Delta.xlsx', index=False) \n",
    "\n",
    "RETOS_BEBRASK_Rating0_Delta.head(5)"
   ],
   "metadata": {
    "collapsed": false,
    "ExecuteTime": {
     "end_time": "2024-02-19T12:39:47.760967300Z",
     "start_time": "2024-02-19T12:39:46.830243200Z"
    }
   },
   "id": "d75bfa75b7f3e290",
   "execution_count": 100
  },
  {
   "cell_type": "code",
   "outputs": [
    {
     "data": {
      "text/plain": "                Subject  Delta_Happy_1_1  Delta_Happy_1_2  Delta_Happy_1_3  \\\n0    PREDWELL_RETOS-1-1        -0.833333         0.000000         0.111111   \n1   PREDWELL_RETOS-10-1        -0.666667        -0.222222         0.444444   \n2  PREDWELL_RETOS-101-1        -0.833333        -0.055556         0.222222   \n3  PREDWELL_RETOS-102-1        -0.888889         0.000000         0.444444   \n4  PREDWELL_RETOS-103-1        -0.833333        -0.055556         0.111111   \n\n   Delta_Happy_1_4  Delta_Sad_1_1  Delta_Sad_1_2  Delta_Sad_1_3  \\\n0         0.722222      -0.500000       0.111111      -0.111111   \n1         0.444444      -0.333333      -0.055556       0.388889   \n2         0.666667      -0.555556       0.055556       0.388889   \n3         0.444444      -0.222222       0.055556       0.222222   \n4         0.777778      -0.833333       0.444444       0.277778   \n\n   Delta_Sad_1_4  Delta_Fear_1_1  Delta_Fear_1_2  Delta_Fear_1_3  \\\n0       0.500000       -0.500000        0.166667       -0.055556   \n1       0.000000       -0.055556       -0.388889        0.166667   \n2       0.111111       -0.611111       -0.055556        0.333333   \n3      -0.055556       -0.666667       -0.111111        0.333333   \n4       0.111111       -0.166667       -0.111111        0.166667   \n\n   Delta_Fear_1_4  \n0        0.388889  \n1        0.277778  \n2        0.333333  \n3        0.444444  \n4        0.111111  ",
      "text/html": "<div>\n<style scoped>\n    .dataframe tbody tr th:only-of-type {\n        vertical-align: middle;\n    }\n\n    .dataframe tbody tr th {\n        vertical-align: top;\n    }\n\n    .dataframe thead th {\n        text-align: right;\n    }\n</style>\n<table border=\"1\" class=\"dataframe\">\n  <thead>\n    <tr style=\"text-align: right;\">\n      <th></th>\n      <th>Subject</th>\n      <th>Delta_Happy_1_1</th>\n      <th>Delta_Happy_1_2</th>\n      <th>Delta_Happy_1_3</th>\n      <th>Delta_Happy_1_4</th>\n      <th>Delta_Sad_1_1</th>\n      <th>Delta_Sad_1_2</th>\n      <th>Delta_Sad_1_3</th>\n      <th>Delta_Sad_1_4</th>\n      <th>Delta_Fear_1_1</th>\n      <th>Delta_Fear_1_2</th>\n      <th>Delta_Fear_1_3</th>\n      <th>Delta_Fear_1_4</th>\n    </tr>\n  </thead>\n  <tbody>\n    <tr>\n      <th>0</th>\n      <td>PREDWELL_RETOS-1-1</td>\n      <td>-0.833333</td>\n      <td>0.000000</td>\n      <td>0.111111</td>\n      <td>0.722222</td>\n      <td>-0.500000</td>\n      <td>0.111111</td>\n      <td>-0.111111</td>\n      <td>0.500000</td>\n      <td>-0.500000</td>\n      <td>0.166667</td>\n      <td>-0.055556</td>\n      <td>0.388889</td>\n    </tr>\n    <tr>\n      <th>1</th>\n      <td>PREDWELL_RETOS-10-1</td>\n      <td>-0.666667</td>\n      <td>-0.222222</td>\n      <td>0.444444</td>\n      <td>0.444444</td>\n      <td>-0.333333</td>\n      <td>-0.055556</td>\n      <td>0.388889</td>\n      <td>0.000000</td>\n      <td>-0.055556</td>\n      <td>-0.388889</td>\n      <td>0.166667</td>\n      <td>0.277778</td>\n    </tr>\n    <tr>\n      <th>2</th>\n      <td>PREDWELL_RETOS-101-1</td>\n      <td>-0.833333</td>\n      <td>-0.055556</td>\n      <td>0.222222</td>\n      <td>0.666667</td>\n      <td>-0.555556</td>\n      <td>0.055556</td>\n      <td>0.388889</td>\n      <td>0.111111</td>\n      <td>-0.611111</td>\n      <td>-0.055556</td>\n      <td>0.333333</td>\n      <td>0.333333</td>\n    </tr>\n    <tr>\n      <th>3</th>\n      <td>PREDWELL_RETOS-102-1</td>\n      <td>-0.888889</td>\n      <td>0.000000</td>\n      <td>0.444444</td>\n      <td>0.444444</td>\n      <td>-0.222222</td>\n      <td>0.055556</td>\n      <td>0.222222</td>\n      <td>-0.055556</td>\n      <td>-0.666667</td>\n      <td>-0.111111</td>\n      <td>0.333333</td>\n      <td>0.444444</td>\n    </tr>\n    <tr>\n      <th>4</th>\n      <td>PREDWELL_RETOS-103-1</td>\n      <td>-0.833333</td>\n      <td>-0.055556</td>\n      <td>0.111111</td>\n      <td>0.777778</td>\n      <td>-0.833333</td>\n      <td>0.444444</td>\n      <td>0.277778</td>\n      <td>0.111111</td>\n      <td>-0.166667</td>\n      <td>-0.111111</td>\n      <td>0.166667</td>\n      <td>0.111111</td>\n    </tr>\n  </tbody>\n</table>\n</div>"
     },
     "execution_count": 101,
     "metadata": {},
     "output_type": "execute_result"
    }
   ],
   "source": [
    "delta_columns = {\"Delta_\"+col[6:]: RETOS_BEBRASK_Rating_Percentage[col] - RETOS_BEBRASK_Rating_Percentage[col.replace(\"_1_\", \"_0_\")] for col in RETOS_BEBRASK_Rating_Percentage.columns if \"_1_\" in col}\n",
    "\n",
    "RETOS_BEBRASK_Rating_Delta = pd.DataFrame(delta_columns)\n",
    "RETOS_BEBRASK_Rating_Delta.insert(0,\"Subject\", RETOS_BEBRASK_Rating_Count[\"Subject\"])\n",
    "\n",
    "RETOS_BEBRASK_Rating_Delta.to_excel('../Clustering_Predictive_Processing/RETOS_BEBRASK_Rating_Delta.xlsx', index=False) \n",
    "\n",
    "RETOS_BEBRASK_Rating_Delta.head(5)"
   ],
   "metadata": {
    "collapsed": false,
    "ExecuteTime": {
     "end_time": "2024-02-19T12:39:47.796968600Z",
     "start_time": "2024-02-19T12:39:46.941209700Z"
    }
   },
   "id": "1613d303cae8b473",
   "execution_count": 101
  },
  {
   "cell_type": "markdown",
   "source": [
    "## BEBRASK & RETOS Time Series By Emotion and Match"
   ],
   "metadata": {
    "collapsed": false
   },
   "id": "f9c0960770d32721"
  },
  {
   "cell_type": "code",
   "outputs": [],
   "source": [
    "merged_dict = {**subject_dict_BEBRASK, **subject_dict_RETOS}\n",
    "\n",
    "#Unimos los dos diccionarios con la información organizada por emociones"
   ],
   "metadata": {
    "collapsed": false,
    "ExecuteTime": {
     "end_time": "2024-02-19T12:39:47.803229300Z",
     "start_time": "2024-02-19T12:39:47.048289100Z"
    }
   },
   "id": "36f10d6edf34b881",
   "execution_count": 102
  },
  {
   "cell_type": "code",
   "outputs": [],
   "source": [
    "def convert_time_series(subject_dict,rating):\n",
    "    \"\"\"\n",
    "    Procesa un diccionario con la información de las respuestas dadas por cada sujeto organizado por sentimiento, y crea\n",
    "    un dataframe donde los trials están organizados secuencialmente según la emoción y si es match o no (e.g. las primeras\n",
    "    9 columnas de un sujeto son los 9 trials de match de Happy, las 6 siguientes son los no match de Happy, y así con las\n",
    "    demás emociones).  \n",
    "\n",
    "    Parámetros:\n",
    "    - subject_dict (dict): Diccionario que contiene la información de las scores organizadas por sujetos y por emociones.\n",
    "    - rating (string): Rating a partir del cual hacer las agregaciones de las scores (Rating0 o Rating).\n",
    "\n",
    "    Retorna:\n",
    "    - df_counts (pandas.DataFrame): Un dataframe donde cada fila contiene el identificador del sujeto y una sèrie temporal\n",
    "    correspondiente a sus respuestas\n",
    "    \"\"\"\n",
    "    results = {}\n",
    "    for instance, categories in subject_dict.items():\n",
    "        results[instance] = {}\n",
    "        for category, info in categories.items():\n",
    "            pred = info[rating]\n",
    "            fulfill = info['Fulfill']\n",
    "            no_match_pred = pred[np.where(fulfill == 0)[0]]\n",
    "            match_pred = pred[np.where(fulfill == 1)[0]]\n",
    "            \n",
    "\n",
    "            results[instance][category] = {\n",
    "                'Fulfill_0': no_match_pred,\n",
    "                'Fulfill_1_': match_pred\n",
    "            }\n",
    "    records = []\n",
    "    for subject_id, emotions in results.items():\n",
    "        record = {'Subject ID': subject_id}\n",
    "        for emotion, stats in emotions.items():\n",
    "            for stat_key, stat_value in stats.items():\n",
    "                for i,val in enumerate(stat_value):\n",
    "                # Creating new column names in the format \"Emotion_StatisticalMeasure\"\n",
    "                    column_name = f\"{emotion}_{stat_key[8]}_{i}\"\n",
    "                    record[column_name] = val\n",
    "        records.append(record)\n",
    "\n",
    "    return pd.DataFrame(records)\n"
   ],
   "metadata": {
    "collapsed": false,
    "ExecuteTime": {
     "end_time": "2024-02-19T12:39:47.806222500Z",
     "start_time": "2024-02-19T12:39:47.071287700Z"
    }
   },
   "id": "66f60a4957570686",
   "execution_count": 103
  },
  {
   "cell_type": "code",
   "outputs": [],
   "source": [
    "RETOS_BEBRASK_Rating0_Time_Series = convert_time_series(merged_dict, \"Rating0\")\n",
    "RETOS_BEBRASK_Rating_Time_Series = convert_time_series(merged_dict, \"Rating\")\n"
   ],
   "metadata": {
    "collapsed": false,
    "ExecuteTime": {
     "end_time": "2024-02-19T12:39:47.842238400Z",
     "start_time": "2024-02-19T12:39:47.127288200Z"
    }
   },
   "id": "cb5e52f2661e4216",
   "execution_count": 104
  },
  {
   "cell_type": "code",
   "outputs": [
    {
     "data": {
      "text/plain": "              Subject ID  Happy_0_0  Happy_0_1  Happy_0_2  Happy_0_3  \\\n0  PREDWELL_RETOS-1001-1          4          1          1          1   \n1  PREDWELL_RETOS-1002-1          1          1          3          1   \n2  PREDWELL_RETOS-1003-1          1          1          1          1   \n3  PREDWELL_RETOS-1004-1          1          1          3          3   \n4  PREDWELL_RETOS-1005-1          1          1          1          1   \n\n   Happy_0_4  Happy_0_5  Happy_1_0  Happy_1_1  Happy_1_2  ...  Fear_0_5  \\\n0          1          1          4          4          4  ...         3   \n1          1          1          3          4          4  ...         1   \n2          1          1          3          3          4  ...         2   \n3          2          1          1          4          2  ...         2   \n4          2          1          4          3          4  ...         1   \n\n   Fear_1_0  Fear_1_1  Fear_1_2  Fear_1_3  Fear_1_4  Fear_1_5  Fear_1_6  \\\n0         4         1         3         2         3         4         3   \n1         3         1         3         4         3         4         2   \n2         2         2         3         2         2         2         1   \n3         2         4         3         1         3         3         2   \n4         2         2         2         3         3         3         4   \n\n   Fear_1_7  Fear_1_8  \n0         3         4  \n1         3         4  \n2         3         3  \n3         1         3  \n4         3         3  \n\n[5 rows x 46 columns]",
      "text/html": "<div>\n<style scoped>\n    .dataframe tbody tr th:only-of-type {\n        vertical-align: middle;\n    }\n\n    .dataframe tbody tr th {\n        vertical-align: top;\n    }\n\n    .dataframe thead th {\n        text-align: right;\n    }\n</style>\n<table border=\"1\" class=\"dataframe\">\n  <thead>\n    <tr style=\"text-align: right;\">\n      <th></th>\n      <th>Subject ID</th>\n      <th>Happy_0_0</th>\n      <th>Happy_0_1</th>\n      <th>Happy_0_2</th>\n      <th>Happy_0_3</th>\n      <th>Happy_0_4</th>\n      <th>Happy_0_5</th>\n      <th>Happy_1_0</th>\n      <th>Happy_1_1</th>\n      <th>Happy_1_2</th>\n      <th>...</th>\n      <th>Fear_0_5</th>\n      <th>Fear_1_0</th>\n      <th>Fear_1_1</th>\n      <th>Fear_1_2</th>\n      <th>Fear_1_3</th>\n      <th>Fear_1_4</th>\n      <th>Fear_1_5</th>\n      <th>Fear_1_6</th>\n      <th>Fear_1_7</th>\n      <th>Fear_1_8</th>\n    </tr>\n  </thead>\n  <tbody>\n    <tr>\n      <th>0</th>\n      <td>PREDWELL_RETOS-1001-1</td>\n      <td>4</td>\n      <td>1</td>\n      <td>1</td>\n      <td>1</td>\n      <td>1</td>\n      <td>1</td>\n      <td>4</td>\n      <td>4</td>\n      <td>4</td>\n      <td>...</td>\n      <td>3</td>\n      <td>4</td>\n      <td>1</td>\n      <td>3</td>\n      <td>2</td>\n      <td>3</td>\n      <td>4</td>\n      <td>3</td>\n      <td>3</td>\n      <td>4</td>\n    </tr>\n    <tr>\n      <th>1</th>\n      <td>PREDWELL_RETOS-1002-1</td>\n      <td>1</td>\n      <td>1</td>\n      <td>3</td>\n      <td>1</td>\n      <td>1</td>\n      <td>1</td>\n      <td>3</td>\n      <td>4</td>\n      <td>4</td>\n      <td>...</td>\n      <td>1</td>\n      <td>3</td>\n      <td>1</td>\n      <td>3</td>\n      <td>4</td>\n      <td>3</td>\n      <td>4</td>\n      <td>2</td>\n      <td>3</td>\n      <td>4</td>\n    </tr>\n    <tr>\n      <th>2</th>\n      <td>PREDWELL_RETOS-1003-1</td>\n      <td>1</td>\n      <td>1</td>\n      <td>1</td>\n      <td>1</td>\n      <td>1</td>\n      <td>1</td>\n      <td>3</td>\n      <td>3</td>\n      <td>4</td>\n      <td>...</td>\n      <td>2</td>\n      <td>2</td>\n      <td>2</td>\n      <td>3</td>\n      <td>2</td>\n      <td>2</td>\n      <td>2</td>\n      <td>1</td>\n      <td>3</td>\n      <td>3</td>\n    </tr>\n    <tr>\n      <th>3</th>\n      <td>PREDWELL_RETOS-1004-1</td>\n      <td>1</td>\n      <td>1</td>\n      <td>3</td>\n      <td>3</td>\n      <td>2</td>\n      <td>1</td>\n      <td>1</td>\n      <td>4</td>\n      <td>2</td>\n      <td>...</td>\n      <td>2</td>\n      <td>2</td>\n      <td>4</td>\n      <td>3</td>\n      <td>1</td>\n      <td>3</td>\n      <td>3</td>\n      <td>2</td>\n      <td>1</td>\n      <td>3</td>\n    </tr>\n    <tr>\n      <th>4</th>\n      <td>PREDWELL_RETOS-1005-1</td>\n      <td>1</td>\n      <td>1</td>\n      <td>1</td>\n      <td>1</td>\n      <td>2</td>\n      <td>1</td>\n      <td>4</td>\n      <td>3</td>\n      <td>4</td>\n      <td>...</td>\n      <td>1</td>\n      <td>2</td>\n      <td>2</td>\n      <td>2</td>\n      <td>3</td>\n      <td>3</td>\n      <td>3</td>\n      <td>4</td>\n      <td>3</td>\n      <td>3</td>\n    </tr>\n  </tbody>\n</table>\n<p>5 rows × 46 columns</p>\n</div>"
     },
     "execution_count": 105,
     "metadata": {},
     "output_type": "execute_result"
    }
   ],
   "source": [
    "RETOS_BEBRASK_Rating0_Time_Series.to_excel('../Clustering_Predictive_Processing/RETOS_BEBRASK_Rating0_Time_Series.xlsx', index=False) \n",
    "RETOS_BEBRASK_Rating0_Time_Series.head(5)\n"
   ],
   "metadata": {
    "collapsed": false,
    "ExecuteTime": {
     "end_time": "2024-02-19T12:39:47.878473700Z",
     "start_time": "2024-02-19T12:39:47.207807Z"
    }
   },
   "id": "5d7fc10fdad63fa6",
   "execution_count": 105
  },
  {
   "cell_type": "code",
   "outputs": [
    {
     "data": {
      "text/plain": "                Subject ID  Happy_0_0  Happy_0_1  Happy_0_2  Happy_0_3  \\\n0    PREDWELL_RETOS-1001-1          4          1          1          1   \n1    PREDWELL_RETOS-1002-1          1          1          3          1   \n2    PREDWELL_RETOS-1003-1          1          1          1          1   \n3    PREDWELL_RETOS-1004-1          1          1          3          3   \n4    PREDWELL_RETOS-1005-1          1          1          1          1   \n..                     ...        ...        ...        ...        ...   \n144     PREDWELL_RETOS-5-1          2          2          1          1   \n145     PREDWELL_RETOS-6-1          1          2          1          1   \n146     PREDWELL_RETOS-7-1          1          1          1          1   \n147     PREDWELL_RETOS-8-1          1          1          1          1   \n148     PREDWELL_RETOS-9-1          1          1          1          1   \n\n     Happy_0_4  Happy_0_5  Happy_1_0  Happy_1_1  Happy_1_2  ...  Fear_0_5  \\\n0            1          1          4          4          4  ...         3   \n1            1          1          3          4          4  ...         1   \n2            1          1          3          3          4  ...         2   \n3            2          1          1          4          2  ...         2   \n4            2          1          4          3          4  ...         1   \n..         ...        ...        ...        ...        ...  ...       ...   \n144          1          1          3          4          4  ...         1   \n145          1          1          3          3          4  ...         1   \n146          1          1          3          4          2  ...         4   \n147          1          1          4          4          1  ...         3   \n148          1          1          2          4          3  ...         2   \n\n     Fear_1_0  Fear_1_1  Fear_1_2  Fear_1_3  Fear_1_4  Fear_1_5  Fear_1_6  \\\n0           4         1         3         2         3         4         3   \n1           3         1         3         4         3         4         2   \n2           2         2         3         2         2         2         1   \n3           2         4         3         1         3         3         2   \n4           2         2         2         3         3         3         4   \n..        ...       ...       ...       ...       ...       ...       ...   \n144         1         1         4         2         4         3         3   \n145         2         2         2         4         2         3         2   \n146         4         1         2         4         4         1         4   \n147         3         3         4         3         2         4         2   \n148         1         2         1         4         1         2         2   \n\n     Fear_1_7  Fear_1_8  \n0           3         4  \n1           3         4  \n2           3         3  \n3           1         3  \n4           3         3  \n..        ...       ...  \n144         2         2  \n145         4         4  \n146         4         1  \n147         1         3  \n148         3         2  \n\n[149 rows x 46 columns]",
      "text/html": "<div>\n<style scoped>\n    .dataframe tbody tr th:only-of-type {\n        vertical-align: middle;\n    }\n\n    .dataframe tbody tr th {\n        vertical-align: top;\n    }\n\n    .dataframe thead th {\n        text-align: right;\n    }\n</style>\n<table border=\"1\" class=\"dataframe\">\n  <thead>\n    <tr style=\"text-align: right;\">\n      <th></th>\n      <th>Subject ID</th>\n      <th>Happy_0_0</th>\n      <th>Happy_0_1</th>\n      <th>Happy_0_2</th>\n      <th>Happy_0_3</th>\n      <th>Happy_0_4</th>\n      <th>Happy_0_5</th>\n      <th>Happy_1_0</th>\n      <th>Happy_1_1</th>\n      <th>Happy_1_2</th>\n      <th>...</th>\n      <th>Fear_0_5</th>\n      <th>Fear_1_0</th>\n      <th>Fear_1_1</th>\n      <th>Fear_1_2</th>\n      <th>Fear_1_3</th>\n      <th>Fear_1_4</th>\n      <th>Fear_1_5</th>\n      <th>Fear_1_6</th>\n      <th>Fear_1_7</th>\n      <th>Fear_1_8</th>\n    </tr>\n  </thead>\n  <tbody>\n    <tr>\n      <th>0</th>\n      <td>PREDWELL_RETOS-1001-1</td>\n      <td>4</td>\n      <td>1</td>\n      <td>1</td>\n      <td>1</td>\n      <td>1</td>\n      <td>1</td>\n      <td>4</td>\n      <td>4</td>\n      <td>4</td>\n      <td>...</td>\n      <td>3</td>\n      <td>4</td>\n      <td>1</td>\n      <td>3</td>\n      <td>2</td>\n      <td>3</td>\n      <td>4</td>\n      <td>3</td>\n      <td>3</td>\n      <td>4</td>\n    </tr>\n    <tr>\n      <th>1</th>\n      <td>PREDWELL_RETOS-1002-1</td>\n      <td>1</td>\n      <td>1</td>\n      <td>3</td>\n      <td>1</td>\n      <td>1</td>\n      <td>1</td>\n      <td>3</td>\n      <td>4</td>\n      <td>4</td>\n      <td>...</td>\n      <td>1</td>\n      <td>3</td>\n      <td>1</td>\n      <td>3</td>\n      <td>4</td>\n      <td>3</td>\n      <td>4</td>\n      <td>2</td>\n      <td>3</td>\n      <td>4</td>\n    </tr>\n    <tr>\n      <th>2</th>\n      <td>PREDWELL_RETOS-1003-1</td>\n      <td>1</td>\n      <td>1</td>\n      <td>1</td>\n      <td>1</td>\n      <td>1</td>\n      <td>1</td>\n      <td>3</td>\n      <td>3</td>\n      <td>4</td>\n      <td>...</td>\n      <td>2</td>\n      <td>2</td>\n      <td>2</td>\n      <td>3</td>\n      <td>2</td>\n      <td>2</td>\n      <td>2</td>\n      <td>1</td>\n      <td>3</td>\n      <td>3</td>\n    </tr>\n    <tr>\n      <th>3</th>\n      <td>PREDWELL_RETOS-1004-1</td>\n      <td>1</td>\n      <td>1</td>\n      <td>3</td>\n      <td>3</td>\n      <td>2</td>\n      <td>1</td>\n      <td>1</td>\n      <td>4</td>\n      <td>2</td>\n      <td>...</td>\n      <td>2</td>\n      <td>2</td>\n      <td>4</td>\n      <td>3</td>\n      <td>1</td>\n      <td>3</td>\n      <td>3</td>\n      <td>2</td>\n      <td>1</td>\n      <td>3</td>\n    </tr>\n    <tr>\n      <th>4</th>\n      <td>PREDWELL_RETOS-1005-1</td>\n      <td>1</td>\n      <td>1</td>\n      <td>1</td>\n      <td>1</td>\n      <td>2</td>\n      <td>1</td>\n      <td>4</td>\n      <td>3</td>\n      <td>4</td>\n      <td>...</td>\n      <td>1</td>\n      <td>2</td>\n      <td>2</td>\n      <td>2</td>\n      <td>3</td>\n      <td>3</td>\n      <td>3</td>\n      <td>4</td>\n      <td>3</td>\n      <td>3</td>\n    </tr>\n    <tr>\n      <th>...</th>\n      <td>...</td>\n      <td>...</td>\n      <td>...</td>\n      <td>...</td>\n      <td>...</td>\n      <td>...</td>\n      <td>...</td>\n      <td>...</td>\n      <td>...</td>\n      <td>...</td>\n      <td>...</td>\n      <td>...</td>\n      <td>...</td>\n      <td>...</td>\n      <td>...</td>\n      <td>...</td>\n      <td>...</td>\n      <td>...</td>\n      <td>...</td>\n      <td>...</td>\n      <td>...</td>\n    </tr>\n    <tr>\n      <th>144</th>\n      <td>PREDWELL_RETOS-5-1</td>\n      <td>2</td>\n      <td>2</td>\n      <td>1</td>\n      <td>1</td>\n      <td>1</td>\n      <td>1</td>\n      <td>3</td>\n      <td>4</td>\n      <td>4</td>\n      <td>...</td>\n      <td>1</td>\n      <td>1</td>\n      <td>1</td>\n      <td>4</td>\n      <td>2</td>\n      <td>4</td>\n      <td>3</td>\n      <td>3</td>\n      <td>2</td>\n      <td>2</td>\n    </tr>\n    <tr>\n      <th>145</th>\n      <td>PREDWELL_RETOS-6-1</td>\n      <td>1</td>\n      <td>2</td>\n      <td>1</td>\n      <td>1</td>\n      <td>1</td>\n      <td>1</td>\n      <td>3</td>\n      <td>3</td>\n      <td>4</td>\n      <td>...</td>\n      <td>1</td>\n      <td>2</td>\n      <td>2</td>\n      <td>2</td>\n      <td>4</td>\n      <td>2</td>\n      <td>3</td>\n      <td>2</td>\n      <td>4</td>\n      <td>4</td>\n    </tr>\n    <tr>\n      <th>146</th>\n      <td>PREDWELL_RETOS-7-1</td>\n      <td>1</td>\n      <td>1</td>\n      <td>1</td>\n      <td>1</td>\n      <td>1</td>\n      <td>1</td>\n      <td>3</td>\n      <td>4</td>\n      <td>2</td>\n      <td>...</td>\n      <td>4</td>\n      <td>4</td>\n      <td>1</td>\n      <td>2</td>\n      <td>4</td>\n      <td>4</td>\n      <td>1</td>\n      <td>4</td>\n      <td>4</td>\n      <td>1</td>\n    </tr>\n    <tr>\n      <th>147</th>\n      <td>PREDWELL_RETOS-8-1</td>\n      <td>1</td>\n      <td>1</td>\n      <td>1</td>\n      <td>1</td>\n      <td>1</td>\n      <td>1</td>\n      <td>4</td>\n      <td>4</td>\n      <td>1</td>\n      <td>...</td>\n      <td>3</td>\n      <td>3</td>\n      <td>3</td>\n      <td>4</td>\n      <td>3</td>\n      <td>2</td>\n      <td>4</td>\n      <td>2</td>\n      <td>1</td>\n      <td>3</td>\n    </tr>\n    <tr>\n      <th>148</th>\n      <td>PREDWELL_RETOS-9-1</td>\n      <td>1</td>\n      <td>1</td>\n      <td>1</td>\n      <td>1</td>\n      <td>1</td>\n      <td>1</td>\n      <td>2</td>\n      <td>4</td>\n      <td>3</td>\n      <td>...</td>\n      <td>2</td>\n      <td>1</td>\n      <td>2</td>\n      <td>1</td>\n      <td>4</td>\n      <td>1</td>\n      <td>2</td>\n      <td>2</td>\n      <td>3</td>\n      <td>2</td>\n    </tr>\n  </tbody>\n</table>\n<p>149 rows × 46 columns</p>\n</div>"
     },
     "execution_count": 106,
     "metadata": {},
     "output_type": "execute_result"
    }
   ],
   "source": [
    "RETOS_BEBRASK_Rating0_Time_Series"
   ],
   "metadata": {
    "collapsed": false,
    "ExecuteTime": {
     "end_time": "2024-02-19T12:39:47.942494800Z",
     "start_time": "2024-02-19T12:39:47.381925600Z"
    }
   },
   "id": "e4068f035f732df8",
   "execution_count": 106
  },
  {
   "cell_type": "code",
   "outputs": [
    {
     "data": {
      "text/plain": "              Subject ID  Happy_0_0  Happy_0_1  Happy_0_2  Happy_0_3  \\\n0  PREDWELL_RETOS-1001-1          4          2          1          2   \n1  PREDWELL_RETOS-1002-1          3          3          2          3   \n2  PREDWELL_RETOS-1003-1          2          2          4          4   \n3  PREDWELL_RETOS-1004-1          2          2          3          2   \n4  PREDWELL_RETOS-1005-1          2          3          3          2   \n\n   Happy_0_4  Happy_0_5  Happy_1_0  Happy_1_1  Happy_1_2  ...  Fear_0_5  \\\n0          3          3          4          4          3  ...         2   \n1          2          2          3          4          4  ...         1   \n2          2          3          2          3          2  ...         3   \n3          2          1          2          3          2  ...         3   \n4          2          2          3          3          4  ...         3   \n\n   Fear_1_0  Fear_1_1  Fear_1_2  Fear_1_3  Fear_1_4  Fear_1_5  Fear_1_6  \\\n0         2         2         3         2         2         3         2   \n1         3         2         4         3         3         2         2   \n2         2         3         3         3         1         3         4   \n3         3         3         2         4         3         2         2   \n4         2         3         2         3         2         2         2   \n\n   Fear_1_7  Fear_1_8  \n0         3         3  \n1         3         3  \n2         3         4  \n3         2         2  \n4         2         2  \n\n[5 rows x 46 columns]",
      "text/html": "<div>\n<style scoped>\n    .dataframe tbody tr th:only-of-type {\n        vertical-align: middle;\n    }\n\n    .dataframe tbody tr th {\n        vertical-align: top;\n    }\n\n    .dataframe thead th {\n        text-align: right;\n    }\n</style>\n<table border=\"1\" class=\"dataframe\">\n  <thead>\n    <tr style=\"text-align: right;\">\n      <th></th>\n      <th>Subject ID</th>\n      <th>Happy_0_0</th>\n      <th>Happy_0_1</th>\n      <th>Happy_0_2</th>\n      <th>Happy_0_3</th>\n      <th>Happy_0_4</th>\n      <th>Happy_0_5</th>\n      <th>Happy_1_0</th>\n      <th>Happy_1_1</th>\n      <th>Happy_1_2</th>\n      <th>...</th>\n      <th>Fear_0_5</th>\n      <th>Fear_1_0</th>\n      <th>Fear_1_1</th>\n      <th>Fear_1_2</th>\n      <th>Fear_1_3</th>\n      <th>Fear_1_4</th>\n      <th>Fear_1_5</th>\n      <th>Fear_1_6</th>\n      <th>Fear_1_7</th>\n      <th>Fear_1_8</th>\n    </tr>\n  </thead>\n  <tbody>\n    <tr>\n      <th>0</th>\n      <td>PREDWELL_RETOS-1001-1</td>\n      <td>4</td>\n      <td>2</td>\n      <td>1</td>\n      <td>2</td>\n      <td>3</td>\n      <td>3</td>\n      <td>4</td>\n      <td>4</td>\n      <td>3</td>\n      <td>...</td>\n      <td>2</td>\n      <td>2</td>\n      <td>2</td>\n      <td>3</td>\n      <td>2</td>\n      <td>2</td>\n      <td>3</td>\n      <td>2</td>\n      <td>3</td>\n      <td>3</td>\n    </tr>\n    <tr>\n      <th>1</th>\n      <td>PREDWELL_RETOS-1002-1</td>\n      <td>3</td>\n      <td>3</td>\n      <td>2</td>\n      <td>3</td>\n      <td>2</td>\n      <td>2</td>\n      <td>3</td>\n      <td>4</td>\n      <td>4</td>\n      <td>...</td>\n      <td>1</td>\n      <td>3</td>\n      <td>2</td>\n      <td>4</td>\n      <td>3</td>\n      <td>3</td>\n      <td>2</td>\n      <td>2</td>\n      <td>3</td>\n      <td>3</td>\n    </tr>\n    <tr>\n      <th>2</th>\n      <td>PREDWELL_RETOS-1003-1</td>\n      <td>2</td>\n      <td>2</td>\n      <td>4</td>\n      <td>4</td>\n      <td>2</td>\n      <td>3</td>\n      <td>2</td>\n      <td>3</td>\n      <td>2</td>\n      <td>...</td>\n      <td>3</td>\n      <td>2</td>\n      <td>3</td>\n      <td>3</td>\n      <td>3</td>\n      <td>1</td>\n      <td>3</td>\n      <td>4</td>\n      <td>3</td>\n      <td>4</td>\n    </tr>\n    <tr>\n      <th>3</th>\n      <td>PREDWELL_RETOS-1004-1</td>\n      <td>2</td>\n      <td>2</td>\n      <td>3</td>\n      <td>2</td>\n      <td>2</td>\n      <td>1</td>\n      <td>2</td>\n      <td>3</td>\n      <td>2</td>\n      <td>...</td>\n      <td>3</td>\n      <td>3</td>\n      <td>3</td>\n      <td>2</td>\n      <td>4</td>\n      <td>3</td>\n      <td>2</td>\n      <td>2</td>\n      <td>2</td>\n      <td>2</td>\n    </tr>\n    <tr>\n      <th>4</th>\n      <td>PREDWELL_RETOS-1005-1</td>\n      <td>2</td>\n      <td>3</td>\n      <td>3</td>\n      <td>2</td>\n      <td>2</td>\n      <td>2</td>\n      <td>3</td>\n      <td>3</td>\n      <td>4</td>\n      <td>...</td>\n      <td>3</td>\n      <td>2</td>\n      <td>3</td>\n      <td>2</td>\n      <td>3</td>\n      <td>2</td>\n      <td>2</td>\n      <td>2</td>\n      <td>2</td>\n      <td>2</td>\n    </tr>\n  </tbody>\n</table>\n<p>5 rows × 46 columns</p>\n</div>"
     },
     "execution_count": 107,
     "metadata": {},
     "output_type": "execute_result"
    }
   ],
   "source": [
    "RETOS_BEBRASK_Rating_Time_Series.to_excel('../Clustering_Predictive_Processing/RETOS_BEBRASK_Rating_Time_Series.xlsx', index=False) \n",
    "RETOS_BEBRASK_Rating_Time_Series.head(5)"
   ],
   "metadata": {
    "collapsed": false,
    "ExecuteTime": {
     "end_time": "2024-02-19T12:39:48.065027200Z",
     "start_time": "2024-02-19T12:39:47.410925200Z"
    }
   },
   "id": "51436be16bee1eeb",
   "execution_count": 107
  },
  {
   "cell_type": "markdown",
   "source": [
    "## BEBRASK & RETOS Time Series Moving Average By Emotion and Match"
   ],
   "metadata": {
    "collapsed": false
   },
   "id": "f2c4c5748dc6cc9d"
  },
  {
   "cell_type": "code",
   "outputs": [],
   "source": [
    "def compute_moving_averages_no_edges(subject_dict,rating):\n",
    "    \"\"\"\n",
    "    Procesa un diccionario con la información de las respuestas dadas por cada sujeto organizado por sentimiento, y crea\n",
    "    un dataframe donde se guarda los Moving Average de los trials donde estos están organizados secuencialmente según la \n",
    "    emoción y si es match o no. Se calcula un 3 point Moving Average (se hace un average de los tres primeros puntos, \n",
    "    luego uno del segundo al cuarto punto y así sucesivamente).\n",
    "\n",
    "    Parámetros:\n",
    "    - subject_dict (dict): Diccionario que contiene la información de las scores organizadas por sujetos y por emociones.\n",
    "    - rating (string): Rating a partir del cual hacer las agregaciones de las scores (Rating0 o Rating).\n",
    "\n",
    "    Retorna:\n",
    "    - df_counts (pandas.DataFrame): Un dataframe donde cada fila contiene el identificador del sujeto y una sèrie temporal\n",
    "    correspondiente a sus respuestas\n",
    "    \"\"\"\n",
    "    results = {}\n",
    "    for instance, categories in subject_dict.items():\n",
    "        results[instance] = {}\n",
    "        for category, info in categories.items():\n",
    "            pred = info[rating]\n",
    "            fulfill = info['Fulfill']\n",
    "            fulfill_0_positions = np.where(fulfill == 0)[0]\n",
    "            fulfill_1_positions = np.where(fulfill == 1)[0]\n",
    "\n",
    "            # Calculate moving averages for fulfill 0 excluding edges\n",
    "            ma_fulfill_0 = []\n",
    "            for i,pos in enumerate(fulfill_0_positions):\n",
    "                if i == 0 or i == len(fulfill_0_positions) - 1:\n",
    "                    continue  # Skip first and last positions\n",
    "                relevant_preds = [pred[fulfill_0_positions[i-1]],pred[fulfill_0_positions[i]],pred[fulfill_0_positions[i+1]]]\n",
    "                ma_fulfill_0.append(np.mean(relevant_preds))\n",
    "\n",
    "            # Calculate moving averages for fulfill 1 excluding edges\n",
    "            ma_fulfill_1 = []\n",
    "            for i,pos in enumerate(fulfill_1_positions):\n",
    "                if i == 0 or i == len(fulfill_1_positions) - 1:\n",
    "                    continue  # Skip first and last positions\n",
    "                relevant_preds = [pred[fulfill_1_positions[i-1]],pred[fulfill_1_positions[i]],pred[fulfill_1_positions[i+1]]]\n",
    "                ma_fulfill_1.append(np.mean(relevant_preds))\n",
    "\n",
    "            results[instance][category] = {\n",
    "                'Fulfill_0_MA': ma_fulfill_0,\n",
    "                'Fulfill_1_MA': ma_fulfill_1\n",
    "            }\n",
    "            \n",
    "    records = []\n",
    "    for subject_id, emotions in results.items():\n",
    "        record = {'Subject ID': subject_id}\n",
    "        for emotion, stats in emotions.items():\n",
    "            for stat_key, stat_value in stats.items():\n",
    "                for i,val in enumerate(stat_value):\n",
    "                # Creating new column names in the format \"Emotion_StatisticalMeasure\"\n",
    "                    column_name = f\"{emotion}_{stat_key[8]}_MA_{i}\"\n",
    "                    record[column_name] = val\n",
    "        records.append(record)\n",
    "\n",
    "    return pd.DataFrame(records)"
   ],
   "metadata": {
    "collapsed": false,
    "ExecuteTime": {
     "end_time": "2024-02-19T12:39:48.087027600Z",
     "start_time": "2024-02-19T12:39:47.609165300Z"
    }
   },
   "id": "819fe64a82f6608b",
   "execution_count": 108
  },
  {
   "cell_type": "code",
   "outputs": [],
   "source": [
    "RETOS_BEBRASK_Rating0_Time_MA_Series = compute_moving_averages_no_edges(merged_dict, \"Rating0\")\n",
    "RETOS_BEBRASK_Rating_Time_MA_Series = compute_moving_averages_no_edges(merged_dict, \"Rating\")\n"
   ],
   "metadata": {
    "collapsed": false,
    "ExecuteTime": {
     "end_time": "2024-02-19T12:39:48.301715200Z",
     "start_time": "2024-02-19T12:39:47.615190900Z"
    }
   },
   "id": "8a4030b800385bf5",
   "execution_count": 109
  },
  {
   "cell_type": "code",
   "outputs": [
    {
     "data": {
      "text/plain": "              Subject ID  Happy_0_MA_0  Happy_0_MA_1  Happy_0_MA_2  \\\n0  PREDWELL_RETOS-1001-1      2.000000      1.000000      1.000000   \n1  PREDWELL_RETOS-1002-1      1.666667      1.666667      1.666667   \n2  PREDWELL_RETOS-1003-1      1.000000      1.000000      1.000000   \n3  PREDWELL_RETOS-1004-1      1.666667      2.333333      2.666667   \n4  PREDWELL_RETOS-1005-1      1.000000      1.000000      1.333333   \n\n   Happy_0_MA_3  Happy_1_MA_0  Happy_1_MA_1  Happy_1_MA_2  Happy_1_MA_3  \\\n0      1.000000      4.000000      4.000000      3.666667      3.666667   \n1      1.000000      3.666667      4.000000      4.000000      4.000000   \n2      1.000000      3.333333      3.666667      3.666667      3.333333   \n3      2.000000      2.333333      2.333333      1.333333      1.666667   \n4      1.333333      3.666667      3.333333      3.666667      3.333333   \n\n   Happy_1_MA_4  ...  Fear_0_MA_1  Fear_0_MA_2  Fear_0_MA_3  Fear_1_MA_0  \\\n0      3.666667  ...     1.666667     1.000000     1.666667     2.666667   \n1      3.666667  ...     3.000000     2.333333     1.666667     2.333333   \n2      3.000000  ...     1.333333     1.666667     2.000000     2.333333   \n3      2.333333  ...     1.333333     2.333333     2.333333     3.000000   \n4      3.666667  ...     2.333333     3.000000     2.000000     2.000000   \n\n   Fear_1_MA_1  Fear_1_MA_2  Fear_1_MA_3  Fear_1_MA_4  Fear_1_MA_5  \\\n0     2.000000     2.666667     3.000000     3.333333     3.333333   \n1     2.666667     3.333333     3.666667     3.000000     3.000000   \n2     2.333333     2.333333     2.000000     1.666667     2.000000   \n3     2.666667     2.333333     2.333333     2.666667     2.000000   \n4     2.333333     2.666667     3.000000     3.333333     3.333333   \n\n   Fear_1_MA_6  \n0     3.333333  \n1     3.000000  \n2     2.333333  \n3     2.000000  \n4     3.333333  \n\n[5 rows x 34 columns]",
      "text/html": "<div>\n<style scoped>\n    .dataframe tbody tr th:only-of-type {\n        vertical-align: middle;\n    }\n\n    .dataframe tbody tr th {\n        vertical-align: top;\n    }\n\n    .dataframe thead th {\n        text-align: right;\n    }\n</style>\n<table border=\"1\" class=\"dataframe\">\n  <thead>\n    <tr style=\"text-align: right;\">\n      <th></th>\n      <th>Subject ID</th>\n      <th>Happy_0_MA_0</th>\n      <th>Happy_0_MA_1</th>\n      <th>Happy_0_MA_2</th>\n      <th>Happy_0_MA_3</th>\n      <th>Happy_1_MA_0</th>\n      <th>Happy_1_MA_1</th>\n      <th>Happy_1_MA_2</th>\n      <th>Happy_1_MA_3</th>\n      <th>Happy_1_MA_4</th>\n      <th>...</th>\n      <th>Fear_0_MA_1</th>\n      <th>Fear_0_MA_2</th>\n      <th>Fear_0_MA_3</th>\n      <th>Fear_1_MA_0</th>\n      <th>Fear_1_MA_1</th>\n      <th>Fear_1_MA_2</th>\n      <th>Fear_1_MA_3</th>\n      <th>Fear_1_MA_4</th>\n      <th>Fear_1_MA_5</th>\n      <th>Fear_1_MA_6</th>\n    </tr>\n  </thead>\n  <tbody>\n    <tr>\n      <th>0</th>\n      <td>PREDWELL_RETOS-1001-1</td>\n      <td>2.000000</td>\n      <td>1.000000</td>\n      <td>1.000000</td>\n      <td>1.000000</td>\n      <td>4.000000</td>\n      <td>4.000000</td>\n      <td>3.666667</td>\n      <td>3.666667</td>\n      <td>3.666667</td>\n      <td>...</td>\n      <td>1.666667</td>\n      <td>1.000000</td>\n      <td>1.666667</td>\n      <td>2.666667</td>\n      <td>2.000000</td>\n      <td>2.666667</td>\n      <td>3.000000</td>\n      <td>3.333333</td>\n      <td>3.333333</td>\n      <td>3.333333</td>\n    </tr>\n    <tr>\n      <th>1</th>\n      <td>PREDWELL_RETOS-1002-1</td>\n      <td>1.666667</td>\n      <td>1.666667</td>\n      <td>1.666667</td>\n      <td>1.000000</td>\n      <td>3.666667</td>\n      <td>4.000000</td>\n      <td>4.000000</td>\n      <td>4.000000</td>\n      <td>3.666667</td>\n      <td>...</td>\n      <td>3.000000</td>\n      <td>2.333333</td>\n      <td>1.666667</td>\n      <td>2.333333</td>\n      <td>2.666667</td>\n      <td>3.333333</td>\n      <td>3.666667</td>\n      <td>3.000000</td>\n      <td>3.000000</td>\n      <td>3.000000</td>\n    </tr>\n    <tr>\n      <th>2</th>\n      <td>PREDWELL_RETOS-1003-1</td>\n      <td>1.000000</td>\n      <td>1.000000</td>\n      <td>1.000000</td>\n      <td>1.000000</td>\n      <td>3.333333</td>\n      <td>3.666667</td>\n      <td>3.666667</td>\n      <td>3.333333</td>\n      <td>3.000000</td>\n      <td>...</td>\n      <td>1.333333</td>\n      <td>1.666667</td>\n      <td>2.000000</td>\n      <td>2.333333</td>\n      <td>2.333333</td>\n      <td>2.333333</td>\n      <td>2.000000</td>\n      <td>1.666667</td>\n      <td>2.000000</td>\n      <td>2.333333</td>\n    </tr>\n    <tr>\n      <th>3</th>\n      <td>PREDWELL_RETOS-1004-1</td>\n      <td>1.666667</td>\n      <td>2.333333</td>\n      <td>2.666667</td>\n      <td>2.000000</td>\n      <td>2.333333</td>\n      <td>2.333333</td>\n      <td>1.333333</td>\n      <td>1.666667</td>\n      <td>2.333333</td>\n      <td>...</td>\n      <td>1.333333</td>\n      <td>2.333333</td>\n      <td>2.333333</td>\n      <td>3.000000</td>\n      <td>2.666667</td>\n      <td>2.333333</td>\n      <td>2.333333</td>\n      <td>2.666667</td>\n      <td>2.000000</td>\n      <td>2.000000</td>\n    </tr>\n    <tr>\n      <th>4</th>\n      <td>PREDWELL_RETOS-1005-1</td>\n      <td>1.000000</td>\n      <td>1.000000</td>\n      <td>1.333333</td>\n      <td>1.333333</td>\n      <td>3.666667</td>\n      <td>3.333333</td>\n      <td>3.666667</td>\n      <td>3.333333</td>\n      <td>3.666667</td>\n      <td>...</td>\n      <td>2.333333</td>\n      <td>3.000000</td>\n      <td>2.000000</td>\n      <td>2.000000</td>\n      <td>2.333333</td>\n      <td>2.666667</td>\n      <td>3.000000</td>\n      <td>3.333333</td>\n      <td>3.333333</td>\n      <td>3.333333</td>\n    </tr>\n  </tbody>\n</table>\n<p>5 rows × 34 columns</p>\n</div>"
     },
     "execution_count": 110,
     "metadata": {},
     "output_type": "execute_result"
    }
   ],
   "source": [
    "RETOS_BEBRASK_Rating0_Time_MA_Series.to_excel('../Clustering_Predictive_Processing/RETOS_BEBRASK_Rating0_Time_MA_Series.xlsx', index=False) \n",
    "RETOS_BEBRASK_Rating0_Time_MA_Series.head(5)\n"
   ],
   "metadata": {
    "collapsed": false,
    "ExecuteTime": {
     "end_time": "2024-02-19T12:39:48.530944200Z",
     "start_time": "2024-02-19T12:39:47.757954800Z"
    }
   },
   "id": "bcdbd60430c6dac1",
   "execution_count": 110
  },
  {
   "cell_type": "code",
   "outputs": [
    {
     "data": {
      "text/plain": "              Subject ID  Happy_0_MA_0  Happy_0_MA_1  Happy_0_MA_2  \\\n0  PREDWELL_RETOS-1001-1      2.333333      1.666667      2.000000   \n1  PREDWELL_RETOS-1002-1      2.666667      2.666667      2.333333   \n2  PREDWELL_RETOS-1003-1      2.666667      3.333333      3.333333   \n3  PREDWELL_RETOS-1004-1      2.333333      2.333333      2.333333   \n4  PREDWELL_RETOS-1005-1      2.666667      2.666667      2.333333   \n\n   Happy_0_MA_3  Happy_1_MA_0  Happy_1_MA_1  Happy_1_MA_2  Happy_1_MA_3  \\\n0      2.666667      3.666667      3.333333      3.000000      3.333333   \n1      2.333333      3.666667      4.000000      4.000000      4.000000   \n2      3.000000      2.333333      3.000000      3.333333      3.666667   \n3      1.666667      2.333333      2.666667      2.000000      2.666667   \n4      2.000000      3.333333      3.333333      3.666667      3.333333   \n\n   Happy_1_MA_4  ...  Fear_0_MA_1  Fear_0_MA_2  Fear_0_MA_3  Fear_1_MA_0  \\\n0      3.333333  ...     2.333333     2.000000     1.666667     2.333333   \n1      4.000000  ...     3.333333     3.000000     2.333333     3.000000   \n2      3.333333  ...     2.333333     2.666667     3.333333     2.666667   \n3      2.666667  ...     1.333333     2.000000     2.333333     2.666667   \n4      3.666667  ...     2.666667     2.666667     3.000000     2.333333   \n\n   Fear_1_MA_1  Fear_1_MA_2  Fear_1_MA_3  Fear_1_MA_4  Fear_1_MA_5  \\\n0     2.333333     2.333333     2.333333     2.333333     2.666667   \n1     3.000000     3.333333     2.666667     2.333333     2.333333   \n2     3.000000     2.333333     2.333333     2.666667     3.333333   \n3     3.000000     3.000000     3.000000     2.333333     2.000000   \n4     2.666667     2.333333     2.333333     2.000000     2.000000   \n\n   Fear_1_MA_6  \n0     2.666667  \n1     2.666667  \n2     3.666667  \n3     2.000000  \n4     2.000000  \n\n[5 rows x 34 columns]",
      "text/html": "<div>\n<style scoped>\n    .dataframe tbody tr th:only-of-type {\n        vertical-align: middle;\n    }\n\n    .dataframe tbody tr th {\n        vertical-align: top;\n    }\n\n    .dataframe thead th {\n        text-align: right;\n    }\n</style>\n<table border=\"1\" class=\"dataframe\">\n  <thead>\n    <tr style=\"text-align: right;\">\n      <th></th>\n      <th>Subject ID</th>\n      <th>Happy_0_MA_0</th>\n      <th>Happy_0_MA_1</th>\n      <th>Happy_0_MA_2</th>\n      <th>Happy_0_MA_3</th>\n      <th>Happy_1_MA_0</th>\n      <th>Happy_1_MA_1</th>\n      <th>Happy_1_MA_2</th>\n      <th>Happy_1_MA_3</th>\n      <th>Happy_1_MA_4</th>\n      <th>...</th>\n      <th>Fear_0_MA_1</th>\n      <th>Fear_0_MA_2</th>\n      <th>Fear_0_MA_3</th>\n      <th>Fear_1_MA_0</th>\n      <th>Fear_1_MA_1</th>\n      <th>Fear_1_MA_2</th>\n      <th>Fear_1_MA_3</th>\n      <th>Fear_1_MA_4</th>\n      <th>Fear_1_MA_5</th>\n      <th>Fear_1_MA_6</th>\n    </tr>\n  </thead>\n  <tbody>\n    <tr>\n      <th>0</th>\n      <td>PREDWELL_RETOS-1001-1</td>\n      <td>2.333333</td>\n      <td>1.666667</td>\n      <td>2.000000</td>\n      <td>2.666667</td>\n      <td>3.666667</td>\n      <td>3.333333</td>\n      <td>3.000000</td>\n      <td>3.333333</td>\n      <td>3.333333</td>\n      <td>...</td>\n      <td>2.333333</td>\n      <td>2.000000</td>\n      <td>1.666667</td>\n      <td>2.333333</td>\n      <td>2.333333</td>\n      <td>2.333333</td>\n      <td>2.333333</td>\n      <td>2.333333</td>\n      <td>2.666667</td>\n      <td>2.666667</td>\n    </tr>\n    <tr>\n      <th>1</th>\n      <td>PREDWELL_RETOS-1002-1</td>\n      <td>2.666667</td>\n      <td>2.666667</td>\n      <td>2.333333</td>\n      <td>2.333333</td>\n      <td>3.666667</td>\n      <td>4.000000</td>\n      <td>4.000000</td>\n      <td>4.000000</td>\n      <td>4.000000</td>\n      <td>...</td>\n      <td>3.333333</td>\n      <td>3.000000</td>\n      <td>2.333333</td>\n      <td>3.000000</td>\n      <td>3.000000</td>\n      <td>3.333333</td>\n      <td>2.666667</td>\n      <td>2.333333</td>\n      <td>2.333333</td>\n      <td>2.666667</td>\n    </tr>\n    <tr>\n      <th>2</th>\n      <td>PREDWELL_RETOS-1003-1</td>\n      <td>2.666667</td>\n      <td>3.333333</td>\n      <td>3.333333</td>\n      <td>3.000000</td>\n      <td>2.333333</td>\n      <td>3.000000</td>\n      <td>3.333333</td>\n      <td>3.666667</td>\n      <td>3.333333</td>\n      <td>...</td>\n      <td>2.333333</td>\n      <td>2.666667</td>\n      <td>3.333333</td>\n      <td>2.666667</td>\n      <td>3.000000</td>\n      <td>2.333333</td>\n      <td>2.333333</td>\n      <td>2.666667</td>\n      <td>3.333333</td>\n      <td>3.666667</td>\n    </tr>\n    <tr>\n      <th>3</th>\n      <td>PREDWELL_RETOS-1004-1</td>\n      <td>2.333333</td>\n      <td>2.333333</td>\n      <td>2.333333</td>\n      <td>1.666667</td>\n      <td>2.333333</td>\n      <td>2.666667</td>\n      <td>2.000000</td>\n      <td>2.666667</td>\n      <td>2.666667</td>\n      <td>...</td>\n      <td>1.333333</td>\n      <td>2.000000</td>\n      <td>2.333333</td>\n      <td>2.666667</td>\n      <td>3.000000</td>\n      <td>3.000000</td>\n      <td>3.000000</td>\n      <td>2.333333</td>\n      <td>2.000000</td>\n      <td>2.000000</td>\n    </tr>\n    <tr>\n      <th>4</th>\n      <td>PREDWELL_RETOS-1005-1</td>\n      <td>2.666667</td>\n      <td>2.666667</td>\n      <td>2.333333</td>\n      <td>2.000000</td>\n      <td>3.333333</td>\n      <td>3.333333</td>\n      <td>3.666667</td>\n      <td>3.333333</td>\n      <td>3.666667</td>\n      <td>...</td>\n      <td>2.666667</td>\n      <td>2.666667</td>\n      <td>3.000000</td>\n      <td>2.333333</td>\n      <td>2.666667</td>\n      <td>2.333333</td>\n      <td>2.333333</td>\n      <td>2.000000</td>\n      <td>2.000000</td>\n      <td>2.000000</td>\n    </tr>\n  </tbody>\n</table>\n<p>5 rows × 34 columns</p>\n</div>"
     },
     "execution_count": 111,
     "metadata": {},
     "output_type": "execute_result"
    }
   ],
   "source": [
    "RETOS_BEBRASK_Rating_Time_MA_Series.to_excel('../Clustering_Predictive_Processing/RETOS_BEBRASK_Rating_Time_MA_Series.xlsx', index=False) \n",
    "RETOS_BEBRASK_Rating_Time_MA_Series.head(5)\n"
   ],
   "metadata": {
    "collapsed": false,
    "ExecuteTime": {
     "end_time": "2024-02-19T12:39:48.592318400Z",
     "start_time": "2024-02-19T12:39:47.946992500Z"
    }
   },
   "id": "acf8798b49524043",
   "execution_count": 111
  }
 ],
 "metadata": {
  "kernelspec": {
   "display_name": "Python 3",
   "language": "python",
   "name": "python3"
  },
  "language_info": {
   "codemirror_mode": {
    "name": "ipython",
    "version": 2
   },
   "file_extension": ".py",
   "mimetype": "text/x-python",
   "name": "python",
   "nbconvert_exporter": "python",
   "pygments_lexer": "ipython2",
   "version": "2.7.6"
  }
 },
 "nbformat": 4,
 "nbformat_minor": 5
}
