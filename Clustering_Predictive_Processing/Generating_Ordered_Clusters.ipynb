{
 "cells": [
  {
   "cell_type": "code",
   "execution_count": null,
   "id": "initial_id",
   "metadata": {
    "collapsed": true
   },
   "outputs": [],
   "source": [
    "import pandas as pd\n",
    "import numpy as np\n",
    "import itertools\n",
    "import warnings\n",
    "from sklearn.preprocessing import StandardScaler\n",
    "import matplotlib.pyplot as plt\n",
    "import seaborn as sns\n",
    "import numpy as np\n",
    "from sklearn.metrics import silhouette_score, davies_bouldin_score\n",
    "from sklearn.cluster import AgglomerativeClustering, KMeans, OPTICS\n",
    "\n",
    "import pyPLNmodels\n",
    "from pyPLNmodels.models import PlnPCAcollection, Pln, ZIPln\n",
    "\n",
    "import predictive_plots,predictive_clustering,utils\n"
   ]
  },
  {
   "cell_type": "code",
   "outputs": [],
   "source": [
    "warnings.filterwarnings('ignore', category=FutureWarning)\n",
    "\n",
    "scales_BEBRASK = pd.read_excel(\"../Datasets/RETOS_scales.xlsx\")\n",
    "scales_RETOS = pd.read_excel(\"../Datasets/BEBRASK_scales.xlsx\")\n",
    "scales = pd.concat([scales_BEBRASK, scales_RETOS])\n",
    "scales = scales.query(\"EPRIME_CODE != 'PREDWELL_RETOS-307-1'\")\n",
    "cols = scales.columns\n",
    "#We convert all data to numeric, and change to NaN those values that can not be converted\n",
    "scales[cols[3:]] = scales[cols[3:]].apply(pd.to_numeric, errors='coerce')\n",
    "scales.reset_index(drop=True, inplace=True)\n",
    "nan_counts = scales.isna().sum()\n",
    "\n",
    "# Identify columns where the count of NaN is less than or equal to 50\n",
    "columns_with_fewer_nans = nan_counts[nan_counts <= 50].index.tolist()\n",
    "\n",
    "# Filter the DataFrame to include only these columns\n",
    "scales = scales[columns_with_fewer_nans]\n"
   ],
   "metadata": {
    "collapsed": false
   },
   "id": "31d1a34074abb366"
  },
  {
   "cell_type": "code",
   "outputs": [],
   "source": [
    "#Now we fill the NaN values\n",
    "scales.isna().sum()\n",
    "scales[\"UPPSP_PMD\"].fillna(value=scales[\"UPPSP_PMD\"].mean(),inplace=True)\n",
    "scales[\"ASI_P\"].fillna(value=scales[\"ASI_P\"].mean(),inplace=True)\n",
    "scales[\"ASI_C\"].fillna(value=scales[\"ASI_C\"].mean(),inplace=True)\n",
    "aux = scales.drop([\"SUBJECT_CODE\",\"EPRIME_CODE\",\"Age\",\"SPQ\",\"SPQ_IR\",\"MSSB_POS\",\"MSSB_NEG\",\"MSSB_DES\"],axis=1)\n"
   ],
   "metadata": {
    "collapsed": false
   },
   "id": "29464d33dd32a6a5"
  },
  {
   "cell_type": "code",
   "outputs": [],
   "source": [
    "from sklearn.model_selection import train_test_split\n",
    "from sklearn.ensemble import RandomForestRegressor\n",
    "from sklearn.metrics import mean_squared_error\n",
    "from math import sqrt\n",
    "from sklearn.linear_model import LinearRegression, Lasso\n",
    "\n",
    "aux = scales.drop([\"SUBJECT_CODE\", \"EPRIME_CODE\", \"Age\", \"SPQ\", \"SPQ_IR\", \"MSSB_POS\", \"MSSB_NEG\", \"MSSB_DES\"], axis=1)\n",
    "\n",
    "#Since there are plenty of missing values, we will use a regression approach to fill these values\n",
    "variables = ['SPQ', 'SPQ_IR', 'MSSB_POS', 'MSSB_NEG', 'MSSB_DES']\n",
    "#Non NaN for SPQ\n",
    "for var in variables:\n",
    "    # Filter for non-NaN rows for the current variable\n",
    "    X = aux[scales[var].notna()]\n",
    "    y = scales.loc[X.index][var]\n",
    "\n",
    "    # Splitting the data\n",
    "    X_train, X_test, y_train, y_test = train_test_split(X, y, test_size=30, train_size=len(X) - 30, random_state=42)\n",
    "\n",
    "    # Initialize and train the model\n",
    "    model = RandomForestRegressor(n_estimators=1000, criterion=\"absolute_error\", max_features=\"sqrt\",\n",
    "                                  min_samples_split=15)\n",
    "    model.fit(X_train, y_train)\n",
    "\n",
    "    # Predict on test set\n",
    "    y_pred = model.predict(X_test)\n",
    "\n",
    "    # Calculate RMSE for test predictions\n",
    "    rmse = sqrt(mean_squared_error(y_test, y_pred))\n",
    "    print(f\"Test RMSE for {var}: {rmse}\")\n",
    "\n",
    "    mean_value = y_train.mean()\n",
    "\n",
    "    # Create a list of 30 repeated values of the mean\n",
    "    repeated_means = [mean_value] * 30\n",
    "    rmse = sqrt(mean_squared_error(y_test, repeated_means))\n",
    "    print(f\"Means RMSE for {var}: {rmse}\")\n",
    "    # Predict missing values\n",
    "    var_NA = aux[scales[var].isna()]\n",
    "    pred_var = np.round(model.predict(var_NA))\n",
    "\n",
    "    # Convert predictions to a pandas Series with an index matching that of var_NA\n",
    "    pred_var_series = pd.Series(pred_var, index=var_NA.index)\n",
    "\n",
    "    # Assign the predicted values back into the original 'scales' DataFrame\n",
    "    scales.loc[pred_var_series.index, var] = pred_var_series\n"
   ],
   "metadata": {
    "collapsed": false
   },
   "id": "9ce6e02f4abfdddb"
  },
  {
   "cell_type": "code",
   "outputs": [],
   "source": [
    "#Grouping the metrics that will be evaluated from scales for the BEBRASK and RETOS dataset (as the rest were no used\n",
    "#or contain to many NaNs\n",
    "PANAS = [\"PA\", \"NA.\"]\n",
    "ERQ = [\"ERQ_CR\", \"ERQ_ES\"]\n",
    "UPPSP = [\"UPPSP_NU\", \"UPPSP_PU\", \"UPPSP_SS\", \"UPPSP_PMD\", \"UPPSP_PSV\"]\n",
    "BIS_BAS = [\"BIS\", \"BAS_D\", \"BAS_RR\", \"BAS_FS\"]\n",
    "TEPS = [\"TEPS_AF\", \"TEPS_CF\"]\n",
    "SHS = [\"SHS\"]\n",
    "FS = [\"FS\"]\n",
    "LOTR = [\"LOT_R\"]\n",
    "RRQ = [\"RRQ_Rum\", \"RRQ_Ref\"]\n",
    "ASI3 = [\"ASI_P\", \"ASI_C\", \"ASI_S\"]\n",
    "SPQ = [\"SPQ\", \"SPQ_IR\"]\n",
    "MSSB = [\"MSSB_POS\", \"MSSB_NEG\", \"MSSB_DES\"]\n",
    "\n",
    "list_metrics = [PANAS, ERQ, UPPSP, BIS_BAS, TEPS, SHS, FS, LOTR, RRQ, ASI3, SPQ, MSSB]\n"
   ],
   "metadata": {
    "collapsed": false
   },
   "id": "b636cd16bcbd6665"
  }
 ],
 "metadata": {
  "kernelspec": {
   "display_name": "Python 3",
   "language": "python",
   "name": "python3"
  },
  "language_info": {
   "codemirror_mode": {
    "name": "ipython",
    "version": 2
   },
   "file_extension": ".py",
   "mimetype": "text/x-python",
   "name": "python",
   "nbconvert_exporter": "python",
   "pygments_lexer": "ipython2",
   "version": "2.7.6"
  }
 },
 "nbformat": 4,
 "nbformat_minor": 5
}
