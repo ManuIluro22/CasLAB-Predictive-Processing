{
 "cells": [
  {
   "cell_type": "code",
   "outputs": [],
   "source": [
    "import pandas as pd\n",
    "from sklearn.preprocessing import PowerTransformer\n",
    "from scipy.stats import zscore\n",
    "\n",
    "# Load the data\n",
    "scales = pd.read_excel(\"scales.xlsx\")\n",
    "\n",
    "# Define the skewed columns\n",
    "skewed_columns = [\"UPPSP_PMD\", \"UPPSP_PSV\", \"ASI_P\", \"ASI_C\", \"MSSB_POS\", \"MSSB_NEG\", \"MSSB_DES\"]\n",
    "\n",
    "# Copy the original dataframe\n",
    "scales_transformed = scales.copy()\n",
    "\n",
    "# Apply PowerTransformer to the skewed columns\n",
    "pt = PowerTransformer(method='box-cox', standardize=False)\n",
    "scales_transformed[skewed_columns] = pt.fit_transform(scales_transformed[skewed_columns] + 1e-6)\n",
    "\n",
    "# Define the columns to apply z-score normalization\n",
    "metrics_columns = scales_transformed.drop([\"EPRIME_CODE\", \"SUBJECT_CODE\", \"Age\", \"Unnamed: 0\"], axis=1).columns.values\n",
    "\n",
    "# Apply z-score normalization, ignoring NaN values\n",
    "scales_transformed[metrics_columns] = scales_transformed[metrics_columns].apply(lambda x: zscore(x, nan_policy='omit'))\n"
   ],
   "metadata": {
    "collapsed": false,
    "ExecuteTime": {
     "end_time": "2024-07-14T17:04:44.297932300Z",
     "start_time": "2024-07-14T17:04:44.107196900Z"
    }
   },
   "id": "4b262d33c10fa586",
   "execution_count": 13
  },
  {
   "cell_type": "code",
   "outputs": [],
   "source": [
    "scales_transformed.drop(\"Unnamed: 0\",axis=1,inplace=True)"
   ],
   "metadata": {
    "collapsed": false,
    "ExecuteTime": {
     "end_time": "2024-07-14T17:04:57.800506900Z",
     "start_time": "2024-07-14T17:04:57.765462900Z"
    }
   },
   "id": "f5172668341815bf",
   "execution_count": 15
  },
  {
   "cell_type": "code",
   "outputs": [
    {
     "data": {
      "text/plain": "                      SUBJECT_CODE            EPRIME_CODE  Age        PA  \\\n0    PREDWELL_RETOS_DLPFC20HZ_S001     PREDWELL_RETOS-1-1   19  1.542411   \n1    PREDWELL_RETOS_DLPFC20HZ_S002     PREDWELL_RETOS-2-1   22 -0.039008   \n2    PREDWELL_RETOS_DLPFC20HZ_S003     PREDWELL_RETOS-3-1   19  0.751701   \n3    PREDWELL_RETOS_DLPFC20HZ_S004     PREDWELL_RETOS-4-1   21 -1.146002   \n4    PREDWELL_RETOS_DLPFC20HZ_S005     PREDWELL_RETOS-5-1   26 -0.829718   \n..                             ...                    ...  ...       ...   \n145    BEBRASK_LeftVCSHAM50HZ_S024  PREDWELL_RETOS-1124-1   21 -0.039008   \n146    BEBRASK_LeftVCSHAM50HZ_S025  PREDWELL_RETOS-1125-1   20 -1.304144   \n147    BEBRASK_LeftVCSHAM50HZ_S026  PREDWELL_RETOS-1126-1   18  1.858695   \n148    BEBRASK_LeftVCSHAM50HZ_S027  PREDWELL_RETOS-1127-1   20  0.277275   \n149    BEBRASK_LeftVCSHAM50HZ_S028  PREDWELL_RETOS-1128-1   19 -0.197150   \n\n          NA.    ERQ_CR    ERQ_ES  UPPSP_NU  UPPSP_PU  UPPSP_SS  ...  \\\n0    0.529655  1.447650  2.112677  0.046156  0.526490  0.378148  ...   \n1   -0.605320  0.498470 -1.581572 -1.272577 -1.288993 -1.310014  ...   \n2   -0.983645 -1.004398 -0.609401 -1.602260 -0.835122 -0.972381  ...   \n3    1.097142  0.125578 -1.192703 -1.272577 -1.288993 -1.310014  ...   \n4    0.151330  0.498470  1.140506  0.375839  1.434232  0.715781  ...   \n..        ...       ...       ...       ...       ...       ...  ...   \n145 -0.037832 -1.381057  0.557204 -0.283527 -0.381251  0.040516  ...   \n146  0.340492 -1.946045  2.112677 -1.602260 -1.742864 -0.634749  ...   \n147 -0.037832 -1.004398  0.751638  0.705522  0.980361  0.715781  ...   \n148 -0.226995  2.008872 -0.414967 -1.272577  0.072619  1.053413  ...   \n149  0.151330  0.690566 -0.414967  0.046156 -0.835122 -1.310014  ...   \n\n      RRQ_Ref     ASI_P     ASI_C     ASI_S       SPQ    SPQ_IR  MSSB_POS  \\\n0    0.904431  0.561757  0.206791  2.739950       NaN       NaN       NaN   \n1    0.904431 -0.316128 -0.094034 -1.342143       NaN       NaN       NaN   \n2   -1.365664 -0.726321 -1.790260 -1.156593       NaN       NaN       NaN   \n3    0.336907  1.582578  0.885724 -1.156593  0.954388  0.740868  0.746335   \n4   -0.423575  0.849545  0.206791  0.884453 -0.124873 -0.926085 -1.476319   \n..        ...       ...       ...       ...       ...       ...       ...   \n145 -1.085686 -0.028669  0.684112  0.327804  0.954388  1.852169  1.029633   \n146  0.238537 -2.297831  0.405880 -0.785494  1.494018  1.852169  0.594392   \n147 -0.801924  0.712548  0.206791 -0.414394  0.954388 -0.926085  0.356080   \n148 -0.991099 -0.028669  0.558614 -0.414394  2.573279  0.740868  0.594392   \n149 -0.896511 -0.028669 -1.790260  0.142255  1.494018 -0.370434  0.594392   \n\n     MSSB_NEG  MSSB_DES     ASI_T  \n0         NaN       NaN  1.277450  \n1         NaN       NaN -1.090217  \n2         NaN       NaN -1.177909  \n3   -1.497080  0.676246  0.663611  \n4    0.756895  0.855745  0.575919  \n..        ...       ...       ...  \n145  0.874956  0.508313  0.137462  \n146  1.380000  0.855745 -0.827143  \n147 -1.497080  0.779792 -0.125612  \n148 -1.497080  0.676246 -0.300995  \n149  0.353428 -1.283578 -0.388686  \n\n[150 rows x 32 columns]",
      "text/html": "<div>\n<style scoped>\n    .dataframe tbody tr th:only-of-type {\n        vertical-align: middle;\n    }\n\n    .dataframe tbody tr th {\n        vertical-align: top;\n    }\n\n    .dataframe thead th {\n        text-align: right;\n    }\n</style>\n<table border=\"1\" class=\"dataframe\">\n  <thead>\n    <tr style=\"text-align: right;\">\n      <th></th>\n      <th>SUBJECT_CODE</th>\n      <th>EPRIME_CODE</th>\n      <th>Age</th>\n      <th>PA</th>\n      <th>NA.</th>\n      <th>ERQ_CR</th>\n      <th>ERQ_ES</th>\n      <th>UPPSP_NU</th>\n      <th>UPPSP_PU</th>\n      <th>UPPSP_SS</th>\n      <th>...</th>\n      <th>RRQ_Ref</th>\n      <th>ASI_P</th>\n      <th>ASI_C</th>\n      <th>ASI_S</th>\n      <th>SPQ</th>\n      <th>SPQ_IR</th>\n      <th>MSSB_POS</th>\n      <th>MSSB_NEG</th>\n      <th>MSSB_DES</th>\n      <th>ASI_T</th>\n    </tr>\n  </thead>\n  <tbody>\n    <tr>\n      <th>0</th>\n      <td>PREDWELL_RETOS_DLPFC20HZ_S001</td>\n      <td>PREDWELL_RETOS-1-1</td>\n      <td>19</td>\n      <td>1.542411</td>\n      <td>0.529655</td>\n      <td>1.447650</td>\n      <td>2.112677</td>\n      <td>0.046156</td>\n      <td>0.526490</td>\n      <td>0.378148</td>\n      <td>...</td>\n      <td>0.904431</td>\n      <td>0.561757</td>\n      <td>0.206791</td>\n      <td>2.739950</td>\n      <td>NaN</td>\n      <td>NaN</td>\n      <td>NaN</td>\n      <td>NaN</td>\n      <td>NaN</td>\n      <td>1.277450</td>\n    </tr>\n    <tr>\n      <th>1</th>\n      <td>PREDWELL_RETOS_DLPFC20HZ_S002</td>\n      <td>PREDWELL_RETOS-2-1</td>\n      <td>22</td>\n      <td>-0.039008</td>\n      <td>-0.605320</td>\n      <td>0.498470</td>\n      <td>-1.581572</td>\n      <td>-1.272577</td>\n      <td>-1.288993</td>\n      <td>-1.310014</td>\n      <td>...</td>\n      <td>0.904431</td>\n      <td>-0.316128</td>\n      <td>-0.094034</td>\n      <td>-1.342143</td>\n      <td>NaN</td>\n      <td>NaN</td>\n      <td>NaN</td>\n      <td>NaN</td>\n      <td>NaN</td>\n      <td>-1.090217</td>\n    </tr>\n    <tr>\n      <th>2</th>\n      <td>PREDWELL_RETOS_DLPFC20HZ_S003</td>\n      <td>PREDWELL_RETOS-3-1</td>\n      <td>19</td>\n      <td>0.751701</td>\n      <td>-0.983645</td>\n      <td>-1.004398</td>\n      <td>-0.609401</td>\n      <td>-1.602260</td>\n      <td>-0.835122</td>\n      <td>-0.972381</td>\n      <td>...</td>\n      <td>-1.365664</td>\n      <td>-0.726321</td>\n      <td>-1.790260</td>\n      <td>-1.156593</td>\n      <td>NaN</td>\n      <td>NaN</td>\n      <td>NaN</td>\n      <td>NaN</td>\n      <td>NaN</td>\n      <td>-1.177909</td>\n    </tr>\n    <tr>\n      <th>3</th>\n      <td>PREDWELL_RETOS_DLPFC20HZ_S004</td>\n      <td>PREDWELL_RETOS-4-1</td>\n      <td>21</td>\n      <td>-1.146002</td>\n      <td>1.097142</td>\n      <td>0.125578</td>\n      <td>-1.192703</td>\n      <td>-1.272577</td>\n      <td>-1.288993</td>\n      <td>-1.310014</td>\n      <td>...</td>\n      <td>0.336907</td>\n      <td>1.582578</td>\n      <td>0.885724</td>\n      <td>-1.156593</td>\n      <td>0.954388</td>\n      <td>0.740868</td>\n      <td>0.746335</td>\n      <td>-1.497080</td>\n      <td>0.676246</td>\n      <td>0.663611</td>\n    </tr>\n    <tr>\n      <th>4</th>\n      <td>PREDWELL_RETOS_DLPFC20HZ_S005</td>\n      <td>PREDWELL_RETOS-5-1</td>\n      <td>26</td>\n      <td>-0.829718</td>\n      <td>0.151330</td>\n      <td>0.498470</td>\n      <td>1.140506</td>\n      <td>0.375839</td>\n      <td>1.434232</td>\n      <td>0.715781</td>\n      <td>...</td>\n      <td>-0.423575</td>\n      <td>0.849545</td>\n      <td>0.206791</td>\n      <td>0.884453</td>\n      <td>-0.124873</td>\n      <td>-0.926085</td>\n      <td>-1.476319</td>\n      <td>0.756895</td>\n      <td>0.855745</td>\n      <td>0.575919</td>\n    </tr>\n    <tr>\n      <th>...</th>\n      <td>...</td>\n      <td>...</td>\n      <td>...</td>\n      <td>...</td>\n      <td>...</td>\n      <td>...</td>\n      <td>...</td>\n      <td>...</td>\n      <td>...</td>\n      <td>...</td>\n      <td>...</td>\n      <td>...</td>\n      <td>...</td>\n      <td>...</td>\n      <td>...</td>\n      <td>...</td>\n      <td>...</td>\n      <td>...</td>\n      <td>...</td>\n      <td>...</td>\n      <td>...</td>\n    </tr>\n    <tr>\n      <th>145</th>\n      <td>BEBRASK_LeftVCSHAM50HZ_S024</td>\n      <td>PREDWELL_RETOS-1124-1</td>\n      <td>21</td>\n      <td>-0.039008</td>\n      <td>-0.037832</td>\n      <td>-1.381057</td>\n      <td>0.557204</td>\n      <td>-0.283527</td>\n      <td>-0.381251</td>\n      <td>0.040516</td>\n      <td>...</td>\n      <td>-1.085686</td>\n      <td>-0.028669</td>\n      <td>0.684112</td>\n      <td>0.327804</td>\n      <td>0.954388</td>\n      <td>1.852169</td>\n      <td>1.029633</td>\n      <td>0.874956</td>\n      <td>0.508313</td>\n      <td>0.137462</td>\n    </tr>\n    <tr>\n      <th>146</th>\n      <td>BEBRASK_LeftVCSHAM50HZ_S025</td>\n      <td>PREDWELL_RETOS-1125-1</td>\n      <td>20</td>\n      <td>-1.304144</td>\n      <td>0.340492</td>\n      <td>-1.946045</td>\n      <td>2.112677</td>\n      <td>-1.602260</td>\n      <td>-1.742864</td>\n      <td>-0.634749</td>\n      <td>...</td>\n      <td>0.238537</td>\n      <td>-2.297831</td>\n      <td>0.405880</td>\n      <td>-0.785494</td>\n      <td>1.494018</td>\n      <td>1.852169</td>\n      <td>0.594392</td>\n      <td>1.380000</td>\n      <td>0.855745</td>\n      <td>-0.827143</td>\n    </tr>\n    <tr>\n      <th>147</th>\n      <td>BEBRASK_LeftVCSHAM50HZ_S026</td>\n      <td>PREDWELL_RETOS-1126-1</td>\n      <td>18</td>\n      <td>1.858695</td>\n      <td>-0.037832</td>\n      <td>-1.004398</td>\n      <td>0.751638</td>\n      <td>0.705522</td>\n      <td>0.980361</td>\n      <td>0.715781</td>\n      <td>...</td>\n      <td>-0.801924</td>\n      <td>0.712548</td>\n      <td>0.206791</td>\n      <td>-0.414394</td>\n      <td>0.954388</td>\n      <td>-0.926085</td>\n      <td>0.356080</td>\n      <td>-1.497080</td>\n      <td>0.779792</td>\n      <td>-0.125612</td>\n    </tr>\n    <tr>\n      <th>148</th>\n      <td>BEBRASK_LeftVCSHAM50HZ_S027</td>\n      <td>PREDWELL_RETOS-1127-1</td>\n      <td>20</td>\n      <td>0.277275</td>\n      <td>-0.226995</td>\n      <td>2.008872</td>\n      <td>-0.414967</td>\n      <td>-1.272577</td>\n      <td>0.072619</td>\n      <td>1.053413</td>\n      <td>...</td>\n      <td>-0.991099</td>\n      <td>-0.028669</td>\n      <td>0.558614</td>\n      <td>-0.414394</td>\n      <td>2.573279</td>\n      <td>0.740868</td>\n      <td>0.594392</td>\n      <td>-1.497080</td>\n      <td>0.676246</td>\n      <td>-0.300995</td>\n    </tr>\n    <tr>\n      <th>149</th>\n      <td>BEBRASK_LeftVCSHAM50HZ_S028</td>\n      <td>PREDWELL_RETOS-1128-1</td>\n      <td>19</td>\n      <td>-0.197150</td>\n      <td>0.151330</td>\n      <td>0.690566</td>\n      <td>-0.414967</td>\n      <td>0.046156</td>\n      <td>-0.835122</td>\n      <td>-1.310014</td>\n      <td>...</td>\n      <td>-0.896511</td>\n      <td>-0.028669</td>\n      <td>-1.790260</td>\n      <td>0.142255</td>\n      <td>1.494018</td>\n      <td>-0.370434</td>\n      <td>0.594392</td>\n      <td>0.353428</td>\n      <td>-1.283578</td>\n      <td>-0.388686</td>\n    </tr>\n  </tbody>\n</table>\n<p>150 rows × 32 columns</p>\n</div>"
     },
     "execution_count": 16,
     "metadata": {},
     "output_type": "execute_result"
    }
   ],
   "source": [
    "scales_transformed"
   ],
   "metadata": {
    "collapsed": false,
    "ExecuteTime": {
     "end_time": "2024-07-14T17:04:58.049533Z",
     "start_time": "2024-07-14T17:04:58.006992400Z"
    }
   },
   "id": "4e55eb114637605a",
   "execution_count": 16
  },
  {
   "cell_type": "code",
   "outputs": [],
   "source": [
    "scales_transformed.to_excel('../Clustering_Predictive_Processing/scales_transformed.xlsx', index=True)\n"
   ],
   "metadata": {
    "collapsed": false,
    "ExecuteTime": {
     "end_time": "2024-07-14T17:05:17.648575800Z",
     "start_time": "2024-07-14T17:05:17.448403700Z"
    }
   },
   "id": "64d32318197582be",
   "execution_count": 17
  }
 ],
 "metadata": {
  "kernelspec": {
   "display_name": "Python 3",
   "language": "python",
   "name": "python3"
  },
  "language_info": {
   "codemirror_mode": {
    "name": "ipython",
    "version": 2
   },
   "file_extension": ".py",
   "mimetype": "text/x-python",
   "name": "python",
   "nbconvert_exporter": "python",
   "pygments_lexer": "ipython2",
   "version": "2.7.6"
  }
 },
 "nbformat": 4,
 "nbformat_minor": 5
}
