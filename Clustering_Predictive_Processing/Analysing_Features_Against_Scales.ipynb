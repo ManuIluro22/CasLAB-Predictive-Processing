{
 "cells": [
  {
   "cell_type": "code",
   "outputs": [],
   "source": [
    "import pandas as pd\n",
    "from sklearn.preprocessing import StandardScaler\n",
    "import numpy as np\n",
    "from scipy import stats\n",
    "import statsmodels.api as sm\n"
   ],
   "metadata": {
    "collapsed": false,
    "ExecuteTime": {
     "end_time": "2024-04-23T15:08:35.911145Z",
     "start_time": "2024-04-23T15:08:35.907617Z"
    }
   },
   "id": "4cbd134e94945424",
   "execution_count": 108
  },
  {
   "cell_type": "code",
   "execution_count": 109,
   "id": "initial_id",
   "metadata": {
    "collapsed": true,
    "ExecuteTime": {
     "end_time": "2024-04-23T15:08:36.153629Z",
     "start_time": "2024-04-23T15:08:36.088306Z"
    }
   },
   "outputs": [],
   "source": [
    "#Scales dataset and metric to evaluate\n",
    "\n",
    "scales = pd.read_excel(\"filled_scales_BEBRASK_RETOS.xlsx\")"
   ]
  },
  {
   "cell_type": "code",
   "outputs": [],
   "source": [
    "trend_data = pd.read_excel(\"trend_dataset.xlsx\")\n",
    "\n",
    "trend_data[\"Together_Match\"] = trend_data[\"AVG_Match\"] + trend_data[\"Trend_Match\"]*27\n",
    "trend_data[\"Together_No_Match\"] = trend_data[\"AVG_No_Match\"] + trend_data[\"Trend_No_Match\"]*18\n",
    "\n",
    "baseline_data = pd.read_excel(\"RETOS_BEBRASK_Baseline.xlsx\")"
   ],
   "metadata": {
    "collapsed": false,
    "ExecuteTime": {
     "end_time": "2024-04-23T15:08:36.353328Z",
     "start_time": "2024-04-23T15:08:36.308573Z"
    }
   },
   "id": "b1e5cc95d1acd0bb",
   "execution_count": 110
  },
  {
   "cell_type": "code",
   "outputs": [],
   "source": [
    "features_dataset = pd.merge(left = baseline_data,right=trend_data, left_on=\"Subject\",right_on=\"Subject ID\").drop(\"Subject ID\",axis=1)"
   ],
   "metadata": {
    "collapsed": false,
    "ExecuteTime": {
     "end_time": "2024-04-23T15:08:36.855184Z",
     "start_time": "2024-04-23T15:08:36.847502Z"
    }
   },
   "id": "13baed944cd88ed7",
   "execution_count": 111
  },
  {
   "cell_type": "code",
   "outputs": [],
   "source": [
    "scaler = StandardScaler()\n",
    "scaler.fit(features_dataset.drop(\"Subject\",axis=1))\n",
    "features_dataset_scaled = scaler.transform(features_dataset.drop(\"Subject\",axis=1))"
   ],
   "metadata": {
    "collapsed": false,
    "ExecuteTime": {
     "end_time": "2024-04-23T15:08:38.336368Z",
     "start_time": "2024-04-23T15:08:38.326571Z"
    }
   },
   "id": "e50b334c9cf7a00c",
   "execution_count": 112
  },
  {
   "cell_type": "code",
   "outputs": [],
   "source": [
    "features_dataset_scaled = pd.DataFrame(features_dataset_scaled)\n",
    "features_dataset_scaled.insert(0, 'Subject', features_dataset['Subject'])"
   ],
   "metadata": {
    "collapsed": false,
    "ExecuteTime": {
     "end_time": "2024-04-23T15:08:38.608710Z",
     "start_time": "2024-04-23T15:08:38.602848Z"
    }
   },
   "id": "d3a6706a223c0f32",
   "execution_count": 113
  },
  {
   "cell_type": "code",
   "outputs": [],
   "source": [
    "features_dataset_scaled.columns = features_dataset.columns"
   ],
   "metadata": {
    "collapsed": false,
    "ExecuteTime": {
     "end_time": "2024-04-23T15:08:38.900073Z",
     "start_time": "2024-04-23T15:08:38.894597Z"
    }
   },
   "id": "1ef6fdf01a228eec",
   "execution_count": 114
  },
  {
   "cell_type": "code",
   "outputs": [
    {
     "data": {
      "text/plain": "                   Subject  Mean_Rating0  Dif_Match  Cor_Pred_Like  \\\n0       PREDWELL_RETOS-1-1      1.993171   0.632545      -0.926969   \n1      PREDWELL_RETOS-10-1      0.502669  -0.852105      -0.534772   \n2    PREDWELL_RETOS-1001-1      0.968451   0.274406      -0.064176   \n3    PREDWELL_RETOS-1002-1      1.247920  -0.253036       0.379229   \n4    PREDWELL_RETOS-1003-1     -0.894676   0.066034      -1.081741   \n..                     ...           ...        ...            ...   \n144     PREDWELL_RETOS-5-1     -0.149425  -0.305129      -0.493753   \n145     PREDWELL_RETOS-6-1     -0.615207  -0.747919       0.568578   \n146     PREDWELL_RETOS-7-1      0.130044  -0.148850       0.286641   \n147     PREDWELL_RETOS-8-1      0.595826  -0.852105      -0.645545   \n148     PREDWELL_RETOS-9-1     -1.453615  -0.598152      -0.169391   \n\n     Trend_Match  Trend_No_Match  AVG_Match  AVG_No_Match  Together_Match  \\\n0      -0.658026       -1.132586   1.656228      1.562985        0.832344   \n1      -1.059467        0.813927   0.833654     -0.149700       -0.734860   \n2       0.687980       -0.762995   0.085340      0.915671        1.186616   \n3       1.113034       -1.280423  -0.223126      1.684357        1.510865   \n4      -0.539956        0.641452   0.011080     -1.039758       -0.842943   \n..           ...             ...        ...           ...             ...   \n144     0.876893       -1.452898  -0.794358      1.252814        0.490081   \n145     1.845073       -0.294846  -1.794014      0.187442        0.892390   \n146    -0.421885       -0.516601   0.370956      0.484128       -0.248486   \n147    -0.091287       -0.393404   0.131038      0.956128        0.003708   \n148    -0.162129        0.838567  -0.708673     -1.201586       -1.059109   \n\n     Together_No_Match  \n0            -0.232422  \n1             1.305163  \n2            -0.317060  \n3            -0.359379  \n4            -0.049041  \n..                 ...  \n144          -1.177544  \n145          -0.317060  \n146          -0.373485  \n147           0.402361  \n148           0.120235  \n\n[149 rows x 10 columns]",
      "text/html": "<div>\n<style scoped>\n    .dataframe tbody tr th:only-of-type {\n        vertical-align: middle;\n    }\n\n    .dataframe tbody tr th {\n        vertical-align: top;\n    }\n\n    .dataframe thead th {\n        text-align: right;\n    }\n</style>\n<table border=\"1\" class=\"dataframe\">\n  <thead>\n    <tr style=\"text-align: right;\">\n      <th></th>\n      <th>Subject</th>\n      <th>Mean_Rating0</th>\n      <th>Dif_Match</th>\n      <th>Cor_Pred_Like</th>\n      <th>Trend_Match</th>\n      <th>Trend_No_Match</th>\n      <th>AVG_Match</th>\n      <th>AVG_No_Match</th>\n      <th>Together_Match</th>\n      <th>Together_No_Match</th>\n    </tr>\n  </thead>\n  <tbody>\n    <tr>\n      <th>0</th>\n      <td>PREDWELL_RETOS-1-1</td>\n      <td>1.993171</td>\n      <td>0.632545</td>\n      <td>-0.926969</td>\n      <td>-0.658026</td>\n      <td>-1.132586</td>\n      <td>1.656228</td>\n      <td>1.562985</td>\n      <td>0.832344</td>\n      <td>-0.232422</td>\n    </tr>\n    <tr>\n      <th>1</th>\n      <td>PREDWELL_RETOS-10-1</td>\n      <td>0.502669</td>\n      <td>-0.852105</td>\n      <td>-0.534772</td>\n      <td>-1.059467</td>\n      <td>0.813927</td>\n      <td>0.833654</td>\n      <td>-0.149700</td>\n      <td>-0.734860</td>\n      <td>1.305163</td>\n    </tr>\n    <tr>\n      <th>2</th>\n      <td>PREDWELL_RETOS-1001-1</td>\n      <td>0.968451</td>\n      <td>0.274406</td>\n      <td>-0.064176</td>\n      <td>0.687980</td>\n      <td>-0.762995</td>\n      <td>0.085340</td>\n      <td>0.915671</td>\n      <td>1.186616</td>\n      <td>-0.317060</td>\n    </tr>\n    <tr>\n      <th>3</th>\n      <td>PREDWELL_RETOS-1002-1</td>\n      <td>1.247920</td>\n      <td>-0.253036</td>\n      <td>0.379229</td>\n      <td>1.113034</td>\n      <td>-1.280423</td>\n      <td>-0.223126</td>\n      <td>1.684357</td>\n      <td>1.510865</td>\n      <td>-0.359379</td>\n    </tr>\n    <tr>\n      <th>4</th>\n      <td>PREDWELL_RETOS-1003-1</td>\n      <td>-0.894676</td>\n      <td>0.066034</td>\n      <td>-1.081741</td>\n      <td>-0.539956</td>\n      <td>0.641452</td>\n      <td>0.011080</td>\n      <td>-1.039758</td>\n      <td>-0.842943</td>\n      <td>-0.049041</td>\n    </tr>\n    <tr>\n      <th>...</th>\n      <td>...</td>\n      <td>...</td>\n      <td>...</td>\n      <td>...</td>\n      <td>...</td>\n      <td>...</td>\n      <td>...</td>\n      <td>...</td>\n      <td>...</td>\n      <td>...</td>\n    </tr>\n    <tr>\n      <th>144</th>\n      <td>PREDWELL_RETOS-5-1</td>\n      <td>-0.149425</td>\n      <td>-0.305129</td>\n      <td>-0.493753</td>\n      <td>0.876893</td>\n      <td>-1.452898</td>\n      <td>-0.794358</td>\n      <td>1.252814</td>\n      <td>0.490081</td>\n      <td>-1.177544</td>\n    </tr>\n    <tr>\n      <th>145</th>\n      <td>PREDWELL_RETOS-6-1</td>\n      <td>-0.615207</td>\n      <td>-0.747919</td>\n      <td>0.568578</td>\n      <td>1.845073</td>\n      <td>-0.294846</td>\n      <td>-1.794014</td>\n      <td>0.187442</td>\n      <td>0.892390</td>\n      <td>-0.317060</td>\n    </tr>\n    <tr>\n      <th>146</th>\n      <td>PREDWELL_RETOS-7-1</td>\n      <td>0.130044</td>\n      <td>-0.148850</td>\n      <td>0.286641</td>\n      <td>-0.421885</td>\n      <td>-0.516601</td>\n      <td>0.370956</td>\n      <td>0.484128</td>\n      <td>-0.248486</td>\n      <td>-0.373485</td>\n    </tr>\n    <tr>\n      <th>147</th>\n      <td>PREDWELL_RETOS-8-1</td>\n      <td>0.595826</td>\n      <td>-0.852105</td>\n      <td>-0.645545</td>\n      <td>-0.091287</td>\n      <td>-0.393404</td>\n      <td>0.131038</td>\n      <td>0.956128</td>\n      <td>0.003708</td>\n      <td>0.402361</td>\n    </tr>\n    <tr>\n      <th>148</th>\n      <td>PREDWELL_RETOS-9-1</td>\n      <td>-1.453615</td>\n      <td>-0.598152</td>\n      <td>-0.169391</td>\n      <td>-0.162129</td>\n      <td>0.838567</td>\n      <td>-0.708673</td>\n      <td>-1.201586</td>\n      <td>-1.059109</td>\n      <td>0.120235</td>\n    </tr>\n  </tbody>\n</table>\n<p>149 rows × 10 columns</p>\n</div>"
     },
     "execution_count": 115,
     "metadata": {},
     "output_type": "execute_result"
    }
   ],
   "source": [
    "features_dataset_scaled"
   ],
   "metadata": {
    "collapsed": false,
    "ExecuteTime": {
     "end_time": "2024-04-23T15:08:39.209767Z",
     "start_time": "2024-04-23T15:08:39.183791Z"
    }
   },
   "id": "7588712bc221c362",
   "execution_count": 115
  },
  {
   "cell_type": "code",
   "outputs": [],
   "source": [
    "scales.drop([\"SUBJECT_CODE\",\"Age\"],axis=1,inplace=True)\n",
    "metrics_columns = scales.drop(\"EPRIME_CODE\",axis=1).columns.values"
   ],
   "metadata": {
    "collapsed": false,
    "ExecuteTime": {
     "end_time": "2024-04-23T15:08:39.479979Z",
     "start_time": "2024-04-23T15:08:39.472483Z"
    }
   },
   "id": "4b7cf145d46efbfd",
   "execution_count": 116
  },
  {
   "cell_type": "code",
   "outputs": [],
   "source": [
    "feature_scales = pd.merge(left = features_dataset_scaled,right=scales, left_on=\"Subject\",right_on=\"EPRIME_CODE\").drop([\"EPRIME_CODE\",\"Subject\"],axis=1)"
   ],
   "metadata": {
    "collapsed": false,
    "ExecuteTime": {
     "end_time": "2024-04-23T15:08:39.756409Z",
     "start_time": "2024-04-23T15:08:39.750350Z"
    }
   },
   "id": "89f95eb52223c7f3",
   "execution_count": 117
  },
  {
   "cell_type": "code",
   "outputs": [],
   "source": [
    "features_columns = features_dataset.drop(\"Subject\",axis=1).columns\n",
    "dic_features_scales = {}\n",
    "for metric in metrics_columns:\n",
    "    target = feature_scales[metric]\n",
    "    dic_features_scales[metric] = {}\n",
    "    for feature in features_columns:\n",
    "        \n",
    "        X = feature_scales[feature]\n",
    "        X2 = sm.add_constant(X)\n",
    "        est = sm.OLS(target, X2)\n",
    "        est2 = est.fit()\n",
    "        p_values = est2.summary2().tables[1]['P>|t|']\n",
    "        dic_features_scales[metric].update({feature:p_values.iloc[1]})"
   ],
   "metadata": {
    "collapsed": false,
    "ExecuteTime": {
     "end_time": "2024-04-23T15:08:41.586720Z",
     "start_time": "2024-04-23T15:08:40.062496Z"
    }
   },
   "id": "e8142c9acd1f3eda",
   "execution_count": 118
  },
  {
   "cell_type": "code",
   "outputs": [
    {
     "data": {
      "text/plain": "Mean_Rating0         0.467371\nDif_Match            0.455141\nCor_Pred_Like        0.606172\nTrend_Match          0.441686\nTrend_No_Match       0.634640\nAVG_Match            0.540235\nAVG_No_Match         0.535258\nTogether_Match       0.453699\nTogether_No_Match    0.616108\ndtype: float64"
     },
     "execution_count": 119,
     "metadata": {},
     "output_type": "execute_result"
    }
   ],
   "source": [
    "df_features_scales = pd.DataFrame(dic_features_scales)\n",
    "df_features_scales.mean(axis=1)\n"
   ],
   "metadata": {
    "collapsed": false,
    "ExecuteTime": {
     "end_time": "2024-04-23T15:08:41.596188Z",
     "start_time": "2024-04-23T15:08:41.588540Z"
    }
   },
   "id": "ea50021846553c47",
   "execution_count": 119
  },
  {
   "cell_type": "code",
   "outputs": [
    {
     "name": "stdout",
     "output_type": "stream",
     "text": [
      "85%\n"
     ]
    },
    {
     "data": {
      "text/plain": "                             high_mean  size_high   low_mean  size_low  \\\nPA        Trend_No_Match     35.631579         19  32.892308       130   \n          Together_No_Match  35.190476         21  32.921875       128   \nNA.       Dif_Match          18.714286         21  20.515625       128   \n          AVG_Match          22.666667         21  19.867188       128   \nERQ_CR    Dif_Match           5.412222         21   4.807370       128   \n          AVG_Match           5.214603         21   4.839792       128   \nUPPSP_NU  AVG_No_Match       10.120000         25   8.637097       124   \nUPPSP_PU  AVG_No_Match       10.560000         25   9.709677       124   \nUPPSP_SS  Dif_Match          12.666667         21  10.554688       128   \nUPPSP_PMD Cor_Pred_Like       6.758621         29   7.561712       120   \n          Trend_No_Match      6.705548         19   7.507692       130   \n          AVG_Match           6.523810         21   7.550042       128   \nBIS       Trend_No_Match     20.684211         19  21.761538       130   \n          Together_No_Match  20.142857         21  21.867188       128   \nBAS_RR    Mean_Rating0       18.181818         22  17.346457       127   \nBAS_D     Trend_No_Match     12.842105         19  11.730769       130   \nTEPS_CF   Dif_Match          38.714286         21  35.117188       128   \nFS        Dif_Match          48.952381         21  47.179688       128   \nLOT_R     Dif_Match          16.809524         21  14.593750       128   \nRRQ_Rum   Together_No_Match   3.024286         21   3.370130       128   \nRRQ_Ref   AVG_No_Match        3.670400         25   3.305538       124   \n          Together_No_Match   3.774444         21   3.299870       128   \nASI_P     Dif_Match           3.380952         21   4.935283       128   \nASI_C     Dif_Match           1.761905         21   3.840213       128   \nSPQ       Mean_Rating0        1.681818         22   2.307087       127   \nMSSB_DES  Dif_Match           1.476190         21   2.382812       128   \n\n                              p_value  \nPA        Trend_No_Match     0.061146  \n          Together_No_Match  0.068908  \nNA.       Dif_Match          0.073243  \n          AVG_Match          0.012831  \nERQ_CR    Dif_Match          0.000245  \n          AVG_Match          0.056315  \nUPPSP_NU  AVG_No_Match       0.016544  \nUPPSP_PU  AVG_No_Match       0.061120  \nUPPSP_SS  Dif_Match          0.000973  \nUPPSP_PMD Cor_Pred_Like      0.063913  \n          Trend_No_Match     0.045547  \n          AVG_Match          0.042609  \nBIS       Trend_No_Match     0.099454  \n          Together_No_Match  0.005758  \nBAS_RR    Mean_Rating0       0.048977  \nBAS_D     Trend_No_Match     0.022606  \nTEPS_CF   Dif_Match          0.054366  \nFS        Dif_Match          0.072504  \nLOT_R     Dif_Match          0.003343  \nRRQ_Rum   Together_No_Match  0.096162  \nRRQ_Ref   AVG_No_Match       0.075809  \n          Together_No_Match  0.017997  \nASI_P     Dif_Match          0.080846  \nASI_C     Dif_Match          0.000625  \nSPQ       Mean_Rating0       0.040130  \nMSSB_DES  Dif_Match          0.048599  ",
      "text/html": "<div>\n<style scoped>\n    .dataframe tbody tr th:only-of-type {\n        vertical-align: middle;\n    }\n\n    .dataframe tbody tr th {\n        vertical-align: top;\n    }\n\n    .dataframe thead th {\n        text-align: right;\n    }\n</style>\n<table border=\"1\" class=\"dataframe\">\n  <thead>\n    <tr style=\"text-align: right;\">\n      <th></th>\n      <th></th>\n      <th>high_mean</th>\n      <th>size_high</th>\n      <th>low_mean</th>\n      <th>size_low</th>\n      <th>p_value</th>\n    </tr>\n  </thead>\n  <tbody>\n    <tr>\n      <th rowspan=\"2\" valign=\"top\">PA</th>\n      <th>Trend_No_Match</th>\n      <td>35.631579</td>\n      <td>19</td>\n      <td>32.892308</td>\n      <td>130</td>\n      <td>0.061146</td>\n    </tr>\n    <tr>\n      <th>Together_No_Match</th>\n      <td>35.190476</td>\n      <td>21</td>\n      <td>32.921875</td>\n      <td>128</td>\n      <td>0.068908</td>\n    </tr>\n    <tr>\n      <th rowspan=\"2\" valign=\"top\">NA.</th>\n      <th>Dif_Match</th>\n      <td>18.714286</td>\n      <td>21</td>\n      <td>20.515625</td>\n      <td>128</td>\n      <td>0.073243</td>\n    </tr>\n    <tr>\n      <th>AVG_Match</th>\n      <td>22.666667</td>\n      <td>21</td>\n      <td>19.867188</td>\n      <td>128</td>\n      <td>0.012831</td>\n    </tr>\n    <tr>\n      <th rowspan=\"2\" valign=\"top\">ERQ_CR</th>\n      <th>Dif_Match</th>\n      <td>5.412222</td>\n      <td>21</td>\n      <td>4.807370</td>\n      <td>128</td>\n      <td>0.000245</td>\n    </tr>\n    <tr>\n      <th>AVG_Match</th>\n      <td>5.214603</td>\n      <td>21</td>\n      <td>4.839792</td>\n      <td>128</td>\n      <td>0.056315</td>\n    </tr>\n    <tr>\n      <th>UPPSP_NU</th>\n      <th>AVG_No_Match</th>\n      <td>10.120000</td>\n      <td>25</td>\n      <td>8.637097</td>\n      <td>124</td>\n      <td>0.016544</td>\n    </tr>\n    <tr>\n      <th>UPPSP_PU</th>\n      <th>AVG_No_Match</th>\n      <td>10.560000</td>\n      <td>25</td>\n      <td>9.709677</td>\n      <td>124</td>\n      <td>0.061120</td>\n    </tr>\n    <tr>\n      <th>UPPSP_SS</th>\n      <th>Dif_Match</th>\n      <td>12.666667</td>\n      <td>21</td>\n      <td>10.554688</td>\n      <td>128</td>\n      <td>0.000973</td>\n    </tr>\n    <tr>\n      <th rowspan=\"3\" valign=\"top\">UPPSP_PMD</th>\n      <th>Cor_Pred_Like</th>\n      <td>6.758621</td>\n      <td>29</td>\n      <td>7.561712</td>\n      <td>120</td>\n      <td>0.063913</td>\n    </tr>\n    <tr>\n      <th>Trend_No_Match</th>\n      <td>6.705548</td>\n      <td>19</td>\n      <td>7.507692</td>\n      <td>130</td>\n      <td>0.045547</td>\n    </tr>\n    <tr>\n      <th>AVG_Match</th>\n      <td>6.523810</td>\n      <td>21</td>\n      <td>7.550042</td>\n      <td>128</td>\n      <td>0.042609</td>\n    </tr>\n    <tr>\n      <th rowspan=\"2\" valign=\"top\">BIS</th>\n      <th>Trend_No_Match</th>\n      <td>20.684211</td>\n      <td>19</td>\n      <td>21.761538</td>\n      <td>130</td>\n      <td>0.099454</td>\n    </tr>\n    <tr>\n      <th>Together_No_Match</th>\n      <td>20.142857</td>\n      <td>21</td>\n      <td>21.867188</td>\n      <td>128</td>\n      <td>0.005758</td>\n    </tr>\n    <tr>\n      <th>BAS_RR</th>\n      <th>Mean_Rating0</th>\n      <td>18.181818</td>\n      <td>22</td>\n      <td>17.346457</td>\n      <td>127</td>\n      <td>0.048977</td>\n    </tr>\n    <tr>\n      <th>BAS_D</th>\n      <th>Trend_No_Match</th>\n      <td>12.842105</td>\n      <td>19</td>\n      <td>11.730769</td>\n      <td>130</td>\n      <td>0.022606</td>\n    </tr>\n    <tr>\n      <th>TEPS_CF</th>\n      <th>Dif_Match</th>\n      <td>38.714286</td>\n      <td>21</td>\n      <td>35.117188</td>\n      <td>128</td>\n      <td>0.054366</td>\n    </tr>\n    <tr>\n      <th>FS</th>\n      <th>Dif_Match</th>\n      <td>48.952381</td>\n      <td>21</td>\n      <td>47.179688</td>\n      <td>128</td>\n      <td>0.072504</td>\n    </tr>\n    <tr>\n      <th>LOT_R</th>\n      <th>Dif_Match</th>\n      <td>16.809524</td>\n      <td>21</td>\n      <td>14.593750</td>\n      <td>128</td>\n      <td>0.003343</td>\n    </tr>\n    <tr>\n      <th>RRQ_Rum</th>\n      <th>Together_No_Match</th>\n      <td>3.024286</td>\n      <td>21</td>\n      <td>3.370130</td>\n      <td>128</td>\n      <td>0.096162</td>\n    </tr>\n    <tr>\n      <th rowspan=\"2\" valign=\"top\">RRQ_Ref</th>\n      <th>AVG_No_Match</th>\n      <td>3.670400</td>\n      <td>25</td>\n      <td>3.305538</td>\n      <td>124</td>\n      <td>0.075809</td>\n    </tr>\n    <tr>\n      <th>Together_No_Match</th>\n      <td>3.774444</td>\n      <td>21</td>\n      <td>3.299870</td>\n      <td>128</td>\n      <td>0.017997</td>\n    </tr>\n    <tr>\n      <th>ASI_P</th>\n      <th>Dif_Match</th>\n      <td>3.380952</td>\n      <td>21</td>\n      <td>4.935283</td>\n      <td>128</td>\n      <td>0.080846</td>\n    </tr>\n    <tr>\n      <th>ASI_C</th>\n      <th>Dif_Match</th>\n      <td>1.761905</td>\n      <td>21</td>\n      <td>3.840213</td>\n      <td>128</td>\n      <td>0.000625</td>\n    </tr>\n    <tr>\n      <th>SPQ</th>\n      <th>Mean_Rating0</th>\n      <td>1.681818</td>\n      <td>22</td>\n      <td>2.307087</td>\n      <td>127</td>\n      <td>0.040130</td>\n    </tr>\n    <tr>\n      <th>MSSB_DES</th>\n      <th>Dif_Match</th>\n      <td>1.476190</td>\n      <td>21</td>\n      <td>2.382812</td>\n      <td>128</td>\n      <td>0.048599</td>\n    </tr>\n  </tbody>\n</table>\n</div>"
     },
     "execution_count": 139,
     "metadata": {},
     "output_type": "execute_result"
    }
   ],
   "source": [
    "# Assuming feature_scales is your DataFrame with features as columns and metrics as rows\n",
    "dic_mean_comparison_85 = {}\n",
    "\n",
    "for metric in metrics_columns:\n",
    "    dic_mean_comparison_85[metric] = {}\n",
    "\n",
    "    for feature in features_columns:\n",
    "        \n",
    "        high_values = feature_scales[feature_scales[feature] > 1.04][metric] #Per sobre 85%\n",
    "        low_values = feature_scales[feature_scales[feature] <= 1.04][metric] #Per sota 85%\n",
    "        t_stat, p_value = stats.ttest_ind(high_values, low_values, equal_var=False)  # Assuming unequal variances\n",
    "\n",
    "                # Calculate means\n",
    "        high_mean = np.mean(high_values)\n",
    "        low_mean = np.mean(low_values)\n",
    "\n",
    "        dic_mean_comparison_85[metric][feature] = {'high_mean': high_mean,'size_high': len(high_values), 'low_mean': low_mean,'size_low': len(low_values), 'p_value': p_value}\n",
    "\n",
    "\n",
    "# Convert results to a DataFrame for easier visualization and analysis\n",
    "df_mean_comparison_85 = pd.DataFrame.from_dict({(i,j): dic_mean_comparison_85[i][j] \n",
    "                                             for i in dic_mean_comparison_85.keys() \n",
    "                                             for j in dic_mean_comparison_85[i].keys()},\n",
    "                                            orient='index')\n",
    "print(\"85%\")\n",
    "df_mean_comparison_85[df_mean_comparison_85[\"p_value\"]<0.10]"
   ],
   "metadata": {
    "collapsed": false,
    "ExecuteTime": {
     "end_time": "2024-04-23T15:22:14.636597Z",
     "start_time": "2024-04-23T15:22:14.130931Z"
    }
   },
   "id": "7ed26015c0ba061e",
   "execution_count": 139
  },
  {
   "cell_type": "code",
   "outputs": [
    {
     "data": {
      "text/plain": "AVG_Match            0.440441\nAVG_No_Match         0.516895\nCor_Pred_Like        0.546297\nDif_Match            0.351162\nMean_Rating0         0.537520\nTogether_Match       0.572697\nTogether_No_Match    0.501403\nTrend_Match          0.585963\nTrend_No_Match       0.494199\nName: p_value, dtype: float64"
     },
     "execution_count": 140,
     "metadata": {},
     "output_type": "execute_result"
    }
   ],
   "source": [
    "df_mean_comparison_85.groupby(level=1)['p_value'].mean()\n"
   ],
   "metadata": {
    "collapsed": false,
    "ExecuteTime": {
     "end_time": "2024-04-23T15:22:15.057577Z",
     "start_time": "2024-04-23T15:22:15.046146Z"
    }
   },
   "id": "7cbc1f1b3bd2ecd3",
   "execution_count": 140
  },
  {
   "cell_type": "code",
   "outputs": [
    {
     "name": "stdout",
     "output_type": "stream",
     "text": [
      "90%\n"
     ]
    },
    {
     "data": {
      "text/plain": "                             high_mean  size_high   low_mean  size_low  \\\nPA        Trend_No_Match     36.090909         11  33.014493       138   \n          Together_Match     36.384615         13  32.941176       136   \nNA.       AVG_Match          23.066667         15  19.947761       134   \nERQ_CR    Dif_Match           5.416429         14   4.838296       135   \n          AVG_Match           5.445333         15   4.830746       134   \nERQ_ES    Together_Match      2.134615         13   3.119485       136   \nUPPSP_NU  Mean_Rating0       10.700000         10   8.755396       139   \nUPPSP_PU  Mean_Rating0       10.800000         10   9.784173       139   \nUPPSP_SS  Dif_Match          13.071429         14  10.622222       135   \nUPPSP_PMD Cor_Pred_Like       6.700000         20   7.514771       129   \n          AVG_Match           6.400000         15   7.517951       134   \nUPPSP_PSV Dif_Match           5.642857         14   7.192593       135   \nBIS       Cor_Pred_Like      23.550000         20  21.325581       129   \n          AVG_Match          22.866667         15  21.485075       134   \n          Together_No_Match  20.111111         18  21.832061       131   \nBAS_RR    Together_Match     18.461538         13  17.375000       136   \nBAS_D     Trend_Match        12.933333         15  11.753731       134   \nLOT_R     Dif_Match          17.428571         14  14.644444       135   \nRRQ_Rum   AVG_Match           3.800000         15   3.267811       134   \n          Together_Match      2.782821         13   3.372868       136   \nRRQ_Ref   Dif_Match           2.851190         14   3.420222       135   \n          Trend_No_Match      3.743333         11   3.336739       138   \n          Together_No_Match   3.829074         18   3.303232       131   \nASI_P     Dif_Match           2.357143         14   4.960861       135   \nASI_C     Dif_Match           1.857143         14   3.722573       135   \nASI_S     AVG_Match          11.000000         15   7.977612       134   \nSPQ       AVG_Match           3.466667         15   2.074627       134   \n          Together_Match      1.538462         13   2.279412       136   \nSPQ_IR    AVG_Match           3.600000         15   2.544776       134   \nMSSB_POS  Trend_No_Match      1.090909         11   1.992754       138   \nMSSB_NEG  Dif_Match           1.214286         14   1.918519       135   \n          Trend_No_Match      1.000000         11   1.920290       138   \nMSSB_DES  Dif_Match           1.000000         14   2.385185       135   \n\n                              p_value  \nPA        Trend_No_Match     0.064588  \n          Together_Match     0.093602  \nNA.       AVG_Match          0.026458  \nERQ_CR    Dif_Match          0.003555  \n          AVG_Match          0.007456  \nERQ_ES    Together_Match     0.002806  \nUPPSP_NU  Mean_Rating0       0.044600  \nUPPSP_PU  Mean_Rating0       0.009083  \nUPPSP_SS  Dif_Match          0.001381  \nUPPSP_PMD Cor_Pred_Like      0.078667  \n          AVG_Match          0.071906  \nUPPSP_PSV Dif_Match          0.028825  \nBIS       Cor_Pred_Like      0.007958  \n          AVG_Match          0.034121  \n          Together_No_Match  0.012096  \nBAS_RR    Together_Match     0.027854  \nBAS_D     Trend_Match        0.087353  \nLOT_R     Dif_Match          0.001347  \nRRQ_Rum   AVG_Match          0.006796  \n          Together_Match     0.045025  \nRRQ_Ref   Dif_Match          0.052374  \n          Trend_No_Match     0.087529  \n          Together_No_Match  0.009227  \nASI_P     Dif_Match          0.012790  \nASI_C     Dif_Match          0.009133  \nASI_S     AVG_Match          0.092136  \nSPQ       AVG_Match          0.005225  \n          Together_Match     0.035455  \nSPQ_IR    AVG_Match          0.056680  \nMSSB_POS  Trend_No_Match     0.021495  \nMSSB_NEG  Dif_Match          0.066608  \n          Trend_No_Match     0.009825  \nMSSB_DES  Dif_Match          0.004512  ",
      "text/html": "<div>\n<style scoped>\n    .dataframe tbody tr th:only-of-type {\n        vertical-align: middle;\n    }\n\n    .dataframe tbody tr th {\n        vertical-align: top;\n    }\n\n    .dataframe thead th {\n        text-align: right;\n    }\n</style>\n<table border=\"1\" class=\"dataframe\">\n  <thead>\n    <tr style=\"text-align: right;\">\n      <th></th>\n      <th></th>\n      <th>high_mean</th>\n      <th>size_high</th>\n      <th>low_mean</th>\n      <th>size_low</th>\n      <th>p_value</th>\n    </tr>\n  </thead>\n  <tbody>\n    <tr>\n      <th rowspan=\"2\" valign=\"top\">PA</th>\n      <th>Trend_No_Match</th>\n      <td>36.090909</td>\n      <td>11</td>\n      <td>33.014493</td>\n      <td>138</td>\n      <td>0.064588</td>\n    </tr>\n    <tr>\n      <th>Together_Match</th>\n      <td>36.384615</td>\n      <td>13</td>\n      <td>32.941176</td>\n      <td>136</td>\n      <td>0.093602</td>\n    </tr>\n    <tr>\n      <th>NA.</th>\n      <th>AVG_Match</th>\n      <td>23.066667</td>\n      <td>15</td>\n      <td>19.947761</td>\n      <td>134</td>\n      <td>0.026458</td>\n    </tr>\n    <tr>\n      <th rowspan=\"2\" valign=\"top\">ERQ_CR</th>\n      <th>Dif_Match</th>\n      <td>5.416429</td>\n      <td>14</td>\n      <td>4.838296</td>\n      <td>135</td>\n      <td>0.003555</td>\n    </tr>\n    <tr>\n      <th>AVG_Match</th>\n      <td>5.445333</td>\n      <td>15</td>\n      <td>4.830746</td>\n      <td>134</td>\n      <td>0.007456</td>\n    </tr>\n    <tr>\n      <th>ERQ_ES</th>\n      <th>Together_Match</th>\n      <td>2.134615</td>\n      <td>13</td>\n      <td>3.119485</td>\n      <td>136</td>\n      <td>0.002806</td>\n    </tr>\n    <tr>\n      <th>UPPSP_NU</th>\n      <th>Mean_Rating0</th>\n      <td>10.700000</td>\n      <td>10</td>\n      <td>8.755396</td>\n      <td>139</td>\n      <td>0.044600</td>\n    </tr>\n    <tr>\n      <th>UPPSP_PU</th>\n      <th>Mean_Rating0</th>\n      <td>10.800000</td>\n      <td>10</td>\n      <td>9.784173</td>\n      <td>139</td>\n      <td>0.009083</td>\n    </tr>\n    <tr>\n      <th>UPPSP_SS</th>\n      <th>Dif_Match</th>\n      <td>13.071429</td>\n      <td>14</td>\n      <td>10.622222</td>\n      <td>135</td>\n      <td>0.001381</td>\n    </tr>\n    <tr>\n      <th rowspan=\"2\" valign=\"top\">UPPSP_PMD</th>\n      <th>Cor_Pred_Like</th>\n      <td>6.700000</td>\n      <td>20</td>\n      <td>7.514771</td>\n      <td>129</td>\n      <td>0.078667</td>\n    </tr>\n    <tr>\n      <th>AVG_Match</th>\n      <td>6.400000</td>\n      <td>15</td>\n      <td>7.517951</td>\n      <td>134</td>\n      <td>0.071906</td>\n    </tr>\n    <tr>\n      <th>UPPSP_PSV</th>\n      <th>Dif_Match</th>\n      <td>5.642857</td>\n      <td>14</td>\n      <td>7.192593</td>\n      <td>135</td>\n      <td>0.028825</td>\n    </tr>\n    <tr>\n      <th rowspan=\"3\" valign=\"top\">BIS</th>\n      <th>Cor_Pred_Like</th>\n      <td>23.550000</td>\n      <td>20</td>\n      <td>21.325581</td>\n      <td>129</td>\n      <td>0.007958</td>\n    </tr>\n    <tr>\n      <th>AVG_Match</th>\n      <td>22.866667</td>\n      <td>15</td>\n      <td>21.485075</td>\n      <td>134</td>\n      <td>0.034121</td>\n    </tr>\n    <tr>\n      <th>Together_No_Match</th>\n      <td>20.111111</td>\n      <td>18</td>\n      <td>21.832061</td>\n      <td>131</td>\n      <td>0.012096</td>\n    </tr>\n    <tr>\n      <th>BAS_RR</th>\n      <th>Together_Match</th>\n      <td>18.461538</td>\n      <td>13</td>\n      <td>17.375000</td>\n      <td>136</td>\n      <td>0.027854</td>\n    </tr>\n    <tr>\n      <th>BAS_D</th>\n      <th>Trend_Match</th>\n      <td>12.933333</td>\n      <td>15</td>\n      <td>11.753731</td>\n      <td>134</td>\n      <td>0.087353</td>\n    </tr>\n    <tr>\n      <th>LOT_R</th>\n      <th>Dif_Match</th>\n      <td>17.428571</td>\n      <td>14</td>\n      <td>14.644444</td>\n      <td>135</td>\n      <td>0.001347</td>\n    </tr>\n    <tr>\n      <th rowspan=\"2\" valign=\"top\">RRQ_Rum</th>\n      <th>AVG_Match</th>\n      <td>3.800000</td>\n      <td>15</td>\n      <td>3.267811</td>\n      <td>134</td>\n      <td>0.006796</td>\n    </tr>\n    <tr>\n      <th>Together_Match</th>\n      <td>2.782821</td>\n      <td>13</td>\n      <td>3.372868</td>\n      <td>136</td>\n      <td>0.045025</td>\n    </tr>\n    <tr>\n      <th rowspan=\"3\" valign=\"top\">RRQ_Ref</th>\n      <th>Dif_Match</th>\n      <td>2.851190</td>\n      <td>14</td>\n      <td>3.420222</td>\n      <td>135</td>\n      <td>0.052374</td>\n    </tr>\n    <tr>\n      <th>Trend_No_Match</th>\n      <td>3.743333</td>\n      <td>11</td>\n      <td>3.336739</td>\n      <td>138</td>\n      <td>0.087529</td>\n    </tr>\n    <tr>\n      <th>Together_No_Match</th>\n      <td>3.829074</td>\n      <td>18</td>\n      <td>3.303232</td>\n      <td>131</td>\n      <td>0.009227</td>\n    </tr>\n    <tr>\n      <th>ASI_P</th>\n      <th>Dif_Match</th>\n      <td>2.357143</td>\n      <td>14</td>\n      <td>4.960861</td>\n      <td>135</td>\n      <td>0.012790</td>\n    </tr>\n    <tr>\n      <th>ASI_C</th>\n      <th>Dif_Match</th>\n      <td>1.857143</td>\n      <td>14</td>\n      <td>3.722573</td>\n      <td>135</td>\n      <td>0.009133</td>\n    </tr>\n    <tr>\n      <th>ASI_S</th>\n      <th>AVG_Match</th>\n      <td>11.000000</td>\n      <td>15</td>\n      <td>7.977612</td>\n      <td>134</td>\n      <td>0.092136</td>\n    </tr>\n    <tr>\n      <th rowspan=\"2\" valign=\"top\">SPQ</th>\n      <th>AVG_Match</th>\n      <td>3.466667</td>\n      <td>15</td>\n      <td>2.074627</td>\n      <td>134</td>\n      <td>0.005225</td>\n    </tr>\n    <tr>\n      <th>Together_Match</th>\n      <td>1.538462</td>\n      <td>13</td>\n      <td>2.279412</td>\n      <td>136</td>\n      <td>0.035455</td>\n    </tr>\n    <tr>\n      <th>SPQ_IR</th>\n      <th>AVG_Match</th>\n      <td>3.600000</td>\n      <td>15</td>\n      <td>2.544776</td>\n      <td>134</td>\n      <td>0.056680</td>\n    </tr>\n    <tr>\n      <th>MSSB_POS</th>\n      <th>Trend_No_Match</th>\n      <td>1.090909</td>\n      <td>11</td>\n      <td>1.992754</td>\n      <td>138</td>\n      <td>0.021495</td>\n    </tr>\n    <tr>\n      <th rowspan=\"2\" valign=\"top\">MSSB_NEG</th>\n      <th>Dif_Match</th>\n      <td>1.214286</td>\n      <td>14</td>\n      <td>1.918519</td>\n      <td>135</td>\n      <td>0.066608</td>\n    </tr>\n    <tr>\n      <th>Trend_No_Match</th>\n      <td>1.000000</td>\n      <td>11</td>\n      <td>1.920290</td>\n      <td>138</td>\n      <td>0.009825</td>\n    </tr>\n    <tr>\n      <th>MSSB_DES</th>\n      <th>Dif_Match</th>\n      <td>1.000000</td>\n      <td>14</td>\n      <td>2.385185</td>\n      <td>135</td>\n      <td>0.004512</td>\n    </tr>\n  </tbody>\n</table>\n</div>"
     },
     "execution_count": 141,
     "metadata": {},
     "output_type": "execute_result"
    }
   ],
   "source": [
    "\n",
    "\n",
    "# Assuming feature_scales is your DataFrame with features as columns and metrics as rows\n",
    "dic_mean_comparison_90 = {}\n",
    "\n",
    "for metric in metrics_columns:\n",
    "    dic_mean_comparison_90[metric] = {}\n",
    "\n",
    "    for feature in features_columns:\n",
    "        \n",
    "        high_values = feature_scales[feature_scales[feature] > 1.28][metric] #Per sobre 90%\n",
    "        low_values = feature_scales[feature_scales[feature] <= 1.28][metric] #Per sota 90%\n",
    "        t_stat, p_value = stats.ttest_ind(high_values, low_values, equal_var=False)  # Assuming unequal variances\n",
    "\n",
    "                # Calculate means\n",
    "        high_mean = np.mean(high_values)\n",
    "        low_mean = np.mean(low_values)\n",
    "\n",
    "        dic_mean_comparison_90[metric][feature] = {'high_mean': high_mean,'size_high': len(high_values), 'low_mean': low_mean,'size_low': len(low_values), 'p_value': p_value}\n",
    "\n",
    "\n",
    "# Convert results to a DataFrame for easier visualization and analysis\n",
    "df_mean_comparison_90 = pd.DataFrame.from_dict({(i,j): dic_mean_comparison_90[i][j] \n",
    "                                             for i in dic_mean_comparison_90.keys() \n",
    "                                             for j in dic_mean_comparison_90[i].keys()},\n",
    "                                            orient='index')\n",
    "print(\"90%\")\n",
    "df_mean_comparison_90[df_mean_comparison_90[\"p_value\"]<0.1]"
   ],
   "metadata": {
    "collapsed": false,
    "ExecuteTime": {
     "end_time": "2024-04-23T15:22:15.990861Z",
     "start_time": "2024-04-23T15:22:15.566905Z"
    }
   },
   "id": "c0c36ddaad8d4491",
   "execution_count": 141
  },
  {
   "cell_type": "code",
   "outputs": [
    {
     "data": {
      "text/plain": "AVG_Match            0.395466\nAVG_No_Match         0.589679\nCor_Pred_Like        0.595405\nDif_Match            0.328443\nMean_Rating0         0.568058\nTogether_Match       0.482768\nTogether_No_Match    0.555243\nTrend_Match          0.614176\nTrend_No_Match       0.444896\nName: p_value, dtype: float64"
     },
     "execution_count": 142,
     "metadata": {},
     "output_type": "execute_result"
    }
   ],
   "source": [
    "df_mean_comparison_90.groupby(level=1)['p_value'].mean()"
   ],
   "metadata": {
    "collapsed": false,
    "ExecuteTime": {
     "end_time": "2024-04-23T15:22:16.004041Z",
     "start_time": "2024-04-23T15:22:15.993916Z"
    }
   },
   "id": "7947708592dc66b3",
   "execution_count": 142
  },
  {
   "cell_type": "code",
   "outputs": [
    {
     "name": "stdout",
     "output_type": "stream",
     "text": [
      "95%\n"
     ]
    },
    {
     "data": {
      "text/plain": "                             high_mean  size_high   low_mean  size_low  \\\nPA        Together_Match     39.125000          8  32.907801       141   \nNA.       Together_Match     16.500000          8  20.475177       141   \nERQ_CR    Dif_Match           5.642381          7   4.855657       142   \n          AVG_Match           5.480417          8   4.859267       141   \nERQ_ES    AVG_No_Match        2.527778          9   3.066071       140   \n          Together_Match      1.750000          8   3.106383       141   \nUPPSP_NU  Mean_Rating0       10.777778          9   8.764286       140   \nUPPSP_PU  Mean_Rating0       10.666667          9   9.800000       140   \n          AVG_Match          10.750000          8   9.801418       141   \n          Together_No_Match   8.777778          9   9.921429       140   \nUPPSP_PMD Cor_Pred_Like       6.363636         11   7.488445       138   \n          Together_No_Match   6.333333          9   7.474324       140   \nBIS       Cor_Pred_Like      24.909091         11  21.362319       138   \nBAS_RR    Trend_Match        18.777778          9  17.385714       140   \n          Together_No_Match  18.555556          9  17.400000       140   \nBAS_D     Trend_Match        13.444444          9  11.771429       140   \nTEPS_CF   Trend_No_Match     40.500000          6  35.419580       143   \nFS        Dif_Match          50.142857          7  47.295775       142   \n          Together_Match     50.625000          8  47.248227       141   \nLOT_R     Dif_Match          17.428571          7  14.781690       142   \n          Together_Match     17.625000          8  14.751773       141   \nRRQ_Rum   Cor_Pred_Like       3.902121         11   3.275097       138   \n          AVG_Match           3.823750          8   3.292884       141   \n          Together_Match      2.427917          8   3.372080       141   \nRRQ_Ref   Dif_Match           2.392857          7   3.414765       142   \n          Trend_No_Match      4.056667          6   3.337809       143   \n          Together_No_Match   3.908519          9   3.331929       140   \nASI_P     Dif_Match           1.571429          7   4.871241       142   \n          Together_Match      1.875000          8   4.877420       141   \nASI_C     Dif_Match           1.000000          7   3.672868       142   \n          Together_Match      1.000000          8   3.691825       141   \nASI_S     Cor_Pred_Like      11.272727         11   8.043478       138   \n          AVG_No_Match        5.000000          9   8.492857       140   \n          Together_Match      3.625000          8   8.546099       141   \nSPQ       Cor_Pred_Like       3.363636         11   2.123188       138   \n          AVG_Match           3.000000          8   2.170213       141   \n          Together_Match      1.375000          8   2.262411       141   \nSPQ_IR    AVG_Match           3.500000          8   2.602837       141   \nMSSB_NEG  Dif_Match           1.000000          7   1.894366       142   \nMSSB_DES  Dif_Match           1.000000          7   2.316901       142   \n\n                              p_value  \nPA        Together_Match     0.021389  \nNA.       Together_Match     0.003203  \nERQ_CR    Dif_Match          0.011265  \n          AVG_Match          0.050537  \nERQ_ES    AVG_No_Match       0.099975  \n          Together_Match     0.000040  \nUPPSP_NU  Mean_Rating0       0.060888  \nUPPSP_PU  Mean_Rating0       0.023263  \n          AVG_Match          0.083300  \n          Together_No_Match  0.015626  \nUPPSP_PMD Cor_Pred_Like      0.074001  \n          Together_No_Match  0.090766  \nBIS       Cor_Pred_Like      0.002100  \nBAS_RR    Trend_Match        0.042902  \n          Together_No_Match  0.086141  \nBAS_D     Trend_Match        0.062894  \nTEPS_CF   Trend_No_Match     0.001885  \nFS        Dif_Match          0.039681  \n          Together_Match     0.048723  \nLOT_R     Dif_Match          0.066358  \n          Together_Match     0.031861  \nRRQ_Rum   Cor_Pred_Like      0.016472  \n          AVG_Match          0.085894  \n          Together_Match     0.000011  \nRRQ_Ref   Dif_Match          0.011344  \n          Trend_No_Match     0.010518  \n          Together_No_Match  0.010765  \nASI_P     Dif_Match          0.000072  \n          Together_Match     0.000111  \nASI_C     Dif_Match          0.000208  \n          Together_Match     0.000480  \nASI_S     Cor_Pred_Like      0.036396  \n          AVG_No_Match       0.016487  \n          Together_Match     0.000722  \nSPQ       Cor_Pred_Like      0.071727  \n          AVG_Match          0.069975  \n          Together_Match     0.012220  \nSPQ_IR    AVG_Match          0.099111  \nMSSB_NEG  Dif_Match          0.060748  \nMSSB_DES  Dif_Match          0.066284  ",
      "text/html": "<div>\n<style scoped>\n    .dataframe tbody tr th:only-of-type {\n        vertical-align: middle;\n    }\n\n    .dataframe tbody tr th {\n        vertical-align: top;\n    }\n\n    .dataframe thead th {\n        text-align: right;\n    }\n</style>\n<table border=\"1\" class=\"dataframe\">\n  <thead>\n    <tr style=\"text-align: right;\">\n      <th></th>\n      <th></th>\n      <th>high_mean</th>\n      <th>size_high</th>\n      <th>low_mean</th>\n      <th>size_low</th>\n      <th>p_value</th>\n    </tr>\n  </thead>\n  <tbody>\n    <tr>\n      <th>PA</th>\n      <th>Together_Match</th>\n      <td>39.125000</td>\n      <td>8</td>\n      <td>32.907801</td>\n      <td>141</td>\n      <td>0.021389</td>\n    </tr>\n    <tr>\n      <th>NA.</th>\n      <th>Together_Match</th>\n      <td>16.500000</td>\n      <td>8</td>\n      <td>20.475177</td>\n      <td>141</td>\n      <td>0.003203</td>\n    </tr>\n    <tr>\n      <th rowspan=\"2\" valign=\"top\">ERQ_CR</th>\n      <th>Dif_Match</th>\n      <td>5.642381</td>\n      <td>7</td>\n      <td>4.855657</td>\n      <td>142</td>\n      <td>0.011265</td>\n    </tr>\n    <tr>\n      <th>AVG_Match</th>\n      <td>5.480417</td>\n      <td>8</td>\n      <td>4.859267</td>\n      <td>141</td>\n      <td>0.050537</td>\n    </tr>\n    <tr>\n      <th rowspan=\"2\" valign=\"top\">ERQ_ES</th>\n      <th>AVG_No_Match</th>\n      <td>2.527778</td>\n      <td>9</td>\n      <td>3.066071</td>\n      <td>140</td>\n      <td>0.099975</td>\n    </tr>\n    <tr>\n      <th>Together_Match</th>\n      <td>1.750000</td>\n      <td>8</td>\n      <td>3.106383</td>\n      <td>141</td>\n      <td>0.000040</td>\n    </tr>\n    <tr>\n      <th>UPPSP_NU</th>\n      <th>Mean_Rating0</th>\n      <td>10.777778</td>\n      <td>9</td>\n      <td>8.764286</td>\n      <td>140</td>\n      <td>0.060888</td>\n    </tr>\n    <tr>\n      <th rowspan=\"3\" valign=\"top\">UPPSP_PU</th>\n      <th>Mean_Rating0</th>\n      <td>10.666667</td>\n      <td>9</td>\n      <td>9.800000</td>\n      <td>140</td>\n      <td>0.023263</td>\n    </tr>\n    <tr>\n      <th>AVG_Match</th>\n      <td>10.750000</td>\n      <td>8</td>\n      <td>9.801418</td>\n      <td>141</td>\n      <td>0.083300</td>\n    </tr>\n    <tr>\n      <th>Together_No_Match</th>\n      <td>8.777778</td>\n      <td>9</td>\n      <td>9.921429</td>\n      <td>140</td>\n      <td>0.015626</td>\n    </tr>\n    <tr>\n      <th rowspan=\"2\" valign=\"top\">UPPSP_PMD</th>\n      <th>Cor_Pred_Like</th>\n      <td>6.363636</td>\n      <td>11</td>\n      <td>7.488445</td>\n      <td>138</td>\n      <td>0.074001</td>\n    </tr>\n    <tr>\n      <th>Together_No_Match</th>\n      <td>6.333333</td>\n      <td>9</td>\n      <td>7.474324</td>\n      <td>140</td>\n      <td>0.090766</td>\n    </tr>\n    <tr>\n      <th>BIS</th>\n      <th>Cor_Pred_Like</th>\n      <td>24.909091</td>\n      <td>11</td>\n      <td>21.362319</td>\n      <td>138</td>\n      <td>0.002100</td>\n    </tr>\n    <tr>\n      <th rowspan=\"2\" valign=\"top\">BAS_RR</th>\n      <th>Trend_Match</th>\n      <td>18.777778</td>\n      <td>9</td>\n      <td>17.385714</td>\n      <td>140</td>\n      <td>0.042902</td>\n    </tr>\n    <tr>\n      <th>Together_No_Match</th>\n      <td>18.555556</td>\n      <td>9</td>\n      <td>17.400000</td>\n      <td>140</td>\n      <td>0.086141</td>\n    </tr>\n    <tr>\n      <th>BAS_D</th>\n      <th>Trend_Match</th>\n      <td>13.444444</td>\n      <td>9</td>\n      <td>11.771429</td>\n      <td>140</td>\n      <td>0.062894</td>\n    </tr>\n    <tr>\n      <th>TEPS_CF</th>\n      <th>Trend_No_Match</th>\n      <td>40.500000</td>\n      <td>6</td>\n      <td>35.419580</td>\n      <td>143</td>\n      <td>0.001885</td>\n    </tr>\n    <tr>\n      <th rowspan=\"2\" valign=\"top\">FS</th>\n      <th>Dif_Match</th>\n      <td>50.142857</td>\n      <td>7</td>\n      <td>47.295775</td>\n      <td>142</td>\n      <td>0.039681</td>\n    </tr>\n    <tr>\n      <th>Together_Match</th>\n      <td>50.625000</td>\n      <td>8</td>\n      <td>47.248227</td>\n      <td>141</td>\n      <td>0.048723</td>\n    </tr>\n    <tr>\n      <th rowspan=\"2\" valign=\"top\">LOT_R</th>\n      <th>Dif_Match</th>\n      <td>17.428571</td>\n      <td>7</td>\n      <td>14.781690</td>\n      <td>142</td>\n      <td>0.066358</td>\n    </tr>\n    <tr>\n      <th>Together_Match</th>\n      <td>17.625000</td>\n      <td>8</td>\n      <td>14.751773</td>\n      <td>141</td>\n      <td>0.031861</td>\n    </tr>\n    <tr>\n      <th rowspan=\"3\" valign=\"top\">RRQ_Rum</th>\n      <th>Cor_Pred_Like</th>\n      <td>3.902121</td>\n      <td>11</td>\n      <td>3.275097</td>\n      <td>138</td>\n      <td>0.016472</td>\n    </tr>\n    <tr>\n      <th>AVG_Match</th>\n      <td>3.823750</td>\n      <td>8</td>\n      <td>3.292884</td>\n      <td>141</td>\n      <td>0.085894</td>\n    </tr>\n    <tr>\n      <th>Together_Match</th>\n      <td>2.427917</td>\n      <td>8</td>\n      <td>3.372080</td>\n      <td>141</td>\n      <td>0.000011</td>\n    </tr>\n    <tr>\n      <th rowspan=\"3\" valign=\"top\">RRQ_Ref</th>\n      <th>Dif_Match</th>\n      <td>2.392857</td>\n      <td>7</td>\n      <td>3.414765</td>\n      <td>142</td>\n      <td>0.011344</td>\n    </tr>\n    <tr>\n      <th>Trend_No_Match</th>\n      <td>4.056667</td>\n      <td>6</td>\n      <td>3.337809</td>\n      <td>143</td>\n      <td>0.010518</td>\n    </tr>\n    <tr>\n      <th>Together_No_Match</th>\n      <td>3.908519</td>\n      <td>9</td>\n      <td>3.331929</td>\n      <td>140</td>\n      <td>0.010765</td>\n    </tr>\n    <tr>\n      <th rowspan=\"2\" valign=\"top\">ASI_P</th>\n      <th>Dif_Match</th>\n      <td>1.571429</td>\n      <td>7</td>\n      <td>4.871241</td>\n      <td>142</td>\n      <td>0.000072</td>\n    </tr>\n    <tr>\n      <th>Together_Match</th>\n      <td>1.875000</td>\n      <td>8</td>\n      <td>4.877420</td>\n      <td>141</td>\n      <td>0.000111</td>\n    </tr>\n    <tr>\n      <th rowspan=\"2\" valign=\"top\">ASI_C</th>\n      <th>Dif_Match</th>\n      <td>1.000000</td>\n      <td>7</td>\n      <td>3.672868</td>\n      <td>142</td>\n      <td>0.000208</td>\n    </tr>\n    <tr>\n      <th>Together_Match</th>\n      <td>1.000000</td>\n      <td>8</td>\n      <td>3.691825</td>\n      <td>141</td>\n      <td>0.000480</td>\n    </tr>\n    <tr>\n      <th rowspan=\"3\" valign=\"top\">ASI_S</th>\n      <th>Cor_Pred_Like</th>\n      <td>11.272727</td>\n      <td>11</td>\n      <td>8.043478</td>\n      <td>138</td>\n      <td>0.036396</td>\n    </tr>\n    <tr>\n      <th>AVG_No_Match</th>\n      <td>5.000000</td>\n      <td>9</td>\n      <td>8.492857</td>\n      <td>140</td>\n      <td>0.016487</td>\n    </tr>\n    <tr>\n      <th>Together_Match</th>\n      <td>3.625000</td>\n      <td>8</td>\n      <td>8.546099</td>\n      <td>141</td>\n      <td>0.000722</td>\n    </tr>\n    <tr>\n      <th rowspan=\"3\" valign=\"top\">SPQ</th>\n      <th>Cor_Pred_Like</th>\n      <td>3.363636</td>\n      <td>11</td>\n      <td>2.123188</td>\n      <td>138</td>\n      <td>0.071727</td>\n    </tr>\n    <tr>\n      <th>AVG_Match</th>\n      <td>3.000000</td>\n      <td>8</td>\n      <td>2.170213</td>\n      <td>141</td>\n      <td>0.069975</td>\n    </tr>\n    <tr>\n      <th>Together_Match</th>\n      <td>1.375000</td>\n      <td>8</td>\n      <td>2.262411</td>\n      <td>141</td>\n      <td>0.012220</td>\n    </tr>\n    <tr>\n      <th>SPQ_IR</th>\n      <th>AVG_Match</th>\n      <td>3.500000</td>\n      <td>8</td>\n      <td>2.602837</td>\n      <td>141</td>\n      <td>0.099111</td>\n    </tr>\n    <tr>\n      <th>MSSB_NEG</th>\n      <th>Dif_Match</th>\n      <td>1.000000</td>\n      <td>7</td>\n      <td>1.894366</td>\n      <td>142</td>\n      <td>0.060748</td>\n    </tr>\n    <tr>\n      <th>MSSB_DES</th>\n      <th>Dif_Match</th>\n      <td>1.000000</td>\n      <td>7</td>\n      <td>2.316901</td>\n      <td>142</td>\n      <td>0.066284</td>\n    </tr>\n  </tbody>\n</table>\n</div>"
     },
     "execution_count": 143,
     "metadata": {},
     "output_type": "execute_result"
    }
   ],
   "source": [
    "dic_mean_comparison = {}\n",
    "\n",
    "for metric in metrics_columns:\n",
    "    dic_mean_comparison[metric] = {}\n",
    "\n",
    "    for feature in features_columns:\n",
    "        \n",
    "        high_values = feature_scales[feature_scales[feature] > 1.6][metric] #Per sobre 95%\n",
    "        low_values = feature_scales[feature_scales[feature] <= 1.6][metric] #Per sota 95%\n",
    "        t_stat, p_value = stats.ttest_ind(high_values, low_values, equal_var=False)  # Assuming unequal variances\n",
    "\n",
    "                # Calculate means\n",
    "        high_mean = np.mean(high_values)\n",
    "        low_mean = np.mean(low_values)\n",
    "\n",
    "        dic_mean_comparison[metric][feature] = {'high_mean': high_mean,'size_high': len(high_values), 'low_mean': low_mean,'size_low': len(low_values), 'p_value': p_value}\n",
    "\n",
    "\n",
    "# Convert results to a DataFrame for easier visualization and analysis\n",
    "df_mean_comparison_95 = pd.DataFrame.from_dict({(i,j): dic_mean_comparison[i][j] \n",
    "                                             for i in dic_mean_comparison.keys() \n",
    "                                             for j in dic_mean_comparison[i].keys()},\n",
    "                                            orient='index')\n",
    "print(\"95%\")\n",
    "df_mean_comparison_95[df_mean_comparison_95[\"p_value\"]<0.1]\n",
    "\n"
   ],
   "metadata": {
    "collapsed": false,
    "ExecuteTime": {
     "end_time": "2024-04-23T15:22:16.707400Z",
     "start_time": "2024-04-23T15:22:16.279572Z"
    }
   },
   "id": "4abcfd74911218cb",
   "execution_count": 143
  },
  {
   "cell_type": "code",
   "outputs": [
    {
     "data": {
      "text/plain": "AVG_Match            0.421083\nAVG_No_Match         0.523863\nCor_Pred_Like        0.435817\nDif_Match            0.415787\nMean_Rating0         0.533614\nTogether_Match       0.319518\nTogether_No_Match    0.507024\nTrend_Match          0.620207\nTrend_No_Match       0.538885\nName: p_value, dtype: float64"
     },
     "execution_count": 144,
     "metadata": {},
     "output_type": "execute_result"
    }
   ],
   "source": [
    "df_mean_comparison_95.groupby(level=1)['p_value'].mean()\n"
   ],
   "metadata": {
    "collapsed": false,
    "ExecuteTime": {
     "end_time": "2024-04-23T15:22:16.742697Z",
     "start_time": "2024-04-23T15:22:16.736125Z"
    }
   },
   "id": "a52cefef7af39b6c",
   "execution_count": 144
  },
  {
   "cell_type": "code",
   "outputs": [
    {
     "name": "stderr",
     "output_type": "stream",
     "text": [
      "/home/diego/PycharmProjects/CasLAB-Predictive-Processing/venv/lib/python3.12/site-packages/scipy/stats/_axis_nan_policy.py:531: RuntimeWarning: Precision loss occurred in moment calculation due to catastrophic cancellation. This occurs when the data are nearly identical. Results may be unreliable.\n",
      "  res = hypotest_fun_out(*samples, **kwds)\n"
     ]
    },
    {
     "name": "stdout",
     "output_type": "stream",
     "text": [
      "5%\n"
     ]
    },
    {
     "data": {
      "text/plain": "                             high_mean  size_high   low_mean  size_low  \\\nPA        Mean_Rating0       28.200000          5  33.416667       144   \nNA.       Trend_No_Match     17.600000         10  20.453237       139   \nERQ_ES    Mean_Rating0        1.900000          5   3.072917       144   \nUPPSP_SS  Together_Match      9.181818         11  10.985507       138   \nUPPSP_PSV AVG_No_Match       11.500000          2   6.986395       147   \nBIS       Mean_Rating0       25.000000          5  21.506944       144   \n          Dif_Match          19.142857          7  21.746479       142   \nBAS_RR    AVG_Match          19.166667          6  17.398601       143   \n          AVG_No_Match       20.000000          2  17.435374       147   \nBAS_D     AVG_No_Match       13.000000          2  11.857143       147   \nBAS_FS    AVG_Match          14.833333          6  12.349650       143   \n          Together_Match     11.363636         11  12.536232       138   \nTEPS_AF   Cor_Pred_Like      52.250000          4  43.268966       145   \n          Together_No_Match  47.666667          9  43.242857       140   \nTEPS_CF   AVG_Match          40.000000          6  35.440559       143   \n          Together_No_Match  38.444444          9  35.442857       140   \nSHS       Mean_Rating0        3.800000          5   4.296875       144   \n          Trend_No_Match      4.600000         10   4.257194       139   \nLOT_R     Dif_Match          13.428571          7  14.978873       142   \nRRQ_Rum   Trend_No_Match      2.758333         10   3.361894       139   \nRRQ_Ref   Trend_No_Match      4.008333         10   3.320600       139   \nASI_P     Cor_Pred_Like       1.250000          4   4.811836       145   \n          Trend_No_Match      2.100000         10   4.904433       139   \nASI_C     Together_Match      7.636364         11   3.221357       138   \nASI_S     Trend_No_Match      4.800000         10   8.532374       139   \nMSSB_NEG  Together_Match      1.272727         11   1.898551       138   \n          Together_No_Match   1.333333          9   1.885714       140   \n\n                                  p_value  \nPA        Mean_Rating0       4.771396e-02  \nNA.       Trend_No_Match     8.950952e-02  \nERQ_ES    Mean_Rating0       3.894219e-03  \nUPPSP_SS  Together_Match     7.622709e-02  \nUPPSP_PSV AVG_No_Match       3.701629e-02  \nBIS       Mean_Rating0       2.677734e-02  \n          Dif_Match          1.370842e-02  \nBAS_RR    AVG_Match          4.181800e-02  \n          AVG_No_Match       8.388936e-35  \nBAS_D     AVG_No_Match       8.810011e-09  \nBAS_FS    AVG_Match          1.598802e-09  \n          Together_Match     7.538289e-02  \nTEPS_AF   Cor_Pred_Like      6.717008e-03  \n          Together_No_Match  6.349384e-02  \nTEPS_CF   AVG_Match          2.248646e-02  \n          Together_No_Match  7.863043e-02  \nSHS       Mean_Rating0       3.656072e-02  \n          Trend_No_Match     7.254335e-02  \nLOT_R     Dif_Match          6.109776e-02  \nRRQ_Rum   Trend_No_Match     6.078809e-02  \nRRQ_Ref   Trend_No_Match     4.980010e-02  \nASI_P     Cor_Pred_Like      5.270034e-04  \n          Trend_No_Match     3.716884e-03  \nASI_C     Together_Match     9.810251e-02  \nASI_S     Trend_No_Match     6.473136e-03  \nMSSB_NEG  Together_Match     9.293845e-02  \n          Together_No_Match  2.960341e-02  ",
      "text/html": "<div>\n<style scoped>\n    .dataframe tbody tr th:only-of-type {\n        vertical-align: middle;\n    }\n\n    .dataframe tbody tr th {\n        vertical-align: top;\n    }\n\n    .dataframe thead th {\n        text-align: right;\n    }\n</style>\n<table border=\"1\" class=\"dataframe\">\n  <thead>\n    <tr style=\"text-align: right;\">\n      <th></th>\n      <th></th>\n      <th>high_mean</th>\n      <th>size_high</th>\n      <th>low_mean</th>\n      <th>size_low</th>\n      <th>p_value</th>\n    </tr>\n  </thead>\n  <tbody>\n    <tr>\n      <th>PA</th>\n      <th>Mean_Rating0</th>\n      <td>28.200000</td>\n      <td>5</td>\n      <td>33.416667</td>\n      <td>144</td>\n      <td>4.771396e-02</td>\n    </tr>\n    <tr>\n      <th>NA.</th>\n      <th>Trend_No_Match</th>\n      <td>17.600000</td>\n      <td>10</td>\n      <td>20.453237</td>\n      <td>139</td>\n      <td>8.950952e-02</td>\n    </tr>\n    <tr>\n      <th>ERQ_ES</th>\n      <th>Mean_Rating0</th>\n      <td>1.900000</td>\n      <td>5</td>\n      <td>3.072917</td>\n      <td>144</td>\n      <td>3.894219e-03</td>\n    </tr>\n    <tr>\n      <th>UPPSP_SS</th>\n      <th>Together_Match</th>\n      <td>9.181818</td>\n      <td>11</td>\n      <td>10.985507</td>\n      <td>138</td>\n      <td>7.622709e-02</td>\n    </tr>\n    <tr>\n      <th>UPPSP_PSV</th>\n      <th>AVG_No_Match</th>\n      <td>11.500000</td>\n      <td>2</td>\n      <td>6.986395</td>\n      <td>147</td>\n      <td>3.701629e-02</td>\n    </tr>\n    <tr>\n      <th rowspan=\"2\" valign=\"top\">BIS</th>\n      <th>Mean_Rating0</th>\n      <td>25.000000</td>\n      <td>5</td>\n      <td>21.506944</td>\n      <td>144</td>\n      <td>2.677734e-02</td>\n    </tr>\n    <tr>\n      <th>Dif_Match</th>\n      <td>19.142857</td>\n      <td>7</td>\n      <td>21.746479</td>\n      <td>142</td>\n      <td>1.370842e-02</td>\n    </tr>\n    <tr>\n      <th rowspan=\"2\" valign=\"top\">BAS_RR</th>\n      <th>AVG_Match</th>\n      <td>19.166667</td>\n      <td>6</td>\n      <td>17.398601</td>\n      <td>143</td>\n      <td>4.181800e-02</td>\n    </tr>\n    <tr>\n      <th>AVG_No_Match</th>\n      <td>20.000000</td>\n      <td>2</td>\n      <td>17.435374</td>\n      <td>147</td>\n      <td>8.388936e-35</td>\n    </tr>\n    <tr>\n      <th>BAS_D</th>\n      <th>AVG_No_Match</th>\n      <td>13.000000</td>\n      <td>2</td>\n      <td>11.857143</td>\n      <td>147</td>\n      <td>8.810011e-09</td>\n    </tr>\n    <tr>\n      <th rowspan=\"2\" valign=\"top\">BAS_FS</th>\n      <th>AVG_Match</th>\n      <td>14.833333</td>\n      <td>6</td>\n      <td>12.349650</td>\n      <td>143</td>\n      <td>1.598802e-09</td>\n    </tr>\n    <tr>\n      <th>Together_Match</th>\n      <td>11.363636</td>\n      <td>11</td>\n      <td>12.536232</td>\n      <td>138</td>\n      <td>7.538289e-02</td>\n    </tr>\n    <tr>\n      <th rowspan=\"2\" valign=\"top\">TEPS_AF</th>\n      <th>Cor_Pred_Like</th>\n      <td>52.250000</td>\n      <td>4</td>\n      <td>43.268966</td>\n      <td>145</td>\n      <td>6.717008e-03</td>\n    </tr>\n    <tr>\n      <th>Together_No_Match</th>\n      <td>47.666667</td>\n      <td>9</td>\n      <td>43.242857</td>\n      <td>140</td>\n      <td>6.349384e-02</td>\n    </tr>\n    <tr>\n      <th rowspan=\"2\" valign=\"top\">TEPS_CF</th>\n      <th>AVG_Match</th>\n      <td>40.000000</td>\n      <td>6</td>\n      <td>35.440559</td>\n      <td>143</td>\n      <td>2.248646e-02</td>\n    </tr>\n    <tr>\n      <th>Together_No_Match</th>\n      <td>38.444444</td>\n      <td>9</td>\n      <td>35.442857</td>\n      <td>140</td>\n      <td>7.863043e-02</td>\n    </tr>\n    <tr>\n      <th rowspan=\"2\" valign=\"top\">SHS</th>\n      <th>Mean_Rating0</th>\n      <td>3.800000</td>\n      <td>5</td>\n      <td>4.296875</td>\n      <td>144</td>\n      <td>3.656072e-02</td>\n    </tr>\n    <tr>\n      <th>Trend_No_Match</th>\n      <td>4.600000</td>\n      <td>10</td>\n      <td>4.257194</td>\n      <td>139</td>\n      <td>7.254335e-02</td>\n    </tr>\n    <tr>\n      <th>LOT_R</th>\n      <th>Dif_Match</th>\n      <td>13.428571</td>\n      <td>7</td>\n      <td>14.978873</td>\n      <td>142</td>\n      <td>6.109776e-02</td>\n    </tr>\n    <tr>\n      <th>RRQ_Rum</th>\n      <th>Trend_No_Match</th>\n      <td>2.758333</td>\n      <td>10</td>\n      <td>3.361894</td>\n      <td>139</td>\n      <td>6.078809e-02</td>\n    </tr>\n    <tr>\n      <th>RRQ_Ref</th>\n      <th>Trend_No_Match</th>\n      <td>4.008333</td>\n      <td>10</td>\n      <td>3.320600</td>\n      <td>139</td>\n      <td>4.980010e-02</td>\n    </tr>\n    <tr>\n      <th rowspan=\"2\" valign=\"top\">ASI_P</th>\n      <th>Cor_Pred_Like</th>\n      <td>1.250000</td>\n      <td>4</td>\n      <td>4.811836</td>\n      <td>145</td>\n      <td>5.270034e-04</td>\n    </tr>\n    <tr>\n      <th>Trend_No_Match</th>\n      <td>2.100000</td>\n      <td>10</td>\n      <td>4.904433</td>\n      <td>139</td>\n      <td>3.716884e-03</td>\n    </tr>\n    <tr>\n      <th>ASI_C</th>\n      <th>Together_Match</th>\n      <td>7.636364</td>\n      <td>11</td>\n      <td>3.221357</td>\n      <td>138</td>\n      <td>9.810251e-02</td>\n    </tr>\n    <tr>\n      <th>ASI_S</th>\n      <th>Trend_No_Match</th>\n      <td>4.800000</td>\n      <td>10</td>\n      <td>8.532374</td>\n      <td>139</td>\n      <td>6.473136e-03</td>\n    </tr>\n    <tr>\n      <th rowspan=\"2\" valign=\"top\">MSSB_NEG</th>\n      <th>Together_Match</th>\n      <td>1.272727</td>\n      <td>11</td>\n      <td>1.898551</td>\n      <td>138</td>\n      <td>9.293845e-02</td>\n    </tr>\n    <tr>\n      <th>Together_No_Match</th>\n      <td>1.333333</td>\n      <td>9</td>\n      <td>1.885714</td>\n      <td>140</td>\n      <td>2.960341e-02</td>\n    </tr>\n  </tbody>\n</table>\n</div>"
     },
     "execution_count": 145,
     "metadata": {},
     "output_type": "execute_result"
    }
   ],
   "source": [
    "dic_mean_comparison_5 = {}\n",
    "\n",
    "for metric in metrics_columns:\n",
    "    dic_mean_comparison_5[metric] = {}\n",
    "\n",
    "    for feature in features_columns:\n",
    "        \n",
    "        high_values = feature_scales[feature_scales[feature] < -1.6][metric] #Per sota 5%\n",
    "        low_values = feature_scales[feature_scales[feature] >= -1.6][metric] #Per sobre 5%\n",
    "        t_stat, p_value = stats.ttest_ind(high_values, low_values, equal_var=False)  # Assuming unequal variances\n",
    "\n",
    "                # Calculate means\n",
    "        high_mean = np.mean(high_values)\n",
    "        low_mean = np.mean(low_values)\n",
    "\n",
    "        dic_mean_comparison_5[metric][feature] = {'high_mean': high_mean,'size_high': len(high_values), 'low_mean': low_mean,'size_low': len(low_values), 'p_value': p_value}\n",
    "\n",
    "\n",
    "# Convert results to a DataFrame for easier visualization and analysis\n",
    "print(\"5%\")\n",
    "df_mean_comparison_5 = pd.DataFrame.from_dict({(i,j): dic_mean_comparison_5[i][j] \n",
    "                                             for i in dic_mean_comparison_5.keys() \n",
    "                                             for j in dic_mean_comparison_5[i].keys()},\n",
    "                                            orient='index')\n",
    "\n",
    "df_mean_comparison_5[df_mean_comparison_5[\"p_value\"]<0.1]"
   ],
   "metadata": {
    "collapsed": false,
    "ExecuteTime": {
     "end_time": "2024-04-23T15:22:17.585524Z",
     "start_time": "2024-04-23T15:22:17.140080Z"
    }
   },
   "id": "2e95b65dd6a04320",
   "execution_count": 145
  },
  {
   "cell_type": "code",
   "outputs": [
    {
     "data": {
      "text/plain": "AVG_Match            0.544163\nAVG_No_Match         0.507565\nCor_Pred_Like        0.561616\nDif_Match            0.529052\nMean_Rating0         0.512888\nTogether_Match       0.434878\nTogether_No_Match    0.386037\nTrend_Match          0.569449\nTrend_No_Match       0.438827\nName: p_value, dtype: float64"
     },
     "execution_count": 146,
     "metadata": {},
     "output_type": "execute_result"
    }
   ],
   "source": [
    "df_mean_comparison_5.groupby(level=1)['p_value'].mean()\n"
   ],
   "metadata": {
    "collapsed": false,
    "ExecuteTime": {
     "end_time": "2024-04-23T15:22:17.594668Z",
     "start_time": "2024-04-23T15:22:17.588195Z"
    }
   },
   "id": "42f30fd00b850458",
   "execution_count": 146
  },
  {
   "cell_type": "code",
   "outputs": [
    {
     "name": "stdout",
     "output_type": "stream",
     "text": [
      "10%\n"
     ]
    },
    {
     "data": {
      "text/plain": "                            high_mean  size_high   low_mean  size_low  \\\nPA       Mean_Rating0       29.533333         15  33.656716       134   \nNA.      Dif_Match          22.000000         12  20.109489       137   \nERQ_CR   Dif_Match           4.444722         12   4.931849       137   \nERQ_ES   Mean_Rating0        2.566667         15   3.085821       134   \n         Together_Match      2.464286         14   3.092593       135   \n         Together_No_Match   2.539474         19   3.105769       130   \nUPPSP_PU AVG_Match          11.050000         20   9.666667       129   \nUPPSP_SS AVG_No_Match        8.888889          9  10.978571       140   \n         Together_Match      9.285714         14  11.014815       135   \nBIS      Mean_Rating0       23.000000         15  21.470149       134   \n         Dif_Match          19.833333         12  21.781022       137   \nBAS_RR   AVG_No_Match       18.444444          9  17.407143       140   \nBAS_FS   Together_Match     11.500000         14  12.548148       135   \nTEPS_AF  AVG_No_Match       47.444444          9  43.257143       140   \n         Together_No_Match  46.368421         19  43.092308       130   \nRRQ_Ref  Trend_No_Match      3.811556         15   3.316965       134   \nSPQ      AVG_Match           1.750000         20   2.286822       129   \nSPQ_IR   AVG_No_Match        3.555556          9   2.592857       140   \nMSSB_POS Together_Match      3.071429         14   1.807407       135   \nMSSB_NEG Together_Match      1.214286         14   1.918519       135   \n         Together_No_Match   1.368421         19   1.923077       130   \n\n                             p_value  \nPA       Mean_Rating0       0.042053  \nNA.      Dif_Match          0.096622  \nERQ_CR   Dif_Match          0.040691  \nERQ_ES   Mean_Rating0       0.056328  \n         Together_Match     0.047859  \n         Together_No_Match  0.071601  \nUPPSP_PU AVG_Match          0.041523  \nUPPSP_SS AVG_No_Match       0.087425  \n         Together_Match     0.036179  \nBIS      Mean_Rating0       0.073733  \n         Dif_Match          0.053588  \nBAS_RR   AVG_No_Match       0.052509  \nBAS_FS   Together_Match     0.065012  \nTEPS_AF  AVG_No_Match       0.049053  \n         Together_No_Match  0.085388  \nRRQ_Ref  Trend_No_Match     0.066845  \nSPQ      AVG_Match          0.094181  \nSPQ_IR   AVG_No_Match       0.051475  \nMSSB_POS Together_Match     0.088423  \nMSSB_NEG Together_Match     0.034858  \n         Together_No_Match  0.051484  ",
      "text/html": "<div>\n<style scoped>\n    .dataframe tbody tr th:only-of-type {\n        vertical-align: middle;\n    }\n\n    .dataframe tbody tr th {\n        vertical-align: top;\n    }\n\n    .dataframe thead th {\n        text-align: right;\n    }\n</style>\n<table border=\"1\" class=\"dataframe\">\n  <thead>\n    <tr style=\"text-align: right;\">\n      <th></th>\n      <th></th>\n      <th>high_mean</th>\n      <th>size_high</th>\n      <th>low_mean</th>\n      <th>size_low</th>\n      <th>p_value</th>\n    </tr>\n  </thead>\n  <tbody>\n    <tr>\n      <th>PA</th>\n      <th>Mean_Rating0</th>\n      <td>29.533333</td>\n      <td>15</td>\n      <td>33.656716</td>\n      <td>134</td>\n      <td>0.042053</td>\n    </tr>\n    <tr>\n      <th>NA.</th>\n      <th>Dif_Match</th>\n      <td>22.000000</td>\n      <td>12</td>\n      <td>20.109489</td>\n      <td>137</td>\n      <td>0.096622</td>\n    </tr>\n    <tr>\n      <th>ERQ_CR</th>\n      <th>Dif_Match</th>\n      <td>4.444722</td>\n      <td>12</td>\n      <td>4.931849</td>\n      <td>137</td>\n      <td>0.040691</td>\n    </tr>\n    <tr>\n      <th rowspan=\"3\" valign=\"top\">ERQ_ES</th>\n      <th>Mean_Rating0</th>\n      <td>2.566667</td>\n      <td>15</td>\n      <td>3.085821</td>\n      <td>134</td>\n      <td>0.056328</td>\n    </tr>\n    <tr>\n      <th>Together_Match</th>\n      <td>2.464286</td>\n      <td>14</td>\n      <td>3.092593</td>\n      <td>135</td>\n      <td>0.047859</td>\n    </tr>\n    <tr>\n      <th>Together_No_Match</th>\n      <td>2.539474</td>\n      <td>19</td>\n      <td>3.105769</td>\n      <td>130</td>\n      <td>0.071601</td>\n    </tr>\n    <tr>\n      <th>UPPSP_PU</th>\n      <th>AVG_Match</th>\n      <td>11.050000</td>\n      <td>20</td>\n      <td>9.666667</td>\n      <td>129</td>\n      <td>0.041523</td>\n    </tr>\n    <tr>\n      <th rowspan=\"2\" valign=\"top\">UPPSP_SS</th>\n      <th>AVG_No_Match</th>\n      <td>8.888889</td>\n      <td>9</td>\n      <td>10.978571</td>\n      <td>140</td>\n      <td>0.087425</td>\n    </tr>\n    <tr>\n      <th>Together_Match</th>\n      <td>9.285714</td>\n      <td>14</td>\n      <td>11.014815</td>\n      <td>135</td>\n      <td>0.036179</td>\n    </tr>\n    <tr>\n      <th rowspan=\"2\" valign=\"top\">BIS</th>\n      <th>Mean_Rating0</th>\n      <td>23.000000</td>\n      <td>15</td>\n      <td>21.470149</td>\n      <td>134</td>\n      <td>0.073733</td>\n    </tr>\n    <tr>\n      <th>Dif_Match</th>\n      <td>19.833333</td>\n      <td>12</td>\n      <td>21.781022</td>\n      <td>137</td>\n      <td>0.053588</td>\n    </tr>\n    <tr>\n      <th>BAS_RR</th>\n      <th>AVG_No_Match</th>\n      <td>18.444444</td>\n      <td>9</td>\n      <td>17.407143</td>\n      <td>140</td>\n      <td>0.052509</td>\n    </tr>\n    <tr>\n      <th>BAS_FS</th>\n      <th>Together_Match</th>\n      <td>11.500000</td>\n      <td>14</td>\n      <td>12.548148</td>\n      <td>135</td>\n      <td>0.065012</td>\n    </tr>\n    <tr>\n      <th rowspan=\"2\" valign=\"top\">TEPS_AF</th>\n      <th>AVG_No_Match</th>\n      <td>47.444444</td>\n      <td>9</td>\n      <td>43.257143</td>\n      <td>140</td>\n      <td>0.049053</td>\n    </tr>\n    <tr>\n      <th>Together_No_Match</th>\n      <td>46.368421</td>\n      <td>19</td>\n      <td>43.092308</td>\n      <td>130</td>\n      <td>0.085388</td>\n    </tr>\n    <tr>\n      <th>RRQ_Ref</th>\n      <th>Trend_No_Match</th>\n      <td>3.811556</td>\n      <td>15</td>\n      <td>3.316965</td>\n      <td>134</td>\n      <td>0.066845</td>\n    </tr>\n    <tr>\n      <th>SPQ</th>\n      <th>AVG_Match</th>\n      <td>1.750000</td>\n      <td>20</td>\n      <td>2.286822</td>\n      <td>129</td>\n      <td>0.094181</td>\n    </tr>\n    <tr>\n      <th>SPQ_IR</th>\n      <th>AVG_No_Match</th>\n      <td>3.555556</td>\n      <td>9</td>\n      <td>2.592857</td>\n      <td>140</td>\n      <td>0.051475</td>\n    </tr>\n    <tr>\n      <th>MSSB_POS</th>\n      <th>Together_Match</th>\n      <td>3.071429</td>\n      <td>14</td>\n      <td>1.807407</td>\n      <td>135</td>\n      <td>0.088423</td>\n    </tr>\n    <tr>\n      <th rowspan=\"2\" valign=\"top\">MSSB_NEG</th>\n      <th>Together_Match</th>\n      <td>1.214286</td>\n      <td>14</td>\n      <td>1.918519</td>\n      <td>135</td>\n      <td>0.034858</td>\n    </tr>\n    <tr>\n      <th>Together_No_Match</th>\n      <td>1.368421</td>\n      <td>19</td>\n      <td>1.923077</td>\n      <td>130</td>\n      <td>0.051484</td>\n    </tr>\n  </tbody>\n</table>\n</div>"
     },
     "execution_count": 149,
     "metadata": {},
     "output_type": "execute_result"
    }
   ],
   "source": [
    "dic_mean_comparison_10 = {}\n",
    "\n",
    "for metric in metrics_columns:\n",
    "    dic_mean_comparison_10[metric] = {}\n",
    "\n",
    "    for feature in features_columns:\n",
    "        \n",
    "        high_values = feature_scales[feature_scales[feature] < -1.28][metric] #Per sota 10%\n",
    "        low_values = feature_scales[feature_scales[feature] >= -1.28][metric] #Per sobre 10%\n",
    "        t_stat, p_value = stats.ttest_ind(high_values, low_values, equal_var=False)  # Assuming unequal variances\n",
    "\n",
    "                # Calculate means\n",
    "        high_mean = np.mean(high_values)\n",
    "        low_mean = np.mean(low_values)\n",
    "\n",
    "        dic_mean_comparison_10[metric][feature] = {'high_mean': high_mean,'size_high': len(high_values), 'low_mean': low_mean,'size_low': len(low_values), 'p_value': p_value}\n",
    "\n",
    "\n",
    "# Convert results to a DataFrame for easier visualization and analysis\n",
    "df_mean_comparison_10 = pd.DataFrame.from_dict({(i,j): dic_mean_comparison_10[i][j] \n",
    "                                             for i in dic_mean_comparison_10.keys() \n",
    "                                             for j in dic_mean_comparison_10[i].keys()},\n",
    "                                            orient='index')\n",
    "print(\"10%\")\n",
    "\n",
    "df_mean_comparison_10[df_mean_comparison_10[\"p_value\"]<0.1]"
   ],
   "metadata": {
    "collapsed": false,
    "ExecuteTime": {
     "end_time": "2024-04-23T15:22:51.048304Z",
     "start_time": "2024-04-23T15:22:50.591441Z"
    }
   },
   "id": "c1bfbbadf467db8a",
   "execution_count": 149
  },
  {
   "cell_type": "code",
   "outputs": [
    {
     "data": {
      "text/plain": "AVG_Match            0.570490\nAVG_No_Match         0.418113\nCor_Pred_Like        0.489073\nDif_Match            0.602982\nMean_Rating0         0.385582\nTogether_Match       0.472063\nTogether_No_Match    0.494912\nTrend_Match          0.532096\nTrend_No_Match       0.514168\nName: p_value, dtype: float64"
     },
     "execution_count": 150,
     "metadata": {},
     "output_type": "execute_result"
    }
   ],
   "source": [
    "df_mean_comparison_10.groupby(level=1)['p_value'].mean()\n"
   ],
   "metadata": {
    "collapsed": false,
    "ExecuteTime": {
     "end_time": "2024-04-23T15:22:51.374652Z",
     "start_time": "2024-04-23T15:22:51.368286Z"
    }
   },
   "id": "916ee83bd95c056c",
   "execution_count": 150
  },
  {
   "cell_type": "code",
   "outputs": [
    {
     "name": "stdout",
     "output_type": "stream",
     "text": [
      "85%\n"
     ]
    },
    {
     "data": {
      "text/plain": "                             high_mean  size_high   low_mean  size_low  \\\nPA        Mean_Rating0       29.900000         20  33.759690       129   \n          Dif_Match          35.823529         17  32.909091       132   \n          AVG_Match          30.954545         22  33.637795       127   \nERQ_CR    Mean_Rating0        4.542000         20   4.946977       129   \n          Together_No_Match   5.284444         24   4.817387       125   \nERQ_ES    Mean_Rating0        2.487500         20   3.118217       129   \n          Together_Match      2.663043         23   3.101190       126   \nUPPSP_PU  AVG_Match          11.000000         22   9.653543       127   \n          Together_Match      9.130435         23   9.984127       126   \nUPPSP_SS  Trend_Match         9.920000         25  11.040323       124   \n          Together_Match      9.652174         23  11.071429       126   \nUPPSP_PMD Trend_Match         6.600000         25   7.567786       124   \nUPPSP_PSV AVG_Match           8.227273         22   6.842520       127   \nBIS       Mean_Rating0       23.300000         20  21.364341       129   \nBAS_RR    AVG_No_Match       18.437500         16  17.353383       133   \nTEPS_AF   Trend_No_Match     46.041667         24  43.024000       125   \n          AVG_No_Match       46.937500         16  43.097744       133   \nLOT_R     Trend_No_Match     16.166667         24  14.664000       125   \nASI_C     Mean_Rating0        6.200000         20   3.136026       129   \nASI_S     Mean_Rating0       10.750000         20   7.899225       129   \nSPQ       Trend_Match         2.800000         25   2.096774       124   \nMSSB_DES  AVG_Match           3.590909         22   2.023622       127   \n\n                              p_value  \nPA        Mean_Rating0       0.024928  \n          Dif_Match          0.076193  \n          AVG_Match          0.069265  \nERQ_CR    Mean_Rating0       0.095583  \n          Together_No_Match  0.030373  \nERQ_ES    Mean_Rating0       0.010794  \n          Together_Match     0.088016  \nUPPSP_PU  AVG_Match          0.032401  \n          Together_Match     0.066813  \nUPPSP_SS  Trend_Match        0.077870  \n          Together_Match     0.026432  \nUPPSP_PMD Trend_Match        0.032076  \nUPPSP_PSV AVG_Match          0.059707  \nBIS       Mean_Rating0       0.011348  \nBAS_RR    AVG_No_Match       0.007295  \nTEPS_AF   Trend_No_Match     0.095248  \n          AVG_No_Match       0.025112  \nLOT_R     Trend_No_Match     0.021199  \nASI_C     Mean_Rating0       0.057300  \nASI_S     Mean_Rating0       0.089660  \nSPQ       Trend_Match        0.074555  \nMSSB_DES  AVG_Match          0.051064  ",
      "text/html": "<div>\n<style scoped>\n    .dataframe tbody tr th:only-of-type {\n        vertical-align: middle;\n    }\n\n    .dataframe tbody tr th {\n        vertical-align: top;\n    }\n\n    .dataframe thead th {\n        text-align: right;\n    }\n</style>\n<table border=\"1\" class=\"dataframe\">\n  <thead>\n    <tr style=\"text-align: right;\">\n      <th></th>\n      <th></th>\n      <th>high_mean</th>\n      <th>size_high</th>\n      <th>low_mean</th>\n      <th>size_low</th>\n      <th>p_value</th>\n    </tr>\n  </thead>\n  <tbody>\n    <tr>\n      <th rowspan=\"3\" valign=\"top\">PA</th>\n      <th>Mean_Rating0</th>\n      <td>29.900000</td>\n      <td>20</td>\n      <td>33.759690</td>\n      <td>129</td>\n      <td>0.024928</td>\n    </tr>\n    <tr>\n      <th>Dif_Match</th>\n      <td>35.823529</td>\n      <td>17</td>\n      <td>32.909091</td>\n      <td>132</td>\n      <td>0.076193</td>\n    </tr>\n    <tr>\n      <th>AVG_Match</th>\n      <td>30.954545</td>\n      <td>22</td>\n      <td>33.637795</td>\n      <td>127</td>\n      <td>0.069265</td>\n    </tr>\n    <tr>\n      <th rowspan=\"2\" valign=\"top\">ERQ_CR</th>\n      <th>Mean_Rating0</th>\n      <td>4.542000</td>\n      <td>20</td>\n      <td>4.946977</td>\n      <td>129</td>\n      <td>0.095583</td>\n    </tr>\n    <tr>\n      <th>Together_No_Match</th>\n      <td>5.284444</td>\n      <td>24</td>\n      <td>4.817387</td>\n      <td>125</td>\n      <td>0.030373</td>\n    </tr>\n    <tr>\n      <th rowspan=\"2\" valign=\"top\">ERQ_ES</th>\n      <th>Mean_Rating0</th>\n      <td>2.487500</td>\n      <td>20</td>\n      <td>3.118217</td>\n      <td>129</td>\n      <td>0.010794</td>\n    </tr>\n    <tr>\n      <th>Together_Match</th>\n      <td>2.663043</td>\n      <td>23</td>\n      <td>3.101190</td>\n      <td>126</td>\n      <td>0.088016</td>\n    </tr>\n    <tr>\n      <th rowspan=\"2\" valign=\"top\">UPPSP_PU</th>\n      <th>AVG_Match</th>\n      <td>11.000000</td>\n      <td>22</td>\n      <td>9.653543</td>\n      <td>127</td>\n      <td>0.032401</td>\n    </tr>\n    <tr>\n      <th>Together_Match</th>\n      <td>9.130435</td>\n      <td>23</td>\n      <td>9.984127</td>\n      <td>126</td>\n      <td>0.066813</td>\n    </tr>\n    <tr>\n      <th rowspan=\"2\" valign=\"top\">UPPSP_SS</th>\n      <th>Trend_Match</th>\n      <td>9.920000</td>\n      <td>25</td>\n      <td>11.040323</td>\n      <td>124</td>\n      <td>0.077870</td>\n    </tr>\n    <tr>\n      <th>Together_Match</th>\n      <td>9.652174</td>\n      <td>23</td>\n      <td>11.071429</td>\n      <td>126</td>\n      <td>0.026432</td>\n    </tr>\n    <tr>\n      <th>UPPSP_PMD</th>\n      <th>Trend_Match</th>\n      <td>6.600000</td>\n      <td>25</td>\n      <td>7.567786</td>\n      <td>124</td>\n      <td>0.032076</td>\n    </tr>\n    <tr>\n      <th>UPPSP_PSV</th>\n      <th>AVG_Match</th>\n      <td>8.227273</td>\n      <td>22</td>\n      <td>6.842520</td>\n      <td>127</td>\n      <td>0.059707</td>\n    </tr>\n    <tr>\n      <th>BIS</th>\n      <th>Mean_Rating0</th>\n      <td>23.300000</td>\n      <td>20</td>\n      <td>21.364341</td>\n      <td>129</td>\n      <td>0.011348</td>\n    </tr>\n    <tr>\n      <th>BAS_RR</th>\n      <th>AVG_No_Match</th>\n      <td>18.437500</td>\n      <td>16</td>\n      <td>17.353383</td>\n      <td>133</td>\n      <td>0.007295</td>\n    </tr>\n    <tr>\n      <th rowspan=\"2\" valign=\"top\">TEPS_AF</th>\n      <th>Trend_No_Match</th>\n      <td>46.041667</td>\n      <td>24</td>\n      <td>43.024000</td>\n      <td>125</td>\n      <td>0.095248</td>\n    </tr>\n    <tr>\n      <th>AVG_No_Match</th>\n      <td>46.937500</td>\n      <td>16</td>\n      <td>43.097744</td>\n      <td>133</td>\n      <td>0.025112</td>\n    </tr>\n    <tr>\n      <th>LOT_R</th>\n      <th>Trend_No_Match</th>\n      <td>16.166667</td>\n      <td>24</td>\n      <td>14.664000</td>\n      <td>125</td>\n      <td>0.021199</td>\n    </tr>\n    <tr>\n      <th>ASI_C</th>\n      <th>Mean_Rating0</th>\n      <td>6.200000</td>\n      <td>20</td>\n      <td>3.136026</td>\n      <td>129</td>\n      <td>0.057300</td>\n    </tr>\n    <tr>\n      <th>ASI_S</th>\n      <th>Mean_Rating0</th>\n      <td>10.750000</td>\n      <td>20</td>\n      <td>7.899225</td>\n      <td>129</td>\n      <td>0.089660</td>\n    </tr>\n    <tr>\n      <th>SPQ</th>\n      <th>Trend_Match</th>\n      <td>2.800000</td>\n      <td>25</td>\n      <td>2.096774</td>\n      <td>124</td>\n      <td>0.074555</td>\n    </tr>\n    <tr>\n      <th>MSSB_DES</th>\n      <th>AVG_Match</th>\n      <td>3.590909</td>\n      <td>22</td>\n      <td>2.023622</td>\n      <td>127</td>\n      <td>0.051064</td>\n    </tr>\n  </tbody>\n</table>\n</div>"
     },
     "execution_count": 151,
     "metadata": {},
     "output_type": "execute_result"
    }
   ],
   "source": [
    "# Assuming feature_scales is your DataFrame with features as columns and metrics as rows\n",
    "dic_mean_comparison_15 = {}\n",
    "\n",
    "for metric in metrics_columns:\n",
    "    dic_mean_comparison_15[metric] = {}\n",
    "\n",
    "    for feature in features_columns:\n",
    "        \n",
    "        high_values = feature_scales[feature_scales[feature] < -1.04][metric] #Per sota 15%\n",
    "        low_values = feature_scales[feature_scales[feature] >= -1.04][metric] #Per sobre 15%\n",
    "        t_stat, p_value = stats.ttest_ind(high_values, low_values, equal_var=False)  # Assuming unequal variances\n",
    "\n",
    "                # Calculate means\n",
    "        high_mean = np.mean(high_values)\n",
    "        low_mean = np.mean(low_values)\n",
    "\n",
    "        dic_mean_comparison_15[metric][feature] = {'high_mean': high_mean,'size_high': len(high_values), 'low_mean': low_mean,'size_low': len(low_values), 'p_value': p_value}\n",
    "\n",
    "\n",
    "# Convert results to a DataFrame for easier visualization and analysis\n",
    "df_mean_comparison_15 = pd.DataFrame.from_dict({(i,j): dic_mean_comparison_15[i][j] \n",
    "                                             for i in dic_mean_comparison_15.keys() \n",
    "                                             for j in dic_mean_comparison_15[i].keys()},\n",
    "                                            orient='index')\n",
    "print(\"85%\")\n",
    "df_mean_comparison_15[df_mean_comparison_15[\"p_value\"]<0.10]"
   ],
   "metadata": {
    "collapsed": false,
    "ExecuteTime": {
     "end_time": "2024-04-23T15:22:52.312494Z",
     "start_time": "2024-04-23T15:22:51.828587Z"
    }
   },
   "id": "dc992bd8d3bcbe4b",
   "execution_count": 151
  },
  {
   "cell_type": "code",
   "outputs": [
    {
     "data": {
      "text/plain": "AVG_Match            0.494690\nAVG_No_Match         0.440877\nCor_Pred_Like        0.524054\nDif_Match            0.554948\nMean_Rating0         0.340630\nTogether_Match       0.410309\nTogether_No_Match    0.583480\nTrend_Match          0.416062\nTrend_No_Match       0.601684\nName: p_value, dtype: float64"
     },
     "execution_count": 152,
     "metadata": {},
     "output_type": "execute_result"
    }
   ],
   "source": [
    "df_mean_comparison_15.groupby(level=1)['p_value'].mean()"
   ],
   "metadata": {
    "collapsed": false,
    "ExecuteTime": {
     "end_time": "2024-04-23T15:22:52.508824Z",
     "start_time": "2024-04-23T15:22:52.498635Z"
    }
   },
   "id": "73edfc6035594a7c",
   "execution_count": 152
  },
  {
   "cell_type": "code",
   "outputs": [],
   "source": [],
   "metadata": {
    "collapsed": false
   },
   "id": "8d4005c60b2b4d72"
  }
 ],
 "metadata": {
  "kernelspec": {
   "display_name": "Python 3",
   "language": "python",
   "name": "python3"
  },
  "language_info": {
   "codemirror_mode": {
    "name": "ipython",
    "version": 2
   },
   "file_extension": ".py",
   "mimetype": "text/x-python",
   "name": "python",
   "nbconvert_exporter": "python",
   "pygments_lexer": "ipython2",
   "version": "2.7.6"
  }
 },
 "nbformat": 4,
 "nbformat_minor": 5
}
