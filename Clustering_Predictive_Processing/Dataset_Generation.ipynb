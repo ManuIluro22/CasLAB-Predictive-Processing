{
 "cells": [
  {
   "cell_type": "code",
   "execution_count": 33,
   "id": "initial_id",
   "metadata": {
    "collapsed": true,
    "ExecuteTime": {
     "end_time": "2024-07-14T16:33:40.208248Z",
     "start_time": "2024-07-14T16:33:40.186945Z"
    }
   },
   "outputs": [],
   "source": [
    "import pandas as pd\n",
    "import numpy as np\n",
    "import statistics"
   ]
  },
  {
   "cell_type": "markdown",
   "source": [
    "## BEBRASK DATASET COUNT"
   ],
   "metadata": {
    "collapsed": false
   },
   "id": "258b5c162047632a"
  },
  {
   "cell_type": "code",
   "outputs": [],
   "source": [
    "#We read the original datasets for the tasks of BEBRASK\n",
    "BEBRASK_tasks = pd.read_excel('../Datasets/BEBRASK_task.xlsx')\n",
    "BEBRASK_tasks = BEBRASK_tasks[[\"DataFile.Basename\",\"Rating0.RESP\",\"Rating.RESP\",\"EvokedEmotion\", \"Expression\", \"ScenarioPick\",\"TrialCount\",\"Fulfilled\"]].copy()\n",
    "BEBRASK_tasks.dropna(subset = [\"TrialCount\"],inplace=True)\n",
    "subjects_id = BEBRASK_tasks[\"DataFile.Basename\"].unique()\n",
    "\n",
    "#We choose the relevant variables for the analysis"
   ],
   "metadata": {
    "collapsed": false,
    "ExecuteTime": {
     "end_time": "2024-07-14T16:33:43.285869700Z",
     "start_time": "2024-07-14T16:33:40.406916700Z"
    }
   },
   "id": "6bc859c1a95d4ff3",
   "execution_count": 34
  },
  {
   "cell_type": "code",
   "outputs": [
    {
     "data": {
      "text/plain": "                       Rating0.RESP_1.0  Rating0.RESP_2.0  Rating0.RESP_3.0  \\\nDataFile.Basename                                                             \nPREDWELL_RETOS-1001-1               3.0               3.0               1.0   \nPREDWELL_RETOS-1002-1               3.0               3.0               1.0   \nPREDWELL_RETOS-1003-1               2.0               1.0               1.0   \nPREDWELL_RETOS-1004-1               2.0               3.0               4.0   \nPREDWELL_RETOS-1005-1               2.0               1.0               2.0   \n\n                       Rating0.RESP_4.0  Rating0.RESP_5.0  Rating0.RESP_6.0  \\\nDataFile.Basename                                                             \nPREDWELL_RETOS-1001-1               4.0               2.0               3.0   \nPREDWELL_RETOS-1002-1               1.0               2.0               1.0   \nPREDWELL_RETOS-1003-1               1.0               3.0               3.0   \nPREDWELL_RETOS-1004-1               4.0               1.0               3.0   \nPREDWELL_RETOS-1005-1               1.0               1.0               4.0   \n\n                       Rating0.RESP_7.0  Rating0.RESP_8.0  Rating0.RESP_9.0  \\\nDataFile.Basename                                                             \nPREDWELL_RETOS-1001-1               4.0               1.0               3.0   \nPREDWELL_RETOS-1002-1               3.0               4.0               3.0   \nPREDWELL_RETOS-1003-1               3.0               3.0               2.0   \nPREDWELL_RETOS-1004-1               1.0               1.0               3.0   \nPREDWELL_RETOS-1005-1               3.0               4.0               1.0   \n\n                       Rating0.RESP_10.0  ...  Fulfilled_36.0  Fulfilled_37.0  \\\nDataFile.Basename                         ...                                   \nPREDWELL_RETOS-1001-1                4.0  ...             1.0             0.0   \nPREDWELL_RETOS-1002-1                2.0  ...             0.0             1.0   \nPREDWELL_RETOS-1003-1                1.0  ...             0.0             1.0   \nPREDWELL_RETOS-1004-1                2.0  ...             1.0             1.0   \nPREDWELL_RETOS-1005-1                3.0  ...             1.0             0.0   \n\n                       Fulfilled_38.0  Fulfilled_39.0  Fulfilled_40.0  \\\nDataFile.Basename                                                       \nPREDWELL_RETOS-1001-1             0.0             1.0             0.0   \nPREDWELL_RETOS-1002-1             1.0             1.0             1.0   \nPREDWELL_RETOS-1003-1             0.0             0.0             1.0   \nPREDWELL_RETOS-1004-1             1.0             0.0             0.0   \nPREDWELL_RETOS-1005-1             1.0             1.0             0.0   \n\n                       Fulfilled_41.0  Fulfilled_42.0  Fulfilled_43.0  \\\nDataFile.Basename                                                       \nPREDWELL_RETOS-1001-1             0.0             1.0             1.0   \nPREDWELL_RETOS-1002-1             0.0             0.0             1.0   \nPREDWELL_RETOS-1003-1             0.0             1.0             1.0   \nPREDWELL_RETOS-1004-1             1.0             1.0             0.0   \nPREDWELL_RETOS-1005-1             1.0             1.0             1.0   \n\n                       Fulfilled_44.0  Fulfilled_45.0  \nDataFile.Basename                                      \nPREDWELL_RETOS-1001-1             0.0             0.0  \nPREDWELL_RETOS-1002-1             0.0             1.0  \nPREDWELL_RETOS-1003-1             1.0             0.0  \nPREDWELL_RETOS-1004-1             1.0             1.0  \nPREDWELL_RETOS-1005-1             0.0             0.0  \n\n[5 rows x 270 columns]",
      "text/html": "<div>\n<style scoped>\n    .dataframe tbody tr th:only-of-type {\n        vertical-align: middle;\n    }\n\n    .dataframe tbody tr th {\n        vertical-align: top;\n    }\n\n    .dataframe thead th {\n        text-align: right;\n    }\n</style>\n<table border=\"1\" class=\"dataframe\">\n  <thead>\n    <tr style=\"text-align: right;\">\n      <th></th>\n      <th>Rating0.RESP_1.0</th>\n      <th>Rating0.RESP_2.0</th>\n      <th>Rating0.RESP_3.0</th>\n      <th>Rating0.RESP_4.0</th>\n      <th>Rating0.RESP_5.0</th>\n      <th>Rating0.RESP_6.0</th>\n      <th>Rating0.RESP_7.0</th>\n      <th>Rating0.RESP_8.0</th>\n      <th>Rating0.RESP_9.0</th>\n      <th>Rating0.RESP_10.0</th>\n      <th>...</th>\n      <th>Fulfilled_36.0</th>\n      <th>Fulfilled_37.0</th>\n      <th>Fulfilled_38.0</th>\n      <th>Fulfilled_39.0</th>\n      <th>Fulfilled_40.0</th>\n      <th>Fulfilled_41.0</th>\n      <th>Fulfilled_42.0</th>\n      <th>Fulfilled_43.0</th>\n      <th>Fulfilled_44.0</th>\n      <th>Fulfilled_45.0</th>\n    </tr>\n    <tr>\n      <th>DataFile.Basename</th>\n      <th></th>\n      <th></th>\n      <th></th>\n      <th></th>\n      <th></th>\n      <th></th>\n      <th></th>\n      <th></th>\n      <th></th>\n      <th></th>\n      <th></th>\n      <th></th>\n      <th></th>\n      <th></th>\n      <th></th>\n      <th></th>\n      <th></th>\n      <th></th>\n      <th></th>\n      <th></th>\n      <th></th>\n    </tr>\n  </thead>\n  <tbody>\n    <tr>\n      <th>PREDWELL_RETOS-1001-1</th>\n      <td>3.0</td>\n      <td>3.0</td>\n      <td>1.0</td>\n      <td>4.0</td>\n      <td>2.0</td>\n      <td>3.0</td>\n      <td>4.0</td>\n      <td>1.0</td>\n      <td>3.0</td>\n      <td>4.0</td>\n      <td>...</td>\n      <td>1.0</td>\n      <td>0.0</td>\n      <td>0.0</td>\n      <td>1.0</td>\n      <td>0.0</td>\n      <td>0.0</td>\n      <td>1.0</td>\n      <td>1.0</td>\n      <td>0.0</td>\n      <td>0.0</td>\n    </tr>\n    <tr>\n      <th>PREDWELL_RETOS-1002-1</th>\n      <td>3.0</td>\n      <td>3.0</td>\n      <td>1.0</td>\n      <td>1.0</td>\n      <td>2.0</td>\n      <td>1.0</td>\n      <td>3.0</td>\n      <td>4.0</td>\n      <td>3.0</td>\n      <td>2.0</td>\n      <td>...</td>\n      <td>0.0</td>\n      <td>1.0</td>\n      <td>1.0</td>\n      <td>1.0</td>\n      <td>1.0</td>\n      <td>0.0</td>\n      <td>0.0</td>\n      <td>1.0</td>\n      <td>0.0</td>\n      <td>1.0</td>\n    </tr>\n    <tr>\n      <th>PREDWELL_RETOS-1003-1</th>\n      <td>2.0</td>\n      <td>1.0</td>\n      <td>1.0</td>\n      <td>1.0</td>\n      <td>3.0</td>\n      <td>3.0</td>\n      <td>3.0</td>\n      <td>3.0</td>\n      <td>2.0</td>\n      <td>1.0</td>\n      <td>...</td>\n      <td>0.0</td>\n      <td>1.0</td>\n      <td>0.0</td>\n      <td>0.0</td>\n      <td>1.0</td>\n      <td>0.0</td>\n      <td>1.0</td>\n      <td>1.0</td>\n      <td>1.0</td>\n      <td>0.0</td>\n    </tr>\n    <tr>\n      <th>PREDWELL_RETOS-1004-1</th>\n      <td>2.0</td>\n      <td>3.0</td>\n      <td>4.0</td>\n      <td>4.0</td>\n      <td>1.0</td>\n      <td>3.0</td>\n      <td>1.0</td>\n      <td>1.0</td>\n      <td>3.0</td>\n      <td>2.0</td>\n      <td>...</td>\n      <td>1.0</td>\n      <td>1.0</td>\n      <td>1.0</td>\n      <td>0.0</td>\n      <td>0.0</td>\n      <td>1.0</td>\n      <td>1.0</td>\n      <td>0.0</td>\n      <td>1.0</td>\n      <td>1.0</td>\n    </tr>\n    <tr>\n      <th>PREDWELL_RETOS-1005-1</th>\n      <td>2.0</td>\n      <td>1.0</td>\n      <td>2.0</td>\n      <td>1.0</td>\n      <td>1.0</td>\n      <td>4.0</td>\n      <td>3.0</td>\n      <td>4.0</td>\n      <td>1.0</td>\n      <td>3.0</td>\n      <td>...</td>\n      <td>1.0</td>\n      <td>0.0</td>\n      <td>1.0</td>\n      <td>1.0</td>\n      <td>0.0</td>\n      <td>1.0</td>\n      <td>1.0</td>\n      <td>1.0</td>\n      <td>0.0</td>\n      <td>0.0</td>\n    </tr>\n  </tbody>\n</table>\n<p>5 rows × 270 columns</p>\n</div>"
     },
     "execution_count": 35,
     "metadata": {},
     "output_type": "execute_result"
    }
   ],
   "source": [
    "BEBRASK_tasks_long= BEBRASK_tasks.pivot(index=\"DataFile.Basename\", columns='TrialCount')\n",
    "BEBRASK_tasks_long.columns = ['_'.join(str(col) for col in cols) for cols in BEBRASK_tasks_long.columns.values]\n",
    "BEBRASK_tasks_long.head(5)\n",
    "#We pivot based on the trial count, so that each row corresponds to 1 subject"
   ],
   "metadata": {
    "collapsed": false,
    "ExecuteTime": {
     "end_time": "2024-07-14T16:33:43.334014900Z",
     "start_time": "2024-07-14T16:33:43.289384900Z"
    }
   },
   "id": "9561b69c1ae374f5",
   "execution_count": 35
  },
  {
   "cell_type": "code",
   "outputs": [],
   "source": [
    "BEBRASK_tasks_long.to_excel('../Clustering_Predictive_Processing/BEBRASK_long.xlsx', index=False)\n",
    "BEBRASK_tasks_long_copy = BEBRASK_tasks_long.copy()"
   ],
   "metadata": {
    "collapsed": false,
    "ExecuteTime": {
     "end_time": "2024-07-14T16:33:43.677780Z",
     "start_time": "2024-07-14T16:33:43.334967300Z"
    }
   },
   "id": "58cb8cb582bafb56",
   "execution_count": 36
  },
  {
   "cell_type": "code",
   "outputs": [],
   "source": [
    "import numpy as np\n",
    "\n",
    "def creation_dictionary_from_df(df, n_subjects):\n",
    "    \"\"\"\n",
    "    Processes a DataFrame to create a dictionary that organizes data related to emotions (happiness, sadness, fear) for a specified number of subjects.\n",
    "    \n",
    "    Parameters:\n",
    "    - df (pandas.DataFrame): The DataFrame containing the survey data. Each row represents one subject.\n",
    "    - n_subjects (int): The number of subjects to process from the DataFrame.\n",
    "    \n",
    "    Returns:\n",
    "    - dict_df (dict): A dictionary where each key is a subject identifier and its value is another dictionary. This \n",
    "      nested dictionary categorizes the data into emotions 'Happy', 'Sad', and 'Fear'. Each emotion key is then mapped to another \n",
    "      dictionary with keys 'Rating0' (Rating0.RESP), 'Rating' (Rating.RESP), 'Expression' (Expression), and 'Fulfillment' (Fulfillment).\n",
    "    \"\"\"\n",
    "    # Initialize the dictionary to hold the processed data\n",
    "    dict_df = {}\n",
    "    \n",
    "    # Loop through each subject up to the specified number\n",
    "    for j in range(0, n_subjects):\n",
    "        # Extract the subject data and their identifier\n",
    "        subject = df.iloc[j]\n",
    "        id = df.index.values[j]\n",
    "        \n",
    "        # Initialize lists to hold the data for each emotion\n",
    "        happy_pred, happy_like, happy_facial, happy_fulfill = [], [], [], []\n",
    "        sad_pred, sad_like, sad_facial, sad_fulfill = [], [], [], []\n",
    "        fear_pred, fear_like, fear_facial, fear_fulfill = [], [], [], []\n",
    "        \n",
    "        # Loop through each time point (1 to 45)\n",
    "        for i in range(1, 46):\n",
    "            # Define the column names for predictions, ratings, emotions, facial expressions, and fulfillment status\n",
    "            pred = f'Rating0.RESP_{i}.0'\n",
    "            like = f'Rating.RESP_{i}.0'\n",
    "            emotion = f'EvokedEmotion_{i}.0'\n",
    "            facial = f'Expression_{i}.0'\n",
    "            fulfill = f'Fulfilled_{i}.0'\n",
    "            \n",
    "            # Categorize the data based on the evoked emotion\n",
    "            if subject[emotion] == \"happiness\":\n",
    "                happy_pred.append(subject[pred] if not np.isnan(subject[pred]) else None)\n",
    "                happy_like.append(subject[like] if not np.isnan(subject[like]) else None)\n",
    "                happy_facial.append(subject[facial])\n",
    "                happy_fulfill.append(subject[fulfill])\n",
    "                \n",
    "            elif subject[emotion] == \"sadness\":\n",
    "                sad_pred.append(subject[pred] if not np.isnan(subject[pred]) else None)\n",
    "                sad_like.append(subject[like] if not np.isnan(subject[like]) else None)\n",
    "                sad_facial.append(subject[facial])\n",
    "                sad_fulfill.append(subject[fulfill])\n",
    "    \n",
    "            else:  # Default case for fear\n",
    "                fear_pred.append(subject[pred] if not np.isnan(subject[pred]) else None)\n",
    "                fear_like.append(subject[like] if not np.isnan(subject[like]) else None)\n",
    "                fear_facial.append(subject[facial])\n",
    "                fear_fulfill.append(subject[fulfill])\n",
    "    \n",
    "        # Assign the processed data to the dictionary for the current subject\n",
    "        dict_df[id] = {\n",
    "            'Happy': {\n",
    "                'Rating0': np.array(happy_pred, dtype=object), \n",
    "                'Rating': np.array(happy_like, dtype=object), \n",
    "                'Expression': np.array(happy_facial, dtype=object),\n",
    "                'Fulfill': np.array(happy_fulfill, dtype=object)\n",
    "            },\n",
    "            'Sad': { \n",
    "                'Rating0': np.array(sad_pred, dtype=object), \n",
    "                'Rating': np.array(sad_like, dtype=object), \n",
    "                'Expression': np.array(sad_facial, dtype=object),\n",
    "                'Fulfill': np.array(sad_fulfill, dtype=object)\n",
    "            }, \n",
    "            'Fear': {\n",
    "                'Rating0': np.array(fear_pred, dtype=object),\n",
    "                'Rating': np.array(fear_like, dtype=object),\n",
    "                'Expression': np.array(fear_facial, dtype=object), \n",
    "                'Fulfill': np.array(fear_fulfill, dtype=object)\n",
    "            }\n",
    "        }\n",
    "    \n",
    "    return dict_df\n",
    "\n",
    "# Process the data for all subjects in the DataFrame\n",
    "subject_dict_BEBRASK = creation_dictionary_from_df(BEBRASK_tasks_long, len(BEBRASK_tasks_long))\n"
   ],
   "metadata": {
    "collapsed": false,
    "ExecuteTime": {
     "end_time": "2024-07-14T16:33:43.850443500Z",
     "start_time": "2024-07-14T16:33:43.685314100Z"
    }
   },
   "id": "bf642afb3a05b141",
   "execution_count": 37
  },
  {
   "cell_type": "markdown",
   "source": [
    "## RETOS DATASET COUNT\n"
   ],
   "metadata": {
    "collapsed": false
   },
   "id": "6e5948f66bd63b3"
  },
  {
   "cell_type": "code",
   "outputs": [],
   "source": [
    "#We read the original datasets for the tasks of RETOS\n",
    "\n",
    "RETOS_tasks = pd.read_excel('../Datasets/RETOS_task.xlsx')\n",
    "RETOS_tasks = RETOS_tasks[\n",
    "    [\"DataFile.Basename\", \"Rating0.RESP\", \"Rating.RESP\", \"EvokedEmotion\", \"Expression\", \"ScenarioPick\", \"TrialCount\",\n",
    "     \"Fulfilled\"]].copy()\n",
    "RETOS_tasks.dropna(subset=[\"TrialCount\"], inplace=True)\n",
    "subjects_id = RETOS_tasks[\"DataFile.Basename\"].unique()\n",
    "\n",
    "#We choose the relevant variables for the analysis"
   ],
   "metadata": {
    "collapsed": false,
    "ExecuteTime": {
     "end_time": "2024-07-14T16:33:48.457468400Z",
     "start_time": "2024-07-14T16:33:43.854444900Z"
    }
   },
   "id": "e0a41e045caeaf34",
   "execution_count": 38
  },
  {
   "cell_type": "code",
   "outputs": [
    {
     "data": {
      "text/plain": "                      Rating0.RESP_1.0  Rating0.RESP_2.0  Rating0.RESP_3.0  \\\nDataFile.Basename                                                            \nPREDWELL_RETOS-1-1                 1.0               3.0               4.0   \nPREDWELL_RETOS-10-1                4.0               2.0               2.0   \nPREDWELL_RETOS-101-1               2.0               3.0               3.0   \nPREDWELL_RETOS-102-1               1.0               1.0               2.0   \nPREDWELL_RETOS-103-1               3.0               1.0               2.0   \n\n                      Rating0.RESP_4.0  Rating0.RESP_5.0  Rating0.RESP_6.0  \\\nDataFile.Basename                                                            \nPREDWELL_RETOS-1-1                 4.0               4.0               2.0   \nPREDWELL_RETOS-10-1                4.0               3.0               4.0   \nPREDWELL_RETOS-101-1               4.0               4.0               1.0   \nPREDWELL_RETOS-102-1               1.0               1.0               2.0   \nPREDWELL_RETOS-103-1               2.0               1.0               1.0   \n\n                      Rating0.RESP_7.0  Rating0.RESP_8.0  Rating0.RESP_9.0  \\\nDataFile.Basename                                                            \nPREDWELL_RETOS-1-1                 1.0               4.0               4.0   \nPREDWELL_RETOS-10-1                3.0               1.0               1.0   \nPREDWELL_RETOS-101-1               1.0               4.0               3.0   \nPREDWELL_RETOS-102-1               2.0               1.0               1.0   \nPREDWELL_RETOS-103-1               3.0               1.0               2.0   \n\n                      Rating0.RESP_10.0  ...  Fulfilled_36.0  Fulfilled_37.0  \\\nDataFile.Basename                        ...                                   \nPREDWELL_RETOS-1-1                  4.0  ...             1.0             0.0   \nPREDWELL_RETOS-10-1                 3.0  ...             0.0             0.0   \nPREDWELL_RETOS-101-1                1.0  ...             0.0             0.0   \nPREDWELL_RETOS-102-1                4.0  ...             0.0             0.0   \nPREDWELL_RETOS-103-1                1.0  ...             1.0             1.0   \n\n                      Fulfilled_38.0  Fulfilled_39.0  Fulfilled_40.0  \\\nDataFile.Basename                                                      \nPREDWELL_RETOS-1-1               1.0             1.0             1.0   \nPREDWELL_RETOS-10-1              1.0             1.0             0.0   \nPREDWELL_RETOS-101-1             1.0             1.0             1.0   \nPREDWELL_RETOS-102-1             1.0             1.0             1.0   \nPREDWELL_RETOS-103-1             0.0             1.0             0.0   \n\n                      Fulfilled_41.0  Fulfilled_42.0  Fulfilled_43.0  \\\nDataFile.Basename                                                      \nPREDWELL_RETOS-1-1               0.0             1.0             0.0   \nPREDWELL_RETOS-10-1              1.0             1.0             0.0   \nPREDWELL_RETOS-101-1             0.0             0.0             1.0   \nPREDWELL_RETOS-102-1             0.0             0.0             1.0   \nPREDWELL_RETOS-103-1             0.0             0.0             0.0   \n\n                      Fulfilled_44.0  Fulfilled_45.0  \nDataFile.Basename                                     \nPREDWELL_RETOS-1-1               1.0             1.0  \nPREDWELL_RETOS-10-1              1.0             0.0  \nPREDWELL_RETOS-101-1             1.0             1.0  \nPREDWELL_RETOS-102-1             1.0             1.0  \nPREDWELL_RETOS-103-1             1.0             1.0  \n\n[5 rows x 270 columns]",
      "text/html": "<div>\n<style scoped>\n    .dataframe tbody tr th:only-of-type {\n        vertical-align: middle;\n    }\n\n    .dataframe tbody tr th {\n        vertical-align: top;\n    }\n\n    .dataframe thead th {\n        text-align: right;\n    }\n</style>\n<table border=\"1\" class=\"dataframe\">\n  <thead>\n    <tr style=\"text-align: right;\">\n      <th></th>\n      <th>Rating0.RESP_1.0</th>\n      <th>Rating0.RESP_2.0</th>\n      <th>Rating0.RESP_3.0</th>\n      <th>Rating0.RESP_4.0</th>\n      <th>Rating0.RESP_5.0</th>\n      <th>Rating0.RESP_6.0</th>\n      <th>Rating0.RESP_7.0</th>\n      <th>Rating0.RESP_8.0</th>\n      <th>Rating0.RESP_9.0</th>\n      <th>Rating0.RESP_10.0</th>\n      <th>...</th>\n      <th>Fulfilled_36.0</th>\n      <th>Fulfilled_37.0</th>\n      <th>Fulfilled_38.0</th>\n      <th>Fulfilled_39.0</th>\n      <th>Fulfilled_40.0</th>\n      <th>Fulfilled_41.0</th>\n      <th>Fulfilled_42.0</th>\n      <th>Fulfilled_43.0</th>\n      <th>Fulfilled_44.0</th>\n      <th>Fulfilled_45.0</th>\n    </tr>\n    <tr>\n      <th>DataFile.Basename</th>\n      <th></th>\n      <th></th>\n      <th></th>\n      <th></th>\n      <th></th>\n      <th></th>\n      <th></th>\n      <th></th>\n      <th></th>\n      <th></th>\n      <th></th>\n      <th></th>\n      <th></th>\n      <th></th>\n      <th></th>\n      <th></th>\n      <th></th>\n      <th></th>\n      <th></th>\n      <th></th>\n      <th></th>\n    </tr>\n  </thead>\n  <tbody>\n    <tr>\n      <th>PREDWELL_RETOS-1-1</th>\n      <td>1.0</td>\n      <td>3.0</td>\n      <td>4.0</td>\n      <td>4.0</td>\n      <td>4.0</td>\n      <td>2.0</td>\n      <td>1.0</td>\n      <td>4.0</td>\n      <td>4.0</td>\n      <td>4.0</td>\n      <td>...</td>\n      <td>1.0</td>\n      <td>0.0</td>\n      <td>1.0</td>\n      <td>1.0</td>\n      <td>1.0</td>\n      <td>0.0</td>\n      <td>1.0</td>\n      <td>0.0</td>\n      <td>1.0</td>\n      <td>1.0</td>\n    </tr>\n    <tr>\n      <th>PREDWELL_RETOS-10-1</th>\n      <td>4.0</td>\n      <td>2.0</td>\n      <td>2.0</td>\n      <td>4.0</td>\n      <td>3.0</td>\n      <td>4.0</td>\n      <td>3.0</td>\n      <td>1.0</td>\n      <td>1.0</td>\n      <td>3.0</td>\n      <td>...</td>\n      <td>0.0</td>\n      <td>0.0</td>\n      <td>1.0</td>\n      <td>1.0</td>\n      <td>0.0</td>\n      <td>1.0</td>\n      <td>1.0</td>\n      <td>0.0</td>\n      <td>1.0</td>\n      <td>0.0</td>\n    </tr>\n    <tr>\n      <th>PREDWELL_RETOS-101-1</th>\n      <td>2.0</td>\n      <td>3.0</td>\n      <td>3.0</td>\n      <td>4.0</td>\n      <td>4.0</td>\n      <td>1.0</td>\n      <td>1.0</td>\n      <td>4.0</td>\n      <td>3.0</td>\n      <td>1.0</td>\n      <td>...</td>\n      <td>0.0</td>\n      <td>0.0</td>\n      <td>1.0</td>\n      <td>1.0</td>\n      <td>1.0</td>\n      <td>0.0</td>\n      <td>0.0</td>\n      <td>1.0</td>\n      <td>1.0</td>\n      <td>1.0</td>\n    </tr>\n    <tr>\n      <th>PREDWELL_RETOS-102-1</th>\n      <td>1.0</td>\n      <td>1.0</td>\n      <td>2.0</td>\n      <td>1.0</td>\n      <td>1.0</td>\n      <td>2.0</td>\n      <td>2.0</td>\n      <td>1.0</td>\n      <td>1.0</td>\n      <td>4.0</td>\n      <td>...</td>\n      <td>0.0</td>\n      <td>0.0</td>\n      <td>1.0</td>\n      <td>1.0</td>\n      <td>1.0</td>\n      <td>0.0</td>\n      <td>0.0</td>\n      <td>1.0</td>\n      <td>1.0</td>\n      <td>1.0</td>\n    </tr>\n    <tr>\n      <th>PREDWELL_RETOS-103-1</th>\n      <td>3.0</td>\n      <td>1.0</td>\n      <td>2.0</td>\n      <td>2.0</td>\n      <td>1.0</td>\n      <td>1.0</td>\n      <td>3.0</td>\n      <td>1.0</td>\n      <td>2.0</td>\n      <td>1.0</td>\n      <td>...</td>\n      <td>1.0</td>\n      <td>1.0</td>\n      <td>0.0</td>\n      <td>1.0</td>\n      <td>0.0</td>\n      <td>0.0</td>\n      <td>0.0</td>\n      <td>0.0</td>\n      <td>1.0</td>\n      <td>1.0</td>\n    </tr>\n  </tbody>\n</table>\n<p>5 rows × 270 columns</p>\n</div>"
     },
     "execution_count": 39,
     "metadata": {},
     "output_type": "execute_result"
    }
   ],
   "source": [
    "RETOS_tasks_long= RETOS_tasks.pivot(index=\"DataFile.Basename\", columns='TrialCount')\n",
    "RETOS_tasks_long.columns = ['_'.join(str(col) for col in cols) for cols in RETOS_tasks_long.columns.values]\n",
    "\n",
    "RETOS_tasks_long.head(5)"
   ],
   "metadata": {
    "collapsed": false,
    "ExecuteTime": {
     "end_time": "2024-07-14T16:33:48.503984200Z",
     "start_time": "2024-07-14T16:33:48.460200400Z"
    }
   },
   "id": "1b3e2f749f6d3042",
   "execution_count": 39
  },
  {
   "cell_type": "code",
   "outputs": [],
   "source": [
    "#Data from PREDWELL_RETOS-307-1 and PREDWELL_RETOS-307-3 are from the same subject, therefore they should be combined and treated as a single row.\n",
    "\n",
    "part1 = RETOS_tasks_long.iloc[RETOS_tasks_long.index =='PREDWELL_RETOS-307-1'].T\n",
    "part2 = RETOS_tasks_long.iloc[RETOS_tasks_long.index =='PREDWELL_RETOS-307-3'].T\n",
    "combined_row = np.where(part1.isnull(), part2, part1).T\n",
    "RETOS_tasks_long.iloc[RETOS_tasks_long.index == 'PREDWELL_RETOS-307-1'] = combined_row\n",
    "\n",
    "\n",
    "RETOS_tasks_long = RETOS_tasks_long.query(\"index != 'PREDWELL_RETOS-307-3'\")\n",
    "\n",
    "#We delete the excess row from combination.\n"
   ],
   "metadata": {
    "collapsed": false,
    "ExecuteTime": {
     "end_time": "2024-07-14T16:33:48.637682500Z",
     "start_time": "2024-07-14T16:33:48.506974700Z"
    }
   },
   "id": "a58a59322527e16",
   "execution_count": 40
  },
  {
   "cell_type": "code",
   "outputs": [],
   "source": [
    "RETOS_tasks_long.to_excel('../Clustering_Predictive_Processing/RETOS_long.xlsx', index=False)\n",
    "RETOS_tasks_long_copy = RETOS_tasks_long.copy()\n"
   ],
   "metadata": {
    "collapsed": false,
    "ExecuteTime": {
     "end_time": "2024-07-14T16:33:49.021915800Z",
     "start_time": "2024-07-14T16:33:48.550387700Z"
    }
   },
   "id": "18265cad98cb3687",
   "execution_count": 41
  },
  {
   "cell_type": "markdown",
   "source": [
    "## BEBRASK & RETOS Long Merge\n"
   ],
   "metadata": {
    "collapsed": false
   },
   "id": "fa62deca5ae23fb5"
  },
  {
   "cell_type": "code",
   "outputs": [
    {
     "data": {
      "text/plain": "                      Rating0.RESP_1.0  Rating0.RESP_2.0  Rating0.RESP_3.0  \\\nDataFile.Basename                                                            \nPREDWELL_RETOS-1-1                 1.0               3.0               4.0   \nPREDWELL_RETOS-10-1                4.0               2.0               2.0   \nPREDWELL_RETOS-101-1               2.0               3.0               3.0   \nPREDWELL_RETOS-102-1               1.0               1.0               2.0   \nPREDWELL_RETOS-103-1               3.0               1.0               2.0   \n\n                      Rating0.RESP_4.0  Rating0.RESP_5.0  Rating0.RESP_6.0  \\\nDataFile.Basename                                                            \nPREDWELL_RETOS-1-1                 4.0               4.0               2.0   \nPREDWELL_RETOS-10-1                4.0               3.0               4.0   \nPREDWELL_RETOS-101-1               4.0               4.0               1.0   \nPREDWELL_RETOS-102-1               1.0               1.0               2.0   \nPREDWELL_RETOS-103-1               2.0               1.0               1.0   \n\n                      Rating0.RESP_7.0  Rating0.RESP_8.0  Rating0.RESP_9.0  \\\nDataFile.Basename                                                            \nPREDWELL_RETOS-1-1                 1.0               4.0               4.0   \nPREDWELL_RETOS-10-1                3.0               1.0               1.0   \nPREDWELL_RETOS-101-1               1.0               4.0               3.0   \nPREDWELL_RETOS-102-1               2.0               1.0               1.0   \nPREDWELL_RETOS-103-1               3.0               1.0               2.0   \n\n                      Rating0.RESP_10.0  ...  Fulfilled_36.0  Fulfilled_37.0  \\\nDataFile.Basename                        ...                                   \nPREDWELL_RETOS-1-1                  4.0  ...             1.0             0.0   \nPREDWELL_RETOS-10-1                 3.0  ...             0.0             0.0   \nPREDWELL_RETOS-101-1                1.0  ...             0.0             0.0   \nPREDWELL_RETOS-102-1                4.0  ...             0.0             0.0   \nPREDWELL_RETOS-103-1                1.0  ...             1.0             1.0   \n\n                      Fulfilled_38.0  Fulfilled_39.0  Fulfilled_40.0  \\\nDataFile.Basename                                                      \nPREDWELL_RETOS-1-1               1.0             1.0             1.0   \nPREDWELL_RETOS-10-1              1.0             1.0             0.0   \nPREDWELL_RETOS-101-1             1.0             1.0             1.0   \nPREDWELL_RETOS-102-1             1.0             1.0             1.0   \nPREDWELL_RETOS-103-1             0.0             1.0             0.0   \n\n                      Fulfilled_41.0  Fulfilled_42.0  Fulfilled_43.0  \\\nDataFile.Basename                                                      \nPREDWELL_RETOS-1-1               0.0             1.0             0.0   \nPREDWELL_RETOS-10-1              1.0             1.0             0.0   \nPREDWELL_RETOS-101-1             0.0             0.0             1.0   \nPREDWELL_RETOS-102-1             0.0             0.0             1.0   \nPREDWELL_RETOS-103-1             0.0             0.0             0.0   \n\n                      Fulfilled_44.0  Fulfilled_45.0  \nDataFile.Basename                                     \nPREDWELL_RETOS-1-1               1.0             1.0  \nPREDWELL_RETOS-10-1              1.0             0.0  \nPREDWELL_RETOS-101-1             1.0             1.0  \nPREDWELL_RETOS-102-1             1.0             1.0  \nPREDWELL_RETOS-103-1             1.0             1.0  \n\n[5 rows x 270 columns]",
      "text/html": "<div>\n<style scoped>\n    .dataframe tbody tr th:only-of-type {\n        vertical-align: middle;\n    }\n\n    .dataframe tbody tr th {\n        vertical-align: top;\n    }\n\n    .dataframe thead th {\n        text-align: right;\n    }\n</style>\n<table border=\"1\" class=\"dataframe\">\n  <thead>\n    <tr style=\"text-align: right;\">\n      <th></th>\n      <th>Rating0.RESP_1.0</th>\n      <th>Rating0.RESP_2.0</th>\n      <th>Rating0.RESP_3.0</th>\n      <th>Rating0.RESP_4.0</th>\n      <th>Rating0.RESP_5.0</th>\n      <th>Rating0.RESP_6.0</th>\n      <th>Rating0.RESP_7.0</th>\n      <th>Rating0.RESP_8.0</th>\n      <th>Rating0.RESP_9.0</th>\n      <th>Rating0.RESP_10.0</th>\n      <th>...</th>\n      <th>Fulfilled_36.0</th>\n      <th>Fulfilled_37.0</th>\n      <th>Fulfilled_38.0</th>\n      <th>Fulfilled_39.0</th>\n      <th>Fulfilled_40.0</th>\n      <th>Fulfilled_41.0</th>\n      <th>Fulfilled_42.0</th>\n      <th>Fulfilled_43.0</th>\n      <th>Fulfilled_44.0</th>\n      <th>Fulfilled_45.0</th>\n    </tr>\n    <tr>\n      <th>DataFile.Basename</th>\n      <th></th>\n      <th></th>\n      <th></th>\n      <th></th>\n      <th></th>\n      <th></th>\n      <th></th>\n      <th></th>\n      <th></th>\n      <th></th>\n      <th></th>\n      <th></th>\n      <th></th>\n      <th></th>\n      <th></th>\n      <th></th>\n      <th></th>\n      <th></th>\n      <th></th>\n      <th></th>\n      <th></th>\n    </tr>\n  </thead>\n  <tbody>\n    <tr>\n      <th>PREDWELL_RETOS-1-1</th>\n      <td>1.0</td>\n      <td>3.0</td>\n      <td>4.0</td>\n      <td>4.0</td>\n      <td>4.0</td>\n      <td>2.0</td>\n      <td>1.0</td>\n      <td>4.0</td>\n      <td>4.0</td>\n      <td>4.0</td>\n      <td>...</td>\n      <td>1.0</td>\n      <td>0.0</td>\n      <td>1.0</td>\n      <td>1.0</td>\n      <td>1.0</td>\n      <td>0.0</td>\n      <td>1.0</td>\n      <td>0.0</td>\n      <td>1.0</td>\n      <td>1.0</td>\n    </tr>\n    <tr>\n      <th>PREDWELL_RETOS-10-1</th>\n      <td>4.0</td>\n      <td>2.0</td>\n      <td>2.0</td>\n      <td>4.0</td>\n      <td>3.0</td>\n      <td>4.0</td>\n      <td>3.0</td>\n      <td>1.0</td>\n      <td>1.0</td>\n      <td>3.0</td>\n      <td>...</td>\n      <td>0.0</td>\n      <td>0.0</td>\n      <td>1.0</td>\n      <td>1.0</td>\n      <td>0.0</td>\n      <td>1.0</td>\n      <td>1.0</td>\n      <td>0.0</td>\n      <td>1.0</td>\n      <td>0.0</td>\n    </tr>\n    <tr>\n      <th>PREDWELL_RETOS-101-1</th>\n      <td>2.0</td>\n      <td>3.0</td>\n      <td>3.0</td>\n      <td>4.0</td>\n      <td>4.0</td>\n      <td>1.0</td>\n      <td>1.0</td>\n      <td>4.0</td>\n      <td>3.0</td>\n      <td>1.0</td>\n      <td>...</td>\n      <td>0.0</td>\n      <td>0.0</td>\n      <td>1.0</td>\n      <td>1.0</td>\n      <td>1.0</td>\n      <td>0.0</td>\n      <td>0.0</td>\n      <td>1.0</td>\n      <td>1.0</td>\n      <td>1.0</td>\n    </tr>\n    <tr>\n      <th>PREDWELL_RETOS-102-1</th>\n      <td>1.0</td>\n      <td>1.0</td>\n      <td>2.0</td>\n      <td>1.0</td>\n      <td>1.0</td>\n      <td>2.0</td>\n      <td>2.0</td>\n      <td>1.0</td>\n      <td>1.0</td>\n      <td>4.0</td>\n      <td>...</td>\n      <td>0.0</td>\n      <td>0.0</td>\n      <td>1.0</td>\n      <td>1.0</td>\n      <td>1.0</td>\n      <td>0.0</td>\n      <td>0.0</td>\n      <td>1.0</td>\n      <td>1.0</td>\n      <td>1.0</td>\n    </tr>\n    <tr>\n      <th>PREDWELL_RETOS-103-1</th>\n      <td>3.0</td>\n      <td>1.0</td>\n      <td>2.0</td>\n      <td>2.0</td>\n      <td>1.0</td>\n      <td>1.0</td>\n      <td>3.0</td>\n      <td>1.0</td>\n      <td>2.0</td>\n      <td>1.0</td>\n      <td>...</td>\n      <td>1.0</td>\n      <td>1.0</td>\n      <td>0.0</td>\n      <td>1.0</td>\n      <td>0.0</td>\n      <td>0.0</td>\n      <td>0.0</td>\n      <td>0.0</td>\n      <td>1.0</td>\n      <td>1.0</td>\n    </tr>\n  </tbody>\n</table>\n<p>5 rows × 270 columns</p>\n</div>"
     },
     "execution_count": 42,
     "metadata": {},
     "output_type": "execute_result"
    }
   ],
   "source": [
    "RETOS_BEBRASK_long = pd.concat([RETOS_tasks_long_copy,BEBRASK_tasks_long_copy])\n",
    "RETOS_BEBRASK_long.to_excel('../Clustering_Predictive_Processing/RETOS_BEBRASK_long.xlsx', index=True)\n",
    "RETOS_BEBRASK_long.head(5)"
   ],
   "metadata": {
    "collapsed": false,
    "ExecuteTime": {
     "end_time": "2024-07-14T16:33:50.013103Z",
     "start_time": "2024-07-14T16:33:49.041953300Z"
    }
   },
   "id": "ead7ec9c06019d68",
   "execution_count": 42
  },
  {
   "cell_type": "code",
   "outputs": [
    {
     "data": {
      "text/plain": "                       Rating0.RESP_1.0  Rating0.RESP_2.0  Rating0.RESP_3.0  \\\nDataFile.Basename                                                             \nPREDWELL_RETOS-1-1                  1.0               3.0               4.0   \nPREDWELL_RETOS-10-1                 4.0               2.0               2.0   \nPREDWELL_RETOS-101-1                2.0               3.0               3.0   \nPREDWELL_RETOS-102-1                1.0               1.0               2.0   \nPREDWELL_RETOS-103-1                3.0               1.0               2.0   \n...                                 ...               ...               ...   \nPREDWELL_RETOS-1124-1               2.0               2.0               3.0   \nPREDWELL_RETOS-1125-1               1.0               NaN               3.0   \nPREDWELL_RETOS-1126-1               2.0               3.0               4.0   \nPREDWELL_RETOS-1127-1               1.0               3.0               2.0   \nPREDWELL_RETOS-1128-1               2.0               3.0               1.0   \n\n                       Rating0.RESP_4.0  Rating0.RESP_5.0  Rating0.RESP_6.0  \\\nDataFile.Basename                                                             \nPREDWELL_RETOS-1-1                  4.0               4.0               2.0   \nPREDWELL_RETOS-10-1                 4.0               3.0               4.0   \nPREDWELL_RETOS-101-1                4.0               4.0               1.0   \nPREDWELL_RETOS-102-1                1.0               1.0               2.0   \nPREDWELL_RETOS-103-1                2.0               1.0               1.0   \n...                                 ...               ...               ...   \nPREDWELL_RETOS-1124-1               1.0               3.0               3.0   \nPREDWELL_RETOS-1125-1               3.0               3.0               1.0   \nPREDWELL_RETOS-1126-1               1.0               4.0               4.0   \nPREDWELL_RETOS-1127-1               3.0               1.0               4.0   \nPREDWELL_RETOS-1128-1               3.0               1.0               1.0   \n\n                       Rating0.RESP_7.0  Rating0.RESP_8.0  Rating0.RESP_9.0  \\\nDataFile.Basename                                                             \nPREDWELL_RETOS-1-1                  1.0               4.0               4.0   \nPREDWELL_RETOS-10-1                 3.0               1.0               1.0   \nPREDWELL_RETOS-101-1                1.0               4.0               3.0   \nPREDWELL_RETOS-102-1                2.0               1.0               1.0   \nPREDWELL_RETOS-103-1                3.0               1.0               2.0   \n...                                 ...               ...               ...   \nPREDWELL_RETOS-1124-1               1.0               1.0               2.0   \nPREDWELL_RETOS-1125-1               4.0               1.0               2.0   \nPREDWELL_RETOS-1126-1               4.0               4.0               4.0   \nPREDWELL_RETOS-1127-1               4.0               4.0               1.0   \nPREDWELL_RETOS-1128-1               3.0               2.0               2.0   \n\n                       Rating0.RESP_10.0  ...  Fulfilled_36.0  Fulfilled_37.0  \\\nDataFile.Basename                         ...                                   \nPREDWELL_RETOS-1-1                   4.0  ...             1.0             0.0   \nPREDWELL_RETOS-10-1                  3.0  ...             0.0             0.0   \nPREDWELL_RETOS-101-1                 1.0  ...             0.0             0.0   \nPREDWELL_RETOS-102-1                 4.0  ...             0.0             0.0   \nPREDWELL_RETOS-103-1                 1.0  ...             1.0             1.0   \n...                                  ...  ...             ...             ...   \nPREDWELL_RETOS-1124-1                2.0  ...             1.0             0.0   \nPREDWELL_RETOS-1125-1                2.0  ...             0.0             0.0   \nPREDWELL_RETOS-1126-1                4.0  ...             0.0             0.0   \nPREDWELL_RETOS-1127-1                3.0  ...             0.0             1.0   \nPREDWELL_RETOS-1128-1                1.0  ...             0.0             1.0   \n\n                       Fulfilled_38.0  Fulfilled_39.0  Fulfilled_40.0  \\\nDataFile.Basename                                                       \nPREDWELL_RETOS-1-1                1.0             1.0             1.0   \nPREDWELL_RETOS-10-1               1.0             1.0             0.0   \nPREDWELL_RETOS-101-1              1.0             1.0             1.0   \nPREDWELL_RETOS-102-1              1.0             1.0             1.0   \nPREDWELL_RETOS-103-1              0.0             1.0             0.0   \n...                               ...             ...             ...   \nPREDWELL_RETOS-1124-1             0.0             0.0             0.0   \nPREDWELL_RETOS-1125-1             0.0             0.0             1.0   \nPREDWELL_RETOS-1126-1             1.0             0.0             0.0   \nPREDWELL_RETOS-1127-1             1.0             0.0             0.0   \nPREDWELL_RETOS-1128-1             1.0             1.0             0.0   \n\n                       Fulfilled_41.0  Fulfilled_42.0  Fulfilled_43.0  \\\nDataFile.Basename                                                       \nPREDWELL_RETOS-1-1                0.0             1.0             0.0   \nPREDWELL_RETOS-10-1               1.0             1.0             0.0   \nPREDWELL_RETOS-101-1              0.0             0.0             1.0   \nPREDWELL_RETOS-102-1              0.0             0.0             1.0   \nPREDWELL_RETOS-103-1              0.0             0.0             0.0   \n...                               ...             ...             ...   \nPREDWELL_RETOS-1124-1             1.0             1.0             1.0   \nPREDWELL_RETOS-1125-1             0.0             0.0             1.0   \nPREDWELL_RETOS-1126-1             1.0             1.0             1.0   \nPREDWELL_RETOS-1127-1             0.0             0.0             0.0   \nPREDWELL_RETOS-1128-1             1.0             0.0             1.0   \n\n                       Fulfilled_44.0  Fulfilled_45.0  \nDataFile.Basename                                      \nPREDWELL_RETOS-1-1                1.0             1.0  \nPREDWELL_RETOS-10-1               1.0             0.0  \nPREDWELL_RETOS-101-1              1.0             1.0  \nPREDWELL_RETOS-102-1              1.0             1.0  \nPREDWELL_RETOS-103-1              1.0             1.0  \n...                               ...             ...  \nPREDWELL_RETOS-1124-1             0.0             0.0  \nPREDWELL_RETOS-1125-1             1.0             1.0  \nPREDWELL_RETOS-1126-1             0.0             0.0  \nPREDWELL_RETOS-1127-1             1.0             1.0  \nPREDWELL_RETOS-1128-1             1.0             1.0  \n\n[150 rows x 270 columns]",
      "text/html": "<div>\n<style scoped>\n    .dataframe tbody tr th:only-of-type {\n        vertical-align: middle;\n    }\n\n    .dataframe tbody tr th {\n        vertical-align: top;\n    }\n\n    .dataframe thead th {\n        text-align: right;\n    }\n</style>\n<table border=\"1\" class=\"dataframe\">\n  <thead>\n    <tr style=\"text-align: right;\">\n      <th></th>\n      <th>Rating0.RESP_1.0</th>\n      <th>Rating0.RESP_2.0</th>\n      <th>Rating0.RESP_3.0</th>\n      <th>Rating0.RESP_4.0</th>\n      <th>Rating0.RESP_5.0</th>\n      <th>Rating0.RESP_6.0</th>\n      <th>Rating0.RESP_7.0</th>\n      <th>Rating0.RESP_8.0</th>\n      <th>Rating0.RESP_9.0</th>\n      <th>Rating0.RESP_10.0</th>\n      <th>...</th>\n      <th>Fulfilled_36.0</th>\n      <th>Fulfilled_37.0</th>\n      <th>Fulfilled_38.0</th>\n      <th>Fulfilled_39.0</th>\n      <th>Fulfilled_40.0</th>\n      <th>Fulfilled_41.0</th>\n      <th>Fulfilled_42.0</th>\n      <th>Fulfilled_43.0</th>\n      <th>Fulfilled_44.0</th>\n      <th>Fulfilled_45.0</th>\n    </tr>\n    <tr>\n      <th>DataFile.Basename</th>\n      <th></th>\n      <th></th>\n      <th></th>\n      <th></th>\n      <th></th>\n      <th></th>\n      <th></th>\n      <th></th>\n      <th></th>\n      <th></th>\n      <th></th>\n      <th></th>\n      <th></th>\n      <th></th>\n      <th></th>\n      <th></th>\n      <th></th>\n      <th></th>\n      <th></th>\n      <th></th>\n      <th></th>\n    </tr>\n  </thead>\n  <tbody>\n    <tr>\n      <th>PREDWELL_RETOS-1-1</th>\n      <td>1.0</td>\n      <td>3.0</td>\n      <td>4.0</td>\n      <td>4.0</td>\n      <td>4.0</td>\n      <td>2.0</td>\n      <td>1.0</td>\n      <td>4.0</td>\n      <td>4.0</td>\n      <td>4.0</td>\n      <td>...</td>\n      <td>1.0</td>\n      <td>0.0</td>\n      <td>1.0</td>\n      <td>1.0</td>\n      <td>1.0</td>\n      <td>0.0</td>\n      <td>1.0</td>\n      <td>0.0</td>\n      <td>1.0</td>\n      <td>1.0</td>\n    </tr>\n    <tr>\n      <th>PREDWELL_RETOS-10-1</th>\n      <td>4.0</td>\n      <td>2.0</td>\n      <td>2.0</td>\n      <td>4.0</td>\n      <td>3.0</td>\n      <td>4.0</td>\n      <td>3.0</td>\n      <td>1.0</td>\n      <td>1.0</td>\n      <td>3.0</td>\n      <td>...</td>\n      <td>0.0</td>\n      <td>0.0</td>\n      <td>1.0</td>\n      <td>1.0</td>\n      <td>0.0</td>\n      <td>1.0</td>\n      <td>1.0</td>\n      <td>0.0</td>\n      <td>1.0</td>\n      <td>0.0</td>\n    </tr>\n    <tr>\n      <th>PREDWELL_RETOS-101-1</th>\n      <td>2.0</td>\n      <td>3.0</td>\n      <td>3.0</td>\n      <td>4.0</td>\n      <td>4.0</td>\n      <td>1.0</td>\n      <td>1.0</td>\n      <td>4.0</td>\n      <td>3.0</td>\n      <td>1.0</td>\n      <td>...</td>\n      <td>0.0</td>\n      <td>0.0</td>\n      <td>1.0</td>\n      <td>1.0</td>\n      <td>1.0</td>\n      <td>0.0</td>\n      <td>0.0</td>\n      <td>1.0</td>\n      <td>1.0</td>\n      <td>1.0</td>\n    </tr>\n    <tr>\n      <th>PREDWELL_RETOS-102-1</th>\n      <td>1.0</td>\n      <td>1.0</td>\n      <td>2.0</td>\n      <td>1.0</td>\n      <td>1.0</td>\n      <td>2.0</td>\n      <td>2.0</td>\n      <td>1.0</td>\n      <td>1.0</td>\n      <td>4.0</td>\n      <td>...</td>\n      <td>0.0</td>\n      <td>0.0</td>\n      <td>1.0</td>\n      <td>1.0</td>\n      <td>1.0</td>\n      <td>0.0</td>\n      <td>0.0</td>\n      <td>1.0</td>\n      <td>1.0</td>\n      <td>1.0</td>\n    </tr>\n    <tr>\n      <th>PREDWELL_RETOS-103-1</th>\n      <td>3.0</td>\n      <td>1.0</td>\n      <td>2.0</td>\n      <td>2.0</td>\n      <td>1.0</td>\n      <td>1.0</td>\n      <td>3.0</td>\n      <td>1.0</td>\n      <td>2.0</td>\n      <td>1.0</td>\n      <td>...</td>\n      <td>1.0</td>\n      <td>1.0</td>\n      <td>0.0</td>\n      <td>1.0</td>\n      <td>0.0</td>\n      <td>0.0</td>\n      <td>0.0</td>\n      <td>0.0</td>\n      <td>1.0</td>\n      <td>1.0</td>\n    </tr>\n    <tr>\n      <th>...</th>\n      <td>...</td>\n      <td>...</td>\n      <td>...</td>\n      <td>...</td>\n      <td>...</td>\n      <td>...</td>\n      <td>...</td>\n      <td>...</td>\n      <td>...</td>\n      <td>...</td>\n      <td>...</td>\n      <td>...</td>\n      <td>...</td>\n      <td>...</td>\n      <td>...</td>\n      <td>...</td>\n      <td>...</td>\n      <td>...</td>\n      <td>...</td>\n      <td>...</td>\n      <td>...</td>\n    </tr>\n    <tr>\n      <th>PREDWELL_RETOS-1124-1</th>\n      <td>2.0</td>\n      <td>2.0</td>\n      <td>3.0</td>\n      <td>1.0</td>\n      <td>3.0</td>\n      <td>3.0</td>\n      <td>1.0</td>\n      <td>1.0</td>\n      <td>2.0</td>\n      <td>2.0</td>\n      <td>...</td>\n      <td>1.0</td>\n      <td>0.0</td>\n      <td>0.0</td>\n      <td>0.0</td>\n      <td>0.0</td>\n      <td>1.0</td>\n      <td>1.0</td>\n      <td>1.0</td>\n      <td>0.0</td>\n      <td>0.0</td>\n    </tr>\n    <tr>\n      <th>PREDWELL_RETOS-1125-1</th>\n      <td>1.0</td>\n      <td>NaN</td>\n      <td>3.0</td>\n      <td>3.0</td>\n      <td>3.0</td>\n      <td>1.0</td>\n      <td>4.0</td>\n      <td>1.0</td>\n      <td>2.0</td>\n      <td>2.0</td>\n      <td>...</td>\n      <td>0.0</td>\n      <td>0.0</td>\n      <td>0.0</td>\n      <td>0.0</td>\n      <td>1.0</td>\n      <td>0.0</td>\n      <td>0.0</td>\n      <td>1.0</td>\n      <td>1.0</td>\n      <td>1.0</td>\n    </tr>\n    <tr>\n      <th>PREDWELL_RETOS-1126-1</th>\n      <td>2.0</td>\n      <td>3.0</td>\n      <td>4.0</td>\n      <td>1.0</td>\n      <td>4.0</td>\n      <td>4.0</td>\n      <td>4.0</td>\n      <td>4.0</td>\n      <td>4.0</td>\n      <td>4.0</td>\n      <td>...</td>\n      <td>0.0</td>\n      <td>0.0</td>\n      <td>1.0</td>\n      <td>0.0</td>\n      <td>0.0</td>\n      <td>1.0</td>\n      <td>1.0</td>\n      <td>1.0</td>\n      <td>0.0</td>\n      <td>0.0</td>\n    </tr>\n    <tr>\n      <th>PREDWELL_RETOS-1127-1</th>\n      <td>1.0</td>\n      <td>3.0</td>\n      <td>2.0</td>\n      <td>3.0</td>\n      <td>1.0</td>\n      <td>4.0</td>\n      <td>4.0</td>\n      <td>4.0</td>\n      <td>1.0</td>\n      <td>3.0</td>\n      <td>...</td>\n      <td>0.0</td>\n      <td>1.0</td>\n      <td>1.0</td>\n      <td>0.0</td>\n      <td>0.0</td>\n      <td>0.0</td>\n      <td>0.0</td>\n      <td>0.0</td>\n      <td>1.0</td>\n      <td>1.0</td>\n    </tr>\n    <tr>\n      <th>PREDWELL_RETOS-1128-1</th>\n      <td>2.0</td>\n      <td>3.0</td>\n      <td>1.0</td>\n      <td>3.0</td>\n      <td>1.0</td>\n      <td>1.0</td>\n      <td>3.0</td>\n      <td>2.0</td>\n      <td>2.0</td>\n      <td>1.0</td>\n      <td>...</td>\n      <td>0.0</td>\n      <td>1.0</td>\n      <td>1.0</td>\n      <td>1.0</td>\n      <td>0.0</td>\n      <td>1.0</td>\n      <td>0.0</td>\n      <td>1.0</td>\n      <td>1.0</td>\n      <td>1.0</td>\n    </tr>\n  </tbody>\n</table>\n<p>150 rows × 270 columns</p>\n</div>"
     },
     "execution_count": 43,
     "metadata": {},
     "output_type": "execute_result"
    }
   ],
   "source": [
    "RETOS_BEBRASK_long"
   ],
   "metadata": {
    "collapsed": false,
    "ExecuteTime": {
     "end_time": "2024-07-14T16:33:50.181193400Z",
     "start_time": "2024-07-14T16:33:50.014103900Z"
    }
   },
   "id": "11ba8f5821213b61",
   "execution_count": 43
  },
  {
   "cell_type": "markdown",
   "source": [
    "## Joining Scales RETOS & BEBRASK"
   ],
   "metadata": {
    "collapsed": false
   },
   "id": "f8657d9d968400b2"
  },
  {
   "cell_type": "code",
   "outputs": [],
   "source": [
    "BEBRASK_scales = pd.read_excel('../Datasets/BEBRASK_scales.xlsx')\n",
    "RETOS_scales = pd.read_excel('../Datasets/RETOS_scales.xlsx')\n"
   ],
   "metadata": {
    "collapsed": false,
    "ExecuteTime": {
     "end_time": "2024-07-14T16:33:50.333695200Z",
     "start_time": "2024-07-14T16:33:50.061922300Z"
    }
   },
   "id": "b1216fd6ea1ab096",
   "execution_count": 44
  },
  {
   "cell_type": "code",
   "outputs": [],
   "source": [
    "RETOS_BEBRASK_scales = pd.concat([RETOS_scales,BEBRASK_scales])\n",
    "\n",
    "\n",
    "cols = RETOS_BEBRASK_scales.columns\n",
    "\n",
    "#We convert all data to numeric, and change to NaN those values that can not be converted\n",
    "RETOS_BEBRASK_scales[cols[3:]] = RETOS_BEBRASK_scales[cols[3:]].apply(pd.to_numeric, errors='coerce')\n",
    "RETOS_BEBRASK_scales.reset_index(drop=True, inplace=True)\n",
    "nan_counts = RETOS_BEBRASK_scales.isna().sum()\n",
    "\n",
    "# Identify columns where the count of NaN is less than or equal to 50\n",
    "columns_with_fewer_nans = nan_counts[nan_counts <= 50].index.tolist()\n",
    "\n",
    "# Filter the DataFrame to include only these columns\n",
    "RETOS_BEBRASK_scales = RETOS_BEBRASK_scales[columns_with_fewer_nans]\n",
    "\n",
    "\n",
    "RETOS_BEBRASK_scales[\"ASI_T\"] = RETOS_BEBRASK_scales[\"ASI_P\"]+RETOS_BEBRASK_scales[\"ASI_C\"]+RETOS_BEBRASK_scales[\"ASI_S\"]\n"
   ],
   "metadata": {
    "collapsed": false,
    "ExecuteTime": {
     "end_time": "2024-07-14T16:33:50.427943400Z",
     "start_time": "2024-07-14T16:33:50.236279500Z"
    }
   },
   "id": "59b938f6cf3fe57e",
   "execution_count": 45
  },
  {
   "cell_type": "code",
   "outputs": [],
   "source": [
    "\n",
    "RETOS_BEBRASK_scales.to_excel('../Clustering_Predictive_Processing/scales.xlsx', index=True)\n"
   ],
   "metadata": {
    "collapsed": false,
    "ExecuteTime": {
     "end_time": "2024-07-14T16:33:50.463016700Z",
     "start_time": "2024-07-14T16:33:50.282582500Z"
    }
   },
   "id": "636d97c0afe410be",
   "execution_count": 46
  }
 ],
 "metadata": {
  "kernelspec": {
   "display_name": "Python 3",
   "language": "python",
   "name": "python3"
  },
  "language_info": {
   "codemirror_mode": {
    "name": "ipython",
    "version": 2
   },
   "file_extension": ".py",
   "mimetype": "text/x-python",
   "name": "python",
   "nbconvert_exporter": "python",
   "pygments_lexer": "ipython2",
   "version": "2.7.6"
  }
 },
 "nbformat": 4,
 "nbformat_minor": 5
}
