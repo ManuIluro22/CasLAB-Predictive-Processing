{
 "cells": [
  {
   "cell_type": "code",
   "outputs": [],
   "source": [
    "import pandas as pd\n",
    "import numpy as np\n",
    "import statistics"
   ],
   "metadata": {
    "collapsed": false,
    "ExecuteTime": {
     "end_time": "2024-04-04T13:36:49.769880Z",
     "start_time": "2024-04-04T13:36:49.766324Z"
    }
   },
   "id": "99be8cfbe32c4288",
   "execution_count": 1
  },
  {
   "cell_type": "markdown",
   "source": [
    "## BEBRASK DATASET COUNT"
   ],
   "metadata": {
    "collapsed": false
   },
   "id": "eb976b27895b2642"
  },
  {
   "cell_type": "code",
   "outputs": [],
   "source": [
    "BEBRASK_tasks = pd.read_excel('../Datasets/BEBRASK_task.xlsx')\n",
    "BEBRASK_tasks = BEBRASK_tasks[[\"DataFile.Basename\",\"Rating0.RESP\",\"Rating.RESP\",\"EvokedEmotion\", \"Expression\", \"ScenarioPick\",\"TrialCount\",\"Fulfilled\"]].copy()\n",
    "BEBRASK_tasks.dropna(subset = [\"TrialCount\"],inplace=True)\n",
    "subjects_id = BEBRASK_tasks[\"DataFile.Basename\"].unique()\n",
    "\n",
    "#Eleccion de las variables relevantes para el clustering, y eliminación de las filas que no corresponden a trials."
   ],
   "metadata": {
    "collapsed": false,
    "ExecuteTime": {
     "end_time": "2024-04-04T13:36:54.769624Z",
     "start_time": "2024-04-04T13:36:49.771834Z"
    }
   },
   "id": "d38e44f77b19f609",
   "execution_count": 2
  },
  {
   "cell_type": "code",
   "outputs": [
    {
     "data": {
      "text/plain": "                       Rating0.RESP_1.0  Rating0.RESP_2.0  Rating0.RESP_3.0  \\\nDataFile.Basename                                                             \nPREDWELL_RETOS-1001-1               3.0               3.0               1.0   \nPREDWELL_RETOS-1002-1               3.0               3.0               1.0   \nPREDWELL_RETOS-1003-1               2.0               1.0               1.0   \nPREDWELL_RETOS-1004-1               2.0               3.0               4.0   \nPREDWELL_RETOS-1005-1               2.0               1.0               2.0   \n\n                       Rating0.RESP_4.0  Rating0.RESP_5.0  Rating0.RESP_6.0  \\\nDataFile.Basename                                                             \nPREDWELL_RETOS-1001-1               4.0               2.0               3.0   \nPREDWELL_RETOS-1002-1               1.0               2.0               1.0   \nPREDWELL_RETOS-1003-1               1.0               3.0               3.0   \nPREDWELL_RETOS-1004-1               4.0               1.0               3.0   \nPREDWELL_RETOS-1005-1               1.0               1.0               4.0   \n\n                       Rating0.RESP_7.0  Rating0.RESP_8.0  Rating0.RESP_9.0  \\\nDataFile.Basename                                                             \nPREDWELL_RETOS-1001-1               4.0               1.0               3.0   \nPREDWELL_RETOS-1002-1               3.0               4.0               3.0   \nPREDWELL_RETOS-1003-1               3.0               3.0               2.0   \nPREDWELL_RETOS-1004-1               1.0               1.0               3.0   \nPREDWELL_RETOS-1005-1               3.0               4.0               1.0   \n\n                       Rating0.RESP_10.0  ...  Fulfilled_36.0  Fulfilled_37.0  \\\nDataFile.Basename                         ...                                   \nPREDWELL_RETOS-1001-1                4.0  ...             1.0             0.0   \nPREDWELL_RETOS-1002-1                2.0  ...             0.0             1.0   \nPREDWELL_RETOS-1003-1                1.0  ...             0.0             1.0   \nPREDWELL_RETOS-1004-1                2.0  ...             1.0             1.0   \nPREDWELL_RETOS-1005-1                3.0  ...             1.0             0.0   \n\n                       Fulfilled_38.0  Fulfilled_39.0  Fulfilled_40.0  \\\nDataFile.Basename                                                       \nPREDWELL_RETOS-1001-1             0.0             1.0             0.0   \nPREDWELL_RETOS-1002-1             1.0             1.0             1.0   \nPREDWELL_RETOS-1003-1             0.0             0.0             1.0   \nPREDWELL_RETOS-1004-1             1.0             0.0             0.0   \nPREDWELL_RETOS-1005-1             1.0             1.0             0.0   \n\n                       Fulfilled_41.0  Fulfilled_42.0  Fulfilled_43.0  \\\nDataFile.Basename                                                       \nPREDWELL_RETOS-1001-1             0.0             1.0             1.0   \nPREDWELL_RETOS-1002-1             0.0             0.0             1.0   \nPREDWELL_RETOS-1003-1             0.0             1.0             1.0   \nPREDWELL_RETOS-1004-1             1.0             1.0             0.0   \nPREDWELL_RETOS-1005-1             1.0             1.0             1.0   \n\n                       Fulfilled_44.0  Fulfilled_45.0  \nDataFile.Basename                                      \nPREDWELL_RETOS-1001-1             0.0             0.0  \nPREDWELL_RETOS-1002-1             0.0             1.0  \nPREDWELL_RETOS-1003-1             1.0             0.0  \nPREDWELL_RETOS-1004-1             1.0             1.0  \nPREDWELL_RETOS-1005-1             0.0             0.0  \n\n[5 rows x 270 columns]",
      "text/html": "<div>\n<style scoped>\n    .dataframe tbody tr th:only-of-type {\n        vertical-align: middle;\n    }\n\n    .dataframe tbody tr th {\n        vertical-align: top;\n    }\n\n    .dataframe thead th {\n        text-align: right;\n    }\n</style>\n<table border=\"1\" class=\"dataframe\">\n  <thead>\n    <tr style=\"text-align: right;\">\n      <th></th>\n      <th>Rating0.RESP_1.0</th>\n      <th>Rating0.RESP_2.0</th>\n      <th>Rating0.RESP_3.0</th>\n      <th>Rating0.RESP_4.0</th>\n      <th>Rating0.RESP_5.0</th>\n      <th>Rating0.RESP_6.0</th>\n      <th>Rating0.RESP_7.0</th>\n      <th>Rating0.RESP_8.0</th>\n      <th>Rating0.RESP_9.0</th>\n      <th>Rating0.RESP_10.0</th>\n      <th>...</th>\n      <th>Fulfilled_36.0</th>\n      <th>Fulfilled_37.0</th>\n      <th>Fulfilled_38.0</th>\n      <th>Fulfilled_39.0</th>\n      <th>Fulfilled_40.0</th>\n      <th>Fulfilled_41.0</th>\n      <th>Fulfilled_42.0</th>\n      <th>Fulfilled_43.0</th>\n      <th>Fulfilled_44.0</th>\n      <th>Fulfilled_45.0</th>\n    </tr>\n    <tr>\n      <th>DataFile.Basename</th>\n      <th></th>\n      <th></th>\n      <th></th>\n      <th></th>\n      <th></th>\n      <th></th>\n      <th></th>\n      <th></th>\n      <th></th>\n      <th></th>\n      <th></th>\n      <th></th>\n      <th></th>\n      <th></th>\n      <th></th>\n      <th></th>\n      <th></th>\n      <th></th>\n      <th></th>\n      <th></th>\n      <th></th>\n    </tr>\n  </thead>\n  <tbody>\n    <tr>\n      <th>PREDWELL_RETOS-1001-1</th>\n      <td>3.0</td>\n      <td>3.0</td>\n      <td>1.0</td>\n      <td>4.0</td>\n      <td>2.0</td>\n      <td>3.0</td>\n      <td>4.0</td>\n      <td>1.0</td>\n      <td>3.0</td>\n      <td>4.0</td>\n      <td>...</td>\n      <td>1.0</td>\n      <td>0.0</td>\n      <td>0.0</td>\n      <td>1.0</td>\n      <td>0.0</td>\n      <td>0.0</td>\n      <td>1.0</td>\n      <td>1.0</td>\n      <td>0.0</td>\n      <td>0.0</td>\n    </tr>\n    <tr>\n      <th>PREDWELL_RETOS-1002-1</th>\n      <td>3.0</td>\n      <td>3.0</td>\n      <td>1.0</td>\n      <td>1.0</td>\n      <td>2.0</td>\n      <td>1.0</td>\n      <td>3.0</td>\n      <td>4.0</td>\n      <td>3.0</td>\n      <td>2.0</td>\n      <td>...</td>\n      <td>0.0</td>\n      <td>1.0</td>\n      <td>1.0</td>\n      <td>1.0</td>\n      <td>1.0</td>\n      <td>0.0</td>\n      <td>0.0</td>\n      <td>1.0</td>\n      <td>0.0</td>\n      <td>1.0</td>\n    </tr>\n    <tr>\n      <th>PREDWELL_RETOS-1003-1</th>\n      <td>2.0</td>\n      <td>1.0</td>\n      <td>1.0</td>\n      <td>1.0</td>\n      <td>3.0</td>\n      <td>3.0</td>\n      <td>3.0</td>\n      <td>3.0</td>\n      <td>2.0</td>\n      <td>1.0</td>\n      <td>...</td>\n      <td>0.0</td>\n      <td>1.0</td>\n      <td>0.0</td>\n      <td>0.0</td>\n      <td>1.0</td>\n      <td>0.0</td>\n      <td>1.0</td>\n      <td>1.0</td>\n      <td>1.0</td>\n      <td>0.0</td>\n    </tr>\n    <tr>\n      <th>PREDWELL_RETOS-1004-1</th>\n      <td>2.0</td>\n      <td>3.0</td>\n      <td>4.0</td>\n      <td>4.0</td>\n      <td>1.0</td>\n      <td>3.0</td>\n      <td>1.0</td>\n      <td>1.0</td>\n      <td>3.0</td>\n      <td>2.0</td>\n      <td>...</td>\n      <td>1.0</td>\n      <td>1.0</td>\n      <td>1.0</td>\n      <td>0.0</td>\n      <td>0.0</td>\n      <td>1.0</td>\n      <td>1.0</td>\n      <td>0.0</td>\n      <td>1.0</td>\n      <td>1.0</td>\n    </tr>\n    <tr>\n      <th>PREDWELL_RETOS-1005-1</th>\n      <td>2.0</td>\n      <td>1.0</td>\n      <td>2.0</td>\n      <td>1.0</td>\n      <td>1.0</td>\n      <td>4.0</td>\n      <td>3.0</td>\n      <td>4.0</td>\n      <td>1.0</td>\n      <td>3.0</td>\n      <td>...</td>\n      <td>1.0</td>\n      <td>0.0</td>\n      <td>1.0</td>\n      <td>1.0</td>\n      <td>0.0</td>\n      <td>1.0</td>\n      <td>1.0</td>\n      <td>1.0</td>\n      <td>0.0</td>\n      <td>0.0</td>\n    </tr>\n  </tbody>\n</table>\n<p>5 rows × 270 columns</p>\n</div>"
     },
     "execution_count": 3,
     "metadata": {},
     "output_type": "execute_result"
    }
   ],
   "source": [
    "BEBRASK_tasks_long= BEBRASK_tasks.pivot(index=\"DataFile.Basename\", columns='TrialCount')\n",
    "BEBRASK_tasks_long.columns = ['_'.join(str(col) for col in cols) for cols in BEBRASK_tasks_long.columns.values]\n",
    "BEBRASK_tasks_long.head(5)\n",
    "#Pivotamos el dataset por los trials, de manera que ahora se tienen 55 filas (los 55 sujetos) y cada una contiene toda la información del experimento"
   ],
   "metadata": {
    "collapsed": false,
    "ExecuteTime": {
     "end_time": "2024-04-04T13:36:55.243904Z",
     "start_time": "2024-04-04T13:36:54.772399Z"
    }
   },
   "id": "9930e3e379619846",
   "execution_count": 3
  },
  {
   "cell_type": "code",
   "outputs": [
    {
     "name": "stdout",
     "output_type": "stream",
     "text": [
      "Mean difference pred/like: 0.8911592994161801\n",
      "Std difference pred/like: 0.8296508347297773\n"
     ]
    },
    {
     "data": {
      "text/plain": "Rating0.RESP_1.0    0\nRating0.RESP_2.0    2\nRating0.RESP_3.0    0\nRating0.RESP_4.0    0\nRating0.RESP_5.0    1\n                   ..\nFulfilled_41.0      0\nFulfilled_42.0      0\nFulfilled_43.0      0\nFulfilled_44.0      0\nFulfilled_45.0      0\nLength: 270, dtype: int64"
     },
     "execution_count": 4,
     "metadata": {},
     "output_type": "execute_result"
    }
   ],
   "source": [
    "print(\"Mean difference pred/like:\",np.mean(abs(BEBRASK_tasks[\"Rating0.RESP\"] - BEBRASK_tasks[\"Rating.RESP\"])))\n",
    "print(\"Std difference pred/like:\",np.std(abs(BEBRASK_tasks[\"Rating0.RESP\"] - BEBRASK_tasks[\"Rating.RESP\"])))\n",
    "BEBRASK_tasks_long.isna().sum()\n",
    "\n",
    "#We note that some values of Rating0.RESP and Rating.RESP are NA and that the difference between the Rating0 and Rating value is usually not greater than 1, therefore we will impute the values from the other Rating in case the value is not missing.   "
   ],
   "metadata": {
    "collapsed": false,
    "ExecuteTime": {
     "end_time": "2024-04-04T13:36:55.258176Z",
     "start_time": "2024-04-04T13:36:55.247387Z"
    }
   },
   "id": "23158c723a67b4d9",
   "execution_count": 4
  },
  {
   "cell_type": "code",
   "outputs": [
    {
     "name": "stderr",
     "output_type": "stream",
     "text": [
      "/tmp/ipykernel_9823/4242923729.py:6: FutureWarning: A value is trying to be set on a copy of a DataFrame or Series through chained assignment using an inplace method.\n",
      "The behavior will change in pandas 3.0. This inplace method will never work because the intermediate object on which we are setting values always behaves as a copy.\n",
      "\n",
      "For example, when doing 'df[col].method(value, inplace=True)', try using 'df.method({col: value}, inplace=True)' or df[col] = df[col].method(value) instead, to perform the operation inplace on the original object.\n",
      "\n",
      "\n",
      "  BEBRASK_tasks_long[rating1_col].fillna(BEBRASK_tasks_long[rating2_col], inplace=True)\n",
      "/tmp/ipykernel_9823/4242923729.py:7: FutureWarning: A value is trying to be set on a copy of a DataFrame or Series through chained assignment using an inplace method.\n",
      "The behavior will change in pandas 3.0. This inplace method will never work because the intermediate object on which we are setting values always behaves as a copy.\n",
      "\n",
      "For example, when doing 'df[col].method(value, inplace=True)', try using 'df.method({col: value}, inplace=True)' or df[col] = df[col].method(value) instead, to perform the operation inplace on the original object.\n",
      "\n",
      "\n",
      "  BEBRASK_tasks_long[rating2_col].fillna(BEBRASK_tasks_long[rating1_col], inplace=True)\n"
     ]
    },
    {
     "data": {
      "text/plain": "Rating0.RESP_1.0    0\nRating0.RESP_2.0    0\nRating0.RESP_3.0    0\nRating0.RESP_4.0    0\nRating0.RESP_5.0    0\n                   ..\nFulfilled_41.0      0\nFulfilled_42.0      0\nFulfilled_43.0      0\nFulfilled_44.0      0\nFulfilled_45.0      0\nLength: 270, dtype: int64"
     },
     "execution_count": 5,
     "metadata": {},
     "output_type": "execute_result"
    }
   ],
   "source": [
    "for i in range(1, 46):\n",
    "    rating1_col = f'Rating0.RESP_{i}.0'\n",
    "    rating2_col = f'Rating.RESP_{i}.0'\n",
    "\n",
    "    # We fill NA values of Rating0 with Rating, and vice versa\n",
    "    BEBRASK_tasks_long[rating1_col].fillna(BEBRASK_tasks_long[rating2_col], inplace=True)\n",
    "    BEBRASK_tasks_long[rating2_col].fillna(BEBRASK_tasks_long[rating1_col], inplace=True)\n",
    "\n",
    "BEBRASK_tasks_long.isna().sum()\n",
    "#All NaN values have been filled, so there is no need to use any other imputation method."
   ],
   "metadata": {
    "collapsed": false,
    "ExecuteTime": {
     "end_time": "2024-04-04T13:36:55.520668Z",
     "start_time": "2024-04-04T13:36:55.260862Z"
    }
   },
   "id": "3ff3ce9be9436b54",
   "execution_count": 5
  },
  {
   "cell_type": "code",
   "outputs": [],
   "source": [
    "BEBRASK_tasks_long.to_excel('../Clustering_Predictive_Processing/BEBRASK_long.xlsx', index=False)\n",
    "BEBRASK_tasks_long_copy = BEBRASK_tasks_long.copy()"
   ],
   "metadata": {
    "collapsed": false,
    "ExecuteTime": {
     "end_time": "2024-04-04T13:36:56.288736Z",
     "start_time": "2024-04-04T13:36:55.522421Z"
    }
   },
   "id": "c269a2bbb9772639",
   "execution_count": 6
  },
  {
   "cell_type": "code",
   "outputs": [],
   "source": [
    "def creation_dictionary_from_df(df,n_subjects):\n",
    "    \"\"\"\n",
    "   Processes a DataFrame to create a dictionary that organizes data related to emotions (happiness, sadness, fear) for a specified number of subjects.\n",
    "    with emotions (happiness, sadness, fear) for a specified number of subjects.\n",
    "    \n",
    "    Parameters:\n",
    "    - df (pandas.DataFrame): The DataFrame containing the survey data. Each row represents one subject.\n",
    "    - n_subjects (int): The number of subjects to process from the DataFrame.\n",
    "    \n",
    "    Returns:\n",
    "    - dict_df (dict): A dictionary where each key is a subject identifier and its value is another dictionary. This \n",
    "      nested dictionary categorizes the data into emotions 'Happy', 'Sad' and 'Fear'. Each emotion key is then mapped to another \n",
    "      dictionary with keys 'Rating0' (Rating0.RESP), 'Rating' (Rating.RESP), 'Expression' (Expression) and 'Fulfillment' (Fulfillment).\n",
    "    \n",
    "    Translated with DeepL.com (free version)\n",
    "    \"\"\"\n",
    "    dict_df  = {}\n",
    "    for j in range(0,n_subjects):\n",
    "        subject = df.iloc[j]\n",
    "        id = df.index.values[j]\n",
    "        happy_pred = []\n",
    "        happy_like = []\n",
    "        happy_facial = []\n",
    "        happy_fulfill = []\n",
    "        sad_pred = []\n",
    "        sad_like = []\n",
    "        sad_facial = []\n",
    "        sad_fulfill = []\n",
    "        fear_pred = []\n",
    "        fear_like = []\n",
    "        fear_facial = []\n",
    "        fear_fulfill = []\n",
    "        \n",
    "        for i in range(1,46):\n",
    "            pred = f'Rating0.RESP_{i}.0'\n",
    "            like = f'Rating.RESP_{i}.0'\n",
    "            emotion = f'EvokedEmotion_{i}.0'\n",
    "            facial = f'Expression_{i}.0'\n",
    "            fulfill = f'Fulfilled_{i}.0'\n",
    "            \n",
    "            if subject[emotion] == \"happiness\":\n",
    "                happy_pred.append(int(subject[pred]))\n",
    "                happy_like.append(int(subject[like]))\n",
    "                happy_facial.append(subject[facial])\n",
    "                happy_fulfill.append(subject[fulfill])\n",
    "                \n",
    "            elif subject[emotion] == \"sadness\":\n",
    "                sad_pred.append(int(subject[pred]))\n",
    "                sad_like.append(int(subject[like]))\n",
    "                sad_facial.append(subject[facial])\n",
    "                sad_fulfill.append(subject[fulfill])\n",
    "    \n",
    "            else:\n",
    "                fear_pred.append(int(subject[pred]))\n",
    "                fear_like.append(int(subject[like]))\n",
    "                fear_facial.append(subject[facial])\n",
    "                fear_fulfill.append(subject[fulfill])\n",
    "    \n",
    "        dict_df[id] = {'Happy':{'Rating0':np.array(happy_pred), 'Rating': np.array(happy_like), 'Expression':np.array(happy_facial),'Fulfill':np.array(happy_fulfill)},'Sad':{ 'Rating0':np.array(sad_pred), 'Rating':np.array(sad_like), 'Expression':np.array(sad_facial),'Fulfill': np.array(sad_fulfill)}, 'Fear':{'Rating0':np.array(fear_pred),'Rating': np.array(fear_like),'Expression': np.array(fear_facial), 'Fulfill': np.array(fear_fulfill)}}\n",
    "    \n",
    "    return dict_df   \n",
    "\n",
    "subject_dict_BEBRASK = creation_dictionary_from_df(BEBRASK_tasks_long,len(BEBRASK_tasks_long))"
   ],
   "metadata": {
    "collapsed": false,
    "ExecuteTime": {
     "end_time": "2024-04-04T13:36:56.407728Z",
     "start_time": "2024-04-04T13:36:56.310601Z"
    }
   },
   "id": "5030f9e5cbc6bb61",
   "execution_count": 7
  },
  {
   "cell_type": "code",
   "outputs": [],
   "source": [
    "def creation_count_df(subject_dict,rating):\n",
    "    \"\"\"\n",
    "    Processes a dictionary with the information of the responses given by each subject organized by feeling, and creates\n",
    "    a dataframe containing how many times a subject has given a score to a trial type (subject to the evoked emotion and whether it is a match or not).\n",
    "    and whether it is match or not).\n",
    "    \n",
    "    Parameters:\n",
    "    - subject_dict (dict): Dictionary containing the information of the scores organized by subject and by emotion.\n",
    "    - rating (string): Rating from which to make the aggregations of the scores (Rating0 or Rating).\n",
    "    \n",
    "    Returns:\n",
    "    - df_counts (pandas.DataFrame): A dataframe where each row contains the identifier of the subject, the emotion evoked,\n",
    "    whether it is match or not, the corresponding score and how many times it happens.\n",
    "      \n",
    "    \"\"\"\n",
    "    processed_data = {}\n",
    "    for id in subject_dict.keys():\n",
    "        for j,key in enumerate(subject_dict[id].keys()):\n",
    "                    \n",
    "            one_no_match = np.count_nonzero((subject_dict[id][key][rating]==1) & (subject_dict[id][key]['Fulfill'] == 0),keepdims=True)[0]\n",
    "            two_no_match = np.count_nonzero((subject_dict[id][key][rating]==2) & (subject_dict[id][key]['Fulfill'] == 0),keepdims=True)[0]\n",
    "            three_no_match = np.count_nonzero((subject_dict[id][key][rating]==3) & (subject_dict[id][key]['Fulfill'] == 0),keepdims=True)[0]\n",
    "            four_no_match = np.count_nonzero((subject_dict[id][key][rating]==4) & (subject_dict[id][key]['Fulfill'] == 0),keepdims=True)[0]\n",
    "    \n",
    "            one_match = np.count_nonzero((subject_dict[id][key][rating]==1) & (subject_dict[id][key]['Fulfill'] == 1),keepdims=True)[0]\n",
    "            two_match = np.count_nonzero((subject_dict[id][key][rating]==2) & (subject_dict[id][key]['Fulfill'] == 1),keepdims=True)[0]\n",
    "            three_match = np.count_nonzero((subject_dict[id][key][rating]==3) & (subject_dict[id][key]['Fulfill'] == 1),keepdims=True)[0]\n",
    "            four_match = np.count_nonzero((subject_dict[id][key][rating]==4) & (subject_dict[id][key]['Fulfill'] == 1),keepdims=True)[0]\n",
    "            if j == 0 :\n",
    "                processed_data[id] = {key:{'Match':[one_match,two_match,three_match,four_match],'No_Match':[one_no_match,two_no_match,three_no_match,four_no_match]}}\n",
    "            else:\n",
    "                processed_data[id].update({key:{'Match':[one_match,two_match,three_match,four_match],'No_Match':[one_no_match,two_no_match,three_no_match,four_no_match]}})\n",
    "\n",
    "    df_list = []\n",
    "    \n",
    "    for subject, emotions in processed_data.items():\n",
    "        for emotion, match_data in emotions.items():\n",
    "            for match_type, scores in match_data.items():\n",
    "                for score, count in enumerate(scores, start=1):\n",
    "                    df_list.append([subject, emotion, match_type == 'Match', score, count])\n",
    "    \n",
    "    df_counts = pd.DataFrame(df_list, columns=['Subject', 'Emotion', 'Match', 'Score', 'Count'])\n",
    "    df_counts['Match'] = df_counts['Match'].astype(int)\n",
    "    \n",
    "    return df_counts\n",
    "\n",
    "Rating0_BEBRASK_counts =creation_count_df(subject_dict_BEBRASK,\"Rating0\")\n",
    "Rating_BEBRASK_counts =creation_count_df(subject_dict_BEBRASK,\"Rating\")"
   ],
   "metadata": {
    "collapsed": false,
    "ExecuteTime": {
     "end_time": "2024-04-04T13:36:56.783862Z",
     "start_time": "2024-04-04T13:36:56.412644Z"
    }
   },
   "id": "42d98106afa85119",
   "execution_count": 8
  },
  {
   "cell_type": "code",
   "outputs": [
    {
     "data": {
      "text/plain": "                 Subject Emotion  Match  Score  Count\n0  PREDWELL_RETOS-1001-1   Happy      1      1      0\n1  PREDWELL_RETOS-1001-1   Happy      1      2      0\n2  PREDWELL_RETOS-1001-1   Happy      1      3      1\n3  PREDWELL_RETOS-1001-1   Happy      1      4      8\n4  PREDWELL_RETOS-1001-1   Happy      0      1      5",
      "text/html": "<div>\n<style scoped>\n    .dataframe tbody tr th:only-of-type {\n        vertical-align: middle;\n    }\n\n    .dataframe tbody tr th {\n        vertical-align: top;\n    }\n\n    .dataframe thead th {\n        text-align: right;\n    }\n</style>\n<table border=\"1\" class=\"dataframe\">\n  <thead>\n    <tr style=\"text-align: right;\">\n      <th></th>\n      <th>Subject</th>\n      <th>Emotion</th>\n      <th>Match</th>\n      <th>Score</th>\n      <th>Count</th>\n    </tr>\n  </thead>\n  <tbody>\n    <tr>\n      <th>0</th>\n      <td>PREDWELL_RETOS-1001-1</td>\n      <td>Happy</td>\n      <td>1</td>\n      <td>1</td>\n      <td>0</td>\n    </tr>\n    <tr>\n      <th>1</th>\n      <td>PREDWELL_RETOS-1001-1</td>\n      <td>Happy</td>\n      <td>1</td>\n      <td>2</td>\n      <td>0</td>\n    </tr>\n    <tr>\n      <th>2</th>\n      <td>PREDWELL_RETOS-1001-1</td>\n      <td>Happy</td>\n      <td>1</td>\n      <td>3</td>\n      <td>1</td>\n    </tr>\n    <tr>\n      <th>3</th>\n      <td>PREDWELL_RETOS-1001-1</td>\n      <td>Happy</td>\n      <td>1</td>\n      <td>4</td>\n      <td>8</td>\n    </tr>\n    <tr>\n      <th>4</th>\n      <td>PREDWELL_RETOS-1001-1</td>\n      <td>Happy</td>\n      <td>0</td>\n      <td>1</td>\n      <td>5</td>\n    </tr>\n  </tbody>\n</table>\n</div>"
     },
     "execution_count": 9,
     "metadata": {},
     "output_type": "execute_result"
    }
   ],
   "source": [
    "Rating0_BEBRASK_counts.head(5)"
   ],
   "metadata": {
    "collapsed": false,
    "ExecuteTime": {
     "end_time": "2024-04-04T13:36:57.021026Z",
     "start_time": "2024-04-04T13:36:56.785505Z"
    }
   },
   "id": "969d49ec454559f7",
   "execution_count": 9
  },
  {
   "cell_type": "code",
   "outputs": [
    {
     "data": {
      "text/plain": "                 Subject Emotion  Match  Score  Count\n0  PREDWELL_RETOS-1001-1   Happy      1      1      0\n1  PREDWELL_RETOS-1001-1   Happy      1      2      0\n2  PREDWELL_RETOS-1001-1   Happy      1      3      6\n3  PREDWELL_RETOS-1001-1   Happy      1      4      3\n4  PREDWELL_RETOS-1001-1   Happy      0      1      1",
      "text/html": "<div>\n<style scoped>\n    .dataframe tbody tr th:only-of-type {\n        vertical-align: middle;\n    }\n\n    .dataframe tbody tr th {\n        vertical-align: top;\n    }\n\n    .dataframe thead th {\n        text-align: right;\n    }\n</style>\n<table border=\"1\" class=\"dataframe\">\n  <thead>\n    <tr style=\"text-align: right;\">\n      <th></th>\n      <th>Subject</th>\n      <th>Emotion</th>\n      <th>Match</th>\n      <th>Score</th>\n      <th>Count</th>\n    </tr>\n  </thead>\n  <tbody>\n    <tr>\n      <th>0</th>\n      <td>PREDWELL_RETOS-1001-1</td>\n      <td>Happy</td>\n      <td>1</td>\n      <td>1</td>\n      <td>0</td>\n    </tr>\n    <tr>\n      <th>1</th>\n      <td>PREDWELL_RETOS-1001-1</td>\n      <td>Happy</td>\n      <td>1</td>\n      <td>2</td>\n      <td>0</td>\n    </tr>\n    <tr>\n      <th>2</th>\n      <td>PREDWELL_RETOS-1001-1</td>\n      <td>Happy</td>\n      <td>1</td>\n      <td>3</td>\n      <td>6</td>\n    </tr>\n    <tr>\n      <th>3</th>\n      <td>PREDWELL_RETOS-1001-1</td>\n      <td>Happy</td>\n      <td>1</td>\n      <td>4</td>\n      <td>3</td>\n    </tr>\n    <tr>\n      <th>4</th>\n      <td>PREDWELL_RETOS-1001-1</td>\n      <td>Happy</td>\n      <td>0</td>\n      <td>1</td>\n      <td>1</td>\n    </tr>\n  </tbody>\n</table>\n</div>"
     },
     "execution_count": 10,
     "metadata": {},
     "output_type": "execute_result"
    }
   ],
   "source": [
    "Rating_BEBRASK_counts.head(5)\n"
   ],
   "metadata": {
    "collapsed": false,
    "ExecuteTime": {
     "end_time": "2024-04-04T13:36:57.279994Z",
     "start_time": "2024-04-04T13:36:57.022547Z"
    }
   },
   "id": "55762b1351c04cd3",
   "execution_count": 10
  },
  {
   "cell_type": "code",
   "outputs": [
    {
     "data": {
      "text/plain": "                 Subject  Count_Happy_1_1  Count_Happy_1_2  Count_Happy_1_3  \\\n0  PREDWELL_RETOS-1001-1                0                0                1   \n1  PREDWELL_RETOS-1002-1                0                0                2   \n2  PREDWELL_RETOS-1003-1                0                0                6   \n3  PREDWELL_RETOS-1004-1                3                1                4   \n4  PREDWELL_RETOS-1005-1                0                0                3   \n\n   Count_Happy_1_4  Count_Happy_0_1  Count_Happy_0_2  Count_Happy_0_3  \\\n0                8                5                0                0   \n1                7                5                0                1   \n2                3                6                0                0   \n3                1                3                1                2   \n4                6                5                1                0   \n\n   Count_Happy_0_4  Count_Sad_1_1  ...  Count_Sad_0_3  Count_Sad_0_4  \\\n0                1              0  ...              2              0   \n1                0              0  ...              1              1   \n2                0              0  ...              0              0   \n3                0              4  ...              1              0   \n4                0              0  ...              1              1   \n\n   Count_Fear_1_1  Count_Fear_1_2  Count_Fear_1_3  Count_Fear_1_4  \\\n0               1               1               4               3   \n1               1               1               4               3   \n2               1               5               3               0   \n3               2               2               4               1   \n4               0               3               5               1   \n\n   Count_Fear_0_1  Count_Fear_0_2  Count_Fear_0_3  Count_Fear_0_4  \n0               3               0               3               0  \n1               2               0               4               0  \n2               3               2               1               0  \n3               2               2               1               1  \n4               3               1               1               1  \n\n[5 rows x 25 columns]",
      "text/html": "<div>\n<style scoped>\n    .dataframe tbody tr th:only-of-type {\n        vertical-align: middle;\n    }\n\n    .dataframe tbody tr th {\n        vertical-align: top;\n    }\n\n    .dataframe thead th {\n        text-align: right;\n    }\n</style>\n<table border=\"1\" class=\"dataframe\">\n  <thead>\n    <tr style=\"text-align: right;\">\n      <th></th>\n      <th>Subject</th>\n      <th>Count_Happy_1_1</th>\n      <th>Count_Happy_1_2</th>\n      <th>Count_Happy_1_3</th>\n      <th>Count_Happy_1_4</th>\n      <th>Count_Happy_0_1</th>\n      <th>Count_Happy_0_2</th>\n      <th>Count_Happy_0_3</th>\n      <th>Count_Happy_0_4</th>\n      <th>Count_Sad_1_1</th>\n      <th>...</th>\n      <th>Count_Sad_0_3</th>\n      <th>Count_Sad_0_4</th>\n      <th>Count_Fear_1_1</th>\n      <th>Count_Fear_1_2</th>\n      <th>Count_Fear_1_3</th>\n      <th>Count_Fear_1_4</th>\n      <th>Count_Fear_0_1</th>\n      <th>Count_Fear_0_2</th>\n      <th>Count_Fear_0_3</th>\n      <th>Count_Fear_0_4</th>\n    </tr>\n  </thead>\n  <tbody>\n    <tr>\n      <th>0</th>\n      <td>PREDWELL_RETOS-1001-1</td>\n      <td>0</td>\n      <td>0</td>\n      <td>1</td>\n      <td>8</td>\n      <td>5</td>\n      <td>0</td>\n      <td>0</td>\n      <td>1</td>\n      <td>0</td>\n      <td>...</td>\n      <td>2</td>\n      <td>0</td>\n      <td>1</td>\n      <td>1</td>\n      <td>4</td>\n      <td>3</td>\n      <td>3</td>\n      <td>0</td>\n      <td>3</td>\n      <td>0</td>\n    </tr>\n    <tr>\n      <th>1</th>\n      <td>PREDWELL_RETOS-1002-1</td>\n      <td>0</td>\n      <td>0</td>\n      <td>2</td>\n      <td>7</td>\n      <td>5</td>\n      <td>0</td>\n      <td>1</td>\n      <td>0</td>\n      <td>0</td>\n      <td>...</td>\n      <td>1</td>\n      <td>1</td>\n      <td>1</td>\n      <td>1</td>\n      <td>4</td>\n      <td>3</td>\n      <td>2</td>\n      <td>0</td>\n      <td>4</td>\n      <td>0</td>\n    </tr>\n    <tr>\n      <th>2</th>\n      <td>PREDWELL_RETOS-1003-1</td>\n      <td>0</td>\n      <td>0</td>\n      <td>6</td>\n      <td>3</td>\n      <td>6</td>\n      <td>0</td>\n      <td>0</td>\n      <td>0</td>\n      <td>0</td>\n      <td>...</td>\n      <td>0</td>\n      <td>0</td>\n      <td>1</td>\n      <td>5</td>\n      <td>3</td>\n      <td>0</td>\n      <td>3</td>\n      <td>2</td>\n      <td>1</td>\n      <td>0</td>\n    </tr>\n    <tr>\n      <th>3</th>\n      <td>PREDWELL_RETOS-1004-1</td>\n      <td>3</td>\n      <td>1</td>\n      <td>4</td>\n      <td>1</td>\n      <td>3</td>\n      <td>1</td>\n      <td>2</td>\n      <td>0</td>\n      <td>4</td>\n      <td>...</td>\n      <td>1</td>\n      <td>0</td>\n      <td>2</td>\n      <td>2</td>\n      <td>4</td>\n      <td>1</td>\n      <td>2</td>\n      <td>2</td>\n      <td>1</td>\n      <td>1</td>\n    </tr>\n    <tr>\n      <th>4</th>\n      <td>PREDWELL_RETOS-1005-1</td>\n      <td>0</td>\n      <td>0</td>\n      <td>3</td>\n      <td>6</td>\n      <td>5</td>\n      <td>1</td>\n      <td>0</td>\n      <td>0</td>\n      <td>0</td>\n      <td>...</td>\n      <td>1</td>\n      <td>1</td>\n      <td>0</td>\n      <td>3</td>\n      <td>5</td>\n      <td>1</td>\n      <td>3</td>\n      <td>1</td>\n      <td>1</td>\n      <td>1</td>\n    </tr>\n  </tbody>\n</table>\n<p>5 rows × 25 columns</p>\n</div>"
     },
     "execution_count": 11,
     "metadata": {},
     "output_type": "execute_result"
    }
   ],
   "source": [
    "multiindex_Rating0 = Rating0_BEBRASK_counts.set_index(['Subject', 'Emotion', 'Match', 'Score'])\n",
    "Rating0_BEBRASK_df = multiindex_Rating0.unstack(level=['Emotion', 'Match', 'Score'])\n",
    "Rating0_BEBRASK_df.columns = ['_'.join(map(str, col)).strip() for col in Rating0_BEBRASK_df.columns.values]\n",
    "Rating0_BEBRASK_df = Rating0_BEBRASK_df.reset_index()\n",
    "\n",
    "#We modify the Dataset so that each row completely represents a subject with all the information regarding its ratings.\n",
    "Rating0_BEBRASK_df.to_excel('../Clustering_Predictive_Processing/BEBRASK_Rating0_count.xlsx', index=False) \n",
    "Rating0_BEBRASK_df.head(5)\n",
    "\n"
   ],
   "metadata": {
    "collapsed": false,
    "ExecuteTime": {
     "end_time": "2024-04-04T13:36:58.018067Z",
     "start_time": "2024-04-04T13:36:57.288834Z"
    }
   },
   "id": "fa12915b48c3960c",
   "execution_count": 11
  },
  {
   "cell_type": "code",
   "outputs": [
    {
     "data": {
      "text/plain": "                 Subject  Count_Happy_1_1  Count_Happy_1_2  Count_Happy_1_3  \\\n0  PREDWELL_RETOS-1001-1                0                0                6   \n1  PREDWELL_RETOS-1002-1                0                1                2   \n2  PREDWELL_RETOS-1003-1                0                2                5   \n3  PREDWELL_RETOS-1004-1                2                2                4   \n4  PREDWELL_RETOS-1005-1                0                0                4   \n\n   Count_Happy_1_4  Count_Happy_0_1  Count_Happy_0_2  Count_Happy_0_3  \\\n0                3                1                2                2   \n1                6                0                3                3   \n2                2                0                3                1   \n3                1                1                4                1   \n4                5                0                4                2   \n\n   Count_Happy_0_4  Count_Sad_1_1  ...  Count_Sad_0_3  Count_Sad_0_4  \\\n0                1              1  ...              1              2   \n1                0              0  ...              2              0   \n2                2              1  ...              2              1   \n3                0              3  ...              1              1   \n4                0              0  ...              3              0   \n\n   Count_Fear_1_1  Count_Fear_1_2  Count_Fear_1_3  Count_Fear_1_4  \\\n0               0               5               4               0   \n1               0               3               5               1   \n2               1               1               5               2   \n3               0               5               3               1   \n4               0               7               2               0   \n\n   Count_Fear_0_1  Count_Fear_0_2  Count_Fear_0_3  Count_Fear_0_4  \n0               1               2               3               0  \n1               1               1               3               1  \n2               1               1               3               1  \n3               2               1               3               0  \n4               0               1               5               0  \n\n[5 rows x 25 columns]",
      "text/html": "<div>\n<style scoped>\n    .dataframe tbody tr th:only-of-type {\n        vertical-align: middle;\n    }\n\n    .dataframe tbody tr th {\n        vertical-align: top;\n    }\n\n    .dataframe thead th {\n        text-align: right;\n    }\n</style>\n<table border=\"1\" class=\"dataframe\">\n  <thead>\n    <tr style=\"text-align: right;\">\n      <th></th>\n      <th>Subject</th>\n      <th>Count_Happy_1_1</th>\n      <th>Count_Happy_1_2</th>\n      <th>Count_Happy_1_3</th>\n      <th>Count_Happy_1_4</th>\n      <th>Count_Happy_0_1</th>\n      <th>Count_Happy_0_2</th>\n      <th>Count_Happy_0_3</th>\n      <th>Count_Happy_0_4</th>\n      <th>Count_Sad_1_1</th>\n      <th>...</th>\n      <th>Count_Sad_0_3</th>\n      <th>Count_Sad_0_4</th>\n      <th>Count_Fear_1_1</th>\n      <th>Count_Fear_1_2</th>\n      <th>Count_Fear_1_3</th>\n      <th>Count_Fear_1_4</th>\n      <th>Count_Fear_0_1</th>\n      <th>Count_Fear_0_2</th>\n      <th>Count_Fear_0_3</th>\n      <th>Count_Fear_0_4</th>\n    </tr>\n  </thead>\n  <tbody>\n    <tr>\n      <th>0</th>\n      <td>PREDWELL_RETOS-1001-1</td>\n      <td>0</td>\n      <td>0</td>\n      <td>6</td>\n      <td>3</td>\n      <td>1</td>\n      <td>2</td>\n      <td>2</td>\n      <td>1</td>\n      <td>1</td>\n      <td>...</td>\n      <td>1</td>\n      <td>2</td>\n      <td>0</td>\n      <td>5</td>\n      <td>4</td>\n      <td>0</td>\n      <td>1</td>\n      <td>2</td>\n      <td>3</td>\n      <td>0</td>\n    </tr>\n    <tr>\n      <th>1</th>\n      <td>PREDWELL_RETOS-1002-1</td>\n      <td>0</td>\n      <td>1</td>\n      <td>2</td>\n      <td>6</td>\n      <td>0</td>\n      <td>3</td>\n      <td>3</td>\n      <td>0</td>\n      <td>0</td>\n      <td>...</td>\n      <td>2</td>\n      <td>0</td>\n      <td>0</td>\n      <td>3</td>\n      <td>5</td>\n      <td>1</td>\n      <td>1</td>\n      <td>1</td>\n      <td>3</td>\n      <td>1</td>\n    </tr>\n    <tr>\n      <th>2</th>\n      <td>PREDWELL_RETOS-1003-1</td>\n      <td>0</td>\n      <td>2</td>\n      <td>5</td>\n      <td>2</td>\n      <td>0</td>\n      <td>3</td>\n      <td>1</td>\n      <td>2</td>\n      <td>1</td>\n      <td>...</td>\n      <td>2</td>\n      <td>1</td>\n      <td>1</td>\n      <td>1</td>\n      <td>5</td>\n      <td>2</td>\n      <td>1</td>\n      <td>1</td>\n      <td>3</td>\n      <td>1</td>\n    </tr>\n    <tr>\n      <th>3</th>\n      <td>PREDWELL_RETOS-1004-1</td>\n      <td>2</td>\n      <td>2</td>\n      <td>4</td>\n      <td>1</td>\n      <td>1</td>\n      <td>4</td>\n      <td>1</td>\n      <td>0</td>\n      <td>3</td>\n      <td>...</td>\n      <td>1</td>\n      <td>1</td>\n      <td>0</td>\n      <td>5</td>\n      <td>3</td>\n      <td>1</td>\n      <td>2</td>\n      <td>1</td>\n      <td>3</td>\n      <td>0</td>\n    </tr>\n    <tr>\n      <th>4</th>\n      <td>PREDWELL_RETOS-1005-1</td>\n      <td>0</td>\n      <td>0</td>\n      <td>4</td>\n      <td>5</td>\n      <td>0</td>\n      <td>4</td>\n      <td>2</td>\n      <td>0</td>\n      <td>0</td>\n      <td>...</td>\n      <td>3</td>\n      <td>0</td>\n      <td>0</td>\n      <td>7</td>\n      <td>2</td>\n      <td>0</td>\n      <td>0</td>\n      <td>1</td>\n      <td>5</td>\n      <td>0</td>\n    </tr>\n  </tbody>\n</table>\n<p>5 rows × 25 columns</p>\n</div>"
     },
     "execution_count": 12,
     "metadata": {},
     "output_type": "execute_result"
    }
   ],
   "source": [
    "multiindex_Rating = Rating_BEBRASK_counts.set_index(['Subject', 'Emotion', 'Match', 'Score'])\n",
    "Rating_BEBRASK_df = multiindex_Rating.unstack(level=['Emotion', 'Match', 'Score'])\n",
    "Rating_BEBRASK_df.columns = ['_'.join(map(str, col)).strip() for col in Rating_BEBRASK_df.columns.values]\n",
    "Rating_BEBRASK_df = Rating_BEBRASK_df.reset_index()\n",
    "\n",
    "#We modify the Dataset so that each row completely represents a subject with all the information regarding its ratings.\n",
    "Rating_BEBRASK_df.to_excel('../Clustering_Predictive_Processing/BEBRASK_Rating_count.xlsx', index=False) \n",
    "Rating_BEBRASK_df.head(5)\n"
   ],
   "metadata": {
    "collapsed": false,
    "ExecuteTime": {
     "end_time": "2024-04-04T13:36:58.859369Z",
     "start_time": "2024-04-04T13:36:58.019523Z"
    }
   },
   "id": "a7f3e75511b7d56c",
   "execution_count": 12
  },
  {
   "cell_type": "markdown",
   "source": [
    "## RETOS DATASET COUNT\n"
   ],
   "metadata": {
    "collapsed": false
   },
   "id": "97abad654e23613a"
  },
  {
   "cell_type": "code",
   "outputs": [],
   "source": [
    "RETOS_tasks = pd.read_excel('../Datasets/RETOS_task.xlsx')\n",
    "RETOS_tasks = RETOS_tasks[\n",
    "    [\"DataFile.Basename\", \"Rating0.RESP\", \"Rating.RESP\", \"EvokedEmotion\", \"Expression\", \"ScenarioPick\", \"TrialCount\",\n",
    "     \"Fulfilled\"]].copy()\n",
    "RETOS_tasks.dropna(subset=[\"TrialCount\"], inplace=True)\n",
    "subjects_id = RETOS_tasks[\"DataFile.Basename\"].unique()\n",
    "\n",
    "#Choice of relevant variables for clustering, and elimination of rows that do not correspond to trials."
   ],
   "metadata": {
    "collapsed": false,
    "ExecuteTime": {
     "end_time": "2024-04-04T13:37:06.214737Z",
     "start_time": "2024-04-04T13:36:58.860834Z"
    }
   },
   "id": "dbd96fb688dceef0",
   "execution_count": 13
  },
  {
   "cell_type": "code",
   "outputs": [
    {
     "data": {
      "text/plain": "                      Rating0.RESP_1.0  Rating0.RESP_2.0  Rating0.RESP_3.0  \\\nDataFile.Basename                                                            \nPREDWELL_RETOS-1-1                 1.0               3.0               4.0   \nPREDWELL_RETOS-10-1                4.0               2.0               2.0   \nPREDWELL_RETOS-101-1               2.0               3.0               3.0   \nPREDWELL_RETOS-102-1               1.0               1.0               2.0   \nPREDWELL_RETOS-103-1               3.0               1.0               2.0   \n\n                      Rating0.RESP_4.0  Rating0.RESP_5.0  Rating0.RESP_6.0  \\\nDataFile.Basename                                                            \nPREDWELL_RETOS-1-1                 4.0               4.0               2.0   \nPREDWELL_RETOS-10-1                4.0               3.0               4.0   \nPREDWELL_RETOS-101-1               4.0               4.0               1.0   \nPREDWELL_RETOS-102-1               1.0               1.0               2.0   \nPREDWELL_RETOS-103-1               2.0               1.0               1.0   \n\n                      Rating0.RESP_7.0  Rating0.RESP_8.0  Rating0.RESP_9.0  \\\nDataFile.Basename                                                            \nPREDWELL_RETOS-1-1                 1.0               4.0               4.0   \nPREDWELL_RETOS-10-1                3.0               1.0               1.0   \nPREDWELL_RETOS-101-1               1.0               4.0               3.0   \nPREDWELL_RETOS-102-1               2.0               1.0               1.0   \nPREDWELL_RETOS-103-1               3.0               1.0               2.0   \n\n                      Rating0.RESP_10.0  ...  Fulfilled_36.0  Fulfilled_37.0  \\\nDataFile.Basename                        ...                                   \nPREDWELL_RETOS-1-1                  4.0  ...             1.0             0.0   \nPREDWELL_RETOS-10-1                 3.0  ...             0.0             0.0   \nPREDWELL_RETOS-101-1                1.0  ...             0.0             0.0   \nPREDWELL_RETOS-102-1                4.0  ...             0.0             0.0   \nPREDWELL_RETOS-103-1                1.0  ...             1.0             1.0   \n\n                      Fulfilled_38.0  Fulfilled_39.0  Fulfilled_40.0  \\\nDataFile.Basename                                                      \nPREDWELL_RETOS-1-1               1.0             1.0             1.0   \nPREDWELL_RETOS-10-1              1.0             1.0             0.0   \nPREDWELL_RETOS-101-1             1.0             1.0             1.0   \nPREDWELL_RETOS-102-1             1.0             1.0             1.0   \nPREDWELL_RETOS-103-1             0.0             1.0             0.0   \n\n                      Fulfilled_41.0  Fulfilled_42.0  Fulfilled_43.0  \\\nDataFile.Basename                                                      \nPREDWELL_RETOS-1-1               0.0             1.0             0.0   \nPREDWELL_RETOS-10-1              1.0             1.0             0.0   \nPREDWELL_RETOS-101-1             0.0             0.0             1.0   \nPREDWELL_RETOS-102-1             0.0             0.0             1.0   \nPREDWELL_RETOS-103-1             0.0             0.0             0.0   \n\n                      Fulfilled_44.0  Fulfilled_45.0  \nDataFile.Basename                                     \nPREDWELL_RETOS-1-1               1.0             1.0  \nPREDWELL_RETOS-10-1              1.0             0.0  \nPREDWELL_RETOS-101-1             1.0             1.0  \nPREDWELL_RETOS-102-1             1.0             1.0  \nPREDWELL_RETOS-103-1             1.0             1.0  \n\n[5 rows x 270 columns]",
      "text/html": "<div>\n<style scoped>\n    .dataframe tbody tr th:only-of-type {\n        vertical-align: middle;\n    }\n\n    .dataframe tbody tr th {\n        vertical-align: top;\n    }\n\n    .dataframe thead th {\n        text-align: right;\n    }\n</style>\n<table border=\"1\" class=\"dataframe\">\n  <thead>\n    <tr style=\"text-align: right;\">\n      <th></th>\n      <th>Rating0.RESP_1.0</th>\n      <th>Rating0.RESP_2.0</th>\n      <th>Rating0.RESP_3.0</th>\n      <th>Rating0.RESP_4.0</th>\n      <th>Rating0.RESP_5.0</th>\n      <th>Rating0.RESP_6.0</th>\n      <th>Rating0.RESP_7.0</th>\n      <th>Rating0.RESP_8.0</th>\n      <th>Rating0.RESP_9.0</th>\n      <th>Rating0.RESP_10.0</th>\n      <th>...</th>\n      <th>Fulfilled_36.0</th>\n      <th>Fulfilled_37.0</th>\n      <th>Fulfilled_38.0</th>\n      <th>Fulfilled_39.0</th>\n      <th>Fulfilled_40.0</th>\n      <th>Fulfilled_41.0</th>\n      <th>Fulfilled_42.0</th>\n      <th>Fulfilled_43.0</th>\n      <th>Fulfilled_44.0</th>\n      <th>Fulfilled_45.0</th>\n    </tr>\n    <tr>\n      <th>DataFile.Basename</th>\n      <th></th>\n      <th></th>\n      <th></th>\n      <th></th>\n      <th></th>\n      <th></th>\n      <th></th>\n      <th></th>\n      <th></th>\n      <th></th>\n      <th></th>\n      <th></th>\n      <th></th>\n      <th></th>\n      <th></th>\n      <th></th>\n      <th></th>\n      <th></th>\n      <th></th>\n      <th></th>\n      <th></th>\n    </tr>\n  </thead>\n  <tbody>\n    <tr>\n      <th>PREDWELL_RETOS-1-1</th>\n      <td>1.0</td>\n      <td>3.0</td>\n      <td>4.0</td>\n      <td>4.0</td>\n      <td>4.0</td>\n      <td>2.0</td>\n      <td>1.0</td>\n      <td>4.0</td>\n      <td>4.0</td>\n      <td>4.0</td>\n      <td>...</td>\n      <td>1.0</td>\n      <td>0.0</td>\n      <td>1.0</td>\n      <td>1.0</td>\n      <td>1.0</td>\n      <td>0.0</td>\n      <td>1.0</td>\n      <td>0.0</td>\n      <td>1.0</td>\n      <td>1.0</td>\n    </tr>\n    <tr>\n      <th>PREDWELL_RETOS-10-1</th>\n      <td>4.0</td>\n      <td>2.0</td>\n      <td>2.0</td>\n      <td>4.0</td>\n      <td>3.0</td>\n      <td>4.0</td>\n      <td>3.0</td>\n      <td>1.0</td>\n      <td>1.0</td>\n      <td>3.0</td>\n      <td>...</td>\n      <td>0.0</td>\n      <td>0.0</td>\n      <td>1.0</td>\n      <td>1.0</td>\n      <td>0.0</td>\n      <td>1.0</td>\n      <td>1.0</td>\n      <td>0.0</td>\n      <td>1.0</td>\n      <td>0.0</td>\n    </tr>\n    <tr>\n      <th>PREDWELL_RETOS-101-1</th>\n      <td>2.0</td>\n      <td>3.0</td>\n      <td>3.0</td>\n      <td>4.0</td>\n      <td>4.0</td>\n      <td>1.0</td>\n      <td>1.0</td>\n      <td>4.0</td>\n      <td>3.0</td>\n      <td>1.0</td>\n      <td>...</td>\n      <td>0.0</td>\n      <td>0.0</td>\n      <td>1.0</td>\n      <td>1.0</td>\n      <td>1.0</td>\n      <td>0.0</td>\n      <td>0.0</td>\n      <td>1.0</td>\n      <td>1.0</td>\n      <td>1.0</td>\n    </tr>\n    <tr>\n      <th>PREDWELL_RETOS-102-1</th>\n      <td>1.0</td>\n      <td>1.0</td>\n      <td>2.0</td>\n      <td>1.0</td>\n      <td>1.0</td>\n      <td>2.0</td>\n      <td>2.0</td>\n      <td>1.0</td>\n      <td>1.0</td>\n      <td>4.0</td>\n      <td>...</td>\n      <td>0.0</td>\n      <td>0.0</td>\n      <td>1.0</td>\n      <td>1.0</td>\n      <td>1.0</td>\n      <td>0.0</td>\n      <td>0.0</td>\n      <td>1.0</td>\n      <td>1.0</td>\n      <td>1.0</td>\n    </tr>\n    <tr>\n      <th>PREDWELL_RETOS-103-1</th>\n      <td>3.0</td>\n      <td>1.0</td>\n      <td>2.0</td>\n      <td>2.0</td>\n      <td>1.0</td>\n      <td>1.0</td>\n      <td>3.0</td>\n      <td>1.0</td>\n      <td>2.0</td>\n      <td>1.0</td>\n      <td>...</td>\n      <td>1.0</td>\n      <td>1.0</td>\n      <td>0.0</td>\n      <td>1.0</td>\n      <td>0.0</td>\n      <td>0.0</td>\n      <td>0.0</td>\n      <td>0.0</td>\n      <td>1.0</td>\n      <td>1.0</td>\n    </tr>\n  </tbody>\n</table>\n<p>5 rows × 270 columns</p>\n</div>"
     },
     "execution_count": 14,
     "metadata": {},
     "output_type": "execute_result"
    }
   ],
   "source": [
    "RETOS_tasks_long= RETOS_tasks.pivot(index=\"DataFile.Basename\", columns='TrialCount')\n",
    "RETOS_tasks_long.columns = ['_'.join(str(col) for col in cols) for cols in RETOS_tasks_long.columns.values]\n",
    "\n",
    "RETOS_tasks_long.head(5)"
   ],
   "metadata": {
    "collapsed": false,
    "ExecuteTime": {
     "end_time": "2024-04-04T13:37:06.252101Z",
     "start_time": "2024-04-04T13:37:06.219115Z"
    }
   },
   "id": "58a95259e215b630",
   "execution_count": 14
  },
  {
   "cell_type": "code",
   "outputs": [
    {
     "name": "stdout",
     "output_type": "stream",
     "text": [
      "Mean difference pred/like: 0.9506468615237182\n",
      "Std difference pred/like: 0.857592887940186\n"
     ]
    },
    {
     "data": {
      "text/plain": "Rating0.RESP_1.0    5\nRating0.RESP_2.0    1\nRating0.RESP_3.0    1\nRating0.RESP_4.0    2\nRating0.RESP_5.0    1\n                   ..\nFulfilled_41.0      1\nFulfilled_42.0      1\nFulfilled_43.0      1\nFulfilled_44.0      1\nFulfilled_45.0      1\nLength: 270, dtype: int64"
     },
     "execution_count": 15,
     "metadata": {},
     "output_type": "execute_result"
    }
   ],
   "source": [
    "print(\"Mean difference pred/like:\",np.mean(abs(RETOS_tasks[\"Rating0.RESP\"] - RETOS_tasks[\"Rating.RESP\"])))\n",
    "print(\"Std difference pred/like:\",np.std(abs(RETOS_tasks[\"Rating0.RESP\"] - RETOS_tasks[\"Rating.RESP\"])))\n",
    "RETOS_tasks_long.isna().sum()\n",
    "\n",
    "#We observe many more NaN values than before. We will start by doing imputation of the missing data in the same method as before."
   ],
   "metadata": {
    "collapsed": false,
    "ExecuteTime": {
     "end_time": "2024-04-04T13:37:06.505238Z",
     "start_time": "2024-04-04T13:37:06.254119Z"
    }
   },
   "id": "191b60376be28f2e",
   "execution_count": 15
  },
  {
   "cell_type": "code",
   "outputs": [
    {
     "name": "stderr",
     "output_type": "stream",
     "text": [
      "/tmp/ipykernel_9823/2447595282.py:6: FutureWarning: A value is trying to be set on a copy of a DataFrame or Series through chained assignment using an inplace method.\n",
      "The behavior will change in pandas 3.0. This inplace method will never work because the intermediate object on which we are setting values always behaves as a copy.\n",
      "\n",
      "For example, when doing 'df[col].method(value, inplace=True)', try using 'df.method({col: value}, inplace=True)' or df[col] = df[col].method(value) instead, to perform the operation inplace on the original object.\n",
      "\n",
      "\n",
      "  RETOS_tasks_long[rating1_col].fillna(RETOS_tasks_long[rating2_col], inplace=True)\n",
      "/tmp/ipykernel_9823/2447595282.py:7: FutureWarning: A value is trying to be set on a copy of a DataFrame or Series through chained assignment using an inplace method.\n",
      "The behavior will change in pandas 3.0. This inplace method will never work because the intermediate object on which we are setting values always behaves as a copy.\n",
      "\n",
      "For example, when doing 'df[col].method(value, inplace=True)', try using 'df.method({col: value}, inplace=True)' or df[col] = df[col].method(value) instead, to perform the operation inplace on the original object.\n",
      "\n",
      "\n",
      "  RETOS_tasks_long[rating2_col].fillna(RETOS_tasks_long[rating1_col], inplace=True)\n"
     ]
    },
    {
     "data": {
      "text/plain": "Rating0.RESP_1.0    1\nRating0.RESP_2.0    1\nRating0.RESP_3.0    1\nRating0.RESP_4.0    1\nRating0.RESP_5.0    1\n                   ..\nFulfilled_41.0      1\nFulfilled_42.0      1\nFulfilled_43.0      1\nFulfilled_44.0      1\nFulfilled_45.0      1\nLength: 270, dtype: int64"
     },
     "execution_count": 16,
     "metadata": {},
     "output_type": "execute_result"
    }
   ],
   "source": [
    "for i in range(1, 46):\n",
    "    rating1_col = f'Rating0.RESP_{i}.0'\n",
    "    rating2_col = f'Rating.RESP_{i}.0'\n",
    "\n",
    "# We fill the NA with Rating0 with the Rating values, and vice versa.\n",
    "    RETOS_tasks_long[rating1_col].fillna(RETOS_tasks_long[rating2_col], inplace=True)\n",
    "    RETOS_tasks_long[rating2_col].fillna(RETOS_tasks_long[rating1_col], inplace=True)\n",
    "\n",
    "RETOS_tasks_long.isna().sum()\n",
    "#We see that there is a value that is not corrected, we look to see if it corresponds to one subject or more.\n"
   ],
   "metadata": {
    "collapsed": false,
    "ExecuteTime": {
     "end_time": "2024-04-04T13:37:06.789385Z",
     "start_time": "2024-04-04T13:37:06.508901Z"
    }
   },
   "id": "1e0fc7da153ae1fa",
   "execution_count": 16
  },
  {
   "cell_type": "code",
   "outputs": [
    {
     "data": {
      "text/plain": "DataFile.Basename\nPREDWELL_RETOS-1-1      0\nPREDWELL_RETOS-10-1     0\nPREDWELL_RETOS-101-1    0\nPREDWELL_RETOS-102-1    0\nPREDWELL_RETOS-103-1    0\n                       ..\nPREDWELL_RETOS-5-1      0\nPREDWELL_RETOS-6-1      0\nPREDWELL_RETOS-7-1      0\nPREDWELL_RETOS-8-1      0\nPREDWELL_RETOS-9-1      0\nLength: 96, dtype: int64"
     },
     "execution_count": 17,
     "metadata": {},
     "output_type": "execute_result"
    }
   ],
   "source": [
    "RETOS_tasks_long.isna().sum(axis=1)\n"
   ],
   "metadata": {
    "collapsed": false,
    "ExecuteTime": {
     "end_time": "2024-04-04T13:37:07.271262Z",
     "start_time": "2024-04-04T13:37:06.790836Z"
    }
   },
   "id": "cfc4875a1576d686",
   "execution_count": 17
  },
  {
   "cell_type": "code",
   "outputs": [
    {
     "data": {
      "text/plain": "                      Rating0.RESP_1.0  Rating0.RESP_2.0  Rating0.RESP_3.0  \\\nDataFile.Basename                                                            \nPREDWELL_RETOS-124-1               2.0               3.0               1.0   \nPREDWELL_RETOS-307-1               NaN               NaN               NaN   \nPREDWELL_RETOS-307-3               1.0               3.0               3.0   \n\n                      Rating0.RESP_4.0  Rating0.RESP_5.0  Rating0.RESP_6.0  \\\nDataFile.Basename                                                            \nPREDWELL_RETOS-124-1               2.0               1.0               1.0   \nPREDWELL_RETOS-307-1               NaN               NaN               NaN   \nPREDWELL_RETOS-307-3               1.0               3.0               3.0   \n\n                      Rating0.RESP_7.0  Rating0.RESP_8.0  Rating0.RESP_9.0  \\\nDataFile.Basename                                                            \nPREDWELL_RETOS-124-1               1.0               1.0               1.0   \nPREDWELL_RETOS-307-1               NaN               NaN               NaN   \nPREDWELL_RETOS-307-3               3.0               3.0               2.0   \n\n                      Rating0.RESP_10.0  ...  Fulfilled_36.0  Fulfilled_37.0  \\\nDataFile.Basename                        ...                                   \nPREDWELL_RETOS-124-1                2.0  ...             1.0             0.0   \nPREDWELL_RETOS-307-1                NaN  ...             1.0             1.0   \nPREDWELL_RETOS-307-3                3.0  ...             NaN             NaN   \n\n                      Fulfilled_38.0  Fulfilled_39.0  Fulfilled_40.0  \\\nDataFile.Basename                                                      \nPREDWELL_RETOS-124-1             0.0             1.0             1.0   \nPREDWELL_RETOS-307-1             0.0             1.0             0.0   \nPREDWELL_RETOS-307-3             NaN             NaN             NaN   \n\n                      Fulfilled_41.0  Fulfilled_42.0  Fulfilled_43.0  \\\nDataFile.Basename                                                      \nPREDWELL_RETOS-124-1             1.0             0.0             1.0   \nPREDWELL_RETOS-307-1             1.0             0.0             0.0   \nPREDWELL_RETOS-307-3             NaN             NaN             NaN   \n\n                      Fulfilled_44.0  Fulfilled_45.0  \nDataFile.Basename                                     \nPREDWELL_RETOS-124-1             1.0             0.0  \nPREDWELL_RETOS-307-1             1.0             0.0  \nPREDWELL_RETOS-307-3             NaN             NaN  \n\n[3 rows x 270 columns]",
      "text/html": "<div>\n<style scoped>\n    .dataframe tbody tr th:only-of-type {\n        vertical-align: middle;\n    }\n\n    .dataframe tbody tr th {\n        vertical-align: top;\n    }\n\n    .dataframe thead th {\n        text-align: right;\n    }\n</style>\n<table border=\"1\" class=\"dataframe\">\n  <thead>\n    <tr style=\"text-align: right;\">\n      <th></th>\n      <th>Rating0.RESP_1.0</th>\n      <th>Rating0.RESP_2.0</th>\n      <th>Rating0.RESP_3.0</th>\n      <th>Rating0.RESP_4.0</th>\n      <th>Rating0.RESP_5.0</th>\n      <th>Rating0.RESP_6.0</th>\n      <th>Rating0.RESP_7.0</th>\n      <th>Rating0.RESP_8.0</th>\n      <th>Rating0.RESP_9.0</th>\n      <th>Rating0.RESP_10.0</th>\n      <th>...</th>\n      <th>Fulfilled_36.0</th>\n      <th>Fulfilled_37.0</th>\n      <th>Fulfilled_38.0</th>\n      <th>Fulfilled_39.0</th>\n      <th>Fulfilled_40.0</th>\n      <th>Fulfilled_41.0</th>\n      <th>Fulfilled_42.0</th>\n      <th>Fulfilled_43.0</th>\n      <th>Fulfilled_44.0</th>\n      <th>Fulfilled_45.0</th>\n    </tr>\n    <tr>\n      <th>DataFile.Basename</th>\n      <th></th>\n      <th></th>\n      <th></th>\n      <th></th>\n      <th></th>\n      <th></th>\n      <th></th>\n      <th></th>\n      <th></th>\n      <th></th>\n      <th></th>\n      <th></th>\n      <th></th>\n      <th></th>\n      <th></th>\n      <th></th>\n      <th></th>\n      <th></th>\n      <th></th>\n      <th></th>\n      <th></th>\n    </tr>\n  </thead>\n  <tbody>\n    <tr>\n      <th>PREDWELL_RETOS-124-1</th>\n      <td>2.0</td>\n      <td>3.0</td>\n      <td>1.0</td>\n      <td>2.0</td>\n      <td>1.0</td>\n      <td>1.0</td>\n      <td>1.0</td>\n      <td>1.0</td>\n      <td>1.0</td>\n      <td>2.0</td>\n      <td>...</td>\n      <td>1.0</td>\n      <td>0.0</td>\n      <td>0.0</td>\n      <td>1.0</td>\n      <td>1.0</td>\n      <td>1.0</td>\n      <td>0.0</td>\n      <td>1.0</td>\n      <td>1.0</td>\n      <td>0.0</td>\n    </tr>\n    <tr>\n      <th>PREDWELL_RETOS-307-1</th>\n      <td>NaN</td>\n      <td>NaN</td>\n      <td>NaN</td>\n      <td>NaN</td>\n      <td>NaN</td>\n      <td>NaN</td>\n      <td>NaN</td>\n      <td>NaN</td>\n      <td>NaN</td>\n      <td>NaN</td>\n      <td>...</td>\n      <td>1.0</td>\n      <td>1.0</td>\n      <td>0.0</td>\n      <td>1.0</td>\n      <td>0.0</td>\n      <td>1.0</td>\n      <td>0.0</td>\n      <td>0.0</td>\n      <td>1.0</td>\n      <td>0.0</td>\n    </tr>\n    <tr>\n      <th>PREDWELL_RETOS-307-3</th>\n      <td>1.0</td>\n      <td>3.0</td>\n      <td>3.0</td>\n      <td>1.0</td>\n      <td>3.0</td>\n      <td>3.0</td>\n      <td>3.0</td>\n      <td>3.0</td>\n      <td>2.0</td>\n      <td>3.0</td>\n      <td>...</td>\n      <td>NaN</td>\n      <td>NaN</td>\n      <td>NaN</td>\n      <td>NaN</td>\n      <td>NaN</td>\n      <td>NaN</td>\n      <td>NaN</td>\n      <td>NaN</td>\n      <td>NaN</td>\n      <td>NaN</td>\n    </tr>\n  </tbody>\n</table>\n<p>3 rows × 270 columns</p>\n</div>"
     },
     "execution_count": 18,
     "metadata": {},
     "output_type": "execute_result"
    }
   ],
   "source": [
    "RETOS_tasks_long[RETOS_tasks_long.isna().sum(axis=1) > 0]\n"
   ],
   "metadata": {
    "collapsed": false,
    "ExecuteTime": {
     "end_time": "2024-04-04T13:37:07.312011Z",
     "start_time": "2024-04-04T13:37:07.275638Z"
    }
   },
   "id": "ee3a01029b1100a5",
   "execution_count": 18
  },
  {
   "cell_type": "code",
   "outputs": [],
   "source": [
    "#Data from PREDWELL_RETOS-307-1 and PREDWELL_RETOS-307-3 are from the same subject, therefore they should be combined and treated as a single row."
   ],
   "metadata": {
    "collapsed": false,
    "ExecuteTime": {
     "end_time": "2024-04-04T13:37:07.317411Z",
     "start_time": "2024-04-04T13:37:07.313662Z"
    }
   },
   "id": "22c197204796c951",
   "execution_count": 19
  },
  {
   "cell_type": "code",
   "outputs": [],
   "source": [
    "part1 = RETOS_tasks_long.iloc[RETOS_tasks_long.index =='PREDWELL_RETOS-307-1'].T\n",
    "part2 = RETOS_tasks_long.iloc[RETOS_tasks_long.index =='PREDWELL_RETOS-307-3'].T\n",
    "combined_row = np.where(part1.isnull(), part2, part1).T\n",
    "RETOS_tasks_long.iloc[RETOS_tasks_long.index == 'PREDWELL_RETOS-307-1'] = combined_row\n"
   ],
   "metadata": {
    "collapsed": false,
    "ExecuteTime": {
     "end_time": "2024-04-04T13:37:07.633237Z",
     "start_time": "2024-04-04T13:37:07.318664Z"
    }
   },
   "id": "7218894a87b98c07",
   "execution_count": 20
  },
  {
   "cell_type": "code",
   "outputs": [
    {
     "data": {
      "text/plain": "                      Rating0.RESP_1.0  Rating0.RESP_2.0  Rating0.RESP_3.0  \\\nDataFile.Basename                                                            \nPREDWELL_RETOS-124-1               2.0               3.0               1.0   \nPREDWELL_RETOS-307-1               1.0               3.0               3.0   \nPREDWELL_RETOS-307-3               1.0               3.0               3.0   \n\n                      Rating0.RESP_4.0  Rating0.RESP_5.0  Rating0.RESP_6.0  \\\nDataFile.Basename                                                            \nPREDWELL_RETOS-124-1               2.0               1.0               1.0   \nPREDWELL_RETOS-307-1               1.0               3.0               3.0   \nPREDWELL_RETOS-307-3               1.0               3.0               3.0   \n\n                      Rating0.RESP_7.0  Rating0.RESP_8.0  Rating0.RESP_9.0  \\\nDataFile.Basename                                                            \nPREDWELL_RETOS-124-1               1.0               1.0               1.0   \nPREDWELL_RETOS-307-1               3.0               3.0               2.0   \nPREDWELL_RETOS-307-3               3.0               3.0               2.0   \n\n                      Rating0.RESP_10.0  ...  Fulfilled_36.0  Fulfilled_37.0  \\\nDataFile.Basename                        ...                                   \nPREDWELL_RETOS-124-1                2.0  ...             1.0             0.0   \nPREDWELL_RETOS-307-1                3.0  ...             1.0             1.0   \nPREDWELL_RETOS-307-3                3.0  ...             NaN             NaN   \n\n                      Fulfilled_38.0  Fulfilled_39.0  Fulfilled_40.0  \\\nDataFile.Basename                                                      \nPREDWELL_RETOS-124-1             0.0             1.0             1.0   \nPREDWELL_RETOS-307-1             0.0             1.0             0.0   \nPREDWELL_RETOS-307-3             NaN             NaN             NaN   \n\n                      Fulfilled_41.0  Fulfilled_42.0  Fulfilled_43.0  \\\nDataFile.Basename                                                      \nPREDWELL_RETOS-124-1             1.0             0.0             1.0   \nPREDWELL_RETOS-307-1             1.0             0.0             0.0   \nPREDWELL_RETOS-307-3             NaN             NaN             NaN   \n\n                      Fulfilled_44.0  Fulfilled_45.0  \nDataFile.Basename                                     \nPREDWELL_RETOS-124-1             1.0             0.0  \nPREDWELL_RETOS-307-1             1.0             0.0  \nPREDWELL_RETOS-307-3             NaN             NaN  \n\n[3 rows x 270 columns]",
      "text/html": "<div>\n<style scoped>\n    .dataframe tbody tr th:only-of-type {\n        vertical-align: middle;\n    }\n\n    .dataframe tbody tr th {\n        vertical-align: top;\n    }\n\n    .dataframe thead th {\n        text-align: right;\n    }\n</style>\n<table border=\"1\" class=\"dataframe\">\n  <thead>\n    <tr style=\"text-align: right;\">\n      <th></th>\n      <th>Rating0.RESP_1.0</th>\n      <th>Rating0.RESP_2.0</th>\n      <th>Rating0.RESP_3.0</th>\n      <th>Rating0.RESP_4.0</th>\n      <th>Rating0.RESP_5.0</th>\n      <th>Rating0.RESP_6.0</th>\n      <th>Rating0.RESP_7.0</th>\n      <th>Rating0.RESP_8.0</th>\n      <th>Rating0.RESP_9.0</th>\n      <th>Rating0.RESP_10.0</th>\n      <th>...</th>\n      <th>Fulfilled_36.0</th>\n      <th>Fulfilled_37.0</th>\n      <th>Fulfilled_38.0</th>\n      <th>Fulfilled_39.0</th>\n      <th>Fulfilled_40.0</th>\n      <th>Fulfilled_41.0</th>\n      <th>Fulfilled_42.0</th>\n      <th>Fulfilled_43.0</th>\n      <th>Fulfilled_44.0</th>\n      <th>Fulfilled_45.0</th>\n    </tr>\n    <tr>\n      <th>DataFile.Basename</th>\n      <th></th>\n      <th></th>\n      <th></th>\n      <th></th>\n      <th></th>\n      <th></th>\n      <th></th>\n      <th></th>\n      <th></th>\n      <th></th>\n      <th></th>\n      <th></th>\n      <th></th>\n      <th></th>\n      <th></th>\n      <th></th>\n      <th></th>\n      <th></th>\n      <th></th>\n      <th></th>\n      <th></th>\n    </tr>\n  </thead>\n  <tbody>\n    <tr>\n      <th>PREDWELL_RETOS-124-1</th>\n      <td>2.0</td>\n      <td>3.0</td>\n      <td>1.0</td>\n      <td>2.0</td>\n      <td>1.0</td>\n      <td>1.0</td>\n      <td>1.0</td>\n      <td>1.0</td>\n      <td>1.0</td>\n      <td>2.0</td>\n      <td>...</td>\n      <td>1.0</td>\n      <td>0.0</td>\n      <td>0.0</td>\n      <td>1.0</td>\n      <td>1.0</td>\n      <td>1.0</td>\n      <td>0.0</td>\n      <td>1.0</td>\n      <td>1.0</td>\n      <td>0.0</td>\n    </tr>\n    <tr>\n      <th>PREDWELL_RETOS-307-1</th>\n      <td>1.0</td>\n      <td>3.0</td>\n      <td>3.0</td>\n      <td>1.0</td>\n      <td>3.0</td>\n      <td>3.0</td>\n      <td>3.0</td>\n      <td>3.0</td>\n      <td>2.0</td>\n      <td>3.0</td>\n      <td>...</td>\n      <td>1.0</td>\n      <td>1.0</td>\n      <td>0.0</td>\n      <td>1.0</td>\n      <td>0.0</td>\n      <td>1.0</td>\n      <td>0.0</td>\n      <td>0.0</td>\n      <td>1.0</td>\n      <td>0.0</td>\n    </tr>\n    <tr>\n      <th>PREDWELL_RETOS-307-3</th>\n      <td>1.0</td>\n      <td>3.0</td>\n      <td>3.0</td>\n      <td>1.0</td>\n      <td>3.0</td>\n      <td>3.0</td>\n      <td>3.0</td>\n      <td>3.0</td>\n      <td>2.0</td>\n      <td>3.0</td>\n      <td>...</td>\n      <td>NaN</td>\n      <td>NaN</td>\n      <td>NaN</td>\n      <td>NaN</td>\n      <td>NaN</td>\n      <td>NaN</td>\n      <td>NaN</td>\n      <td>NaN</td>\n      <td>NaN</td>\n      <td>NaN</td>\n    </tr>\n  </tbody>\n</table>\n<p>3 rows × 270 columns</p>\n</div>"
     },
     "execution_count": 21,
     "metadata": {},
     "output_type": "execute_result"
    }
   ],
   "source": [
    "RETOS_tasks_long[RETOS_tasks_long.isna().sum(axis=1) > 0]\n"
   ],
   "metadata": {
    "collapsed": false,
    "ExecuteTime": {
     "end_time": "2024-04-04T13:37:07.946367Z",
     "start_time": "2024-04-04T13:37:07.634421Z"
    }
   },
   "id": "4f291bbd48aa5c0b",
   "execution_count": 21
  },
  {
   "cell_type": "code",
   "outputs": [
    {
     "data": {
      "text/plain": "                      Rating0.RESP_1.0  Rating0.RESP_2.0  Rating0.RESP_3.0  \\\nDataFile.Basename                                                            \nPREDWELL_RETOS-307-1               1.0               3.0               3.0   \n\n                      Rating0.RESP_4.0  Rating0.RESP_5.0  Rating0.RESP_6.0  \\\nDataFile.Basename                                                            \nPREDWELL_RETOS-307-1               1.0               3.0               3.0   \n\n                      Rating0.RESP_7.0  Rating0.RESP_8.0  Rating0.RESP_9.0  \\\nDataFile.Basename                                                            \nPREDWELL_RETOS-307-1               3.0               3.0               2.0   \n\n                      Rating0.RESP_10.0  ...  Fulfilled_36.0  Fulfilled_37.0  \\\nDataFile.Basename                        ...                                   \nPREDWELL_RETOS-307-1                3.0  ...             1.0             1.0   \n\n                      Fulfilled_38.0  Fulfilled_39.0  Fulfilled_40.0  \\\nDataFile.Basename                                                      \nPREDWELL_RETOS-307-1             0.0             1.0             0.0   \n\n                      Fulfilled_41.0  Fulfilled_42.0  Fulfilled_43.0  \\\nDataFile.Basename                                                      \nPREDWELL_RETOS-307-1             1.0             0.0             0.0   \n\n                      Fulfilled_44.0  Fulfilled_45.0  \nDataFile.Basename                                     \nPREDWELL_RETOS-307-1             1.0             0.0  \n\n[1 rows x 270 columns]",
      "text/html": "<div>\n<style scoped>\n    .dataframe tbody tr th:only-of-type {\n        vertical-align: middle;\n    }\n\n    .dataframe tbody tr th {\n        vertical-align: top;\n    }\n\n    .dataframe thead th {\n        text-align: right;\n    }\n</style>\n<table border=\"1\" class=\"dataframe\">\n  <thead>\n    <tr style=\"text-align: right;\">\n      <th></th>\n      <th>Rating0.RESP_1.0</th>\n      <th>Rating0.RESP_2.0</th>\n      <th>Rating0.RESP_3.0</th>\n      <th>Rating0.RESP_4.0</th>\n      <th>Rating0.RESP_5.0</th>\n      <th>Rating0.RESP_6.0</th>\n      <th>Rating0.RESP_7.0</th>\n      <th>Rating0.RESP_8.0</th>\n      <th>Rating0.RESP_9.0</th>\n      <th>Rating0.RESP_10.0</th>\n      <th>...</th>\n      <th>Fulfilled_36.0</th>\n      <th>Fulfilled_37.0</th>\n      <th>Fulfilled_38.0</th>\n      <th>Fulfilled_39.0</th>\n      <th>Fulfilled_40.0</th>\n      <th>Fulfilled_41.0</th>\n      <th>Fulfilled_42.0</th>\n      <th>Fulfilled_43.0</th>\n      <th>Fulfilled_44.0</th>\n      <th>Fulfilled_45.0</th>\n    </tr>\n    <tr>\n      <th>DataFile.Basename</th>\n      <th></th>\n      <th></th>\n      <th></th>\n      <th></th>\n      <th></th>\n      <th></th>\n      <th></th>\n      <th></th>\n      <th></th>\n      <th></th>\n      <th></th>\n      <th></th>\n      <th></th>\n      <th></th>\n      <th></th>\n      <th></th>\n      <th></th>\n      <th></th>\n      <th></th>\n      <th></th>\n      <th></th>\n    </tr>\n  </thead>\n  <tbody>\n    <tr>\n      <th>PREDWELL_RETOS-307-1</th>\n      <td>1.0</td>\n      <td>3.0</td>\n      <td>3.0</td>\n      <td>1.0</td>\n      <td>3.0</td>\n      <td>3.0</td>\n      <td>3.0</td>\n      <td>3.0</td>\n      <td>2.0</td>\n      <td>3.0</td>\n      <td>...</td>\n      <td>1.0</td>\n      <td>1.0</td>\n      <td>0.0</td>\n      <td>1.0</td>\n      <td>0.0</td>\n      <td>1.0</td>\n      <td>0.0</td>\n      <td>0.0</td>\n      <td>1.0</td>\n      <td>0.0</td>\n    </tr>\n  </tbody>\n</table>\n<p>1 rows × 270 columns</p>\n</div>"
     },
     "execution_count": 22,
     "metadata": {},
     "output_type": "execute_result"
    }
   ],
   "source": [
    "RETOS_tasks_long = RETOS_tasks_long.query(\"index != 'PREDWELL_RETOS-307-3'\")\n",
    "\n",
    "#We delete the excess row from combination.\n",
    "\n",
    "RETOS_tasks_long[RETOS_tasks_long.index == \"PREDWELL_RETOS-124-1\"] \n",
    "#We see that the evoked emotion is fear and the expression is also fear, therefore it corresponds to a match.\n",
    "\n",
    "RETOS_tasks_long[RETOS_tasks_long.index == \"PREDWELL_RETOS-307-1\"] \n",
    "#We see that the evoked emotion is sadness and the expression is Happy, therefore it corresponds to a non match.\n"
   ],
   "metadata": {
    "collapsed": false,
    "ExecuteTime": {
     "end_time": "2024-04-04T13:37:08.265689Z",
     "start_time": "2024-04-04T13:37:07.947964Z"
    }
   },
   "id": "212a20ac7ac44fff",
   "execution_count": 22
  },
  {
   "cell_type": "code",
   "outputs": [
    {
     "data": {
      "text/plain": "                      Rating0.RESP_1.0  Rating0.RESP_2.0  Rating0.RESP_3.0  \\\nDataFile.Basename                                                            \nPREDWELL_RETOS-1-1                 1.0               3.0               4.0   \nPREDWELL_RETOS-10-1                4.0               2.0               2.0   \nPREDWELL_RETOS-101-1               2.0               3.0               3.0   \nPREDWELL_RETOS-102-1               1.0               1.0               2.0   \nPREDWELL_RETOS-103-1               3.0               1.0               2.0   \n...                                ...               ...               ...   \nPREDWELL_RETOS-5-1                 1.0               1.0               1.0   \nPREDWELL_RETOS-6-1                 2.0               3.0               1.0   \nPREDWELL_RETOS-7-1                 1.0               1.0               1.0   \nPREDWELL_RETOS-8-1                 2.0               3.0               3.0   \nPREDWELL_RETOS-9-1                 2.0               1.0               1.0   \n\n                      Rating0.RESP_4.0  Rating0.RESP_5.0  Rating0.RESP_6.0  \\\nDataFile.Basename                                                            \nPREDWELL_RETOS-1-1                 4.0               4.0               2.0   \nPREDWELL_RETOS-10-1                4.0               3.0               4.0   \nPREDWELL_RETOS-101-1               4.0               4.0               1.0   \nPREDWELL_RETOS-102-1               1.0               1.0               2.0   \nPREDWELL_RETOS-103-1               2.0               1.0               1.0   \n...                                ...               ...               ...   \nPREDWELL_RETOS-5-1                 4.0               2.0               3.0   \nPREDWELL_RETOS-6-1                 1.0               2.0               3.0   \nPREDWELL_RETOS-7-1                 3.0               3.0               1.0   \nPREDWELL_RETOS-8-1                 1.0               4.0               3.0   \nPREDWELL_RETOS-9-1                 4.0               1.0               1.0   \n\n                      Rating0.RESP_7.0  Rating0.RESP_8.0  Rating0.RESP_9.0  \\\nDataFile.Basename                                                            \nPREDWELL_RETOS-1-1                 1.0               4.0               4.0   \nPREDWELL_RETOS-10-1                3.0               1.0               1.0   \nPREDWELL_RETOS-101-1               1.0               4.0               3.0   \nPREDWELL_RETOS-102-1               2.0               1.0               1.0   \nPREDWELL_RETOS-103-1               3.0               1.0               2.0   \n...                                ...               ...               ...   \nPREDWELL_RETOS-5-1                 2.0               2.0               2.0   \nPREDWELL_RETOS-6-1                 2.0               2.0               1.0   \nPREDWELL_RETOS-7-1                 4.0               4.0               2.0   \nPREDWELL_RETOS-8-1                 1.0               3.0               4.0   \nPREDWELL_RETOS-9-1                 3.0               1.0               3.0   \n\n                      Rating0.RESP_10.0  ...  Fulfilled_36.0  Fulfilled_37.0  \\\nDataFile.Basename                        ...                                   \nPREDWELL_RETOS-1-1                  4.0  ...             1.0             0.0   \nPREDWELL_RETOS-10-1                 3.0  ...             0.0             0.0   \nPREDWELL_RETOS-101-1                1.0  ...             0.0             0.0   \nPREDWELL_RETOS-102-1                4.0  ...             0.0             0.0   \nPREDWELL_RETOS-103-1                1.0  ...             1.0             1.0   \n...                                 ...  ...             ...             ...   \nPREDWELL_RETOS-5-1                  4.0  ...             1.0             1.0   \nPREDWELL_RETOS-6-1                  2.0  ...             1.0             1.0   \nPREDWELL_RETOS-7-1                  1.0  ...             0.0             1.0   \nPREDWELL_RETOS-8-1                  4.0  ...             1.0             1.0   \nPREDWELL_RETOS-9-1                  1.0  ...             0.0             1.0   \n\n                      Fulfilled_38.0  Fulfilled_39.0  Fulfilled_40.0  \\\nDataFile.Basename                                                      \nPREDWELL_RETOS-1-1               1.0             1.0             1.0   \nPREDWELL_RETOS-10-1              1.0             1.0             0.0   \nPREDWELL_RETOS-101-1             1.0             1.0             1.0   \nPREDWELL_RETOS-102-1             1.0             1.0             1.0   \nPREDWELL_RETOS-103-1             0.0             1.0             0.0   \n...                              ...             ...             ...   \nPREDWELL_RETOS-5-1               0.0             0.0             1.0   \nPREDWELL_RETOS-6-1               0.0             1.0             1.0   \nPREDWELL_RETOS-7-1               1.0             1.0             1.0   \nPREDWELL_RETOS-8-1               1.0             1.0             0.0   \nPREDWELL_RETOS-9-1               0.0             1.0             0.0   \n\n                      Fulfilled_41.0  Fulfilled_42.0  Fulfilled_43.0  \\\nDataFile.Basename                                                      \nPREDWELL_RETOS-1-1               0.0             1.0             0.0   \nPREDWELL_RETOS-10-1              1.0             1.0             0.0   \nPREDWELL_RETOS-101-1             0.0             0.0             1.0   \nPREDWELL_RETOS-102-1             0.0             0.0             1.0   \nPREDWELL_RETOS-103-1             0.0             0.0             0.0   \n...                              ...             ...             ...   \nPREDWELL_RETOS-5-1               1.0             1.0             0.0   \nPREDWELL_RETOS-6-1               0.0             1.0             1.0   \nPREDWELL_RETOS-7-1               0.0             1.0             0.0   \nPREDWELL_RETOS-8-1               1.0             0.0             1.0   \nPREDWELL_RETOS-9-1               1.0             0.0             1.0   \n\n                      Fulfilled_44.0  Fulfilled_45.0  \nDataFile.Basename                                     \nPREDWELL_RETOS-1-1               1.0             1.0  \nPREDWELL_RETOS-10-1              1.0             0.0  \nPREDWELL_RETOS-101-1             1.0             1.0  \nPREDWELL_RETOS-102-1             1.0             1.0  \nPREDWELL_RETOS-103-1             1.0             1.0  \n...                              ...             ...  \nPREDWELL_RETOS-5-1               1.0             1.0  \nPREDWELL_RETOS-6-1               1.0             1.0  \nPREDWELL_RETOS-7-1               1.0             1.0  \nPREDWELL_RETOS-8-1               1.0             1.0  \nPREDWELL_RETOS-9-1               0.0             1.0  \n\n[95 rows x 270 columns]",
      "text/html": "<div>\n<style scoped>\n    .dataframe tbody tr th:only-of-type {\n        vertical-align: middle;\n    }\n\n    .dataframe tbody tr th {\n        vertical-align: top;\n    }\n\n    .dataframe thead th {\n        text-align: right;\n    }\n</style>\n<table border=\"1\" class=\"dataframe\">\n  <thead>\n    <tr style=\"text-align: right;\">\n      <th></th>\n      <th>Rating0.RESP_1.0</th>\n      <th>Rating0.RESP_2.0</th>\n      <th>Rating0.RESP_3.0</th>\n      <th>Rating0.RESP_4.0</th>\n      <th>Rating0.RESP_5.0</th>\n      <th>Rating0.RESP_6.0</th>\n      <th>Rating0.RESP_7.0</th>\n      <th>Rating0.RESP_8.0</th>\n      <th>Rating0.RESP_9.0</th>\n      <th>Rating0.RESP_10.0</th>\n      <th>...</th>\n      <th>Fulfilled_36.0</th>\n      <th>Fulfilled_37.0</th>\n      <th>Fulfilled_38.0</th>\n      <th>Fulfilled_39.0</th>\n      <th>Fulfilled_40.0</th>\n      <th>Fulfilled_41.0</th>\n      <th>Fulfilled_42.0</th>\n      <th>Fulfilled_43.0</th>\n      <th>Fulfilled_44.0</th>\n      <th>Fulfilled_45.0</th>\n    </tr>\n    <tr>\n      <th>DataFile.Basename</th>\n      <th></th>\n      <th></th>\n      <th></th>\n      <th></th>\n      <th></th>\n      <th></th>\n      <th></th>\n      <th></th>\n      <th></th>\n      <th></th>\n      <th></th>\n      <th></th>\n      <th></th>\n      <th></th>\n      <th></th>\n      <th></th>\n      <th></th>\n      <th></th>\n      <th></th>\n      <th></th>\n      <th></th>\n    </tr>\n  </thead>\n  <tbody>\n    <tr>\n      <th>PREDWELL_RETOS-1-1</th>\n      <td>1.0</td>\n      <td>3.0</td>\n      <td>4.0</td>\n      <td>4.0</td>\n      <td>4.0</td>\n      <td>2.0</td>\n      <td>1.0</td>\n      <td>4.0</td>\n      <td>4.0</td>\n      <td>4.0</td>\n      <td>...</td>\n      <td>1.0</td>\n      <td>0.0</td>\n      <td>1.0</td>\n      <td>1.0</td>\n      <td>1.0</td>\n      <td>0.0</td>\n      <td>1.0</td>\n      <td>0.0</td>\n      <td>1.0</td>\n      <td>1.0</td>\n    </tr>\n    <tr>\n      <th>PREDWELL_RETOS-10-1</th>\n      <td>4.0</td>\n      <td>2.0</td>\n      <td>2.0</td>\n      <td>4.0</td>\n      <td>3.0</td>\n      <td>4.0</td>\n      <td>3.0</td>\n      <td>1.0</td>\n      <td>1.0</td>\n      <td>3.0</td>\n      <td>...</td>\n      <td>0.0</td>\n      <td>0.0</td>\n      <td>1.0</td>\n      <td>1.0</td>\n      <td>0.0</td>\n      <td>1.0</td>\n      <td>1.0</td>\n      <td>0.0</td>\n      <td>1.0</td>\n      <td>0.0</td>\n    </tr>\n    <tr>\n      <th>PREDWELL_RETOS-101-1</th>\n      <td>2.0</td>\n      <td>3.0</td>\n      <td>3.0</td>\n      <td>4.0</td>\n      <td>4.0</td>\n      <td>1.0</td>\n      <td>1.0</td>\n      <td>4.0</td>\n      <td>3.0</td>\n      <td>1.0</td>\n      <td>...</td>\n      <td>0.0</td>\n      <td>0.0</td>\n      <td>1.0</td>\n      <td>1.0</td>\n      <td>1.0</td>\n      <td>0.0</td>\n      <td>0.0</td>\n      <td>1.0</td>\n      <td>1.0</td>\n      <td>1.0</td>\n    </tr>\n    <tr>\n      <th>PREDWELL_RETOS-102-1</th>\n      <td>1.0</td>\n      <td>1.0</td>\n      <td>2.0</td>\n      <td>1.0</td>\n      <td>1.0</td>\n      <td>2.0</td>\n      <td>2.0</td>\n      <td>1.0</td>\n      <td>1.0</td>\n      <td>4.0</td>\n      <td>...</td>\n      <td>0.0</td>\n      <td>0.0</td>\n      <td>1.0</td>\n      <td>1.0</td>\n      <td>1.0</td>\n      <td>0.0</td>\n      <td>0.0</td>\n      <td>1.0</td>\n      <td>1.0</td>\n      <td>1.0</td>\n    </tr>\n    <tr>\n      <th>PREDWELL_RETOS-103-1</th>\n      <td>3.0</td>\n      <td>1.0</td>\n      <td>2.0</td>\n      <td>2.0</td>\n      <td>1.0</td>\n      <td>1.0</td>\n      <td>3.0</td>\n      <td>1.0</td>\n      <td>2.0</td>\n      <td>1.0</td>\n      <td>...</td>\n      <td>1.0</td>\n      <td>1.0</td>\n      <td>0.0</td>\n      <td>1.0</td>\n      <td>0.0</td>\n      <td>0.0</td>\n      <td>0.0</td>\n      <td>0.0</td>\n      <td>1.0</td>\n      <td>1.0</td>\n    </tr>\n    <tr>\n      <th>...</th>\n      <td>...</td>\n      <td>...</td>\n      <td>...</td>\n      <td>...</td>\n      <td>...</td>\n      <td>...</td>\n      <td>...</td>\n      <td>...</td>\n      <td>...</td>\n      <td>...</td>\n      <td>...</td>\n      <td>...</td>\n      <td>...</td>\n      <td>...</td>\n      <td>...</td>\n      <td>...</td>\n      <td>...</td>\n      <td>...</td>\n      <td>...</td>\n      <td>...</td>\n      <td>...</td>\n    </tr>\n    <tr>\n      <th>PREDWELL_RETOS-5-1</th>\n      <td>1.0</td>\n      <td>1.0</td>\n      <td>1.0</td>\n      <td>4.0</td>\n      <td>2.0</td>\n      <td>3.0</td>\n      <td>2.0</td>\n      <td>2.0</td>\n      <td>2.0</td>\n      <td>4.0</td>\n      <td>...</td>\n      <td>1.0</td>\n      <td>1.0</td>\n      <td>0.0</td>\n      <td>0.0</td>\n      <td>1.0</td>\n      <td>1.0</td>\n      <td>1.0</td>\n      <td>0.0</td>\n      <td>1.0</td>\n      <td>1.0</td>\n    </tr>\n    <tr>\n      <th>PREDWELL_RETOS-6-1</th>\n      <td>2.0</td>\n      <td>3.0</td>\n      <td>1.0</td>\n      <td>1.0</td>\n      <td>2.0</td>\n      <td>3.0</td>\n      <td>2.0</td>\n      <td>2.0</td>\n      <td>1.0</td>\n      <td>2.0</td>\n      <td>...</td>\n      <td>1.0</td>\n      <td>1.0</td>\n      <td>0.0</td>\n      <td>1.0</td>\n      <td>1.0</td>\n      <td>0.0</td>\n      <td>1.0</td>\n      <td>1.0</td>\n      <td>1.0</td>\n      <td>1.0</td>\n    </tr>\n    <tr>\n      <th>PREDWELL_RETOS-7-1</th>\n      <td>1.0</td>\n      <td>1.0</td>\n      <td>1.0</td>\n      <td>3.0</td>\n      <td>3.0</td>\n      <td>1.0</td>\n      <td>4.0</td>\n      <td>4.0</td>\n      <td>2.0</td>\n      <td>1.0</td>\n      <td>...</td>\n      <td>0.0</td>\n      <td>1.0</td>\n      <td>1.0</td>\n      <td>1.0</td>\n      <td>1.0</td>\n      <td>0.0</td>\n      <td>1.0</td>\n      <td>0.0</td>\n      <td>1.0</td>\n      <td>1.0</td>\n    </tr>\n    <tr>\n      <th>PREDWELL_RETOS-8-1</th>\n      <td>2.0</td>\n      <td>3.0</td>\n      <td>3.0</td>\n      <td>1.0</td>\n      <td>4.0</td>\n      <td>3.0</td>\n      <td>1.0</td>\n      <td>3.0</td>\n      <td>4.0</td>\n      <td>4.0</td>\n      <td>...</td>\n      <td>1.0</td>\n      <td>1.0</td>\n      <td>1.0</td>\n      <td>1.0</td>\n      <td>0.0</td>\n      <td>1.0</td>\n      <td>0.0</td>\n      <td>1.0</td>\n      <td>1.0</td>\n      <td>1.0</td>\n    </tr>\n    <tr>\n      <th>PREDWELL_RETOS-9-1</th>\n      <td>2.0</td>\n      <td>1.0</td>\n      <td>1.0</td>\n      <td>4.0</td>\n      <td>1.0</td>\n      <td>1.0</td>\n      <td>3.0</td>\n      <td>1.0</td>\n      <td>3.0</td>\n      <td>1.0</td>\n      <td>...</td>\n      <td>0.0</td>\n      <td>1.0</td>\n      <td>0.0</td>\n      <td>1.0</td>\n      <td>0.0</td>\n      <td>1.0</td>\n      <td>0.0</td>\n      <td>1.0</td>\n      <td>0.0</td>\n      <td>1.0</td>\n    </tr>\n  </tbody>\n</table>\n<p>95 rows × 270 columns</p>\n</div>"
     },
     "execution_count": 23,
     "metadata": {},
     "output_type": "execute_result"
    }
   ],
   "source": [
    "RETOS_tasks_long"
   ],
   "metadata": {
    "collapsed": false,
    "ExecuteTime": {
     "end_time": "2024-04-04T13:37:08.463708Z",
     "start_time": "2024-04-04T13:37:08.268230Z"
    }
   },
   "id": "2dce5de011cc82db",
   "execution_count": 23
  },
  {
   "cell_type": "code",
   "outputs": [],
   "source": [
    "rating0_list_124 = []\n",
    "rating_list_124 = []\n",
    "\n",
    "rating0_list_307 = []\n",
    "rating_list_307 = []\n",
    "\n",
    "for i in range(1,46):\n",
    "        rating0 = f'Rating0.RESP_{i}.0'\n",
    "        rating = f'Rating.RESP_{i}.0'\n",
    "        emotion = f'EvokedEmotion_{i}.0'\n",
    "        fulfill = f'Fulfilled_{i}.0'\n",
    "        \n",
    "        if RETOS_tasks_long[RETOS_tasks_long.index == \"PREDWELL_RETOS-124-1\"][emotion].values[0] == \"fear\" and RETOS_tasks_long[RETOS_tasks_long.index == \"PREDWELL_RETOS-124-1\"][fulfill].values[0] == 1 and i!=20:\n",
    "            rating0_list_124.append(RETOS_tasks_long[RETOS_tasks_long.index == \"PREDWELL_RETOS-307-1\"][rating0].values[0])\n",
    "\n",
    "            rating_list_124.append(RETOS_tasks_long[RETOS_tasks_long.index == \"PREDWELL_RETOS-307-1\"][rating].values[0])\n",
    "        \n",
    "        if RETOS_tasks_long[RETOS_tasks_long.index == \"PREDWELL_RETOS-307-1\"][emotion].values[0] == \"sadness\" and RETOS_tasks_long[RETOS_tasks_long.index == \"PREDWELL_RETOS-307-1\"][fulfill].values[0] == 0 and i!=18:\n",
    "            rating0_list_307.append(RETOS_tasks_long[RETOS_tasks_long.index == \"PREDWELL_RETOS-307-1\"][rating0].values[0])\n",
    "\n",
    "            rating_list_307.append(RETOS_tasks_long[RETOS_tasks_long.index == \"PREDWELL_RETOS-307-1\"][rating].values[0])\n",
    "\n",
    "        \n",
    "\n",
    "RETOS_tasks_long.loc[RETOS_tasks_long.index == \"PREDWELL_RETOS-124-1\", \"Rating.RESP_20.0\"] = statistics.multimode(rating_list_124)[0]\n",
    "RETOS_tasks_long.loc[RETOS_tasks_long.index == \"PREDWELL_RETOS-124-1\", \"Rating0.RESP_20.0\"] = statistics.multimode(rating0_list_124)[0]\n",
    "RETOS_tasks_long.loc[RETOS_tasks_long.index == \"PREDWELL_RETOS-307-1\", \"Rating.RESP_18.0\"] = statistics.multimode(rating_list_307)[0]\n",
    "RETOS_tasks_long.loc[RETOS_tasks_long.index == \"PREDWELL_RETOS-307-1\", \"Rating0.RESP_18.0\"] = statistics.multimode(rating0_list_307)[0]\n"
   ],
   "metadata": {
    "collapsed": false,
    "ExecuteTime": {
     "end_time": "2024-04-04T13:37:08.757829Z",
     "start_time": "2024-04-04T13:37:08.467790Z"
    }
   },
   "id": "b59443015fe4526",
   "execution_count": 24
  },
  {
   "cell_type": "code",
   "outputs": [],
   "source": [
    "RETOS_tasks_long.to_excel('../Clustering_Predictive_Processing/RETOS_long.xlsx', index=False)\n",
    "RETOS_tasks_long_copy = RETOS_tasks_long.copy()"
   ],
   "metadata": {
    "collapsed": false,
    "ExecuteTime": {
     "end_time": "2024-04-04T13:37:09.582532Z",
     "start_time": "2024-04-04T13:37:08.759141Z"
    }
   },
   "id": "be4c6c599693ca3a",
   "execution_count": 25
  },
  {
   "cell_type": "code",
   "outputs": [],
   "source": [
    "RETOS_tasks_long = RETOS_tasks_long.query(\"index != 'PREDWELL_RETOS-307-1'\")\n"
   ],
   "metadata": {
    "collapsed": false,
    "ExecuteTime": {
     "end_time": "2024-04-04T13:37:09.644313Z",
     "start_time": "2024-04-04T13:37:09.584322Z"
    }
   },
   "id": "a93b581636139db9",
   "execution_count": 26
  },
  {
   "cell_type": "code",
   "outputs": [],
   "source": [
    "subject_dict_RETOS = creation_dictionary_from_df(RETOS_tasks_long,len(RETOS_tasks_long))\n",
    "Rating0_RETOS_counts = creation_count_df(subject_dict_RETOS, \"Rating0\")\n",
    "Rating_RETOS_counts = creation_count_df(subject_dict_RETOS, \"Rating\")\n",
    "\n"
   ],
   "metadata": {
    "collapsed": false,
    "ExecuteTime": {
     "end_time": "2024-04-04T13:37:10.051311Z",
     "start_time": "2024-04-04T13:37:09.645813Z"
    }
   },
   "id": "5100dee647a44701",
   "execution_count": 27
  },
  {
   "cell_type": "code",
   "outputs": [
    {
     "data": {
      "text/plain": "              Subject Emotion  Match  Score  Count\n0  PREDWELL_RETOS-1-1   Happy      1      1      0\n1  PREDWELL_RETOS-1-1   Happy      1      2      0\n2  PREDWELL_RETOS-1-1   Happy      1      3      1\n3  PREDWELL_RETOS-1-1   Happy      1      4      8\n4  PREDWELL_RETOS-1-1   Happy      0      1      5",
      "text/html": "<div>\n<style scoped>\n    .dataframe tbody tr th:only-of-type {\n        vertical-align: middle;\n    }\n\n    .dataframe tbody tr th {\n        vertical-align: top;\n    }\n\n    .dataframe thead th {\n        text-align: right;\n    }\n</style>\n<table border=\"1\" class=\"dataframe\">\n  <thead>\n    <tr style=\"text-align: right;\">\n      <th></th>\n      <th>Subject</th>\n      <th>Emotion</th>\n      <th>Match</th>\n      <th>Score</th>\n      <th>Count</th>\n    </tr>\n  </thead>\n  <tbody>\n    <tr>\n      <th>0</th>\n      <td>PREDWELL_RETOS-1-1</td>\n      <td>Happy</td>\n      <td>1</td>\n      <td>1</td>\n      <td>0</td>\n    </tr>\n    <tr>\n      <th>1</th>\n      <td>PREDWELL_RETOS-1-1</td>\n      <td>Happy</td>\n      <td>1</td>\n      <td>2</td>\n      <td>0</td>\n    </tr>\n    <tr>\n      <th>2</th>\n      <td>PREDWELL_RETOS-1-1</td>\n      <td>Happy</td>\n      <td>1</td>\n      <td>3</td>\n      <td>1</td>\n    </tr>\n    <tr>\n      <th>3</th>\n      <td>PREDWELL_RETOS-1-1</td>\n      <td>Happy</td>\n      <td>1</td>\n      <td>4</td>\n      <td>8</td>\n    </tr>\n    <tr>\n      <th>4</th>\n      <td>PREDWELL_RETOS-1-1</td>\n      <td>Happy</td>\n      <td>0</td>\n      <td>1</td>\n      <td>5</td>\n    </tr>\n  </tbody>\n</table>\n</div>"
     },
     "execution_count": 28,
     "metadata": {},
     "output_type": "execute_result"
    }
   ],
   "source": [
    "Rating0_RETOS_counts.head(5)\n"
   ],
   "metadata": {
    "collapsed": false,
    "ExecuteTime": {
     "end_time": "2024-04-04T13:37:10.261972Z",
     "start_time": "2024-04-04T13:37:10.053025Z"
    }
   },
   "id": "ebd6c2ab11b5904f",
   "execution_count": 28
  },
  {
   "cell_type": "code",
   "outputs": [
    {
     "data": {
      "text/plain": "              Subject Emotion  Match  Score  Count\n0  PREDWELL_RETOS-1-1   Happy      1      1      0\n1  PREDWELL_RETOS-1-1   Happy      1      2      0\n2  PREDWELL_RETOS-1-1   Happy      1      3      3\n3  PREDWELL_RETOS-1-1   Happy      1      4      6\n4  PREDWELL_RETOS-1-1   Happy      0      1      0",
      "text/html": "<div>\n<style scoped>\n    .dataframe tbody tr th:only-of-type {\n        vertical-align: middle;\n    }\n\n    .dataframe tbody tr th {\n        vertical-align: top;\n    }\n\n    .dataframe thead th {\n        text-align: right;\n    }\n</style>\n<table border=\"1\" class=\"dataframe\">\n  <thead>\n    <tr style=\"text-align: right;\">\n      <th></th>\n      <th>Subject</th>\n      <th>Emotion</th>\n      <th>Match</th>\n      <th>Score</th>\n      <th>Count</th>\n    </tr>\n  </thead>\n  <tbody>\n    <tr>\n      <th>0</th>\n      <td>PREDWELL_RETOS-1-1</td>\n      <td>Happy</td>\n      <td>1</td>\n      <td>1</td>\n      <td>0</td>\n    </tr>\n    <tr>\n      <th>1</th>\n      <td>PREDWELL_RETOS-1-1</td>\n      <td>Happy</td>\n      <td>1</td>\n      <td>2</td>\n      <td>0</td>\n    </tr>\n    <tr>\n      <th>2</th>\n      <td>PREDWELL_RETOS-1-1</td>\n      <td>Happy</td>\n      <td>1</td>\n      <td>3</td>\n      <td>3</td>\n    </tr>\n    <tr>\n      <th>3</th>\n      <td>PREDWELL_RETOS-1-1</td>\n      <td>Happy</td>\n      <td>1</td>\n      <td>4</td>\n      <td>6</td>\n    </tr>\n    <tr>\n      <th>4</th>\n      <td>PREDWELL_RETOS-1-1</td>\n      <td>Happy</td>\n      <td>0</td>\n      <td>1</td>\n      <td>0</td>\n    </tr>\n  </tbody>\n</table>\n</div>"
     },
     "execution_count": 29,
     "metadata": {},
     "output_type": "execute_result"
    }
   ],
   "source": [
    "Rating_RETOS_counts.head(5)\n"
   ],
   "metadata": {
    "collapsed": false,
    "ExecuteTime": {
     "end_time": "2024-04-04T13:37:10.518851Z",
     "start_time": "2024-04-04T13:37:10.263856Z"
    }
   },
   "id": "56b48f33e091c1b",
   "execution_count": 29
  },
  {
   "cell_type": "markdown",
   "source": [],
   "metadata": {
    "collapsed": false
   },
   "id": "2355c85292b726b1"
  },
  {
   "cell_type": "code",
   "outputs": [
    {
     "data": {
      "text/plain": "                Subject  Count_Happy_1_1  Count_Happy_1_2  Count_Happy_1_3  \\\n0    PREDWELL_RETOS-1-1                0                0                1   \n1   PREDWELL_RETOS-10-1                0                1                4   \n2  PREDWELL_RETOS-101-1                0                1                2   \n3  PREDWELL_RETOS-102-1                1                0                4   \n4  PREDWELL_RETOS-103-1                0                1                1   \n\n   Count_Happy_1_4  Count_Happy_0_1  Count_Happy_0_2  Count_Happy_0_3  \\\n0                8                5                0                0   \n1                4                4                2                0   \n2                6                5                1                0   \n3                4                6                0                0   \n4                7                5                1                0   \n\n   Count_Happy_0_4  Count_Sad_1_1  ...  Count_Sad_0_3  Count_Sad_0_4  \\\n0                1              0  ...              2              1   \n1                0              0  ...              1              0   \n2                0              1  ...              1              0   \n3                0              1  ...              0              3   \n4                0              0  ...              1              0   \n\n   Count_Fear_1_1  Count_Fear_1_2  Count_Fear_1_3  Count_Fear_1_4  \\\n0               0               3               1               5   \n1               1               1               3               4   \n2               2               1               3               3   \n3               0               2               3               4   \n4               3               2               3               1   \n\n   Count_Fear_0_1  Count_Fear_0_2  Count_Fear_0_3  Count_Fear_0_4  \n0               3               1               1               1  \n1               1               3               1               1  \n2               5               1               0               0  \n3               4               2               0               0  \n4               3               2               1               0  \n\n[5 rows x 25 columns]",
      "text/html": "<div>\n<style scoped>\n    .dataframe tbody tr th:only-of-type {\n        vertical-align: middle;\n    }\n\n    .dataframe tbody tr th {\n        vertical-align: top;\n    }\n\n    .dataframe thead th {\n        text-align: right;\n    }\n</style>\n<table border=\"1\" class=\"dataframe\">\n  <thead>\n    <tr style=\"text-align: right;\">\n      <th></th>\n      <th>Subject</th>\n      <th>Count_Happy_1_1</th>\n      <th>Count_Happy_1_2</th>\n      <th>Count_Happy_1_3</th>\n      <th>Count_Happy_1_4</th>\n      <th>Count_Happy_0_1</th>\n      <th>Count_Happy_0_2</th>\n      <th>Count_Happy_0_3</th>\n      <th>Count_Happy_0_4</th>\n      <th>Count_Sad_1_1</th>\n      <th>...</th>\n      <th>Count_Sad_0_3</th>\n      <th>Count_Sad_0_4</th>\n      <th>Count_Fear_1_1</th>\n      <th>Count_Fear_1_2</th>\n      <th>Count_Fear_1_3</th>\n      <th>Count_Fear_1_4</th>\n      <th>Count_Fear_0_1</th>\n      <th>Count_Fear_0_2</th>\n      <th>Count_Fear_0_3</th>\n      <th>Count_Fear_0_4</th>\n    </tr>\n  </thead>\n  <tbody>\n    <tr>\n      <th>0</th>\n      <td>PREDWELL_RETOS-1-1</td>\n      <td>0</td>\n      <td>0</td>\n      <td>1</td>\n      <td>8</td>\n      <td>5</td>\n      <td>0</td>\n      <td>0</td>\n      <td>1</td>\n      <td>0</td>\n      <td>...</td>\n      <td>2</td>\n      <td>1</td>\n      <td>0</td>\n      <td>3</td>\n      <td>1</td>\n      <td>5</td>\n      <td>3</td>\n      <td>1</td>\n      <td>1</td>\n      <td>1</td>\n    </tr>\n    <tr>\n      <th>1</th>\n      <td>PREDWELL_RETOS-10-1</td>\n      <td>0</td>\n      <td>1</td>\n      <td>4</td>\n      <td>4</td>\n      <td>4</td>\n      <td>2</td>\n      <td>0</td>\n      <td>0</td>\n      <td>0</td>\n      <td>...</td>\n      <td>1</td>\n      <td>0</td>\n      <td>1</td>\n      <td>1</td>\n      <td>3</td>\n      <td>4</td>\n      <td>1</td>\n      <td>3</td>\n      <td>1</td>\n      <td>1</td>\n    </tr>\n    <tr>\n      <th>2</th>\n      <td>PREDWELL_RETOS-101-1</td>\n      <td>0</td>\n      <td>1</td>\n      <td>2</td>\n      <td>6</td>\n      <td>5</td>\n      <td>1</td>\n      <td>0</td>\n      <td>0</td>\n      <td>1</td>\n      <td>...</td>\n      <td>1</td>\n      <td>0</td>\n      <td>2</td>\n      <td>1</td>\n      <td>3</td>\n      <td>3</td>\n      <td>5</td>\n      <td>1</td>\n      <td>0</td>\n      <td>0</td>\n    </tr>\n    <tr>\n      <th>3</th>\n      <td>PREDWELL_RETOS-102-1</td>\n      <td>1</td>\n      <td>0</td>\n      <td>4</td>\n      <td>4</td>\n      <td>6</td>\n      <td>0</td>\n      <td>0</td>\n      <td>0</td>\n      <td>1</td>\n      <td>...</td>\n      <td>0</td>\n      <td>3</td>\n      <td>0</td>\n      <td>2</td>\n      <td>3</td>\n      <td>4</td>\n      <td>4</td>\n      <td>2</td>\n      <td>0</td>\n      <td>0</td>\n    </tr>\n    <tr>\n      <th>4</th>\n      <td>PREDWELL_RETOS-103-1</td>\n      <td>0</td>\n      <td>1</td>\n      <td>1</td>\n      <td>7</td>\n      <td>5</td>\n      <td>1</td>\n      <td>0</td>\n      <td>0</td>\n      <td>0</td>\n      <td>...</td>\n      <td>1</td>\n      <td>0</td>\n      <td>3</td>\n      <td>2</td>\n      <td>3</td>\n      <td>1</td>\n      <td>3</td>\n      <td>2</td>\n      <td>1</td>\n      <td>0</td>\n    </tr>\n  </tbody>\n</table>\n<p>5 rows × 25 columns</p>\n</div>"
     },
     "execution_count": 30,
     "metadata": {},
     "output_type": "execute_result"
    }
   ],
   "source": [
    "multiindex_Rating0 = Rating0_RETOS_counts.set_index(['Subject', 'Emotion', 'Match', 'Score'])\n",
    "Rating0_RETOS_df = multiindex_Rating0.unstack(level=['Emotion', 'Match', 'Score'])\n",
    "Rating0_RETOS_df.columns = ['_'.join(map(str, col)).strip() for col in Rating0_RETOS_df.columns.values]\n",
    "Rating0_RETOS_df = Rating0_RETOS_df.reset_index()\n",
    "\n",
    "#We modify the Dataset so that each row completely represents a subject with all the information regarding its ratings.\n",
    "Rating0_RETOS_df.to_excel('../Clustering_Predictive_Processing/RETOS_Rating0_count.xlsx', index=False) \n",
    "Rating0_RETOS_df.head(5)\n"
   ],
   "metadata": {
    "collapsed": false,
    "ExecuteTime": {
     "end_time": "2024-04-04T13:37:10.873799Z",
     "start_time": "2024-04-04T13:37:10.520016Z"
    }
   },
   "id": "d03126c437cce486",
   "execution_count": 30
  },
  {
   "cell_type": "code",
   "outputs": [
    {
     "data": {
      "text/plain": "                Subject  Count_Happy_1_1  Count_Happy_1_2  Count_Happy_1_3  \\\n0    PREDWELL_RETOS-1-1                0                0                1   \n1   PREDWELL_RETOS-10-1                0                1                4   \n2  PREDWELL_RETOS-101-1                0                1                2   \n3  PREDWELL_RETOS-102-1                1                0                4   \n4  PREDWELL_RETOS-103-1                0                1                1   \n\n   Count_Happy_1_4  Count_Happy_0_1  Count_Happy_0_2  Count_Happy_0_3  \\\n0                8                5                0                0   \n1                4                4                2                0   \n2                6                5                1                0   \n3                4                6                0                0   \n4                7                5                1                0   \n\n   Count_Happy_0_4  Count_Sad_1_1  ...  Count_Sad_0_3  Count_Sad_0_4  \\\n0                1              0  ...              2              1   \n1                0              0  ...              1              0   \n2                0              1  ...              1              0   \n3                0              1  ...              0              3   \n4                0              0  ...              1              0   \n\n   Count_Fear_1_1  Count_Fear_1_2  Count_Fear_1_3  Count_Fear_1_4  \\\n0               0               3               1               5   \n1               1               1               3               4   \n2               2               1               3               3   \n3               0               2               3               4   \n4               3               2               3               1   \n\n   Count_Fear_0_1  Count_Fear_0_2  Count_Fear_0_3  Count_Fear_0_4  \n0               3               1               1               1  \n1               1               3               1               1  \n2               5               1               0               0  \n3               4               2               0               0  \n4               3               2               1               0  \n\n[5 rows x 25 columns]",
      "text/html": "<div>\n<style scoped>\n    .dataframe tbody tr th:only-of-type {\n        vertical-align: middle;\n    }\n\n    .dataframe tbody tr th {\n        vertical-align: top;\n    }\n\n    .dataframe thead th {\n        text-align: right;\n    }\n</style>\n<table border=\"1\" class=\"dataframe\">\n  <thead>\n    <tr style=\"text-align: right;\">\n      <th></th>\n      <th>Subject</th>\n      <th>Count_Happy_1_1</th>\n      <th>Count_Happy_1_2</th>\n      <th>Count_Happy_1_3</th>\n      <th>Count_Happy_1_4</th>\n      <th>Count_Happy_0_1</th>\n      <th>Count_Happy_0_2</th>\n      <th>Count_Happy_0_3</th>\n      <th>Count_Happy_0_4</th>\n      <th>Count_Sad_1_1</th>\n      <th>...</th>\n      <th>Count_Sad_0_3</th>\n      <th>Count_Sad_0_4</th>\n      <th>Count_Fear_1_1</th>\n      <th>Count_Fear_1_2</th>\n      <th>Count_Fear_1_3</th>\n      <th>Count_Fear_1_4</th>\n      <th>Count_Fear_0_1</th>\n      <th>Count_Fear_0_2</th>\n      <th>Count_Fear_0_3</th>\n      <th>Count_Fear_0_4</th>\n    </tr>\n  </thead>\n  <tbody>\n    <tr>\n      <th>0</th>\n      <td>PREDWELL_RETOS-1-1</td>\n      <td>0</td>\n      <td>0</td>\n      <td>1</td>\n      <td>8</td>\n      <td>5</td>\n      <td>0</td>\n      <td>0</td>\n      <td>1</td>\n      <td>0</td>\n      <td>...</td>\n      <td>2</td>\n      <td>1</td>\n      <td>0</td>\n      <td>3</td>\n      <td>1</td>\n      <td>5</td>\n      <td>3</td>\n      <td>1</td>\n      <td>1</td>\n      <td>1</td>\n    </tr>\n    <tr>\n      <th>1</th>\n      <td>PREDWELL_RETOS-10-1</td>\n      <td>0</td>\n      <td>1</td>\n      <td>4</td>\n      <td>4</td>\n      <td>4</td>\n      <td>2</td>\n      <td>0</td>\n      <td>0</td>\n      <td>0</td>\n      <td>...</td>\n      <td>1</td>\n      <td>0</td>\n      <td>1</td>\n      <td>1</td>\n      <td>3</td>\n      <td>4</td>\n      <td>1</td>\n      <td>3</td>\n      <td>1</td>\n      <td>1</td>\n    </tr>\n    <tr>\n      <th>2</th>\n      <td>PREDWELL_RETOS-101-1</td>\n      <td>0</td>\n      <td>1</td>\n      <td>2</td>\n      <td>6</td>\n      <td>5</td>\n      <td>1</td>\n      <td>0</td>\n      <td>0</td>\n      <td>1</td>\n      <td>...</td>\n      <td>1</td>\n      <td>0</td>\n      <td>2</td>\n      <td>1</td>\n      <td>3</td>\n      <td>3</td>\n      <td>5</td>\n      <td>1</td>\n      <td>0</td>\n      <td>0</td>\n    </tr>\n    <tr>\n      <th>3</th>\n      <td>PREDWELL_RETOS-102-1</td>\n      <td>1</td>\n      <td>0</td>\n      <td>4</td>\n      <td>4</td>\n      <td>6</td>\n      <td>0</td>\n      <td>0</td>\n      <td>0</td>\n      <td>1</td>\n      <td>...</td>\n      <td>0</td>\n      <td>3</td>\n      <td>0</td>\n      <td>2</td>\n      <td>3</td>\n      <td>4</td>\n      <td>4</td>\n      <td>2</td>\n      <td>0</td>\n      <td>0</td>\n    </tr>\n    <tr>\n      <th>4</th>\n      <td>PREDWELL_RETOS-103-1</td>\n      <td>0</td>\n      <td>1</td>\n      <td>1</td>\n      <td>7</td>\n      <td>5</td>\n      <td>1</td>\n      <td>0</td>\n      <td>0</td>\n      <td>0</td>\n      <td>...</td>\n      <td>1</td>\n      <td>0</td>\n      <td>3</td>\n      <td>2</td>\n      <td>3</td>\n      <td>1</td>\n      <td>3</td>\n      <td>2</td>\n      <td>1</td>\n      <td>0</td>\n    </tr>\n  </tbody>\n</table>\n<p>5 rows × 25 columns</p>\n</div>"
     },
     "execution_count": 31,
     "metadata": {},
     "output_type": "execute_result"
    }
   ],
   "source": [
    "multiindex_Rating = Rating0_RETOS_counts.set_index(['Subject', 'Emotion', 'Match', 'Score'])\n",
    "Rating_RETOS_df = multiindex_Rating.unstack(level=['Emotion', 'Match', 'Score'])\n",
    "Rating_RETOS_df.columns = ['_'.join(map(str, col)).strip() for col in Rating_RETOS_df.columns.values]\n",
    "Rating_RETOS_df = Rating_RETOS_df.reset_index()\n",
    "\n",
    "#We modify the Dataset so that each row completely represents a subject with all the information regarding its ratings.\n",
    "Rating_RETOS_df.to_excel('../Clustering_Predictive_Processing/RETOS_Rating_count.xlsx', index=False) \n",
    "Rating_RETOS_df.head(5)\n"
   ],
   "metadata": {
    "collapsed": false,
    "ExecuteTime": {
     "end_time": "2024-04-04T13:37:11.322252Z",
     "start_time": "2024-04-04T13:37:10.875350Z"
    }
   },
   "id": "26cef6df8bac437c",
   "execution_count": 31
  },
  {
   "cell_type": "markdown",
   "source": [
    "## BEBRASK & RETOS Long Merge\n"
   ],
   "metadata": {
    "collapsed": false
   },
   "id": "27d270415eddad0e"
  },
  {
   "cell_type": "code",
   "outputs": [
    {
     "data": {
      "text/plain": "                      Rating0.RESP_1.0  Rating0.RESP_2.0  Rating0.RESP_3.0  \\\nDataFile.Basename                                                            \nPREDWELL_RETOS-1-1                 1.0               3.0               4.0   \nPREDWELL_RETOS-10-1                4.0               2.0               2.0   \nPREDWELL_RETOS-101-1               2.0               3.0               3.0   \nPREDWELL_RETOS-102-1               1.0               1.0               2.0   \nPREDWELL_RETOS-103-1               3.0               1.0               2.0   \n\n                      Rating0.RESP_4.0  Rating0.RESP_5.0  Rating0.RESP_6.0  \\\nDataFile.Basename                                                            \nPREDWELL_RETOS-1-1                 4.0               4.0               2.0   \nPREDWELL_RETOS-10-1                4.0               3.0               4.0   \nPREDWELL_RETOS-101-1               4.0               4.0               1.0   \nPREDWELL_RETOS-102-1               1.0               1.0               2.0   \nPREDWELL_RETOS-103-1               2.0               1.0               1.0   \n\n                      Rating0.RESP_7.0  Rating0.RESP_8.0  Rating0.RESP_9.0  \\\nDataFile.Basename                                                            \nPREDWELL_RETOS-1-1                 1.0               4.0               4.0   \nPREDWELL_RETOS-10-1                3.0               1.0               1.0   \nPREDWELL_RETOS-101-1               1.0               4.0               3.0   \nPREDWELL_RETOS-102-1               2.0               1.0               1.0   \nPREDWELL_RETOS-103-1               3.0               1.0               2.0   \n\n                      Rating0.RESP_10.0  ...  Fulfilled_36.0  Fulfilled_37.0  \\\nDataFile.Basename                        ...                                   \nPREDWELL_RETOS-1-1                  4.0  ...             1.0             0.0   \nPREDWELL_RETOS-10-1                 3.0  ...             0.0             0.0   \nPREDWELL_RETOS-101-1                1.0  ...             0.0             0.0   \nPREDWELL_RETOS-102-1                4.0  ...             0.0             0.0   \nPREDWELL_RETOS-103-1                1.0  ...             1.0             1.0   \n\n                      Fulfilled_38.0  Fulfilled_39.0  Fulfilled_40.0  \\\nDataFile.Basename                                                      \nPREDWELL_RETOS-1-1               1.0             1.0             1.0   \nPREDWELL_RETOS-10-1              1.0             1.0             0.0   \nPREDWELL_RETOS-101-1             1.0             1.0             1.0   \nPREDWELL_RETOS-102-1             1.0             1.0             1.0   \nPREDWELL_RETOS-103-1             0.0             1.0             0.0   \n\n                      Fulfilled_41.0  Fulfilled_42.0  Fulfilled_43.0  \\\nDataFile.Basename                                                      \nPREDWELL_RETOS-1-1               0.0             1.0             0.0   \nPREDWELL_RETOS-10-1              1.0             1.0             0.0   \nPREDWELL_RETOS-101-1             0.0             0.0             1.0   \nPREDWELL_RETOS-102-1             0.0             0.0             1.0   \nPREDWELL_RETOS-103-1             0.0             0.0             0.0   \n\n                      Fulfilled_44.0  Fulfilled_45.0  \nDataFile.Basename                                     \nPREDWELL_RETOS-1-1               1.0             1.0  \nPREDWELL_RETOS-10-1              1.0             0.0  \nPREDWELL_RETOS-101-1             1.0             1.0  \nPREDWELL_RETOS-102-1             1.0             1.0  \nPREDWELL_RETOS-103-1             1.0             1.0  \n\n[5 rows x 270 columns]",
      "text/html": "<div>\n<style scoped>\n    .dataframe tbody tr th:only-of-type {\n        vertical-align: middle;\n    }\n\n    .dataframe tbody tr th {\n        vertical-align: top;\n    }\n\n    .dataframe thead th {\n        text-align: right;\n    }\n</style>\n<table border=\"1\" class=\"dataframe\">\n  <thead>\n    <tr style=\"text-align: right;\">\n      <th></th>\n      <th>Rating0.RESP_1.0</th>\n      <th>Rating0.RESP_2.0</th>\n      <th>Rating0.RESP_3.0</th>\n      <th>Rating0.RESP_4.0</th>\n      <th>Rating0.RESP_5.0</th>\n      <th>Rating0.RESP_6.0</th>\n      <th>Rating0.RESP_7.0</th>\n      <th>Rating0.RESP_8.0</th>\n      <th>Rating0.RESP_9.0</th>\n      <th>Rating0.RESP_10.0</th>\n      <th>...</th>\n      <th>Fulfilled_36.0</th>\n      <th>Fulfilled_37.0</th>\n      <th>Fulfilled_38.0</th>\n      <th>Fulfilled_39.0</th>\n      <th>Fulfilled_40.0</th>\n      <th>Fulfilled_41.0</th>\n      <th>Fulfilled_42.0</th>\n      <th>Fulfilled_43.0</th>\n      <th>Fulfilled_44.0</th>\n      <th>Fulfilled_45.0</th>\n    </tr>\n    <tr>\n      <th>DataFile.Basename</th>\n      <th></th>\n      <th></th>\n      <th></th>\n      <th></th>\n      <th></th>\n      <th></th>\n      <th></th>\n      <th></th>\n      <th></th>\n      <th></th>\n      <th></th>\n      <th></th>\n      <th></th>\n      <th></th>\n      <th></th>\n      <th></th>\n      <th></th>\n      <th></th>\n      <th></th>\n      <th></th>\n      <th></th>\n    </tr>\n  </thead>\n  <tbody>\n    <tr>\n      <th>PREDWELL_RETOS-1-1</th>\n      <td>1.0</td>\n      <td>3.0</td>\n      <td>4.0</td>\n      <td>4.0</td>\n      <td>4.0</td>\n      <td>2.0</td>\n      <td>1.0</td>\n      <td>4.0</td>\n      <td>4.0</td>\n      <td>4.0</td>\n      <td>...</td>\n      <td>1.0</td>\n      <td>0.0</td>\n      <td>1.0</td>\n      <td>1.0</td>\n      <td>1.0</td>\n      <td>0.0</td>\n      <td>1.0</td>\n      <td>0.0</td>\n      <td>1.0</td>\n      <td>1.0</td>\n    </tr>\n    <tr>\n      <th>PREDWELL_RETOS-10-1</th>\n      <td>4.0</td>\n      <td>2.0</td>\n      <td>2.0</td>\n      <td>4.0</td>\n      <td>3.0</td>\n      <td>4.0</td>\n      <td>3.0</td>\n      <td>1.0</td>\n      <td>1.0</td>\n      <td>3.0</td>\n      <td>...</td>\n      <td>0.0</td>\n      <td>0.0</td>\n      <td>1.0</td>\n      <td>1.0</td>\n      <td>0.0</td>\n      <td>1.0</td>\n      <td>1.0</td>\n      <td>0.0</td>\n      <td>1.0</td>\n      <td>0.0</td>\n    </tr>\n    <tr>\n      <th>PREDWELL_RETOS-101-1</th>\n      <td>2.0</td>\n      <td>3.0</td>\n      <td>3.0</td>\n      <td>4.0</td>\n      <td>4.0</td>\n      <td>1.0</td>\n      <td>1.0</td>\n      <td>4.0</td>\n      <td>3.0</td>\n      <td>1.0</td>\n      <td>...</td>\n      <td>0.0</td>\n      <td>0.0</td>\n      <td>1.0</td>\n      <td>1.0</td>\n      <td>1.0</td>\n      <td>0.0</td>\n      <td>0.0</td>\n      <td>1.0</td>\n      <td>1.0</td>\n      <td>1.0</td>\n    </tr>\n    <tr>\n      <th>PREDWELL_RETOS-102-1</th>\n      <td>1.0</td>\n      <td>1.0</td>\n      <td>2.0</td>\n      <td>1.0</td>\n      <td>1.0</td>\n      <td>2.0</td>\n      <td>2.0</td>\n      <td>1.0</td>\n      <td>1.0</td>\n      <td>4.0</td>\n      <td>...</td>\n      <td>0.0</td>\n      <td>0.0</td>\n      <td>1.0</td>\n      <td>1.0</td>\n      <td>1.0</td>\n      <td>0.0</td>\n      <td>0.0</td>\n      <td>1.0</td>\n      <td>1.0</td>\n      <td>1.0</td>\n    </tr>\n    <tr>\n      <th>PREDWELL_RETOS-103-1</th>\n      <td>3.0</td>\n      <td>1.0</td>\n      <td>2.0</td>\n      <td>2.0</td>\n      <td>1.0</td>\n      <td>1.0</td>\n      <td>3.0</td>\n      <td>1.0</td>\n      <td>2.0</td>\n      <td>1.0</td>\n      <td>...</td>\n      <td>1.0</td>\n      <td>1.0</td>\n      <td>0.0</td>\n      <td>1.0</td>\n      <td>0.0</td>\n      <td>0.0</td>\n      <td>0.0</td>\n      <td>0.0</td>\n      <td>1.0</td>\n      <td>1.0</td>\n    </tr>\n  </tbody>\n</table>\n<p>5 rows × 270 columns</p>\n</div>"
     },
     "execution_count": 32,
     "metadata": {},
     "output_type": "execute_result"
    }
   ],
   "source": [
    "RETOS_BEBRASK_long = pd.concat([RETOS_tasks_long_copy,BEBRASK_tasks_long_copy])\n",
    "RETOS_BEBRASK_long.to_excel('../Clustering_Predictive_Processing/RETOS_BEBRASK_long.xlsx', index=True)\n",
    "RETOS_BEBRASK_long.head(5)"
   ],
   "metadata": {
    "collapsed": false,
    "ExecuteTime": {
     "end_time": "2024-04-04T13:37:12.326179Z",
     "start_time": "2024-04-04T13:37:11.323876Z"
    }
   },
   "id": "424da52a13d67df1",
   "execution_count": 32
  },
  {
   "cell_type": "markdown",
   "source": [
    "## BEBRASK & RETOS Count Merge"
   ],
   "metadata": {
    "collapsed": false
   },
   "id": "d6e1c9bc2383ef0b"
  },
  {
   "cell_type": "code",
   "outputs": [
    {
     "data": {
      "text/plain": "                Subject  Count_Happy_1_1  Count_Happy_1_2  Count_Happy_1_3  \\\n0    PREDWELL_RETOS-1-1                0                0                1   \n1   PREDWELL_RETOS-10-1                0                1                4   \n2  PREDWELL_RETOS-101-1                0                1                2   \n3  PREDWELL_RETOS-102-1                1                0                4   \n4  PREDWELL_RETOS-103-1                0                1                1   \n\n   Count_Happy_1_4  Count_Happy_0_1  Count_Happy_0_2  Count_Happy_0_3  \\\n0                8                5                0                0   \n1                4                4                2                0   \n2                6                5                1                0   \n3                4                6                0                0   \n4                7                5                1                0   \n\n   Count_Happy_0_4  Count_Sad_1_1  ...  Count_Sad_0_3  Count_Sad_0_4  \\\n0                1              0  ...              2              1   \n1                0              0  ...              1              0   \n2                0              1  ...              1              0   \n3                0              1  ...              0              3   \n4                0              0  ...              1              0   \n\n   Count_Fear_1_1  Count_Fear_1_2  Count_Fear_1_3  Count_Fear_1_4  \\\n0               0               3               1               5   \n1               1               1               3               4   \n2               2               1               3               3   \n3               0               2               3               4   \n4               3               2               3               1   \n\n   Count_Fear_0_1  Count_Fear_0_2  Count_Fear_0_3  Count_Fear_0_4  \n0               3               1               1               1  \n1               1               3               1               1  \n2               5               1               0               0  \n3               4               2               0               0  \n4               3               2               1               0  \n\n[5 rows x 25 columns]",
      "text/html": "<div>\n<style scoped>\n    .dataframe tbody tr th:only-of-type {\n        vertical-align: middle;\n    }\n\n    .dataframe tbody tr th {\n        vertical-align: top;\n    }\n\n    .dataframe thead th {\n        text-align: right;\n    }\n</style>\n<table border=\"1\" class=\"dataframe\">\n  <thead>\n    <tr style=\"text-align: right;\">\n      <th></th>\n      <th>Subject</th>\n      <th>Count_Happy_1_1</th>\n      <th>Count_Happy_1_2</th>\n      <th>Count_Happy_1_3</th>\n      <th>Count_Happy_1_4</th>\n      <th>Count_Happy_0_1</th>\n      <th>Count_Happy_0_2</th>\n      <th>Count_Happy_0_3</th>\n      <th>Count_Happy_0_4</th>\n      <th>Count_Sad_1_1</th>\n      <th>...</th>\n      <th>Count_Sad_0_3</th>\n      <th>Count_Sad_0_4</th>\n      <th>Count_Fear_1_1</th>\n      <th>Count_Fear_1_2</th>\n      <th>Count_Fear_1_3</th>\n      <th>Count_Fear_1_4</th>\n      <th>Count_Fear_0_1</th>\n      <th>Count_Fear_0_2</th>\n      <th>Count_Fear_0_3</th>\n      <th>Count_Fear_0_4</th>\n    </tr>\n  </thead>\n  <tbody>\n    <tr>\n      <th>0</th>\n      <td>PREDWELL_RETOS-1-1</td>\n      <td>0</td>\n      <td>0</td>\n      <td>1</td>\n      <td>8</td>\n      <td>5</td>\n      <td>0</td>\n      <td>0</td>\n      <td>1</td>\n      <td>0</td>\n      <td>...</td>\n      <td>2</td>\n      <td>1</td>\n      <td>0</td>\n      <td>3</td>\n      <td>1</td>\n      <td>5</td>\n      <td>3</td>\n      <td>1</td>\n      <td>1</td>\n      <td>1</td>\n    </tr>\n    <tr>\n      <th>1</th>\n      <td>PREDWELL_RETOS-10-1</td>\n      <td>0</td>\n      <td>1</td>\n      <td>4</td>\n      <td>4</td>\n      <td>4</td>\n      <td>2</td>\n      <td>0</td>\n      <td>0</td>\n      <td>0</td>\n      <td>...</td>\n      <td>1</td>\n      <td>0</td>\n      <td>1</td>\n      <td>1</td>\n      <td>3</td>\n      <td>4</td>\n      <td>1</td>\n      <td>3</td>\n      <td>1</td>\n      <td>1</td>\n    </tr>\n    <tr>\n      <th>2</th>\n      <td>PREDWELL_RETOS-101-1</td>\n      <td>0</td>\n      <td>1</td>\n      <td>2</td>\n      <td>6</td>\n      <td>5</td>\n      <td>1</td>\n      <td>0</td>\n      <td>0</td>\n      <td>1</td>\n      <td>...</td>\n      <td>1</td>\n      <td>0</td>\n      <td>2</td>\n      <td>1</td>\n      <td>3</td>\n      <td>3</td>\n      <td>5</td>\n      <td>1</td>\n      <td>0</td>\n      <td>0</td>\n    </tr>\n    <tr>\n      <th>3</th>\n      <td>PREDWELL_RETOS-102-1</td>\n      <td>1</td>\n      <td>0</td>\n      <td>4</td>\n      <td>4</td>\n      <td>6</td>\n      <td>0</td>\n      <td>0</td>\n      <td>0</td>\n      <td>1</td>\n      <td>...</td>\n      <td>0</td>\n      <td>3</td>\n      <td>0</td>\n      <td>2</td>\n      <td>3</td>\n      <td>4</td>\n      <td>4</td>\n      <td>2</td>\n      <td>0</td>\n      <td>0</td>\n    </tr>\n    <tr>\n      <th>4</th>\n      <td>PREDWELL_RETOS-103-1</td>\n      <td>0</td>\n      <td>1</td>\n      <td>1</td>\n      <td>7</td>\n      <td>5</td>\n      <td>1</td>\n      <td>0</td>\n      <td>0</td>\n      <td>0</td>\n      <td>...</td>\n      <td>1</td>\n      <td>0</td>\n      <td>3</td>\n      <td>2</td>\n      <td>3</td>\n      <td>1</td>\n      <td>3</td>\n      <td>2</td>\n      <td>1</td>\n      <td>0</td>\n    </tr>\n  </tbody>\n</table>\n<p>5 rows × 25 columns</p>\n</div>"
     },
     "execution_count": 33,
     "metadata": {},
     "output_type": "execute_result"
    }
   ],
   "source": [
    "RETOS_BEBRASK_Rating0_Count = pd.concat([Rating0_RETOS_df,Rating0_BEBRASK_df])\n",
    "RETOS_BEBRASK_Rating0_Count.to_excel('../Clustering_Predictive_Processing/RETOS_BEBRASK_Rating0_count.xlsx', index=False) \n",
    "RETOS_BEBRASK_Rating0_Count.head(5)"
   ],
   "metadata": {
    "collapsed": false,
    "ExecuteTime": {
     "end_time": "2024-04-04T13:37:12.436646Z",
     "start_time": "2024-04-04T13:37:12.327619Z"
    }
   },
   "id": "f55ed7ecf00c7ee0",
   "execution_count": 33
  },
  {
   "cell_type": "code",
   "outputs": [
    {
     "data": {
      "text/plain": "                Subject  Count_Happy_1_1  Count_Happy_1_2  Count_Happy_1_3  \\\n0    PREDWELL_RETOS-1-1                0                0                1   \n1   PREDWELL_RETOS-10-1                0                1                4   \n2  PREDWELL_RETOS-101-1                0                1                2   \n3  PREDWELL_RETOS-102-1                1                0                4   \n4  PREDWELL_RETOS-103-1                0                1                1   \n\n   Count_Happy_1_4  Count_Happy_0_1  Count_Happy_0_2  Count_Happy_0_3  \\\n0                8                5                0                0   \n1                4                4                2                0   \n2                6                5                1                0   \n3                4                6                0                0   \n4                7                5                1                0   \n\n   Count_Happy_0_4  Count_Sad_1_1  ...  Count_Sad_0_3  Count_Sad_0_4  \\\n0                1              0  ...              2              1   \n1                0              0  ...              1              0   \n2                0              1  ...              1              0   \n3                0              1  ...              0              3   \n4                0              0  ...              1              0   \n\n   Count_Fear_1_1  Count_Fear_1_2  Count_Fear_1_3  Count_Fear_1_4  \\\n0               0               3               1               5   \n1               1               1               3               4   \n2               2               1               3               3   \n3               0               2               3               4   \n4               3               2               3               1   \n\n   Count_Fear_0_1  Count_Fear_0_2  Count_Fear_0_3  Count_Fear_0_4  \n0               3               1               1               1  \n1               1               3               1               1  \n2               5               1               0               0  \n3               4               2               0               0  \n4               3               2               1               0  \n\n[5 rows x 25 columns]",
      "text/html": "<div>\n<style scoped>\n    .dataframe tbody tr th:only-of-type {\n        vertical-align: middle;\n    }\n\n    .dataframe tbody tr th {\n        vertical-align: top;\n    }\n\n    .dataframe thead th {\n        text-align: right;\n    }\n</style>\n<table border=\"1\" class=\"dataframe\">\n  <thead>\n    <tr style=\"text-align: right;\">\n      <th></th>\n      <th>Subject</th>\n      <th>Count_Happy_1_1</th>\n      <th>Count_Happy_1_2</th>\n      <th>Count_Happy_1_3</th>\n      <th>Count_Happy_1_4</th>\n      <th>Count_Happy_0_1</th>\n      <th>Count_Happy_0_2</th>\n      <th>Count_Happy_0_3</th>\n      <th>Count_Happy_0_4</th>\n      <th>Count_Sad_1_1</th>\n      <th>...</th>\n      <th>Count_Sad_0_3</th>\n      <th>Count_Sad_0_4</th>\n      <th>Count_Fear_1_1</th>\n      <th>Count_Fear_1_2</th>\n      <th>Count_Fear_1_3</th>\n      <th>Count_Fear_1_4</th>\n      <th>Count_Fear_0_1</th>\n      <th>Count_Fear_0_2</th>\n      <th>Count_Fear_0_3</th>\n      <th>Count_Fear_0_4</th>\n    </tr>\n  </thead>\n  <tbody>\n    <tr>\n      <th>0</th>\n      <td>PREDWELL_RETOS-1-1</td>\n      <td>0</td>\n      <td>0</td>\n      <td>1</td>\n      <td>8</td>\n      <td>5</td>\n      <td>0</td>\n      <td>0</td>\n      <td>1</td>\n      <td>0</td>\n      <td>...</td>\n      <td>2</td>\n      <td>1</td>\n      <td>0</td>\n      <td>3</td>\n      <td>1</td>\n      <td>5</td>\n      <td>3</td>\n      <td>1</td>\n      <td>1</td>\n      <td>1</td>\n    </tr>\n    <tr>\n      <th>1</th>\n      <td>PREDWELL_RETOS-10-1</td>\n      <td>0</td>\n      <td>1</td>\n      <td>4</td>\n      <td>4</td>\n      <td>4</td>\n      <td>2</td>\n      <td>0</td>\n      <td>0</td>\n      <td>0</td>\n      <td>...</td>\n      <td>1</td>\n      <td>0</td>\n      <td>1</td>\n      <td>1</td>\n      <td>3</td>\n      <td>4</td>\n      <td>1</td>\n      <td>3</td>\n      <td>1</td>\n      <td>1</td>\n    </tr>\n    <tr>\n      <th>2</th>\n      <td>PREDWELL_RETOS-101-1</td>\n      <td>0</td>\n      <td>1</td>\n      <td>2</td>\n      <td>6</td>\n      <td>5</td>\n      <td>1</td>\n      <td>0</td>\n      <td>0</td>\n      <td>1</td>\n      <td>...</td>\n      <td>1</td>\n      <td>0</td>\n      <td>2</td>\n      <td>1</td>\n      <td>3</td>\n      <td>3</td>\n      <td>5</td>\n      <td>1</td>\n      <td>0</td>\n      <td>0</td>\n    </tr>\n    <tr>\n      <th>3</th>\n      <td>PREDWELL_RETOS-102-1</td>\n      <td>1</td>\n      <td>0</td>\n      <td>4</td>\n      <td>4</td>\n      <td>6</td>\n      <td>0</td>\n      <td>0</td>\n      <td>0</td>\n      <td>1</td>\n      <td>...</td>\n      <td>0</td>\n      <td>3</td>\n      <td>0</td>\n      <td>2</td>\n      <td>3</td>\n      <td>4</td>\n      <td>4</td>\n      <td>2</td>\n      <td>0</td>\n      <td>0</td>\n    </tr>\n    <tr>\n      <th>4</th>\n      <td>PREDWELL_RETOS-103-1</td>\n      <td>0</td>\n      <td>1</td>\n      <td>1</td>\n      <td>7</td>\n      <td>5</td>\n      <td>1</td>\n      <td>0</td>\n      <td>0</td>\n      <td>0</td>\n      <td>...</td>\n      <td>1</td>\n      <td>0</td>\n      <td>3</td>\n      <td>2</td>\n      <td>3</td>\n      <td>1</td>\n      <td>3</td>\n      <td>2</td>\n      <td>1</td>\n      <td>0</td>\n    </tr>\n  </tbody>\n</table>\n<p>5 rows × 25 columns</p>\n</div>"
     },
     "execution_count": 34,
     "metadata": {},
     "output_type": "execute_result"
    }
   ],
   "source": [
    "RETOS_BEBRASK_Rating_Count = pd.concat([Rating_RETOS_df, Rating_BEBRASK_df])\n",
    "RETOS_BEBRASK_Rating_Count.to_excel('../Clustering_Predictive_Processing/RETOS_BEBRASK_Rating_count.xlsx',index=False)\n",
    "RETOS_BEBRASK_Rating_Count.head(5)\n"
   ],
   "metadata": {
    "collapsed": false,
    "ExecuteTime": {
     "end_time": "2024-04-04T13:37:12.693290Z",
     "start_time": "2024-04-04T13:37:12.438259Z"
    }
   },
   "id": "d01d0f507f47aa3c",
   "execution_count": 34
  },
  {
   "cell_type": "markdown",
   "source": [
    "## BEBRASK & RETOS Time Series By Emotion and Match"
   ],
   "metadata": {
    "collapsed": false
   },
   "id": "f9c0960770d32721"
  },
  {
   "cell_type": "code",
   "outputs": [],
   "source": [
    "merged_dict = {**subject_dict_BEBRASK, **subject_dict_RETOS}\n",
    "\n",
    "#Unimos los dos diccionarios con la información organizada por emociones"
   ],
   "metadata": {
    "collapsed": false,
    "ExecuteTime": {
     "end_time": "2024-04-04T13:37:12.887366Z",
     "start_time": "2024-04-04T13:37:12.694921Z"
    }
   },
   "id": "36f10d6edf34b881",
   "execution_count": 35
  },
  {
   "cell_type": "code",
   "outputs": [],
   "source": [
    "def convert_time_series(subject_dict,rating):\n",
    "    \"\"\"\n",
    "    Processes a dictionary with the information of the answers given by each subject organized by sentiment, and creates\n",
    "    a dataframe where the trials are organized sequentially according to the emotion and whether it is a match or not (e.g. the first 9 columns of a subject are the 9 Happy match trials, the next 6 are the Happy no match trials, and the next 6 are the Happy no match trials, and\n",
    "    9 columns of a subject are the 9 Happy match trials, the next 6 are the Happy non-match, and so on with the other emotions).\n",
    "    other emotions).  \n",
    "    \n",
    "    Parameters:\n",
    "    - subject_dict (dict): Dictionary containing the information of the scores organized by subjects and by emotions.\n",
    "    - rating (string): rating from which to make the aggregations of the scores (Rating0 or Rating).\n",
    "    \n",
    "    Returns:\n",
    "    - df_counts (pandas.DataFrame): A dataframe where each row contains the subject's identifier and a time series corresponding to its answers.\n",
    "    corresponding to its answers\n",
    "    \"\"\"\n",
    "    results = {}\n",
    "    for instance, categories in subject_dict.items():\n",
    "        results[instance] = {}\n",
    "        for category, info in categories.items():\n",
    "            pred = info[rating]\n",
    "            fulfill = info['Fulfill']\n",
    "            no_match_pred = pred[np.where(fulfill == 0)[0]]\n",
    "            match_pred = pred[np.where(fulfill == 1)[0]]\n",
    "            \n",
    "\n",
    "            results[instance][category] = {\n",
    "                'Fulfill_0': no_match_pred,\n",
    "                'Fulfill_1_': match_pred\n",
    "            }\n",
    "    records = []\n",
    "    for subject_id, emotions in results.items():\n",
    "        record = {'Subject ID': subject_id}\n",
    "        for emotion, stats in emotions.items():\n",
    "            for stat_key, stat_value in stats.items():\n",
    "                for i,val in enumerate(stat_value):\n",
    "                # Creating new column names in the format \"Emotion_Match_AppearanceOrder\"\n",
    "                    column_name = f\"{emotion}_{stat_key[8]}_{i}\"\n",
    "                    record[column_name] = val\n",
    "        records.append(record)\n",
    "\n",
    "    return pd.DataFrame(records)\n"
   ],
   "metadata": {
    "collapsed": false,
    "ExecuteTime": {
     "end_time": "2024-04-04T13:37:13.144055Z",
     "start_time": "2024-04-04T13:37:12.889027Z"
    }
   },
   "id": "66f60a4957570686",
   "execution_count": 36
  },
  {
   "cell_type": "code",
   "outputs": [],
   "source": [
    "RETOS_BEBRASK_Rating0_Time_Series = convert_time_series(merged_dict, \"Rating0\")\n",
    "RETOS_BEBRASK_Rating_Time_Series = convert_time_series(merged_dict, \"Rating\")\n"
   ],
   "metadata": {
    "collapsed": false,
    "ExecuteTime": {
     "end_time": "2024-04-04T13:37:13.572894Z",
     "start_time": "2024-04-04T13:37:13.145711Z"
    }
   },
   "id": "cb5e52f2661e4216",
   "execution_count": 37
  },
  {
   "cell_type": "code",
   "outputs": [
    {
     "data": {
      "text/plain": "              Subject ID  Happy_0_0  Happy_0_1  Happy_0_2  Happy_0_3  \\\n0  PREDWELL_RETOS-1001-1          4          1          1          1   \n1  PREDWELL_RETOS-1002-1          1          1          3          1   \n2  PREDWELL_RETOS-1003-1          1          1          1          1   \n3  PREDWELL_RETOS-1004-1          1          1          3          3   \n4  PREDWELL_RETOS-1005-1          1          1          1          1   \n\n   Happy_0_4  Happy_0_5  Happy_1_0  Happy_1_1  Happy_1_2  ...  Fear_0_5  \\\n0          1          1          4          4          4  ...         3   \n1          1          1          3          4          4  ...         1   \n2          1          1          3          3          4  ...         2   \n3          2          1          1          4          2  ...         2   \n4          2          1          4          3          4  ...         1   \n\n   Fear_1_0  Fear_1_1  Fear_1_2  Fear_1_3  Fear_1_4  Fear_1_5  Fear_1_6  \\\n0         4         1         3         2         3         4         3   \n1         3         1         3         4         3         4         2   \n2         2         2         3         2         2         2         1   \n3         2         4         3         1         3         3         2   \n4         2         2         2         3         3         3         4   \n\n   Fear_1_7  Fear_1_8  \n0         3         4  \n1         3         4  \n2         3         3  \n3         1         3  \n4         3         3  \n\n[5 rows x 46 columns]",
      "text/html": "<div>\n<style scoped>\n    .dataframe tbody tr th:only-of-type {\n        vertical-align: middle;\n    }\n\n    .dataframe tbody tr th {\n        vertical-align: top;\n    }\n\n    .dataframe thead th {\n        text-align: right;\n    }\n</style>\n<table border=\"1\" class=\"dataframe\">\n  <thead>\n    <tr style=\"text-align: right;\">\n      <th></th>\n      <th>Subject ID</th>\n      <th>Happy_0_0</th>\n      <th>Happy_0_1</th>\n      <th>Happy_0_2</th>\n      <th>Happy_0_3</th>\n      <th>Happy_0_4</th>\n      <th>Happy_0_5</th>\n      <th>Happy_1_0</th>\n      <th>Happy_1_1</th>\n      <th>Happy_1_2</th>\n      <th>...</th>\n      <th>Fear_0_5</th>\n      <th>Fear_1_0</th>\n      <th>Fear_1_1</th>\n      <th>Fear_1_2</th>\n      <th>Fear_1_3</th>\n      <th>Fear_1_4</th>\n      <th>Fear_1_5</th>\n      <th>Fear_1_6</th>\n      <th>Fear_1_7</th>\n      <th>Fear_1_8</th>\n    </tr>\n  </thead>\n  <tbody>\n    <tr>\n      <th>0</th>\n      <td>PREDWELL_RETOS-1001-1</td>\n      <td>4</td>\n      <td>1</td>\n      <td>1</td>\n      <td>1</td>\n      <td>1</td>\n      <td>1</td>\n      <td>4</td>\n      <td>4</td>\n      <td>4</td>\n      <td>...</td>\n      <td>3</td>\n      <td>4</td>\n      <td>1</td>\n      <td>3</td>\n      <td>2</td>\n      <td>3</td>\n      <td>4</td>\n      <td>3</td>\n      <td>3</td>\n      <td>4</td>\n    </tr>\n    <tr>\n      <th>1</th>\n      <td>PREDWELL_RETOS-1002-1</td>\n      <td>1</td>\n      <td>1</td>\n      <td>3</td>\n      <td>1</td>\n      <td>1</td>\n      <td>1</td>\n      <td>3</td>\n      <td>4</td>\n      <td>4</td>\n      <td>...</td>\n      <td>1</td>\n      <td>3</td>\n      <td>1</td>\n      <td>3</td>\n      <td>4</td>\n      <td>3</td>\n      <td>4</td>\n      <td>2</td>\n      <td>3</td>\n      <td>4</td>\n    </tr>\n    <tr>\n      <th>2</th>\n      <td>PREDWELL_RETOS-1003-1</td>\n      <td>1</td>\n      <td>1</td>\n      <td>1</td>\n      <td>1</td>\n      <td>1</td>\n      <td>1</td>\n      <td>3</td>\n      <td>3</td>\n      <td>4</td>\n      <td>...</td>\n      <td>2</td>\n      <td>2</td>\n      <td>2</td>\n      <td>3</td>\n      <td>2</td>\n      <td>2</td>\n      <td>2</td>\n      <td>1</td>\n      <td>3</td>\n      <td>3</td>\n    </tr>\n    <tr>\n      <th>3</th>\n      <td>PREDWELL_RETOS-1004-1</td>\n      <td>1</td>\n      <td>1</td>\n      <td>3</td>\n      <td>3</td>\n      <td>2</td>\n      <td>1</td>\n      <td>1</td>\n      <td>4</td>\n      <td>2</td>\n      <td>...</td>\n      <td>2</td>\n      <td>2</td>\n      <td>4</td>\n      <td>3</td>\n      <td>1</td>\n      <td>3</td>\n      <td>3</td>\n      <td>2</td>\n      <td>1</td>\n      <td>3</td>\n    </tr>\n    <tr>\n      <th>4</th>\n      <td>PREDWELL_RETOS-1005-1</td>\n      <td>1</td>\n      <td>1</td>\n      <td>1</td>\n      <td>1</td>\n      <td>2</td>\n      <td>1</td>\n      <td>4</td>\n      <td>3</td>\n      <td>4</td>\n      <td>...</td>\n      <td>1</td>\n      <td>2</td>\n      <td>2</td>\n      <td>2</td>\n      <td>3</td>\n      <td>3</td>\n      <td>3</td>\n      <td>4</td>\n      <td>3</td>\n      <td>3</td>\n    </tr>\n  </tbody>\n</table>\n<p>5 rows × 46 columns</p>\n</div>"
     },
     "execution_count": 38,
     "metadata": {},
     "output_type": "execute_result"
    }
   ],
   "source": [
    "RETOS_BEBRASK_Rating0_Time_Series.to_excel('../Clustering_Predictive_Processing/RETOS_BEBRASK_Rating0_Time_Series.xlsx', index=False) \n",
    "RETOS_BEBRASK_Rating0_Time_Series.head(5)\n"
   ],
   "metadata": {
    "collapsed": false,
    "ExecuteTime": {
     "end_time": "2024-04-04T13:37:13.699817Z",
     "start_time": "2024-04-04T13:37:13.578373Z"
    }
   },
   "id": "5d7fc10fdad63fa6",
   "execution_count": 38
  },
  {
   "cell_type": "code",
   "outputs": [
    {
     "data": {
      "text/plain": "                Subject ID  Happy_0_0  Happy_0_1  Happy_0_2  Happy_0_3  \\\n0    PREDWELL_RETOS-1001-1          4          1          1          1   \n1    PREDWELL_RETOS-1002-1          1          1          3          1   \n2    PREDWELL_RETOS-1003-1          1          1          1          1   \n3    PREDWELL_RETOS-1004-1          1          1          3          3   \n4    PREDWELL_RETOS-1005-1          1          1          1          1   \n..                     ...        ...        ...        ...        ...   \n144     PREDWELL_RETOS-5-1          2          2          1          1   \n145     PREDWELL_RETOS-6-1          1          2          1          1   \n146     PREDWELL_RETOS-7-1          1          1          1          1   \n147     PREDWELL_RETOS-8-1          1          1          1          1   \n148     PREDWELL_RETOS-9-1          1          1          1          1   \n\n     Happy_0_4  Happy_0_5  Happy_1_0  Happy_1_1  Happy_1_2  ...  Fear_0_5  \\\n0            1          1          4          4          4  ...         3   \n1            1          1          3          4          4  ...         1   \n2            1          1          3          3          4  ...         2   \n3            2          1          1          4          2  ...         2   \n4            2          1          4          3          4  ...         1   \n..         ...        ...        ...        ...        ...  ...       ...   \n144          1          1          3          4          4  ...         1   \n145          1          1          3          3          4  ...         1   \n146          1          1          3          4          2  ...         4   \n147          1          1          4          4          1  ...         3   \n148          1          1          2          4          3  ...         2   \n\n     Fear_1_0  Fear_1_1  Fear_1_2  Fear_1_3  Fear_1_4  Fear_1_5  Fear_1_6  \\\n0           4         1         3         2         3         4         3   \n1           3         1         3         4         3         4         2   \n2           2         2         3         2         2         2         1   \n3           2         4         3         1         3         3         2   \n4           2         2         2         3         3         3         4   \n..        ...       ...       ...       ...       ...       ...       ...   \n144         1         1         4         2         4         3         3   \n145         2         2         2         4         2         3         2   \n146         4         1         2         4         4         1         4   \n147         3         3         4         3         2         4         2   \n148         1         2         1         4         1         2         2   \n\n     Fear_1_7  Fear_1_8  \n0           3         4  \n1           3         4  \n2           3         3  \n3           1         3  \n4           3         3  \n..        ...       ...  \n144         2         2  \n145         4         4  \n146         4         1  \n147         1         3  \n148         3         2  \n\n[149 rows x 46 columns]",
      "text/html": "<div>\n<style scoped>\n    .dataframe tbody tr th:only-of-type {\n        vertical-align: middle;\n    }\n\n    .dataframe tbody tr th {\n        vertical-align: top;\n    }\n\n    .dataframe thead th {\n        text-align: right;\n    }\n</style>\n<table border=\"1\" class=\"dataframe\">\n  <thead>\n    <tr style=\"text-align: right;\">\n      <th></th>\n      <th>Subject ID</th>\n      <th>Happy_0_0</th>\n      <th>Happy_0_1</th>\n      <th>Happy_0_2</th>\n      <th>Happy_0_3</th>\n      <th>Happy_0_4</th>\n      <th>Happy_0_5</th>\n      <th>Happy_1_0</th>\n      <th>Happy_1_1</th>\n      <th>Happy_1_2</th>\n      <th>...</th>\n      <th>Fear_0_5</th>\n      <th>Fear_1_0</th>\n      <th>Fear_1_1</th>\n      <th>Fear_1_2</th>\n      <th>Fear_1_3</th>\n      <th>Fear_1_4</th>\n      <th>Fear_1_5</th>\n      <th>Fear_1_6</th>\n      <th>Fear_1_7</th>\n      <th>Fear_1_8</th>\n    </tr>\n  </thead>\n  <tbody>\n    <tr>\n      <th>0</th>\n      <td>PREDWELL_RETOS-1001-1</td>\n      <td>4</td>\n      <td>1</td>\n      <td>1</td>\n      <td>1</td>\n      <td>1</td>\n      <td>1</td>\n      <td>4</td>\n      <td>4</td>\n      <td>4</td>\n      <td>...</td>\n      <td>3</td>\n      <td>4</td>\n      <td>1</td>\n      <td>3</td>\n      <td>2</td>\n      <td>3</td>\n      <td>4</td>\n      <td>3</td>\n      <td>3</td>\n      <td>4</td>\n    </tr>\n    <tr>\n      <th>1</th>\n      <td>PREDWELL_RETOS-1002-1</td>\n      <td>1</td>\n      <td>1</td>\n      <td>3</td>\n      <td>1</td>\n      <td>1</td>\n      <td>1</td>\n      <td>3</td>\n      <td>4</td>\n      <td>4</td>\n      <td>...</td>\n      <td>1</td>\n      <td>3</td>\n      <td>1</td>\n      <td>3</td>\n      <td>4</td>\n      <td>3</td>\n      <td>4</td>\n      <td>2</td>\n      <td>3</td>\n      <td>4</td>\n    </tr>\n    <tr>\n      <th>2</th>\n      <td>PREDWELL_RETOS-1003-1</td>\n      <td>1</td>\n      <td>1</td>\n      <td>1</td>\n      <td>1</td>\n      <td>1</td>\n      <td>1</td>\n      <td>3</td>\n      <td>3</td>\n      <td>4</td>\n      <td>...</td>\n      <td>2</td>\n      <td>2</td>\n      <td>2</td>\n      <td>3</td>\n      <td>2</td>\n      <td>2</td>\n      <td>2</td>\n      <td>1</td>\n      <td>3</td>\n      <td>3</td>\n    </tr>\n    <tr>\n      <th>3</th>\n      <td>PREDWELL_RETOS-1004-1</td>\n      <td>1</td>\n      <td>1</td>\n      <td>3</td>\n      <td>3</td>\n      <td>2</td>\n      <td>1</td>\n      <td>1</td>\n      <td>4</td>\n      <td>2</td>\n      <td>...</td>\n      <td>2</td>\n      <td>2</td>\n      <td>4</td>\n      <td>3</td>\n      <td>1</td>\n      <td>3</td>\n      <td>3</td>\n      <td>2</td>\n      <td>1</td>\n      <td>3</td>\n    </tr>\n    <tr>\n      <th>4</th>\n      <td>PREDWELL_RETOS-1005-1</td>\n      <td>1</td>\n      <td>1</td>\n      <td>1</td>\n      <td>1</td>\n      <td>2</td>\n      <td>1</td>\n      <td>4</td>\n      <td>3</td>\n      <td>4</td>\n      <td>...</td>\n      <td>1</td>\n      <td>2</td>\n      <td>2</td>\n      <td>2</td>\n      <td>3</td>\n      <td>3</td>\n      <td>3</td>\n      <td>4</td>\n      <td>3</td>\n      <td>3</td>\n    </tr>\n    <tr>\n      <th>...</th>\n      <td>...</td>\n      <td>...</td>\n      <td>...</td>\n      <td>...</td>\n      <td>...</td>\n      <td>...</td>\n      <td>...</td>\n      <td>...</td>\n      <td>...</td>\n      <td>...</td>\n      <td>...</td>\n      <td>...</td>\n      <td>...</td>\n      <td>...</td>\n      <td>...</td>\n      <td>...</td>\n      <td>...</td>\n      <td>...</td>\n      <td>...</td>\n      <td>...</td>\n      <td>...</td>\n    </tr>\n    <tr>\n      <th>144</th>\n      <td>PREDWELL_RETOS-5-1</td>\n      <td>2</td>\n      <td>2</td>\n      <td>1</td>\n      <td>1</td>\n      <td>1</td>\n      <td>1</td>\n      <td>3</td>\n      <td>4</td>\n      <td>4</td>\n      <td>...</td>\n      <td>1</td>\n      <td>1</td>\n      <td>1</td>\n      <td>4</td>\n      <td>2</td>\n      <td>4</td>\n      <td>3</td>\n      <td>3</td>\n      <td>2</td>\n      <td>2</td>\n    </tr>\n    <tr>\n      <th>145</th>\n      <td>PREDWELL_RETOS-6-1</td>\n      <td>1</td>\n      <td>2</td>\n      <td>1</td>\n      <td>1</td>\n      <td>1</td>\n      <td>1</td>\n      <td>3</td>\n      <td>3</td>\n      <td>4</td>\n      <td>...</td>\n      <td>1</td>\n      <td>2</td>\n      <td>2</td>\n      <td>2</td>\n      <td>4</td>\n      <td>2</td>\n      <td>3</td>\n      <td>2</td>\n      <td>4</td>\n      <td>4</td>\n    </tr>\n    <tr>\n      <th>146</th>\n      <td>PREDWELL_RETOS-7-1</td>\n      <td>1</td>\n      <td>1</td>\n      <td>1</td>\n      <td>1</td>\n      <td>1</td>\n      <td>1</td>\n      <td>3</td>\n      <td>4</td>\n      <td>2</td>\n      <td>...</td>\n      <td>4</td>\n      <td>4</td>\n      <td>1</td>\n      <td>2</td>\n      <td>4</td>\n      <td>4</td>\n      <td>1</td>\n      <td>4</td>\n      <td>4</td>\n      <td>1</td>\n    </tr>\n    <tr>\n      <th>147</th>\n      <td>PREDWELL_RETOS-8-1</td>\n      <td>1</td>\n      <td>1</td>\n      <td>1</td>\n      <td>1</td>\n      <td>1</td>\n      <td>1</td>\n      <td>4</td>\n      <td>4</td>\n      <td>1</td>\n      <td>...</td>\n      <td>3</td>\n      <td>3</td>\n      <td>3</td>\n      <td>4</td>\n      <td>3</td>\n      <td>2</td>\n      <td>4</td>\n      <td>2</td>\n      <td>1</td>\n      <td>3</td>\n    </tr>\n    <tr>\n      <th>148</th>\n      <td>PREDWELL_RETOS-9-1</td>\n      <td>1</td>\n      <td>1</td>\n      <td>1</td>\n      <td>1</td>\n      <td>1</td>\n      <td>1</td>\n      <td>2</td>\n      <td>4</td>\n      <td>3</td>\n      <td>...</td>\n      <td>2</td>\n      <td>1</td>\n      <td>2</td>\n      <td>1</td>\n      <td>4</td>\n      <td>1</td>\n      <td>2</td>\n      <td>2</td>\n      <td>3</td>\n      <td>2</td>\n    </tr>\n  </tbody>\n</table>\n<p>149 rows × 46 columns</p>\n</div>"
     },
     "execution_count": 39,
     "metadata": {},
     "output_type": "execute_result"
    }
   ],
   "source": [
    "RETOS_BEBRASK_Rating0_Time_Series"
   ],
   "metadata": {
    "collapsed": false,
    "ExecuteTime": {
     "end_time": "2024-04-04T13:37:13.716372Z",
     "start_time": "2024-04-04T13:37:13.701332Z"
    }
   },
   "id": "e4068f035f732df8",
   "execution_count": 39
  },
  {
   "cell_type": "code",
   "outputs": [
    {
     "data": {
      "text/plain": "              Subject ID  Happy_0_0  Happy_0_1  Happy_0_2  Happy_0_3  \\\n0  PREDWELL_RETOS-1001-1          4          2          1          2   \n1  PREDWELL_RETOS-1002-1          3          3          2          3   \n2  PREDWELL_RETOS-1003-1          2          2          4          4   \n3  PREDWELL_RETOS-1004-1          2          2          3          2   \n4  PREDWELL_RETOS-1005-1          2          3          3          2   \n\n   Happy_0_4  Happy_0_5  Happy_1_0  Happy_1_1  Happy_1_2  ...  Fear_0_5  \\\n0          3          3          4          4          3  ...         2   \n1          2          2          3          4          4  ...         1   \n2          2          3          2          3          2  ...         3   \n3          2          1          2          3          2  ...         3   \n4          2          2          3          3          4  ...         3   \n\n   Fear_1_0  Fear_1_1  Fear_1_2  Fear_1_3  Fear_1_4  Fear_1_5  Fear_1_6  \\\n0         2         2         3         2         2         3         2   \n1         3         2         4         3         3         2         2   \n2         2         3         3         3         1         3         4   \n3         3         3         2         4         3         2         2   \n4         2         3         2         3         2         2         2   \n\n   Fear_1_7  Fear_1_8  \n0         3         3  \n1         3         3  \n2         3         4  \n3         2         2  \n4         2         2  \n\n[5 rows x 46 columns]",
      "text/html": "<div>\n<style scoped>\n    .dataframe tbody tr th:only-of-type {\n        vertical-align: middle;\n    }\n\n    .dataframe tbody tr th {\n        vertical-align: top;\n    }\n\n    .dataframe thead th {\n        text-align: right;\n    }\n</style>\n<table border=\"1\" class=\"dataframe\">\n  <thead>\n    <tr style=\"text-align: right;\">\n      <th></th>\n      <th>Subject ID</th>\n      <th>Happy_0_0</th>\n      <th>Happy_0_1</th>\n      <th>Happy_0_2</th>\n      <th>Happy_0_3</th>\n      <th>Happy_0_4</th>\n      <th>Happy_0_5</th>\n      <th>Happy_1_0</th>\n      <th>Happy_1_1</th>\n      <th>Happy_1_2</th>\n      <th>...</th>\n      <th>Fear_0_5</th>\n      <th>Fear_1_0</th>\n      <th>Fear_1_1</th>\n      <th>Fear_1_2</th>\n      <th>Fear_1_3</th>\n      <th>Fear_1_4</th>\n      <th>Fear_1_5</th>\n      <th>Fear_1_6</th>\n      <th>Fear_1_7</th>\n      <th>Fear_1_8</th>\n    </tr>\n  </thead>\n  <tbody>\n    <tr>\n      <th>0</th>\n      <td>PREDWELL_RETOS-1001-1</td>\n      <td>4</td>\n      <td>2</td>\n      <td>1</td>\n      <td>2</td>\n      <td>3</td>\n      <td>3</td>\n      <td>4</td>\n      <td>4</td>\n      <td>3</td>\n      <td>...</td>\n      <td>2</td>\n      <td>2</td>\n      <td>2</td>\n      <td>3</td>\n      <td>2</td>\n      <td>2</td>\n      <td>3</td>\n      <td>2</td>\n      <td>3</td>\n      <td>3</td>\n    </tr>\n    <tr>\n      <th>1</th>\n      <td>PREDWELL_RETOS-1002-1</td>\n      <td>3</td>\n      <td>3</td>\n      <td>2</td>\n      <td>3</td>\n      <td>2</td>\n      <td>2</td>\n      <td>3</td>\n      <td>4</td>\n      <td>4</td>\n      <td>...</td>\n      <td>1</td>\n      <td>3</td>\n      <td>2</td>\n      <td>4</td>\n      <td>3</td>\n      <td>3</td>\n      <td>2</td>\n      <td>2</td>\n      <td>3</td>\n      <td>3</td>\n    </tr>\n    <tr>\n      <th>2</th>\n      <td>PREDWELL_RETOS-1003-1</td>\n      <td>2</td>\n      <td>2</td>\n      <td>4</td>\n      <td>4</td>\n      <td>2</td>\n      <td>3</td>\n      <td>2</td>\n      <td>3</td>\n      <td>2</td>\n      <td>...</td>\n      <td>3</td>\n      <td>2</td>\n      <td>3</td>\n      <td>3</td>\n      <td>3</td>\n      <td>1</td>\n      <td>3</td>\n      <td>4</td>\n      <td>3</td>\n      <td>4</td>\n    </tr>\n    <tr>\n      <th>3</th>\n      <td>PREDWELL_RETOS-1004-1</td>\n      <td>2</td>\n      <td>2</td>\n      <td>3</td>\n      <td>2</td>\n      <td>2</td>\n      <td>1</td>\n      <td>2</td>\n      <td>3</td>\n      <td>2</td>\n      <td>...</td>\n      <td>3</td>\n      <td>3</td>\n      <td>3</td>\n      <td>2</td>\n      <td>4</td>\n      <td>3</td>\n      <td>2</td>\n      <td>2</td>\n      <td>2</td>\n      <td>2</td>\n    </tr>\n    <tr>\n      <th>4</th>\n      <td>PREDWELL_RETOS-1005-1</td>\n      <td>2</td>\n      <td>3</td>\n      <td>3</td>\n      <td>2</td>\n      <td>2</td>\n      <td>2</td>\n      <td>3</td>\n      <td>3</td>\n      <td>4</td>\n      <td>...</td>\n      <td>3</td>\n      <td>2</td>\n      <td>3</td>\n      <td>2</td>\n      <td>3</td>\n      <td>2</td>\n      <td>2</td>\n      <td>2</td>\n      <td>2</td>\n      <td>2</td>\n    </tr>\n  </tbody>\n</table>\n<p>5 rows × 46 columns</p>\n</div>"
     },
     "execution_count": 40,
     "metadata": {},
     "output_type": "execute_result"
    }
   ],
   "source": [
    "RETOS_BEBRASK_Rating_Time_Series.to_excel('../Clustering_Predictive_Processing/RETOS_BEBRASK_Rating_Time_Series.xlsx', index=False) \n",
    "RETOS_BEBRASK_Rating_Time_Series.head(5)"
   ],
   "metadata": {
    "collapsed": false,
    "ExecuteTime": {
     "end_time": "2024-04-04T13:37:13.880751Z",
     "start_time": "2024-04-04T13:37:13.717475Z"
    }
   },
   "id": "51436be16bee1eeb",
   "execution_count": 40
  },
  {
   "cell_type": "markdown",
   "source": [
    "## BEBRASK & RETOS Time Series Moving Average By Emotion and Match"
   ],
   "metadata": {
    "collapsed": false
   },
   "id": "f2c4c5748dc6cc9d"
  },
  {
   "cell_type": "code",
   "outputs": [],
   "source": [
    "def compute_moving_averages_no_edges(subject_dict,rating):\n",
    "    \"\"\"\n",
    "    It processes a dictionary with the information of the answers given by each subject organized by sentiment, and creates a dataframe where the Moving Average of the trials is stored.\n",
    "    a dataframe where the Moving Average of the trials is stored, organized sequentially according to the emotion and whether it is a match or not. \n",
    "    emotion and whether it is a match or not. A 3 point Moving Average is calculated (an average of the first three points is made, \n",
    "    then one from the second to the fourth point and so on).\n",
    "    \n",
    "    Parameters:\n",
    "    - subject_dict (dict): Dictionary containing the information of the scores organized by subjects and by emotions.\n",
    "    - rating (string): Rating from which to make the aggregations of the scores (Rating0 or Rating).\n",
    "    \n",
    "    Returns:\n",
    "    - df_counts (pandas.DataFrame): A dataframe where each row contains the subject's identifier and a time series corresponding to its answers.\n",
    "    corresponding to its answers\n",
    "    \"\"\"\n",
    "    results = {}\n",
    "    for instance, categories in subject_dict.items():\n",
    "        results[instance] = {}\n",
    "        for category, info in categories.items():\n",
    "            pred = info[rating]\n",
    "            fulfill = info['Fulfill']\n",
    "            fulfill_0_positions = np.where(fulfill == 0)[0]\n",
    "            fulfill_1_positions = np.where(fulfill == 1)[0]\n",
    "\n",
    "            # Calculate moving averages for fulfill 0 excluding edges\n",
    "            ma_fulfill_0 = []\n",
    "            for i,pos in enumerate(fulfill_0_positions):\n",
    "                if i == 0 or i == len(fulfill_0_positions) - 1:\n",
    "                    continue  # Skip first and last positions\n",
    "                relevant_preds = [pred[fulfill_0_positions[i-1]],pred[fulfill_0_positions[i]],pred[fulfill_0_positions[i+1]]]\n",
    "                ma_fulfill_0.append(np.mean(relevant_preds))\n",
    "\n",
    "            # Calculate moving averages for fulfill 1 excluding edges\n",
    "            ma_fulfill_1 = []\n",
    "            for i,pos in enumerate(fulfill_1_positions):\n",
    "                if i == 0 or i == len(fulfill_1_positions) - 1:\n",
    "                    continue  # Skip first and last positions\n",
    "                relevant_preds = [pred[fulfill_1_positions[i-1]],pred[fulfill_1_positions[i]],pred[fulfill_1_positions[i+1]]]\n",
    "                ma_fulfill_1.append(np.mean(relevant_preds))\n",
    "\n",
    "            results[instance][category] = {\n",
    "                'Fulfill_0_MA': ma_fulfill_0,\n",
    "                'Fulfill_1_MA': ma_fulfill_1\n",
    "            }\n",
    "            \n",
    "    records = []\n",
    "    for subject_id, emotions in results.items():\n",
    "        record = {'Subject ID': subject_id}\n",
    "        for emotion, stats in emotions.items():\n",
    "            for stat_key, stat_value in stats.items():\n",
    "                for i,val in enumerate(stat_value):\n",
    "                # Creating new column names in the format \"Emotion_Match_AppearanceOrder\"\n",
    "                    column_name = f\"{emotion}_{stat_key[8]}_MA_{i}\"\n",
    "                    record[column_name] = val\n",
    "        records.append(record)\n",
    "\n",
    "    return pd.DataFrame(records)"
   ],
   "metadata": {
    "collapsed": false,
    "ExecuteTime": {
     "end_time": "2024-04-04T13:37:13.894177Z",
     "start_time": "2024-04-04T13:37:13.882361Z"
    }
   },
   "id": "819fe64a82f6608b",
   "execution_count": 41
  },
  {
   "cell_type": "code",
   "outputs": [],
   "source": [
    "RETOS_BEBRASK_Rating0_Time_MA_Series = compute_moving_averages_no_edges(merged_dict, \"Rating0\")\n",
    "RETOS_BEBRASK_Rating_Time_MA_Series = compute_moving_averages_no_edges(merged_dict, \"Rating\")\n"
   ],
   "metadata": {
    "collapsed": false,
    "ExecuteTime": {
     "end_time": "2024-04-04T13:37:14.065910Z",
     "start_time": "2024-04-04T13:37:13.896416Z"
    }
   },
   "id": "8a4030b800385bf5",
   "execution_count": 42
  },
  {
   "cell_type": "code",
   "outputs": [
    {
     "data": {
      "text/plain": "              Subject ID  Happy_0_MA_0  Happy_0_MA_1  Happy_0_MA_2  \\\n0  PREDWELL_RETOS-1001-1      2.000000      1.000000      1.000000   \n1  PREDWELL_RETOS-1002-1      1.666667      1.666667      1.666667   \n2  PREDWELL_RETOS-1003-1      1.000000      1.000000      1.000000   \n3  PREDWELL_RETOS-1004-1      1.666667      2.333333      2.666667   \n4  PREDWELL_RETOS-1005-1      1.000000      1.000000      1.333333   \n\n   Happy_0_MA_3  Happy_1_MA_0  Happy_1_MA_1  Happy_1_MA_2  Happy_1_MA_3  \\\n0      1.000000      4.000000      4.000000      3.666667      3.666667   \n1      1.000000      3.666667      4.000000      4.000000      4.000000   \n2      1.000000      3.333333      3.666667      3.666667      3.333333   \n3      2.000000      2.333333      2.333333      1.333333      1.666667   \n4      1.333333      3.666667      3.333333      3.666667      3.333333   \n\n   Happy_1_MA_4  ...  Fear_0_MA_1  Fear_0_MA_2  Fear_0_MA_3  Fear_1_MA_0  \\\n0      3.666667  ...     1.666667     1.000000     1.666667     2.666667   \n1      3.666667  ...     3.000000     2.333333     1.666667     2.333333   \n2      3.000000  ...     1.333333     1.666667     2.000000     2.333333   \n3      2.333333  ...     1.333333     2.333333     2.333333     3.000000   \n4      3.666667  ...     2.333333     3.000000     2.000000     2.000000   \n\n   Fear_1_MA_1  Fear_1_MA_2  Fear_1_MA_3  Fear_1_MA_4  Fear_1_MA_5  \\\n0     2.000000     2.666667     3.000000     3.333333     3.333333   \n1     2.666667     3.333333     3.666667     3.000000     3.000000   \n2     2.333333     2.333333     2.000000     1.666667     2.000000   \n3     2.666667     2.333333     2.333333     2.666667     2.000000   \n4     2.333333     2.666667     3.000000     3.333333     3.333333   \n\n   Fear_1_MA_6  \n0     3.333333  \n1     3.000000  \n2     2.333333  \n3     2.000000  \n4     3.333333  \n\n[5 rows x 34 columns]",
      "text/html": "<div>\n<style scoped>\n    .dataframe tbody tr th:only-of-type {\n        vertical-align: middle;\n    }\n\n    .dataframe tbody tr th {\n        vertical-align: top;\n    }\n\n    .dataframe thead th {\n        text-align: right;\n    }\n</style>\n<table border=\"1\" class=\"dataframe\">\n  <thead>\n    <tr style=\"text-align: right;\">\n      <th></th>\n      <th>Subject ID</th>\n      <th>Happy_0_MA_0</th>\n      <th>Happy_0_MA_1</th>\n      <th>Happy_0_MA_2</th>\n      <th>Happy_0_MA_3</th>\n      <th>Happy_1_MA_0</th>\n      <th>Happy_1_MA_1</th>\n      <th>Happy_1_MA_2</th>\n      <th>Happy_1_MA_3</th>\n      <th>Happy_1_MA_4</th>\n      <th>...</th>\n      <th>Fear_0_MA_1</th>\n      <th>Fear_0_MA_2</th>\n      <th>Fear_0_MA_3</th>\n      <th>Fear_1_MA_0</th>\n      <th>Fear_1_MA_1</th>\n      <th>Fear_1_MA_2</th>\n      <th>Fear_1_MA_3</th>\n      <th>Fear_1_MA_4</th>\n      <th>Fear_1_MA_5</th>\n      <th>Fear_1_MA_6</th>\n    </tr>\n  </thead>\n  <tbody>\n    <tr>\n      <th>0</th>\n      <td>PREDWELL_RETOS-1001-1</td>\n      <td>2.000000</td>\n      <td>1.000000</td>\n      <td>1.000000</td>\n      <td>1.000000</td>\n      <td>4.000000</td>\n      <td>4.000000</td>\n      <td>3.666667</td>\n      <td>3.666667</td>\n      <td>3.666667</td>\n      <td>...</td>\n      <td>1.666667</td>\n      <td>1.000000</td>\n      <td>1.666667</td>\n      <td>2.666667</td>\n      <td>2.000000</td>\n      <td>2.666667</td>\n      <td>3.000000</td>\n      <td>3.333333</td>\n      <td>3.333333</td>\n      <td>3.333333</td>\n    </tr>\n    <tr>\n      <th>1</th>\n      <td>PREDWELL_RETOS-1002-1</td>\n      <td>1.666667</td>\n      <td>1.666667</td>\n      <td>1.666667</td>\n      <td>1.000000</td>\n      <td>3.666667</td>\n      <td>4.000000</td>\n      <td>4.000000</td>\n      <td>4.000000</td>\n      <td>3.666667</td>\n      <td>...</td>\n      <td>3.000000</td>\n      <td>2.333333</td>\n      <td>1.666667</td>\n      <td>2.333333</td>\n      <td>2.666667</td>\n      <td>3.333333</td>\n      <td>3.666667</td>\n      <td>3.000000</td>\n      <td>3.000000</td>\n      <td>3.000000</td>\n    </tr>\n    <tr>\n      <th>2</th>\n      <td>PREDWELL_RETOS-1003-1</td>\n      <td>1.000000</td>\n      <td>1.000000</td>\n      <td>1.000000</td>\n      <td>1.000000</td>\n      <td>3.333333</td>\n      <td>3.666667</td>\n      <td>3.666667</td>\n      <td>3.333333</td>\n      <td>3.000000</td>\n      <td>...</td>\n      <td>1.333333</td>\n      <td>1.666667</td>\n      <td>2.000000</td>\n      <td>2.333333</td>\n      <td>2.333333</td>\n      <td>2.333333</td>\n      <td>2.000000</td>\n      <td>1.666667</td>\n      <td>2.000000</td>\n      <td>2.333333</td>\n    </tr>\n    <tr>\n      <th>3</th>\n      <td>PREDWELL_RETOS-1004-1</td>\n      <td>1.666667</td>\n      <td>2.333333</td>\n      <td>2.666667</td>\n      <td>2.000000</td>\n      <td>2.333333</td>\n      <td>2.333333</td>\n      <td>1.333333</td>\n      <td>1.666667</td>\n      <td>2.333333</td>\n      <td>...</td>\n      <td>1.333333</td>\n      <td>2.333333</td>\n      <td>2.333333</td>\n      <td>3.000000</td>\n      <td>2.666667</td>\n      <td>2.333333</td>\n      <td>2.333333</td>\n      <td>2.666667</td>\n      <td>2.000000</td>\n      <td>2.000000</td>\n    </tr>\n    <tr>\n      <th>4</th>\n      <td>PREDWELL_RETOS-1005-1</td>\n      <td>1.000000</td>\n      <td>1.000000</td>\n      <td>1.333333</td>\n      <td>1.333333</td>\n      <td>3.666667</td>\n      <td>3.333333</td>\n      <td>3.666667</td>\n      <td>3.333333</td>\n      <td>3.666667</td>\n      <td>...</td>\n      <td>2.333333</td>\n      <td>3.000000</td>\n      <td>2.000000</td>\n      <td>2.000000</td>\n      <td>2.333333</td>\n      <td>2.666667</td>\n      <td>3.000000</td>\n      <td>3.333333</td>\n      <td>3.333333</td>\n      <td>3.333333</td>\n    </tr>\n  </tbody>\n</table>\n<p>5 rows × 34 columns</p>\n</div>"
     },
     "execution_count": 43,
     "metadata": {},
     "output_type": "execute_result"
    }
   ],
   "source": [
    "RETOS_BEBRASK_Rating0_Time_MA_Series.to_excel('../Clustering_Predictive_Processing/RETOS_BEBRASK_Rating0_Time_MA_Series.xlsx', index=False) \n",
    "RETOS_BEBRASK_Rating0_Time_MA_Series.head(5)\n"
   ],
   "metadata": {
    "collapsed": false,
    "ExecuteTime": {
     "end_time": "2024-04-04T13:37:14.189623Z",
     "start_time": "2024-04-04T13:37:14.067156Z"
    }
   },
   "id": "bcdbd60430c6dac1",
   "execution_count": 43
  },
  {
   "cell_type": "code",
   "outputs": [
    {
     "data": {
      "text/plain": "              Subject ID  Happy_0_MA_0  Happy_0_MA_1  Happy_0_MA_2  \\\n0  PREDWELL_RETOS-1001-1      2.333333      1.666667      2.000000   \n1  PREDWELL_RETOS-1002-1      2.666667      2.666667      2.333333   \n2  PREDWELL_RETOS-1003-1      2.666667      3.333333      3.333333   \n3  PREDWELL_RETOS-1004-1      2.333333      2.333333      2.333333   \n4  PREDWELL_RETOS-1005-1      2.666667      2.666667      2.333333   \n\n   Happy_0_MA_3  Happy_1_MA_0  Happy_1_MA_1  Happy_1_MA_2  Happy_1_MA_3  \\\n0      2.666667      3.666667      3.333333      3.000000      3.333333   \n1      2.333333      3.666667      4.000000      4.000000      4.000000   \n2      3.000000      2.333333      3.000000      3.333333      3.666667   \n3      1.666667      2.333333      2.666667      2.000000      2.666667   \n4      2.000000      3.333333      3.333333      3.666667      3.333333   \n\n   Happy_1_MA_4  ...  Fear_0_MA_1  Fear_0_MA_2  Fear_0_MA_3  Fear_1_MA_0  \\\n0      3.333333  ...     2.333333     2.000000     1.666667     2.333333   \n1      4.000000  ...     3.333333     3.000000     2.333333     3.000000   \n2      3.333333  ...     2.333333     2.666667     3.333333     2.666667   \n3      2.666667  ...     1.333333     2.000000     2.333333     2.666667   \n4      3.666667  ...     2.666667     2.666667     3.000000     2.333333   \n\n   Fear_1_MA_1  Fear_1_MA_2  Fear_1_MA_3  Fear_1_MA_4  Fear_1_MA_5  \\\n0     2.333333     2.333333     2.333333     2.333333     2.666667   \n1     3.000000     3.333333     2.666667     2.333333     2.333333   \n2     3.000000     2.333333     2.333333     2.666667     3.333333   \n3     3.000000     3.000000     3.000000     2.333333     2.000000   \n4     2.666667     2.333333     2.333333     2.000000     2.000000   \n\n   Fear_1_MA_6  \n0     2.666667  \n1     2.666667  \n2     3.666667  \n3     2.000000  \n4     2.000000  \n\n[5 rows x 34 columns]",
      "text/html": "<div>\n<style scoped>\n    .dataframe tbody tr th:only-of-type {\n        vertical-align: middle;\n    }\n\n    .dataframe tbody tr th {\n        vertical-align: top;\n    }\n\n    .dataframe thead th {\n        text-align: right;\n    }\n</style>\n<table border=\"1\" class=\"dataframe\">\n  <thead>\n    <tr style=\"text-align: right;\">\n      <th></th>\n      <th>Subject ID</th>\n      <th>Happy_0_MA_0</th>\n      <th>Happy_0_MA_1</th>\n      <th>Happy_0_MA_2</th>\n      <th>Happy_0_MA_3</th>\n      <th>Happy_1_MA_0</th>\n      <th>Happy_1_MA_1</th>\n      <th>Happy_1_MA_2</th>\n      <th>Happy_1_MA_3</th>\n      <th>Happy_1_MA_4</th>\n      <th>...</th>\n      <th>Fear_0_MA_1</th>\n      <th>Fear_0_MA_2</th>\n      <th>Fear_0_MA_3</th>\n      <th>Fear_1_MA_0</th>\n      <th>Fear_1_MA_1</th>\n      <th>Fear_1_MA_2</th>\n      <th>Fear_1_MA_3</th>\n      <th>Fear_1_MA_4</th>\n      <th>Fear_1_MA_5</th>\n      <th>Fear_1_MA_6</th>\n    </tr>\n  </thead>\n  <tbody>\n    <tr>\n      <th>0</th>\n      <td>PREDWELL_RETOS-1001-1</td>\n      <td>2.333333</td>\n      <td>1.666667</td>\n      <td>2.000000</td>\n      <td>2.666667</td>\n      <td>3.666667</td>\n      <td>3.333333</td>\n      <td>3.000000</td>\n      <td>3.333333</td>\n      <td>3.333333</td>\n      <td>...</td>\n      <td>2.333333</td>\n      <td>2.000000</td>\n      <td>1.666667</td>\n      <td>2.333333</td>\n      <td>2.333333</td>\n      <td>2.333333</td>\n      <td>2.333333</td>\n      <td>2.333333</td>\n      <td>2.666667</td>\n      <td>2.666667</td>\n    </tr>\n    <tr>\n      <th>1</th>\n      <td>PREDWELL_RETOS-1002-1</td>\n      <td>2.666667</td>\n      <td>2.666667</td>\n      <td>2.333333</td>\n      <td>2.333333</td>\n      <td>3.666667</td>\n      <td>4.000000</td>\n      <td>4.000000</td>\n      <td>4.000000</td>\n      <td>4.000000</td>\n      <td>...</td>\n      <td>3.333333</td>\n      <td>3.000000</td>\n      <td>2.333333</td>\n      <td>3.000000</td>\n      <td>3.000000</td>\n      <td>3.333333</td>\n      <td>2.666667</td>\n      <td>2.333333</td>\n      <td>2.333333</td>\n      <td>2.666667</td>\n    </tr>\n    <tr>\n      <th>2</th>\n      <td>PREDWELL_RETOS-1003-1</td>\n      <td>2.666667</td>\n      <td>3.333333</td>\n      <td>3.333333</td>\n      <td>3.000000</td>\n      <td>2.333333</td>\n      <td>3.000000</td>\n      <td>3.333333</td>\n      <td>3.666667</td>\n      <td>3.333333</td>\n      <td>...</td>\n      <td>2.333333</td>\n      <td>2.666667</td>\n      <td>3.333333</td>\n      <td>2.666667</td>\n      <td>3.000000</td>\n      <td>2.333333</td>\n      <td>2.333333</td>\n      <td>2.666667</td>\n      <td>3.333333</td>\n      <td>3.666667</td>\n    </tr>\n    <tr>\n      <th>3</th>\n      <td>PREDWELL_RETOS-1004-1</td>\n      <td>2.333333</td>\n      <td>2.333333</td>\n      <td>2.333333</td>\n      <td>1.666667</td>\n      <td>2.333333</td>\n      <td>2.666667</td>\n      <td>2.000000</td>\n      <td>2.666667</td>\n      <td>2.666667</td>\n      <td>...</td>\n      <td>1.333333</td>\n      <td>2.000000</td>\n      <td>2.333333</td>\n      <td>2.666667</td>\n      <td>3.000000</td>\n      <td>3.000000</td>\n      <td>3.000000</td>\n      <td>2.333333</td>\n      <td>2.000000</td>\n      <td>2.000000</td>\n    </tr>\n    <tr>\n      <th>4</th>\n      <td>PREDWELL_RETOS-1005-1</td>\n      <td>2.666667</td>\n      <td>2.666667</td>\n      <td>2.333333</td>\n      <td>2.000000</td>\n      <td>3.333333</td>\n      <td>3.333333</td>\n      <td>3.666667</td>\n      <td>3.333333</td>\n      <td>3.666667</td>\n      <td>...</td>\n      <td>2.666667</td>\n      <td>2.666667</td>\n      <td>3.000000</td>\n      <td>2.333333</td>\n      <td>2.666667</td>\n      <td>2.333333</td>\n      <td>2.333333</td>\n      <td>2.000000</td>\n      <td>2.000000</td>\n      <td>2.000000</td>\n    </tr>\n  </tbody>\n</table>\n<p>5 rows × 34 columns</p>\n</div>"
     },
     "execution_count": 44,
     "metadata": {},
     "output_type": "execute_result"
    }
   ],
   "source": [
    "RETOS_BEBRASK_Rating_Time_MA_Series.to_excel('../Clustering_Predictive_Processing/RETOS_BEBRASK_Rating_Time_MA_Series.xlsx', index=False) \n",
    "RETOS_BEBRASK_Rating_Time_MA_Series.head(5)\n"
   ],
   "metadata": {
    "collapsed": false,
    "ExecuteTime": {
     "end_time": "2024-04-04T13:37:14.322566Z",
     "start_time": "2024-04-04T13:37:14.191473Z"
    }
   },
   "id": "acf8798b49524043",
   "execution_count": 44
  },
  {
   "cell_type": "markdown",
   "source": [
    "## Average Prediction, Match Difference & Correlation between Rating0 and Rating Dataset"
   ],
   "metadata": {
    "collapsed": false
   },
   "id": "4c712abef90f930f"
  },
  {
   "cell_type": "markdown",
   "source": [
    "#### Correlation"
   ],
   "metadata": {
    "collapsed": false
   },
   "id": "5d0a6be3f0bcb972"
  },
  {
   "cell_type": "code",
   "outputs": [],
   "source": [
    "pred_data = RETOS_BEBRASK_Rating0_Time_Series.sort_values(by='Subject ID').reset_index(drop=True)\n",
    "\n",
    "# Sort the second dataset\n",
    "like_data = RETOS_BEBRASK_Rating_Time_Series.sort_values(by='Subject ID').reset_index(drop=True)\n",
    "\n",
    "correlation_coefficients = []\n",
    "\n",
    "# Iterate over each row pair\n",
    "for index, row_df1 in pred_data.drop(\"Subject ID\",axis=1).iterrows():\n",
    "    row_df2 = like_data.drop(\"Subject ID\",axis=1).loc[index]  # Get corresponding row from df2\n",
    "    correlation = row_df1.corr(row_df2)  # Compute correlation\n",
    "    correlation_coefficients.append(correlation)\n",
    "\n",
    "# Convert the list to a pandas Series\n",
    "correlation_series = pd.Series(correlation_coefficients)"
   ],
   "metadata": {
    "collapsed": false,
    "ExecuteTime": {
     "end_time": "2024-04-04T13:37:14.711478Z",
     "start_time": "2024-04-04T13:37:14.323676Z"
    }
   },
   "id": "545b904cdb9b2083",
   "execution_count": 45
  },
  {
   "cell_type": "markdown",
   "source": [
    "#### Difference\n"
   ],
   "metadata": {
    "collapsed": false
   },
   "id": "88da37fb4d1fd371"
  },
  {
   "cell_type": "code",
   "outputs": [],
   "source": [
    "total_dif = pred_data[['Happy_1_0', 'Happy_1_1', 'Happy_1_2', 'Happy_1_3', 'Happy_1_4', 'Happy_1_5', 'Happy_1_6', 'Happy_1_7', 'Happy_1_8','Sad_1_0', 'Sad_1_1', 'Sad_1_2', 'Sad_1_3', 'Sad_1_4', 'Sad_1_5', 'Sad_1_6', 'Sad_1_7', 'Sad_1_8','Fear_1_0', 'Fear_1_1', 'Fear_1_2', 'Fear_1_3', 'Fear_1_4', 'Fear_1_5', 'Fear_1_6', 'Fear_1_7', 'Fear_1_8']].mean(axis=1) - pred_data[['Happy_0_0', 'Happy_0_1', 'Happy_0_2', 'Happy_0_3', 'Happy_0_4', 'Happy_0_5','Sad_0_1', 'Sad_0_2', 'Sad_0_3', 'Sad_0_4', 'Sad_0_5','Fear_0_0', 'Fear_0_1', 'Fear_0_2', 'Fear_0_3', 'Fear_0_4', 'Fear_0_5']].mean(axis=1)\n"
   ],
   "metadata": {
    "collapsed": false,
    "ExecuteTime": {
     "end_time": "2024-04-04T13:37:14.858021Z",
     "start_time": "2024-04-04T13:37:14.713061Z"
    }
   },
   "id": "93247823a8a6d9ef",
   "execution_count": 46
  },
  {
   "cell_type": "markdown",
   "source": [
    "#### Mean"
   ],
   "metadata": {
    "collapsed": false
   },
   "id": "a0cf439363d6a872"
  },
  {
   "cell_type": "code",
   "outputs": [],
   "source": [
    "mean_subject = pred_data.drop(\"Subject ID\",axis=1).mean(axis=1)\n"
   ],
   "metadata": {
    "collapsed": false,
    "ExecuteTime": {
     "end_time": "2024-04-04T13:37:15.192740Z",
     "start_time": "2024-04-04T13:37:14.859551Z"
    }
   },
   "id": "773ef69c92f673db",
   "execution_count": 47
  },
  {
   "cell_type": "markdown",
   "source": [
    "#### Creating the Dataset"
   ],
   "metadata": {
    "collapsed": false
   },
   "id": "4d380b6c328fd977"
  },
  {
   "cell_type": "code",
   "outputs": [],
   "source": [
    "baseline = pd.concat([pred_data[\"Subject ID\"], mean_subject, total_dif,correlation_series],axis=1)\n",
    "baseline.columns = ['Subject','Mean_Rating0','Dif_Match', 'Cor_Pred_Like']\n"
   ],
   "metadata": {
    "collapsed": false,
    "ExecuteTime": {
     "end_time": "2024-04-04T13:37:15.447107Z",
     "start_time": "2024-04-04T13:37:15.194700Z"
    }
   },
   "id": "9f8c4ff0519e137e",
   "execution_count": 48
  },
  {
   "cell_type": "code",
   "outputs": [
    {
     "data": {
      "text/plain": "                 Subject  Mean_Rating0  Dif_Match  Cor_Pred_Like\n0     PREDWELL_RETOS-1-1      2.888889   1.614379       0.113495\n1    PREDWELL_RETOS-10-1      2.533333   1.117647       0.214781\n2  PREDWELL_RETOS-1001-1      2.644444   1.494553       0.336312\n3  PREDWELL_RETOS-1002-1      2.711111   1.318083       0.450822\n4  PREDWELL_RETOS-1003-1      2.200000   1.424837       0.073526",
      "text/html": "<div>\n<style scoped>\n    .dataframe tbody tr th:only-of-type {\n        vertical-align: middle;\n    }\n\n    .dataframe tbody tr th {\n        vertical-align: top;\n    }\n\n    .dataframe thead th {\n        text-align: right;\n    }\n</style>\n<table border=\"1\" class=\"dataframe\">\n  <thead>\n    <tr style=\"text-align: right;\">\n      <th></th>\n      <th>Subject</th>\n      <th>Mean_Rating0</th>\n      <th>Dif_Match</th>\n      <th>Cor_Pred_Like</th>\n    </tr>\n  </thead>\n  <tbody>\n    <tr>\n      <th>0</th>\n      <td>PREDWELL_RETOS-1-1</td>\n      <td>2.888889</td>\n      <td>1.614379</td>\n      <td>0.113495</td>\n    </tr>\n    <tr>\n      <th>1</th>\n      <td>PREDWELL_RETOS-10-1</td>\n      <td>2.533333</td>\n      <td>1.117647</td>\n      <td>0.214781</td>\n    </tr>\n    <tr>\n      <th>2</th>\n      <td>PREDWELL_RETOS-1001-1</td>\n      <td>2.644444</td>\n      <td>1.494553</td>\n      <td>0.336312</td>\n    </tr>\n    <tr>\n      <th>3</th>\n      <td>PREDWELL_RETOS-1002-1</td>\n      <td>2.711111</td>\n      <td>1.318083</td>\n      <td>0.450822</td>\n    </tr>\n    <tr>\n      <th>4</th>\n      <td>PREDWELL_RETOS-1003-1</td>\n      <td>2.200000</td>\n      <td>1.424837</td>\n      <td>0.073526</td>\n    </tr>\n  </tbody>\n</table>\n</div>"
     },
     "execution_count": 49,
     "metadata": {},
     "output_type": "execute_result"
    }
   ],
   "source": [
    "baseline.to_excel('../Clustering_Predictive_Processing/RETOS_BEBRASK_Baseline.xlsx', index=False) \n",
    "baseline.head(5)\n"
   ],
   "metadata": {
    "collapsed": false,
    "ExecuteTime": {
     "end_time": "2024-04-04T13:37:15.754942Z",
     "start_time": "2024-04-04T13:37:15.449007Z"
    }
   },
   "id": "c3a83b473c9aefef",
   "execution_count": 49
  },
  {
   "cell_type": "code",
   "outputs": [],
   "source": [
    "#TODO: Trials dataset, breaking the time order"
   ],
   "metadata": {
    "collapsed": false,
    "ExecuteTime": {
     "end_time": "2024-04-04T13:37:16.119314Z",
     "start_time": "2024-04-04T13:37:15.756782Z"
    }
   },
   "id": "dfc26aeaa5cba311",
   "execution_count": 50
  }
 ],
 "metadata": {
  "kernelspec": {
   "display_name": "Python 3",
   "language": "python",
   "name": "python3"
  },
  "language_info": {
   "codemirror_mode": {
    "name": "ipython",
    "version": 2
   },
   "file_extension": ".py",
   "mimetype": "text/x-python",
   "name": "python",
   "nbconvert_exporter": "python",
   "pygments_lexer": "ipython2",
   "version": "2.7.6"
  }
 },
 "nbformat": 4,
 "nbformat_minor": 5
}
